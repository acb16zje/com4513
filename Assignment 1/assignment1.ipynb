{
 "cells": [
  {
   "cell_type": "markdown",
   "metadata": {},
   "source": [
    "## [COM4513-6513] Assignment 1: Text Classification with Logistic Regression\n",
    "\n",
    "### Instructor: Nikos Aletras\n",
    "\n",
    "The goal of this assignment is to develop and test two text classification systems:\n",
    "\n",
    "- **Task 1:** sentiment analysis, in particular, to predict the sentiment of movie reviews, i.e. positive or negative (binary classification).\n",
    "- **Task 2:** topic classification, to predict whether a news article is about International issues, Sports or Business (multiclass classification).\n",
    "\n",
    "For that purpose, you will implement:\n",
    "\n",
    "- Text processing methods for extracting Bag-Of-Word features, using (1) unigrams, bigrams and trigrams to obtain vector representations of documents. Two vector weighting schemes should be tested: (1) raw frequencies (**3 marks; 1 for each ngram type**); (2) tf.idf (**1 marks**).\n",
    "- Binary Logistic Regression classifiers that will be able to accurately classify movie reviews trained with (1) BOW-count (raw frequencies); and (2) BOW-tfidf (tf.idf weighted) for Task 1.\n",
    "- Multiclass Logistic Regression classifiers that will be able to accurately classify news articles trained with (1) BOW-count (raw frequencies); and (2) BOW-tfidf (tf.idf weighted) for Task 2.\n",
    "- The Stochastic Gradient Descent (SGD) algorithm to estimate the parameters of your Logistic Regression models. Your SGD algorithm should:\n",
    "    - Minimise the Binary Cross-entropy loss function for Task 1 (**3 marks**)\n",
    "    - Minimise the Categorical Cross-entropy loss function for Task 2 (**3 marks**)\n",
    "    - Use L2 regularisation (both tasks) (**1 mark**)\n",
    "    - Perform multiple passes (epochs) over the training data (**1 mark**)\n",
    "    - Randomise the order of training data after each pass (**1 mark**)\n",
    "    - Stop training if the difference between the current and previous validation loss is smaller than a threshold (**1 mark**)\n",
    "    - After each epoch print the training and development loss (**1 mark**)\n",
    "- Discuss how did you choose hyperparameters (e.g. learning rate and regularisation strength)?  (**2 marks; 0.5 for each model in each task**).\n",
    "- After training the LR models, plot the learning process (i.e. training and validation loss in each epoch) using a line plot (**1 mark; 0.5 for both BOW-count and BOW-tfidf LR models in each task**) and discuss if your model overfits/underfits/is about right.\n",
    "- Model interpretability by showing the most important features for each class (i.e. most positive/negative weights). Give the top 10 for each class and comment on whether they make sense (if they don't you might have a bug!).  If we were to apply the classifier we've learned into a different domain such as laptop reviews or restaurant reviews, do you think these features would generalise well? Can you propose what features the classifier could pick up as important in the new domain? (**2 marks; 0.5 for BOW-count and BOW-tfidf LR models respectively in each task**)\n",
    "\n",
    "### Data - Task 1\n",
    "\n",
    "The data you will use for Task 1 is taken from here: [http://www.cs.cornell.edu/people/pabo/movie-review-data/](http://www.cs.cornell.edu/people/pabo/movie-review-data/) and you can find it in the `./data_sentiment` folder in CSV format:\n",
    "\n",
    "- `data_sentiment/train.csv`: contains 1,400 reviews, 700 positive (label: 1) and 700 negative (label: 0) to be used for training.\n",
    "- `data_sentiment/dev.csv`: contains 200 reviews, 100 positive and 100 negative to be used for hyperparameter selection and monitoring the training process.\n",
    "- `data_sentiment/test.csv`: contains 400 reviews, 200 positive and 200 negative to be used for testing.\n",
    "\n",
    "### Data - Task 2\n",
    "\n",
    "The data you will use for Task 2 is a subset of the [AG News Corpus](http://groups.di.unipi.it/~gulli/AG_corpus_of_news_articles.html) and you can find it in the `./data_topic` folder in CSV format:\n",
    "\n",
    "- `data_topic/train.csv`: contains 2,400 news articles, 800 for each class to be used for training.\n",
    "- `data_topic/dev.csv`: contains 150 news articles, 50 for each class to be used for hyperparameter selection and monitoring the training process.\n",
    "- `data_topic/test.csv`: contains 900 news articles, 300 for each class to be used for testing.\n",
    "\n",
    "### Submission Instructions\n",
    "\n",
    "You should submit a Jupyter Notebook file (assignment1.ipynb) and an exported PDF version (you can do it from Jupyter: `File->Download as->PDF via Latex`).\n",
    "\n",
    "You are advised to follow the code structure given in this notebook by completing all given functions. You can also write any auxiliary/helper functions (and arguments for the functions) that you might need but note that you can provide a full solution without any such functions. Similarly, you can just use only the packages imported below but you are free to use any functionality from the [Python Standard Library](https://docs.python.org/2/library/index.html), NumPy, SciPy, and Pandas. You are not allowed to use any third-party library such as Scikit-learn (apart from metric functions already provided), NLTK, Spacy, Keras, etc.\n",
    "\n",
    "Please make sure to comment your code. You should also mention if you've used Windows (not recommended) to write and test your code. There is no single correct answer on what your accuracy should be, but correct implementations usually achieve F1-scores around 80\\% or higher. The quality of the analysis of the results is as important as the accuracy itself.\n",
    "\n",
    "This assignment will be marked out of 20. It is worth 20\\% of your final grade in the module.\n",
    "\n",
    "The deadline for this assignment is **23:59 on Fri, 20 Mar 2020** and it needs to be submitted via MOLE. Standard departmental penalties for lateness will be applied. We use a range of strategies to detect [unfair means](https://www.sheffield.ac.uk/ssid/unfair-means/index), including Turnitin which helps detect plagiarism, so make sure you do not plagiarise."
   ]
  },
  {
   "cell_type": "code",
   "execution_count": 1,
   "metadata": {},
   "outputs": [],
   "source": [
    "import pandas as pd\n",
    "import numpy as np\n",
    "from collections import Counter\n",
    "import re\n",
    "import matplotlib.pyplot as plt\n",
    "from sklearn.metrics import accuracy_score, precision_score, recall_score, f1_score\n",
    "\n",
    "# fixing random seed for reproducibility\n",
    "np.random.seed(123)"
   ]
  },
  {
   "cell_type": "markdown",
   "metadata": {},
   "source": [
    "## Load Raw texts and labels into arrays\n",
    "\n",
    "First, you need to load the training, development and test sets from their corresponding CSV files (tip: you can use Pandas dataframes)."
   ]
  },
  {
   "cell_type": "code",
   "execution_count": 2,
   "metadata": {},
   "outputs": [],
   "source": [
    "sentiment_dev = pd.read_csv('data_sentiment/dev.csv', names=['text', 'label'])\n",
    "sentiment_test = pd.read_csv('data_sentiment/test.csv', names=['text', 'label'])\n",
    "sentiment_train = pd.read_csv('data_sentiment/train.csv', names=['text', 'label'])"
   ]
  },
  {
   "cell_type": "markdown",
   "metadata": {},
   "source": [
    "If you use Pandas you can see a sample of the data."
   ]
  },
  {
   "cell_type": "code",
   "execution_count": 3,
   "metadata": {},
   "outputs": [
    {
     "data": {
      "text/html": [
       "<div>\n",
       "<style scoped>\n",
       "    .dataframe tbody tr th:only-of-type {\n",
       "        vertical-align: middle;\n",
       "    }\n",
       "\n",
       "    .dataframe tbody tr th {\n",
       "        vertical-align: top;\n",
       "    }\n",
       "\n",
       "    .dataframe thead th {\n",
       "        text-align: right;\n",
       "    }\n",
       "</style>\n",
       "<table border=\"1\" class=\"dataframe\">\n",
       "  <thead>\n",
       "    <tr style=\"text-align: right;\">\n",
       "      <th></th>\n",
       "      <th>text</th>\n",
       "      <th>label</th>\n",
       "    </tr>\n",
       "  </thead>\n",
       "  <tbody>\n",
       "    <tr>\n",
       "      <th>0</th>\n",
       "      <td>note : some may consider portions of the follo...</td>\n",
       "      <td>1</td>\n",
       "    </tr>\n",
       "    <tr>\n",
       "      <th>1</th>\n",
       "      <td>note : some may consider portions of the follo...</td>\n",
       "      <td>1</td>\n",
       "    </tr>\n",
       "    <tr>\n",
       "      <th>2</th>\n",
       "      <td>every once in a while you see a film that is s...</td>\n",
       "      <td>1</td>\n",
       "    </tr>\n",
       "    <tr>\n",
       "      <th>3</th>\n",
       "      <td>when i was growing up in 1970s , boys in my sc...</td>\n",
       "      <td>1</td>\n",
       "    </tr>\n",
       "    <tr>\n",
       "      <th>4</th>\n",
       "      <td>the muppet movie is the first , and the best m...</td>\n",
       "      <td>1</td>\n",
       "    </tr>\n",
       "  </tbody>\n",
       "</table>\n",
       "</div>"
      ],
      "text/plain": [
       "                                                text  label\n",
       "0  note : some may consider portions of the follo...      1\n",
       "1  note : some may consider portions of the follo...      1\n",
       "2  every once in a while you see a film that is s...      1\n",
       "3  when i was growing up in 1970s , boys in my sc...      1\n",
       "4  the muppet movie is the first , and the best m...      1"
      ]
     },
     "execution_count": 3,
     "metadata": {},
     "output_type": "execute_result"
    }
   ],
   "source": [
    "sentiment_train.head()"
   ]
  },
  {
   "cell_type": "markdown",
   "metadata": {},
   "source": [
    "The next step is to put the raw texts into Python lists and their corresponding labels into NumPy arrays:"
   ]
  },
  {
   "cell_type": "code",
   "execution_count": 4,
   "metadata": {},
   "outputs": [],
   "source": [
    "sentiment_dev_texts = list(sentiment_dev['text'])\n",
    "sentiment_dev_labels = np.array(sentiment_dev['label'])\n",
    "\n",
    "sentiment_test_texts = list(sentiment_test['text'])\n",
    "sentiment_test_labels = np.array(sentiment_test['label'])\n",
    "\n",
    "sentiment_train_texts = list(sentiment_train['text'])\n",
    "sentiment_train_labels = np.array(sentiment_train['label'])"
   ]
  },
  {
   "cell_type": "markdown",
   "metadata": {},
   "source": [
    "# Bag-of-Words Representation\n",
    "\n",
    "To train and test Logisitc Regression models, you first need to obtain vector representations for all documents given a vocabulary of features (unigrams, bigrams, trigrams).\n",
    "\n",
    "## Text Pre-Processing Pipeline\n",
    "\n",
    "To obtain a vocabulary of features, you should:\n",
    "- tokenise all texts into a list of unigrams (tip: using a regular expression)\n",
    "- remove stop words (using the one provided or one of your preference)\n",
    "- compute bigrams, trigrams given the remaining unigrams\n",
    "- remove ngrams appearing in less than K documents\n",
    "- use the remaining to create a vocabulary of unigrams, bigrams and trigrams (you can keep top N if you encounter memory issues)."
   ]
  },
  {
   "cell_type": "code",
   "execution_count": 5,
   "metadata": {},
   "outputs": [],
   "source": [
    "default_stop_words = {\n",
    "    'a', 'ad', 'after', 'again', 'all', 'also', 'am', 'an', 'and', 'any',\n",
    "    'are', 'as', 'at', 'be', 'because', 'been', 'being', 'between', 'both',\n",
    "    'but', 'by', 'can', 'could', 'does', 'each', 'ed', 'eg', 'either', 'etc',\n",
    "    'even', 'ever', 'every', 'for', 'from', 'had', 'has', 'have', 'he', 'her',\n",
    "    'hers', 'herself', 'him', 'himself', 'his', 'i', 'ie', 'if', 'in', 'inc',\n",
    "    'into', 'is', 'it', 'its', 'itself', 'li', 'll', 'ltd', 'may', 'maybe',\n",
    "    'me', 'might', 'mine', 'minute', 'minutes', 'must', 'my', 'myself',\n",
    "    'neither', 'nor', 'now', 'of', 'on', 'only', 'or', 'other', 'our', 'ours',\n",
    "    'ourselves', 'own', 'same', 'seem', 'seemed', 'shall', 'she', 'some',\n",
    "    'somehow', 'something', 'sometimes', 'somewhat', 'somewhere', 'spoiler',\n",
    "    'spoilers', 'such', 'suppose', 'that', 'the', 'their', 'theirs', 'them',\n",
    "    'themselves', 'there', 'these', 'they', 'this', 'those', 'thus', 'to',\n",
    "    'today', 'tomorrow', 'us', 've', 'vs', 'was', 'we', 'were', 'what',\n",
    "    'whatever', 'when', 'where', 'which', 'who', 'whom', 'whose', 'will',\n",
    "    'with', 'yesterday', 'you', 'your', 'yours', 'yourself', 'yourselves'\n",
    "}"
   ]
  },
  {
   "cell_type": "markdown",
   "metadata": {},
   "source": [
    "### N-gram extraction from a document\n",
    "\n",
    "You first need to implement the `extract_ngrams` function. It takes as input:\n",
    "- `x_raw`: a string corresponding to the raw text of a document\n",
    "- `ngram_range`: a tuple of two integers denoting the type of ngrams you want to extract, e.g. (1,2) denotes extracting unigrams and bigrams.\n",
    "- `token_pattern`: a string to be used within a regular expression to extract all tokens. Note that data is already tokenised so you could opt for a simple white space tokenisation.\n",
    "- `stop_words`: a list of stop words\n",
    "- `vocab`: a given vocabulary. It should be used to extract specific features.\n",
    "\n",
    "and returns:\n",
    "\n",
    "- a list of all extracted features.\n",
    "\n",
    "See the examples below to see how this function should work."
   ]
  },
  {
   "cell_type": "code",
   "execution_count": 6,
   "metadata": {},
   "outputs": [],
   "source": [
    "def extract_ngrams(x_raw,\n",
    "                   ngram_range=(1, 3),\n",
    "                   token_pattern=r'\\b[A-Za-z]{2,}\\b',\n",
    "                   stop_words=default_stop_words,\n",
    "                   vocab=None):\n",
    "\n",
    "    tokens = [\n",
    "        word.lower() for word in re.findall(token_pattern, x_raw)\n",
    "        if word.lower() not in stop_words\n",
    "    ]\n",
    "\n",
    "    ngrams = []\n",
    "\n",
    "    for n in range(ngram_range[0], ngram_range[1] + 1):\n",
    "        if n == 1:\n",
    "            # Create unigram by concatenating list\n",
    "            ngrams += tokens\n",
    "        else:\n",
    "            # Create bigram / trigram by unzipping list\n",
    "            ngrams += zip(*(tokens[i:] for i in range(n)))\n",
    "\n",
    "    return [ngram for ngram in ngrams if ngram in vocab] if vocab else ngrams"
   ]
  },
  {
   "cell_type": "code",
   "execution_count": 7,
   "metadata": {},
   "outputs": [
    {
     "data": {
      "text/plain": [
       "['great',\n",
       " 'movie',\n",
       " 'watch',\n",
       " ('great', 'movie'),\n",
       " ('movie', 'watch'),\n",
       " ('great', 'movie', 'watch')]"
      ]
     },
     "execution_count": 7,
     "metadata": {},
     "output_type": "execute_result"
    }
   ],
   "source": [
    "extract_ngrams('this is a great movie to watch')"
   ]
  },
  {
   "cell_type": "code",
   "execution_count": 8,
   "metadata": {},
   "outputs": [
    {
     "data": {
      "text/plain": [
       "['great', ('great', 'movie')]"
      ]
     },
     "execution_count": 8,
     "metadata": {},
     "output_type": "execute_result"
    }
   ],
   "source": [
    "extract_ngrams('this is a great movie to watch',\n",
    "               ngram_range=(1, 2),\n",
    "               vocab={'great', ('great', 'movie')})"
   ]
  },
  {
   "cell_type": "markdown",
   "metadata": {},
   "source": [
    "Note that it is OK to represent n-grams using lists instead of tuples: e.g. `['great', ['great', 'movie']]`"
   ]
  },
  {
   "cell_type": "markdown",
   "metadata": {},
   "source": [
    "### Create a vocabulary of n-grams\n",
    "\n",
    "Then the `get_vocab` function will be used to (1) create a vocabulary of ngrams; (2) count the document frequencies of ngrams; (3) their raw frequency. It takes as input:\n",
    "- `X_raw`: a list of strings each corresponding to the raw text of a document\n",
    "- `ngram_range`: a tuple of two integers denoting the type of ngrams you want to extract, e.g. (1,2) denotes extracting unigrams and bigrams.\n",
    "- `token_pattern`: a string to be used within a regular expression to extract all tokens. Note that data is already tokenised so you could opt for a simple white space tokenisation.\n",
    "- `stop_words`: a list of stop words\n",
    "- `min_df`: keep ngrams with a minimum document frequency.\n",
    "- `keep_topN`: keep top-N more frequent ngrams.\n",
    "\n",
    "and returns:\n",
    "\n",
    "- `vocab`: a set of the n-grams that will be used as features.\n",
    "- `df`: a Counter (or dict) that contains ngrams as keys and their corresponding document frequency as values.\n",
    "- `ngram_counts`: counts of each ngram in vocab\n",
    "\n",
    "Hint: it should make use of the `extract_ngrams` function."
   ]
  },
  {
   "cell_type": "code",
   "execution_count": 9,
   "metadata": {},
   "outputs": [],
   "source": [
    "def get_vocab(X_raw,\n",
    "              ngram_range=(1, 3),\n",
    "              token_pattern=r'\\b[A-Za-z]{2,}\\b',\n",
    "              min_df=1,\n",
    "              keep_topN=None,\n",
    "              stop_words=default_stop_words):\n",
    "\n",
    "    df = Counter()\n",
    "    ngram_counts = Counter()\n",
    "\n",
    "    for text in X_raw:\n",
    "        # A list of ngrams for the given document `text`\n",
    "        ngram_list = extract_ngrams(text, ngram_range, token_pattern, stop_words)\n",
    "        \n",
    "        # Count document frequency\n",
    "        df.update(set(ngram_list))\n",
    "\n",
    "        # Count ngram frequency\n",
    "        ngram_counts.update(ngram for ngram in ngram_list if df[ngram] >= min_df)\n",
    "    \n",
    "    # Extract ngram into vocab set\n",
    "    vocab = {ngram for ngram, _ in ngram_counts.most_common(keep_topN)}\n",
    "\n",
    "    return vocab, df, ngram_counts"
   ]
  },
  {
   "cell_type": "markdown",
   "metadata": {},
   "source": [
    "Now you should use `get_vocab` to create your vocabulary and get document and raw frequencies of n-grams:"
   ]
  },
  {
   "cell_type": "code",
   "execution_count": 10,
   "metadata": {
    "scrolled": true
   },
   "outputs": [
    {
     "name": "stdout",
     "output_type": "stream",
     "text": [
      "5000\n",
      "\n",
      "['intriguing', 'takes', 'joy', 'approach', ('love', 'interest'), 'master', 'marshall', 'annoying', 'crashes', 'wall', 'cindy', 'fails', 'intelligent', 'outcome', ('thought', 'provoking'), 'ross', 'unfortunately', ('up', 'one'), 'malcolm', 'smile', 'mistake', 'use', 'son', 'turn', 'rock', 'kennedy', 'braveheart', 'legend', 'wear', 'fix', 'ms', 'status', 'members', 'residents', 'led', 'added', 'kid', 'trash', 'carry', ('doesn', 'make'), 'wood', 'subplot', 'combat', 'appeal', 'before', ('like', 'most'), 'portrayed', 'upset', 'switch', ('real', 'life'), 'kill', ('geoffrey', 'rush'), 'park', 'effort', 'pacing', ('ghost', 'dog'), ('american', 'pie'), 'betty', ('steve', 'buscemi'), 'natasha', 'battles', ('no', 'one'), 'fish', ('tv', 'show'), ('film', 'however'), 'enter', 'decade', 'opinion', 'everett', 'unusual', 'independence', 'aspect', 'starts', ('would', 'make'), 'places', 'eager', 'under', 'tarzan', 'disguise', 'ruthless', 'covering', 'realize', 'affection', 'jerry', ('about', 'how'), 'forest', 'likable', 'white', 'emperor', 'influence', 'ridiculous', 'moves', 'surprised', 'biggs', 'personally', ('not', 'say'), 'phoenix', 'rick', ('disney', 'animated'), 'characterization']\n",
      "\n",
      "[('one', 1247), ('film', 1231), ('not', 1170), ('movie', 1095), ('out', 1080), ('so', 1047), ('like', 1043), ('more', 1040), ('up', 1020), ('about', 1010)]\n"
     ]
    }
   ],
   "source": [
    "vocab, df, _ = get_vocab(sentiment_train_texts, keep_topN=5000)\n",
    "print(len(vocab))\n",
    "print()\n",
    "print(list(vocab)[:100])\n",
    "print()\n",
    "print(df.most_common()[:10])"
   ]
  },
  {
   "cell_type": "markdown",
   "metadata": {},
   "source": [
    "Then, you need to create vocabulary id -> word and word -> id dictionaries for reference:"
   ]
  },
  {
   "cell_type": "code",
   "execution_count": 11,
   "metadata": {},
   "outputs": [],
   "source": [
    "vocab_id_to_word = dict(enumerate(vocab))\n",
    "\n",
    "word_to_vocab_id = {v: k for k, v in vocab_id_to_word.items()}"
   ]
  },
  {
   "cell_type": "markdown",
   "metadata": {},
   "source": [
    "Now you should be able to extract n-grams for each text in the training, development and test sets:"
   ]
  },
  {
   "cell_type": "code",
   "execution_count": 12,
   "metadata": {},
   "outputs": [],
   "source": [
    "sentiment_train_texts_ngrams = (extract_ngrams(text, vocab=vocab)\n",
    "                                for text in sentiment_train_texts)\n",
    "\n",
    "sentiment_dev_texts_ngrams = (extract_ngrams(text, vocab=vocab)\n",
    "                              for text in sentiment_dev_texts)\n",
    "\n",
    "sentiment_test_texts_ngrams = (extract_ngrams(text, vocab=vocab)\n",
    "                               for text in sentiment_test_texts)"
   ]
  },
  {
   "cell_type": "markdown",
   "metadata": {},
   "source": [
    "## Vectorise documents\n",
    "\n",
    "Next, write a function `vectoriser` to obtain Bag-of-ngram representations for a list of documents. The function should take as input:\n",
    "- `X_ngram`: a list of texts (documents), where each text is represented as list of n-grams in the `vocab`\n",
    "- `vocab`: a set of n-grams to be used for representing the documents\n",
    "\n",
    "and return:\n",
    "- `X_vec`: an array with dimensionality Nx|vocab| where N is the number of documents and |vocab| is the size of the vocabulary. Each element of the array should represent the frequency of a given n-gram in a document."
   ]
  },
  {
   "cell_type": "code",
   "execution_count": 13,
   "metadata": {},
   "outputs": [],
   "source": [
    "def vectorise(X_ngram, vocab):\n",
    "    X_vec = []\n",
    "\n",
    "    for ngram_list in X_ngram:\n",
    "        counter = Counter(ngram_list)\n",
    "        X_vec.append([counter[v] for v in vocab])\n",
    "\n",
    "    return np.array(X_vec)"
   ]
  },
  {
   "cell_type": "markdown",
   "metadata": {},
   "source": [
    "Finally, use `vectorise` to obtain document vectors for each document in the train, development and test set. You should extract both count and tf.idf vectors respectively:\n",
    "\n",
    "### Count vectors"
   ]
  },
  {
   "cell_type": "code",
   "execution_count": 14,
   "metadata": {},
   "outputs": [],
   "source": [
    "sentiment_train_count = vectorise(sentiment_train_texts_ngrams, vocab)\n",
    "\n",
    "sentiment_dev_count = vectorise(sentiment_dev_texts_ngrams, vocab)\n",
    "\n",
    "sentiment_test_count = vectorise(sentiment_test_texts_ngrams, vocab)"
   ]
  },
  {
   "cell_type": "code",
   "execution_count": 15,
   "metadata": {},
   "outputs": [
    {
     "data": {
      "text/plain": [
       "(1400, 5000)"
      ]
     },
     "execution_count": 15,
     "metadata": {},
     "output_type": "execute_result"
    }
   ],
   "source": [
    "sentiment_train_count.shape"
   ]
  },
  {
   "cell_type": "code",
   "execution_count": 16,
   "metadata": {},
   "outputs": [
    {
     "data": {
      "text/plain": [
       "array([[0, 0, 1, 0, 0, 0, 0, 0, 1, 0, 0, 0, 0, 0, 0, 0, 0, 0, 0, 0, 0, 1,\n",
       "        0, 2, 1, 0, 0, 1, 0, 0, 2, 0, 0, 0, 0, 0, 0, 0, 0, 0, 0, 0, 0, 0,\n",
       "        2, 0, 0, 0, 0, 0],\n",
       "       [0, 1, 0, 2, 0, 0, 0, 0, 0, 0, 0, 0, 0, 0, 0, 0, 0, 0, 0, 0, 0, 0,\n",
       "        0, 0, 0, 0, 0, 0, 0, 0, 0, 0, 0, 0, 0, 0, 0, 0, 0, 0, 0, 0, 0, 0,\n",
       "        0, 0, 0, 0, 0, 1]])"
      ]
     },
     "execution_count": 16,
     "metadata": {},
     "output_type": "execute_result"
    }
   ],
   "source": [
    "sentiment_train_count[:2,:50]"
   ]
  },
  {
   "cell_type": "markdown",
   "metadata": {},
   "source": [
    "### TF.IDF vectors\n",
    "\n",
    "First compute `idfs` an array containing inverted document frequencies (Note: its elements should correspond to your `vocab`)"
   ]
  },
  {
   "cell_type": "code",
   "execution_count": 17,
   "metadata": {},
   "outputs": [],
   "source": [
    "total_sentiment_train_docs = len(sentiment_train_texts)\n",
    "total_sentiment_dev_docs = len(sentiment_dev_texts)\n",
    "total_sentiment_test_docs = len(sentiment_test_texts)\n",
    "\n",
    "_, sentiment_dev_df, _ = get_vocab(sentiment_dev_texts, keep_topN=5000)\n",
    "\n",
    "_, sentiment_test_df, _ = get_vocab(sentiment_test_texts, keep_topN=5000)\n",
    "\n",
    "sentiment_train_idf = np.array([\n",
    "    np.log10(total_sentiment_train_docs / df[v]) for v in vocab]\n",
    ")\n",
    "\n",
    "sentiment_dev_idf = np.array([\n",
    "    np.log10(total_sentiment_dev_docs / sentiment_dev_df[v])\n",
    "    if sentiment_dev_df[v] else 0 for v in vocab\n",
    "])\n",
    "\n",
    "sentiment_test_idf = np.array([\n",
    "    np.log10(total_sentiment_test_docs / sentiment_test_df[v])\n",
    "    if sentiment_test_df[v] else 0 for v in vocab\n",
    "])"
   ]
  },
  {
   "cell_type": "markdown",
   "metadata": {},
   "source": [
    "Then transform your count vectors to TF.IDF vectors:"
   ]
  },
  {
   "cell_type": "code",
   "execution_count": 18,
   "metadata": {},
   "outputs": [],
   "source": [
    "# Use the \"log normalisation\" variant to scale TF for better results\n",
    "sentiment_train_tfidf = np.log10(1 + sentiment_train_count) * sentiment_train_idf\n",
    "\n",
    "sentiment_dev_tfidf = np.log10(1 + sentiment_dev_count) * sentiment_dev_idf\n",
    "\n",
    "sentiment_test_tfidf = np.log10(1 + sentiment_test_count) * sentiment_test_idf"
   ]
  },
  {
   "cell_type": "code",
   "execution_count": 19,
   "metadata": {},
   "outputs": [
    {
     "data": {
      "text/plain": [
       "array([0.        , 0.17014307, 0.        , 0.58796329, 0.        ,\n",
       "       0.        , 0.        , 0.        , 0.        , 0.        ,\n",
       "       0.        , 0.        , 0.        , 0.        , 0.        ,\n",
       "       0.        , 0.        , 0.        , 0.        , 0.        ,\n",
       "       0.        , 0.        , 0.        , 0.        , 0.        ,\n",
       "       0.        , 0.        , 0.        , 0.        , 0.        ,\n",
       "       0.        , 0.        , 0.        , 0.        , 0.        ,\n",
       "       0.        , 0.        , 0.        , 0.        , 0.        ,\n",
       "       0.        , 0.        , 0.        , 0.        , 0.        ,\n",
       "       0.        , 0.        , 0.        , 0.        , 0.38979462])"
      ]
     },
     "execution_count": 19,
     "metadata": {},
     "output_type": "execute_result"
    }
   ],
   "source": [
    "sentiment_train_tfidf[1, :50]"
   ]
  },
  {
   "cell_type": "markdown",
   "metadata": {},
   "source": [
    "# Binary Logistic Regression\n",
    "\n",
    "After obtaining vector representations of the data, now you are ready to implement Binary Logistic Regression for classifying sentiment.\n",
    "\n",
    "First, you need to implement the `sigmoid` function. It takes as input:\n",
    "\n",
    "- `z`: a real number or an array of real numbers\n",
    "\n",
    "and returns:\n",
    "\n",
    "- `sig`: the sigmoid of `z`"
   ]
  },
  {
   "cell_type": "code",
   "execution_count": 20,
   "metadata": {},
   "outputs": [],
   "source": [
    "def sigmoid(z):\n",
    "    return 1 / (1 + np.exp(-z))"
   ]
  },
  {
   "cell_type": "code",
   "execution_count": 21,
   "metadata": {},
   "outputs": [
    {
     "name": "stdout",
     "output_type": "stream",
     "text": [
      "0.5\n",
      "[0.00669285 0.76852478]\n"
     ]
    }
   ],
   "source": [
    "print(sigmoid(0))\n",
    "print(sigmoid(np.array([-5., 1.2])))"
   ]
  },
  {
   "cell_type": "markdown",
   "metadata": {},
   "source": [
    "Then, implement the `predict_proba` function to obtain prediction probabilities. It takes as input:\n",
    "\n",
    "- `X`: an array of inputs, i.e. documents represented by bag-of-ngram vectors ($N \\times |vocab|$)\n",
    "- `weights`: a 1-D array of the model's weights $(1, |vocab|)$\n",
    "\n",
    "and returns:\n",
    "\n",
    "- `preds_proba`: the prediction probabilities of X given the weights"
   ]
  },
  {
   "cell_type": "code",
   "execution_count": 22,
   "metadata": {},
   "outputs": [],
   "source": [
    "def predict_proba(X, weights):\n",
    "    z = X.dot(weights)\n",
    "\n",
    "    return sigmoid(z)"
   ]
  },
  {
   "cell_type": "markdown",
   "metadata": {},
   "source": [
    "Then, implement the `predict_class` function to obtain the most probable class for each vector in an array of input vectors. It takes as input:\n",
    "\n",
    "- `X`: an array of documents represented by bag-of-ngram vectors ($N \\times |vocab|$)\n",
    "- `weights`: a 1-D array of the model's weights $(1, |vocab|)$\n",
    "\n",
    "and returns:\n",
    "\n",
    "- `preds_class`: the predicted class for each x in X given the weights"
   ]
  },
  {
   "cell_type": "code",
   "execution_count": 23,
   "metadata": {},
   "outputs": [],
   "source": [
    "def predict_class(X, weights):\n",
    "    return [0 if prob < 0.5 else 1 for prob in predict_proba(X, weights)]"
   ]
  },
  {
   "cell_type": "markdown",
   "metadata": {},
   "source": [
    "To learn the weights from data, we need to minimise the binary cross-entropy loss. Implement `binary_loss` that takes as input:\n",
    "\n",
    "- `X`: input vectors\n",
    "- `Y`: labels\n",
    "- `weights`: model weights\n",
    "- `alpha`: regularisation strength\n",
    "\n",
    "and return:\n",
    "\n",
    "- `l`: the loss score"
   ]
  },
  {
   "cell_type": "code",
   "execution_count": 24,
   "metadata": {},
   "outputs": [],
   "source": [
    "def binary_loss(X, Y, weights, alpha=0.00001):\n",
    "    predicted_probabilities = predict_proba(X, weights)\n",
    "\n",
    "    l = -Y * np.log(predicted_probabilities) - (1 - Y) * np.log(1 - predicted_probabilities)\n",
    "\n",
    "    # L2 Regularisation\n",
    "    l += alpha * weights.dot(weights)\n",
    "\n",
    "    # Return the average loss\n",
    "    return np.mean(l)"
   ]
  },
  {
   "cell_type": "markdown",
   "metadata": {},
   "source": [
    "Now, you can implement Stochastic Gradient Descent to learn the weights of your sentiment classifier. The `SGD` function takes as input:\n",
    "\n",
    "- `X_tr`: array of training data (vectors)\n",
    "- `Y_tr`: labels of `X_tr`\n",
    "- `X_dev`: array of development (i.e. validation) data (vectors)\n",
    "- `Y_dev`: labels of `X_dev`\n",
    "- `lr`: learning rate\n",
    "- `alpha`: regularisation strength\n",
    "- `epochs`: number of full passes over the training data\n",
    "- `tolerance`: stop training if the difference between the current and previous validation loss is smaller than a threshold\n",
    "- `print_progress`: flag for printing the training progress (train/validation loss)\n",
    "\n",
    "and returns:\n",
    "\n",
    "- `weights`: the weights learned\n",
    "- `training_loss_history`: an array with the average losses of the whole training set after each epoch\n",
    "- `validation_loss_history`: an array with the average losses of the whole development set after each epoch"
   ]
  },
  {
   "cell_type": "code",
   "execution_count": 25,
   "metadata": {},
   "outputs": [],
   "source": [
    "def SGD(X_tr, Y_tr, X_dev, Y_dev, lr=0.1, alpha=0.00001, epochs=5, tolerance=0.0001, print_progress=True):\n",
    "    # fixing random seed for reproducibility\n",
    "    np.random.seed(123)\n",
    "    training_loss_history = []\n",
    "    validation_loss_history = []\n",
    "    \n",
    "    # Initialise weight to zero\n",
    "    weights = np.zeros(X_tr.shape[1])\n",
    "\n",
    "    # Create training tuples\n",
    "    train_docs = list(zip(X_tr, Y_tr))\n",
    "\n",
    "    for epoch in range(epochs):\n",
    "        # Randomise order in train_docs\n",
    "        np.random.shuffle(train_docs)\n",
    "\n",
    "        for x_i, y_i in train_docs:\n",
    "            weights -= lr * (x_i * (predict_proba(x_i, weights) - y_i) + 2 * alpha * weights)\n",
    "\n",
    "        # Monitor training and validation loss\n",
    "        cur_loss_tr = binary_loss(X_tr, Y_tr, weights, alpha)\n",
    "        cur_loss_dev = binary_loss(X_dev, Y_dev, weights, alpha)\n",
    "\n",
    "        # Early stopping\n",
    "        if epoch > 0 and validation_loss_history[-1] - cur_loss_dev < tolerance:\n",
    "            break\n",
    "        else:\n",
    "            training_loss_history.append(cur_loss_tr)\n",
    "            validation_loss_history.append(cur_loss_dev)\n",
    "\n",
    "        if print_progress:\n",
    "            print(f'Epoch: {epoch} | Training loss: {cur_loss_tr} | Validation loss: {cur_loss_dev}')\n",
    "            \n",
    "    return weights, training_loss_history, validation_loss_history"
   ]
  },
  {
   "cell_type": "markdown",
   "metadata": {},
   "source": [
    "## Train and Evaluate Binary Logistic Regression with Count Vectors\n",
    "\n",
    "First train the model using SGD:"
   ]
  },
  {
   "cell_type": "code",
   "execution_count": 26,
   "metadata": {
    "scrolled": true
   },
   "outputs": [
    {
     "name": "stdout",
     "output_type": "stream",
     "text": [
      "Epoch: 0 | Training loss: 0.6348491121448473 | Validation loss: 0.6487531390444826\n",
      "Epoch: 1 | Training loss: 0.5938450068965224 | Validation loss: 0.6197582795219723\n",
      "Epoch: 2 | Training loss: 0.5620854544884649 | Validation loss: 0.5968170578825471\n",
      "Epoch: 3 | Training loss: 0.5361249484005611 | Validation loss: 0.5793664064778387\n",
      "Epoch: 4 | Training loss: 0.5135391035412232 | Validation loss: 0.5651486900885704\n",
      "Epoch: 5 | Training loss: 0.4944097063594531 | Validation loss: 0.5530542328543285\n",
      "Epoch: 6 | Training loss: 0.47777782565211835 | Validation loss: 0.5421463814864184\n",
      "Epoch: 7 | Training loss: 0.4629537317844918 | Validation loss: 0.5337658704752338\n",
      "Epoch: 8 | Training loss: 0.44909198060596117 | Validation loss: 0.524853646854113\n",
      "Epoch: 9 | Training loss: 0.43698328849816304 | Validation loss: 0.5178529834051904\n",
      "Epoch: 10 | Training loss: 0.4268767904066057 | Validation loss: 0.5126123829317655\n",
      "Epoch: 11 | Training loss: 0.415327339357736 | Validation loss: 0.5051367678530422\n",
      "Epoch: 12 | Training loss: 0.40574825257612784 | Validation loss: 0.4996577482206154\n",
      "Epoch: 13 | Training loss: 0.3970878383242511 | Validation loss: 0.49497890847676357\n",
      "Epoch: 14 | Training loss: 0.38847130589319934 | Validation loss: 0.48998285716710294\n",
      "Epoch: 15 | Training loss: 0.38065774446983647 | Validation loss: 0.4857537341398981\n",
      "Epoch: 16 | Training loss: 0.3733286662058011 | Validation loss: 0.4817831032743908\n",
      "Epoch: 17 | Training loss: 0.36640080825803695 | Validation loss: 0.47809200298562227\n",
      "Epoch: 18 | Training loss: 0.35969276849468856 | Validation loss: 0.4745888425124926\n",
      "Epoch: 19 | Training loss: 0.35334012075496424 | Validation loss: 0.47123659047228367\n",
      "Epoch: 20 | Training loss: 0.34733703152569073 | Validation loss: 0.46816651673004733\n",
      "Epoch: 21 | Training loss: 0.34167211059250135 | Validation loss: 0.46528014673936513\n",
      "Epoch: 22 | Training loss: 0.3362195001185412 | Validation loss: 0.4625892470955499\n",
      "Epoch: 23 | Training loss: 0.33095179614791903 | Validation loss: 0.46012478881753893\n",
      "Epoch: 24 | Training loss: 0.32650708983912746 | Validation loss: 0.4579428962591525\n",
      "Epoch: 25 | Training loss: 0.3211028306046971 | Validation loss: 0.4552760984585332\n",
      "Epoch: 26 | Training loss: 0.31654750702040424 | Validation loss: 0.45306712877174127\n",
      "Epoch: 27 | Training loss: 0.312015361771976 | Validation loss: 0.4509747299632235\n",
      "Epoch: 28 | Training loss: 0.3076887319931734 | Validation loss: 0.4490403924821534\n",
      "Epoch: 29 | Training loss: 0.3039093419401146 | Validation loss: 0.4472280056450636\n",
      "Epoch: 30 | Training loss: 0.2995395844211085 | Validation loss: 0.4453148645067177\n",
      "Epoch: 31 | Training loss: 0.29573317784795 | Validation loss: 0.44386828719712573\n",
      "Epoch: 32 | Training loss: 0.2921708698160229 | Validation loss: 0.44198939800179354\n",
      "Epoch: 33 | Training loss: 0.28829790994666327 | Validation loss: 0.44048633205035137\n",
      "Epoch: 34 | Training loss: 0.28477122581429 | Validation loss: 0.43893887830745276\n",
      "Epoch: 35 | Training loss: 0.2813658380059035 | Validation loss: 0.4374359359566886\n",
      "Epoch: 36 | Training loss: 0.27804678298040575 | Validation loss: 0.43617551742377203\n",
      "Epoch: 37 | Training loss: 0.27484227593281546 | Validation loss: 0.4347247346740696\n",
      "Epoch: 38 | Training loss: 0.27171949851624194 | Validation loss: 0.4334573867676779\n",
      "Epoch: 39 | Training loss: 0.26866912938326754 | Validation loss: 0.43242194687930097\n",
      "Epoch: 40 | Training loss: 0.2657104286054315 | Validation loss: 0.4312340184595881\n",
      "Epoch: 41 | Training loss: 0.26284630467863773 | Validation loss: 0.4301578948482491\n",
      "Epoch: 42 | Training loss: 0.26002913569628816 | Validation loss: 0.4290570879960602\n",
      "Epoch: 43 | Training loss: 0.25731310889704495 | Validation loss: 0.42809850840045827\n",
      "Epoch: 44 | Training loss: 0.2546066277037061 | Validation loss: 0.4268009607842734\n",
      "Epoch: 45 | Training loss: 0.25202093586088054 | Validation loss: 0.4257832862071676\n",
      "Epoch: 46 | Training loss: 0.24949873081679186 | Validation loss: 0.4248182248138471\n",
      "Epoch: 47 | Training loss: 0.24698964095246684 | Validation loss: 0.4239674501513761\n",
      "Epoch: 48 | Training loss: 0.24462378930044215 | Validation loss: 0.4234985897262857\n",
      "Epoch: 49 | Training loss: 0.24231850098052518 | Validation loss: 0.42283426101689014\n",
      "Epoch: 50 | Training loss: 0.2399631129749179 | Validation loss: 0.421937689712641\n",
      "Epoch: 51 | Training loss: 0.23767256317155463 | Validation loss: 0.42106861049426153\n",
      "Epoch: 52 | Training loss: 0.2354274868915685 | Validation loss: 0.4202215970444573\n",
      "Epoch: 53 | Training loss: 0.23323036147074216 | Validation loss: 0.4193007022577362\n",
      "Epoch: 54 | Training loss: 0.2312014543730451 | Validation loss: 0.41896773779759333\n",
      "Epoch: 55 | Training loss: 0.22917832447987851 | Validation loss: 0.4184506133055368\n",
      "Epoch: 56 | Training loss: 0.2269980450347653 | Validation loss: 0.4172615783949513\n",
      "Epoch: 57 | Training loss: 0.22501347429942678 | Validation loss: 0.41652285158598934\n",
      "Epoch: 58 | Training loss: 0.22307270003274182 | Validation loss: 0.41586072138197033\n",
      "Epoch: 59 | Training loss: 0.22114427884882393 | Validation loss: 0.4154833985173573\n",
      "Epoch: 60 | Training loss: 0.2192632850710794 | Validation loss: 0.41472423182563894\n",
      "Epoch: 61 | Training loss: 0.21741912032308436 | Validation loss: 0.41432824354308295\n",
      "Epoch: 62 | Training loss: 0.21560982676635426 | Validation loss: 0.4136514396624679\n",
      "Epoch: 63 | Training loss: 0.2138507076100004 | Validation loss: 0.41333676060181973\n",
      "Epoch: 64 | Training loss: 0.21219177587216295 | Validation loss: 0.4131050913585577\n",
      "Epoch: 65 | Training loss: 0.2105102718382752 | Validation loss: 0.4126888568186969\n",
      "Epoch: 66 | Training loss: 0.2087267997075758 | Validation loss: 0.4115138164905966\n",
      "Epoch: 67 | Training loss: 0.20710962112680567 | Validation loss: 0.4110059523416183\n",
      "Epoch: 68 | Training loss: 0.20543410512716792 | Validation loss: 0.41068011656846254\n",
      "Epoch: 69 | Training loss: 0.20383862345720868 | Validation loss: 0.41029912125456164\n",
      "Epoch: 70 | Training loss: 0.20235162588711555 | Validation loss: 0.40962921939878555\n"
     ]
    }
   ],
   "source": [
    "w_count, tr_loss_count, dev_loss_count = SGD(X_tr=sentiment_train_count,\n",
    "                                             Y_tr=sentiment_train_labels,\n",
    "                                             X_dev=sentiment_dev_count,\n",
    "                                             Y_dev=sentiment_dev_labels,\n",
    "                                             lr=0.00010125,\n",
    "                                             alpha=0.00001,\n",
    "                                             epochs=100)"
   ]
  },
  {
   "cell_type": "markdown",
   "metadata": {},
   "source": [
    "Now plot the training and validation history per epoch. Does your model underfit, overfit or is it about right? Explain why."
   ]
  },
  {
   "cell_type": "code",
   "execution_count": 27,
   "metadata": {
    "scrolled": false
   },
   "outputs": [
    {
     "data": {
      "image/png": "[encoded data removed]",
      "text/plain": [
       "<Figure size 432x288 with 1 Axes>"
      ]
     },
     "metadata": {
      "needs_background": "light"
     },
     "output_type": "display_data"
    }
   ],
   "source": [
    "plt.plot(tr_loss_count, label='Training loss')\n",
    "plt.plot(dev_loss_count, label='Validation loss')\n",
    "\n",
    "plt.xlabel('Epochs')\n",
    "plt.ylabel('Loss')\n",
    "\n",
    "plt.title('Training Monitoring (Binary - Count)')\n",
    "\n",
    "plt.legend()\n",
    "\n",
    "plt.show()"
   ]
  },
  {
   "cell_type": "markdown",
   "metadata": {},
   "source": [
    "According to the plot **Training Monitoring (Binary - Count)**, \n",
    "\n",
    "1. The training loss decreases as epoch increases and eventually reaches a point of stability\n",
    "2. The validation loss decreases as epoch increases and eventually reaches a point of stability\n",
    "3. There exists a \"generalisation gap\" between validation and training loss\n",
    "\n",
    "The following techniques are implemented in the Stochastic Gradient Descent algorithm to avoid overfitting of the training data:\n",
    "\n",
    "1. Early stopping\n",
    "2. L2 regularisation\n",
    "\n",
    "Hence, the model is **about right**."
   ]
  },
  {
   "cell_type": "markdown",
   "metadata": {},
   "source": [
    "Compute accuracy, precision, recall and F1-scores:"
   ]
  },
  {
   "cell_type": "code",
   "execution_count": 28,
   "metadata": {
    "scrolled": true
   },
   "outputs": [
    {
     "name": "stdout",
     "output_type": "stream",
     "text": [
      "Accuracy: 0.8625\n",
      "Precision: 0.8536585365853658\n",
      "Recall: 0.875\n",
      "F1-Score: 0.8641975308641976\n"
     ]
    }
   ],
   "source": [
    "args = sentiment_test_labels, predict_class(sentiment_test_count, w_count)\n",
    "\n",
    "print('Accuracy:', accuracy_score(*args))\n",
    "print('Precision:', precision_score(*args))\n",
    "print('Recall:', recall_score(*args))\n",
    "print('F1-Score:', f1_score(*args))"
   ]
  },
  {
   "cell_type": "markdown",
   "metadata": {},
   "source": [
    "Finally, print the top-10 words for the negative and positive class respectively."
   ]
  },
  {
   "cell_type": "code",
   "execution_count": 29,
   "metadata": {
    "scrolled": false
   },
   "outputs": [
    {
     "name": "stdout",
     "output_type": "stream",
     "text": [
      "Top 10 positive: ['great', 'well', 'seen', 'fun', 'life', 'movies', 'world', 'many', 'quite', 'see'] \n",
      "\n",
      "Top 10 negative: ['bad', 'worst', 'unfortunately', 'why', 'nothing', 'script', 'boring', 'plot', 'supposed', 'looks']\n"
     ]
    }
   ],
   "source": [
    "top10_positive_ids = (-w_count).argsort()[:10]\n",
    "top10_negative_ids = w_count.argsort()[:10]\n",
    "\n",
    "print(\n",
    "    f'Top 10 positive: {[vocab_id_to_word[id] for id in top10_positive_ids]} \\n'\n",
    ")\n",
    "print(\n",
    "    f'Top 10 negative: {[vocab_id_to_word[id] for id in top10_negative_ids]}'\n",
    ")"
   ]
  },
  {
   "cell_type": "markdown",
   "metadata": {},
   "source": [
    "### Features Evaluation\n",
    "\n",
    "The top 10 features obtained for each class using **count vectors** are reasonable."
   ]
  },
  {
   "cell_type": "markdown",
   "metadata": {},
   "source": [
    "## Train and Evaluate Binary Logistic Regression with TF.IDF Vectors\n",
    "\n",
    "Follow the same steps as above (i.e. evaluating count n-gram representations)."
   ]
  },
  {
   "cell_type": "code",
   "execution_count": 30,
   "metadata": {
    "scrolled": true
   },
   "outputs": [
    {
     "name": "stdout",
     "output_type": "stream",
     "text": [
      "Epoch: 0 | Training loss: 0.6125588594833006 | Validation loss: 0.647706528804582\n",
      "Epoch: 1 | Training loss: 0.5530253406900361 | Validation loss: 0.6150800703145565\n",
      "Epoch: 2 | Training loss: 0.5069409022845992 | Validation loss: 0.5894863184098205\n",
      "Epoch: 3 | Training loss: 0.47004008441871326 | Validation loss: 0.5694136509002529\n",
      "Epoch: 4 | Training loss: 0.43976084989704306 | Validation loss: 0.5532699411696317\n",
      "Epoch: 5 | Training loss: 0.41423882254708605 | Validation loss: 0.5393659995798531\n",
      "Epoch: 6 | Training loss: 0.392541298038376 | Validation loss: 0.5278636068389434\n",
      "Epoch: 7 | Training loss: 0.37375383411174645 | Validation loss: 0.518163125236696\n",
      "Epoch: 8 | Training loss: 0.3572679116483345 | Validation loss: 0.5096129103639213\n",
      "Epoch: 9 | Training loss: 0.3427279503022216 | Validation loss: 0.5021873336065107\n",
      "Epoch: 10 | Training loss: 0.3298796818923012 | Validation loss: 0.4957784337614395\n",
      "Epoch: 11 | Training loss: 0.3181586722159671 | Validation loss: 0.4898697002075382\n",
      "Epoch: 12 | Training loss: 0.3076801193968355 | Validation loss: 0.48474629690741194\n",
      "Epoch: 13 | Training loss: 0.2982128003853851 | Validation loss: 0.4801780262355908\n",
      "Epoch: 14 | Training loss: 0.28952700240096446 | Validation loss: 0.476046648306512\n",
      "Epoch: 15 | Training loss: 0.2816074738661983 | Validation loss: 0.4723022476416847\n",
      "Epoch: 16 | Training loss: 0.27435839211556023 | Validation loss: 0.4689399430736189\n",
      "Epoch: 17 | Training loss: 0.2676557309969343 | Validation loss: 0.46589486635133853\n",
      "Epoch: 18 | Training loss: 0.26145261550060966 | Validation loss: 0.46315817912282725\n",
      "Epoch: 19 | Training loss: 0.2557213561362758 | Validation loss: 0.46061933558601625\n",
      "Epoch: 20 | Training loss: 0.2504005715076555 | Validation loss: 0.4583338686037871\n",
      "Epoch: 21 | Training loss: 0.2454502162140767 | Validation loss: 0.4562377581744775\n",
      "Epoch: 22 | Training loss: 0.2408487775774507 | Validation loss: 0.45432348119280247\n",
      "Epoch: 23 | Training loss: 0.23652434330595884 | Validation loss: 0.45261253085923286\n",
      "Epoch: 24 | Training loss: 0.23251096987639402 | Validation loss: 0.450967321392916\n",
      "Epoch: 25 | Training loss: 0.22871128446241454 | Validation loss: 0.4495271018168438\n",
      "Epoch: 26 | Training loss: 0.22517294232930965 | Validation loss: 0.44816946371521554\n",
      "Epoch: 27 | Training loss: 0.22182728435613464 | Validation loss: 0.4469412008165293\n",
      "Epoch: 28 | Training loss: 0.21867789523858366 | Validation loss: 0.4458349425456607\n",
      "Epoch: 29 | Training loss: 0.21573151217419348 | Validation loss: 0.4447761463311327\n",
      "Epoch: 30 | Training loss: 0.21292211374747602 | Validation loss: 0.4438538267771761\n",
      "Epoch: 31 | Training loss: 0.21028246390627617 | Validation loss: 0.442971785295461\n",
      "Epoch: 32 | Training loss: 0.20779060379635828 | Validation loss: 0.4421492021197679\n",
      "Epoch: 33 | Training loss: 0.20542159093255227 | Validation loss: 0.44146197655135766\n",
      "Epoch: 34 | Training loss: 0.20318153571027425 | Validation loss: 0.44078352741142124\n",
      "Epoch: 35 | Training loss: 0.20105750155484847 | Validation loss: 0.4401634450532198\n",
      "Epoch: 36 | Training loss: 0.19904147808704342 | Validation loss: 0.4396253571483312\n",
      "Epoch: 37 | Training loss: 0.19712715006895337 | Validation loss: 0.43908948052431995\n",
      "Epoch: 38 | Training loss: 0.19530573607981377 | Validation loss: 0.43862857370497\n",
      "Epoch: 39 | Training loss: 0.19357547529539706 | Validation loss: 0.4382465576691501\n",
      "Epoch: 40 | Training loss: 0.19192583240476216 | Validation loss: 0.43786199113549273\n",
      "Epoch: 41 | Training loss: 0.19035698450143498 | Validation loss: 0.43753394116824806\n",
      "Epoch: 42 | Training loss: 0.188855025905954 | Validation loss: 0.4371947910383706\n",
      "Epoch: 43 | Training loss: 0.18742964234154447 | Validation loss: 0.4369411039631788\n",
      "Epoch: 44 | Training loss: 0.1860621966837093 | Validation loss: 0.4366365742987094\n",
      "Epoch: 45 | Training loss: 0.18476024384957002 | Validation loss: 0.43640643491732733\n",
      "Epoch: 46 | Training loss: 0.1835193172058706 | Validation loss: 0.43617829326607194\n",
      "Epoch: 47 | Training loss: 0.1823299223133357 | Validation loss: 0.4360024645158312\n",
      "Epoch: 48 | Training loss: 0.18118876802188982 | Validation loss: 0.4358853825434451\n"
     ]
    }
   ],
   "source": [
    "w_tfidf, tr_loss_tfidf, dev_loss_tfidf = SGD(X_tr=sentiment_train_tfidf,\n",
    "                                             Y_tr=sentiment_train_labels,\n",
    "                                             X_dev=sentiment_dev_tfidf,\n",
    "                                             Y_dev=sentiment_dev_labels,\n",
    "                                             lr=0.00322,\n",
    "                                             alpha=0.0005,\n",
    "                                             epochs=100)"
   ]
  },
  {
   "cell_type": "markdown",
   "metadata": {},
   "source": [
    "Now plot the training and validation history per epoch. Does your model underfit, overfit or is it about right? Explain why."
   ]
  },
  {
   "cell_type": "code",
   "execution_count": 31,
   "metadata": {
    "scrolled": false
   },
   "outputs": [
    {
     "data": {
      "image/png": "[encoded data removed]",
      "text/plain": [
       "<Figure size 432x288 with 1 Axes>"
      ]
     },
     "metadata": {
      "needs_background": "light"
     },
     "output_type": "display_data"
    }
   ],
   "source": [
    "plt.plot(tr_loss_tfidf, label='Training loss')\n",
    "plt.plot(dev_loss_tfidf, label='Validation loss')\n",
    "\n",
    "plt.xlabel('Epochs')\n",
    "plt.ylabel('Loss')\n",
    "\n",
    "plt.title('Training Monitoring (Binary - TFIDF)')\n",
    "\n",
    "plt.legend()\n",
    "\n",
    "plt.show()"
   ]
  },
  {
   "cell_type": "markdown",
   "metadata": {},
   "source": [
    "According to the plot **Training Monitoring (Binary - TFIDF)**, \n",
    "\n",
    "1. The training loss decreases as epoch increases and eventually reaches a point of stability\n",
    "2. The validation loss decreases as epoch increases and eventually reaches a point of stability\n",
    "3. There exists a \"generalisation gap\" between validation and training loss\n",
    "\n",
    "The following techniques are implemented in the Stochastic Gradient Descent algorithm to avoid overfitting of the training data:\n",
    "\n",
    "1. Early stopping\n",
    "2. L2 regularisation\n",
    "\n",
    "Hence, the model is **about right**."
   ]
  },
  {
   "cell_type": "markdown",
   "metadata": {},
   "source": [
    "Compute accuracy, precision, recall and F1-scores:"
   ]
  },
  {
   "cell_type": "code",
   "execution_count": 32,
   "metadata": {
    "scrolled": true
   },
   "outputs": [
    {
     "name": "stdout",
     "output_type": "stream",
     "text": [
      "Accuracy: 0.8925\n",
      "Precision: 0.9025641025641026\n",
      "Recall: 0.88\n",
      "F1-Score: 0.8911392405063291\n"
     ]
    }
   ],
   "source": [
    "args = sentiment_test_labels, predict_class(sentiment_test_tfidf, w_tfidf)\n",
    "\n",
    "print('Accuracy:', accuracy_score(*args))\n",
    "print('Precision:', precision_score(*args))\n",
    "print('Recall:', recall_score(*args))\n",
    "print('F1-Score:', f1_score(*args))"
   ]
  },
  {
   "cell_type": "markdown",
   "metadata": {},
   "source": [
    "Print top-10 most positive and negative words:"
   ]
  },
  {
   "cell_type": "code",
   "execution_count": 33,
   "metadata": {},
   "outputs": [
    {
     "name": "stdout",
     "output_type": "stream",
     "text": [
      "Top 10 positive: ['hilarious', 'perfectly', 'terrific', 'great', 'memorable', 'overall', 'definitely', 'perfect', 'excellent', 'fun'] \n",
      "\n",
      "Top 10 negative: ['bad', 'worst', 'boring', 'supposed', 'unfortunately', 'ridiculous', 'waste', 'awful', 'script', 'nothing']\n"
     ]
    }
   ],
   "source": [
    "top10_positive_ids = (-w_tfidf).argsort()[:10]\n",
    "top10_negative_ids = w_tfidf.argsort()[:10]\n",
    "\n",
    "print(\n",
    "    f'Top 10 positive: {[vocab_id_to_word[id] for id in top10_positive_ids]} \\n'\n",
    ")\n",
    "print(\n",
    "    f'Top 10 negative: {[vocab_id_to_word[id] for id in top10_negative_ids]}'\n",
    ")"
   ]
  },
  {
   "cell_type": "markdown",
   "metadata": {},
   "source": [
    "### Features Evaluation\n",
    "\n",
    "The top 10 features obtained for each class using **TF.IDF vectors** are reasonable. They are more relevant than the features obtained using **count vectors**."
   ]
  },
  {
   "cell_type": "markdown",
   "metadata": {},
   "source": [
    "## If we were to apply the classifier we've learned into a different domain such as laptop reviews or restaurant reviews, do you think these features would generalise well? Can you propose what features the classifier could pick up as important in the new domain?\n",
    "\n",
    "### Count Vectors\n",
    "\n",
    "The following top 10 words: 'great', 'well', 'bad', 'worst', 'unfortunately' are common words in reviews. If the classifier is to apply into a different domain, it is expected that the classier will be able to correctly classify some of the reviews, assuming that the reviews satisfy the following conditions:\n",
    "\n",
    "1. The positive reviews must contain words that have been learnt by the model as positive (e.g. great, well, etc.)\n",
    "2. The negative reviews must contain words that have been learnt by the model as negative (e.g. bad, worst, etc.)\n",
    "\n",
    "However, this assumption is unlikely to be true for most of the laptop or restaurant reviews in real-life scenarios. A user may give a positive rating despite writing many negative words in the review. It is also possible that a review contains only neutral unemotional words but expresses a different sentiment.\n",
    "\n",
    "Most of the top features are irrelevant to laptop or restaurant reviews, such as 'fun', 'movies', 'script', 'boring, 'plot', etc. This implies that the classifier is likely to be underfitting in the new domains and perform worse than the movie domain. Therefore, these features **would not generalise well** in a new domain.\n",
    "\n",
    "### TF.IDF Vectors\n",
    "\n",
    "The TF.IDF vectors model has better performance than the count vectors model on the movie review domain due to the top features being identified more accurately. Conversely, this has implied that the TF.IDF vectors model is less generalised than the count vectors model. Hence, the features **would not generalise well** in a new domain too.\n",
    "\n",
    "### Features in the New Domain\n",
    "\n",
    "Apart from the common sentiment lexicon (e.g. good, bad), the classifier could pick up features that is specific to the new domain. Below is an estimation of possible top features in the respective new domains:\n",
    "\n",
    "Laptop reviews: The features learned are likely to be the terms that are related to the attribute of an electrical device, as shown in the following list. Possible n-grams may include `(durable, battery)`, `(hd, screen)`, etc.\n",
    "\n",
    "- long ; short (battery life)\n",
    "- light ; heavy (weight)\n",
    "- thin ; bulky (physical size)\n",
    "- cheap ; expensive (price)\n",
    "- fast ; slow (performance\n",
    "\n",
    "Restaurant reviews: The features learned are likely to be the terms that are related to food quality and the customer experience in the restaurant, as shown in the following list. Possible n-grams may include `(polite, staff)`, `(tasty, food)`, etc.\n",
    "\n",
    "- long ; short (waiting time)\n",
    "- delicious ; disgusting, tasteless (food quality) \n",
    "- polite ; rude (staff attitude)\n",
    "- cosy ; dull (environment)\n",
    "- clean ; dirty, messy (hygiene)\n",
    "- cheap ; expensive (price)"
   ]
  },
  {
   "cell_type": "markdown",
   "metadata": {},
   "source": [
    "## Discuss how did you choose model hyperparameters (e.g. learning rate and regularisation strength)? What is the relation between training epochs and learning rate? How does the regularisation strength affect performance?\n",
    "\n",
    "### Objective\n",
    "\n",
    "The primary objective is to find the best configuration of hyperparameters that will give the best scores on the development and test set. It can be achieved by improving the generalisation of the learned model through the following processes:\n",
    "\n",
    "1. Lower the generalisation gap between validation and training loss. This is based on the assumption that both the validation and training loss has reached a point of stability, and the model is in good fit.\n",
    "\n",
    "2. Improve, or at least maintain the precision, recall, and F1-score while lowering the validation loss.\n",
    "\n",
    "The processes are carried out using *trial and error* strategy. Small performance improvements (≤ 2%) are expected after the optimisation. The quality of the training dataset is still the major factor in model performance.\n",
    "\n",
    "While many existing hyperparameters optimisation algorithms are better than the chosen strategy, almost all of them require a searching algorithm to work. After considering the scope of this assignment and the feasibility of self-implementing a searching algorithm, it is decided to choose a simpler approach for experimentation and learning purpose.\n",
    "\n",
    "### Limitations of Trial and Error Method\n",
    "\n",
    "Although the trial and error method is a straightforward strategy and requires no extra implementation, it is prone to the local optimum problem. It is impractical to try every possible combination of learning rate and regularisation strength to find the optimal result. Therefore, the best achievable performance improvement through fine-tuning is largely dependent on the initial set of values selected to explore the hyperparameters. \n",
    "\n",
    "Furthermore, another optimisation problem has arisen as the number of hyperparameters to search is more than one. This has lead to another assumption that the optimisation order of hyperparameters may have a certain impact on the final result.\n",
    "\n",
    "### Hyperparameters Optimisation\n",
    "\n",
    "Before performing the search on hyperparameters, the lower and upper bounds for the values of the hyperparameters need to be defined. The lower bound value is the baseline for the model performance, and the upper bound is the value where the performance would start dropping. Both lower bound and upper bound would converge after each trial. \n",
    "\n",
    "For consistency, the initial lower and upper bound of learning rate is set to `0.0001` and `0.1` respectively. The initial lower and upper bound of regularisation strength is set to `0.00001` and `0.01` respectively.\n",
    "\n",
    "#### Optimisation procedure for learning rate\n",
    "\n",
    "1. Set `lr=0.0001` and `alpha=0.00001`. Train and record the lower bound scores.\n",
    "\n",
    "2. If the gradient descent is taking too many epochs (> 100) to converge, increase the value of `lr`. Repeat this step until the number of epochs is below 100. If the final scores are higher than the current lower bound scores, then update the lower bound, else update the upper bound\n",
    "\n",
    "3. If the current `lr` is the lower bound value, increase `lr` until the new scores are lower than the current lower bound scores, then record this value as the new upper bound.\n",
    "\n",
    "4. If the current `lr` is the upper bound value, decrease `lr` until the new scores are higher than the current upper bound scores. Record this value as the new lower bound.\n",
    "\n",
    "5. Repeat Step 3 and 4 until the upper bound scores ≥ lower bound scores. The `lr` value is now considered to be the optimal value.\n",
    "\n",
    "\n",
    "#### Optimisation procedure for regularisation strength\n",
    "\n",
    "1. Set `lr` to the optimal value obtained and `alpha=0.00001`. Train and record the lower bound validation loss.\n",
    "\n",
    "2. If the current `alpha` is the lower bound value, increase `alpha` until the validation loss has increased **OR** the scores have decreased. Record this value as the new upper bound\n",
    "\n",
    "3. If the current `alpha` is the upper bound value, decrease `alpha` until the new validation loss is lower than the current upper bound validation loss. Record this value as the new lower bound.\n",
    "\n",
    "4. Repeat Step 2 and 3 until a lower validation loss has been found **OR** the scores have improved.\n",
    "\n",
    "**Note:** The optimisation procedure is a general guideline for the manual hyperparameters search. There may be cases where several changes have to be adapted. \n",
    "\n",
    "1. There is no fixed value of how much should `lr` and `alpha` increase or decrease during the optimisation. `lr` and `alpha` are adjusted according to the amount of changes in scores and validation loss in the previous trial.\n",
    "\n",
    "2. When optimising `alpha`, it is possible that the validation loss and scores are not improving after several trials. In this case, the initial `alpha` value is considered to be the optimum.\n",
    "\n",
    "\n",
    "### Count Vectors\n",
    "\n",
    "#### Optimising Learning Rate\n",
    "\n",
    "Initial parameters: `lr=0.0001, alpha=0.00001`\n",
    "\n",
    "| Trial | Learning rate | Epochs | Tr. loss | Val. loss | Precision | Recall | F1-Score |\n",
    "|-------|---------------|--------|----------|-----------|-----------|--------|----------|\n",
    "| 0     | 0.0001        | 70     | 0.2037   | 0.4100    | 0.8536    | 0.875  | 0.8641   |\n",
    "| 1     | 0.00011       | 70     | 0.1932   | 0.4072    | 0.8522    | 0.865  | 0.8585   |\n",
    "| 2     | 0.000105      | 70     | 0.1983   | 0.4085    | 0.8487    | 0.87   | 0.8592   |\n",
    "| 3     | 0.0001025     | 70     | 0.2009   | 0.4092    | 0.8487    | 0.87   | 0.8592   |\n",
    "| 4     | 0.00010125    | 70     | 0.2023   | 0.4096    | 0.8536    | 0.875  | 0.8641   |\n",
    "\n",
    "The optimal `lr` is found to be `0.00010125`.\n",
    "\n",
    "#### Optimising Regularisation Strength\n",
    "\n",
    "Initial parameters: `lr=0.00010125, alpha=0.00001`\n",
    "\n",
    "| Trial | Alpha      | Epochs | Tr. loss | Val. loss | Precision | Recall | F1-Score |\n",
    "|-------|------------|--------|----------|-----------|-----------|--------|----------|\n",
    "| 0     | 0.00001    | 70     | 0.2023   | 0.40962   | 0.8536    | 0.875  | 0.8641   |\n",
    "| 1     | 0.00002    | 70     | 0.2024   | 0.40966   | 0.8536    | 0.875  | 0.8641   |\n",
    "| 2     | 0.000015   | 70     | 0.2023   | 0.40964   | 0.8536    | 0.875  | 0.8641   |\n",
    "| 3     | 0.0000125  | 70     | 0.2023   | 0.40963   | 0.8536    | 0.875  | 0.8641   |\n",
    "| 4     | 0.00001125 | 70     | 0.2023   | 0.40963   | 0.8536    | 0.875  | 0.8641   |\n",
    "| 5     | 0.0001     | 70     | 0.2028   | 0.4099    | 0.8536    | 0.875  | 0.8641   |\n",
    "| 6     | 0.001      | 70     | 0.2074   | 0.4134    | 0.8536    | 0.875  | 0.8641   |\n",
    "| 7     | 0.01       | 47     | 0.2788   | 0.4487    | 0.8514    | 0.86   | 0.8557   |\n",
    "\n",
    "No better `alpha` has been found. The initial `alpha` is considered to be the optimal value.\n",
    "\n",
    "**Conclusion**: Based on the trials above, it can be concluded that the optimal values are `lr=0.00010125` and `alpha=0.00001`\n",
    "\n",
    "\n",
    "### TF.IDF Vectors\n",
    "\n",
    "#### Optimising Learning Rate\n",
    "\n",
    "Initial parameters: `lr=0.0001, alpha=0.00001`\n",
    "\n",
    "| Trial | Learning rate | Epochs | Tr. loss | Val. loss | Precision | Recall | F1-Score |\n",
    "|-------|---------------|--------|----------|-----------|-----------|--------|----------|\n",
    "| 0     | 0.0001        | 99     | 0.5025   | 0.5866    | 0.8436    | 0.89   | 0.8661   |\n",
    "| 1     | 0.0002        | 99     | 0.4053   | 0.5329    | 0.8634    | 0.885  | 0.8740   |\n",
    "| 2     | 0.0003        | 99     | 0.3439   | 0.4994    | 0.8676    | 0.885  | 0.8762   |\n",
    "| 3     | 0.001         | 99     | 0.1760   | 0.4125    | 0.8923    | 0.87   | 0.8810   |\n",
    "| 4     | 0.002         | 99     | 0.1059   | 0.3819    | 0.8883    | 0.875  | 0.8816   |\n",
    "| 5     | 0.003         | 99     | 0.0762   | 0.3724    | 0.8826    | 0.865  | 0.8737   |\n",
    "| 6     | 0.0029        | 99     | 0.0784   | 0.3730    | 0.8826    | 0.865  | 0.8737   |\n",
    "| 7     | 0.0028        | 99     | 0.0807   | 0.3736    | 0.8871    | 0.865  | 0.8759   |\n",
    "| 8     | 0.0027        | 99     | 0.0831   | 0.3743    | 0.8871    | 0.865  | 0.8759   |\n",
    "| 9     | 0.0026        | 99     | 0.0858   | 0.3751    | 0.8871    | 0.865  | 0.8759   |\n",
    "| 10    | 0.0025        | 99     | 0.0893   | 0.3762    | 0.8883    | 0.875  | 0.8816   |\n",
    "\n",
    "The \"temporary\" optimal `lr` is found to be `0.0025` because the model is not showing a converging trenddespite the learning rate has increased significantly.\n",
    "\n",
    "#### Optimising Regularisation Strength\n",
    "\n",
    "Initial parameters: `lr=0.0025, alpha=0.00001`\n",
    "\n",
    "| Trial | Alpha   | Epochs | Tr. loss | Val. loss | Precision | Recall | F1-Score |\n",
    "|-------|---------|--------|----------|-----------|-----------|--------|----------|\n",
    "| 0     | 0.00001 | 99     | 0.0893   | 0.3762    | 0.8883    | 0.875  | 0.8816   |\n",
    "| 1     | 0.00002 | 99     | 0.0904   | 0.3775    | 0.8883    | 0.875  | 0.8816   |\n",
    "| 2     | 0.00004 | 99     | 0.0940   | 0.3805    | 0.8838    | 0.875  | 0.8793   |\n",
    "| 3     | 0.0001  | 99     | 0.1044   | 0.3893    | 0.8838    | 0.875  | 0.8793   |\n",
    "| 4     | 0.0002  | 83     | 0.1302   | 0.4043    | 0.8883    | 0.875  | 0.8816   |\n",
    "| 5     | 0.0004  | 70     | 0.1645   | 0.4265    | 0.8934    | 0.88   | 0.8866   |\n",
    "| 6     | 0.0006  | 58     | 0.1943   | 0.4439    | 0.9025    | 0.88   | 0.8911   |\n",
    "| 7     | 0.0008  | 48     | 0.2206   | 0.4583    | 0.8974    | 0.875  | 0.8860   |\n",
    "\n",
    "A converging pattern has been observed. However, since the `lr` used is the \"temporary\" optimal value, a further optimisation is required validate it.\n",
    "\n",
    "#### Optimising Learning Rate and Regularisation Strength\n",
    "\n",
    "Based on the trials above, it could be concluded that the optimal values are `lr=0.0025` and `alpha=0.0006`. However, it has been observed that increasing the learning rate only is not decreasing the epochs required. The epochs required only start decreasing when `alpha` is increased to `0.0002`. Therefore, further optimisation is required to validate the optimal values.\n",
    "\n",
    "Initial parameters: `lr=0.0025, alpha=0.0006`\n",
    "\n",
    "| Trial | Learning rate | Alpha   | Epochs | Tr. loss | Val. loss | Precision | Recall | F1-Score |\n",
    "|-------|---------------|---------|--------|----------|-----------|-----------|--------|----------|\n",
    "| 0     | 0.0025        | 0.0006  | 58     | 0.1943   | 0.4439    | 0.9025    | 0.88   | 0.8911   |\n",
    "| 1     | 0.003         | 0.0006  | 47     | 0.1955   | 0.4440    | 0.9025    | 0.88   | 0.8911   |\n",
    "| 2     | 0.004         | 0.0006  | 37     | 0.1924   | 0.4437    | 0.9025    | 0.88   | 0.8911   |\n",
    "| 3     | 0.005         | 0.0006  | 29     | 0.1929   | 0.4437    | 0.9025    | 0.88   | 0.8911   |\n",
    "| 4     | 0.006         | 0.0006  | 24     | 0.1927   | 0.4436    | 0.9025    | 0.88   | 0.8911   |\n",
    "| 5     | 0.003         | 0.00055 | 51     | 0.1866   | 0.4399    | 0.9025    | 0.88   | 0.8911   |\n",
    "| 6     | 0.0032        | 0.0005  | 48     | 0.1815   | 0.4359    | 0.9025    | 0.88   | 0.8911   |\n",
    "\n",
    "After further optimisation, it can be concluded that the optimal values are `lr=0.0032` and `alpha=0.0005`. These two values have the lowest training and validation loss while maintaining the same scores.\n",
    "\n",
    "### Relationship Between Epochs and Learning Rate\n",
    "\n",
    "Before conducting any of the optimisation trials, the relationship between epochs and learning can already be deduced from the equation in `SGD` function. By observing the line `weights -= lr * (...)` in `SGD` function, it can be deduced that the larger the learning rate, the bigger the weight update after each epoch. Therefore, it is assumed that the higher the learning rate, the lower the epochs required to converge. \n",
    "\n",
    "As shown in the table in section **TF.IDF: Optimising Learning Rate and Regularisation Strength** above, it has been proved that epochs are inversely proportional to the learning rate. Another test has been conducted to further validate the assumption,\n",
    "\n",
    "- Test vector: `count`\n",
    "- Parameters: `alpha=0.00001, epochs=300`\n",
    "\n",
    "| Trial | Learning rate | Epochs required |\n",
    "|-------|---------------|-----------------|\n",
    "| 0     | 0.00001       | 299             |\n",
    "| 1     | 0.0001        | 70              |\n",
    "| 2     | 0.001         | 14              |\n",
    "| 3     | 0.01          | 0               |\n",
    "\n",
    "\n",
    "#### Discussion about Epochs, Learning Rate, and Model Performance\n",
    "\n",
    "Choosing a good learning rate is challenging as every model differs from each other. Generally, it is required to perform some preliminary analysis on the model performance before the hyperparameters optimisation. \n",
    "\n",
    "- If the learning rate is too large, the model may overshoot and lead to divergent behaviour (epochs required is low)\n",
    "- If the learning rate is too small, the model will require many updates to the weights before the loss is converged (epochs required is high)\n",
    "\n",
    "### Relationship Between Regularisation Strength and Model Performance\n",
    "\n",
    "From the table in **Count Vectors: Optimising Regularisation Strength** and **TF.IDF Vectors: Optimising Regularisation Strength**, it is observed that the regularisation strength can affect the epochs required to converge, and thus can affect the model performance indirectly. Moreover, a small change in regularisation strength would only have minimal impact on the overall metrics.\n",
    "\n",
    "By observing the line `weights -= lr * (... + 2 * alpha * weights)` in `SGD` function, it can be deduced that the higher the regularisation strength, the lower the epochs required to converge. However, as shown in **TF.IDF Vectors: Optimising Regularisation Strength**, increasing the regularisation strength will also increase both training and validation loss. This does not always produce an adverse effect on the model performance, as performance gained has been observed when the regularisation strength has been increased to a certain value.\n",
    "\n",
    "#### Discussion about Loss and Model Performance\n",
    "\n",
    "The increase in training and validation loss which lead to the improvement in model performance can be explained as follows:\n",
    "\n",
    "1. Before the optimisation, the model is slightly overfitted on the training dataset\n",
    "2. After the optimisation, the increase in regularisation strength has improved the generalisation of the model, thus observing an  increase in training and validation loss"
   ]
  },
  {
   "cell_type": "markdown",
   "metadata": {},
   "source": [
    "## Full Results\n",
    "\n",
    "|     LR    |      Precision     | Recall |      F1-Score      |\n",
    "|:---------:|:------------------:|:------:|:------------------:|\n",
    "| BOW-count | 0.8536585365853658 |  0.875 | 0.8641975308641976 |\n",
    "| BOW-tfidf | 0.9025641025641026 |  0.88  | 0.8911392405063291 |"
   ]
  },
  {
   "cell_type": "markdown",
   "metadata": {},
   "source": [
    "# Multi-class Logistic Regression\n",
    "\n",
    "Now you need to train a Multiclass Logistic Regression (MLR) Classifier by extending the Binary model you developed above. You will use the MLR model to perform topic classification on the AG news dataset consisting of three classes:\n",
    "\n",
    "- Class 1: World\n",
    "- Class 2: Sports\n",
    "- Class 3: Business\n",
    "\n",
    "You need to follow the same process as in Task 1 for data processing and feature extraction by reusing the functions you wrote."
   ]
  },
  {
   "cell_type": "code",
   "execution_count": 34,
   "metadata": {},
   "outputs": [],
   "source": [
    "topic_dev = pd.read_csv('data_topic/dev.csv', names=['label', 'text'])\n",
    "topic_test = pd.read_csv('data_topic/test.csv', names=['label', 'text'])\n",
    "topic_train = pd.read_csv('data_topic/train.csv', names=['label', 'text'])"
   ]
  },
  {
   "cell_type": "code",
   "execution_count": 35,
   "metadata": {},
   "outputs": [
    {
     "data": {
      "text/html": [
       "<div>\n",
       "<style scoped>\n",
       "    .dataframe tbody tr th:only-of-type {\n",
       "        vertical-align: middle;\n",
       "    }\n",
       "\n",
       "    .dataframe tbody tr th {\n",
       "        vertical-align: top;\n",
       "    }\n",
       "\n",
       "    .dataframe thead th {\n",
       "        text-align: right;\n",
       "    }\n",
       "</style>\n",
       "<table border=\"1\" class=\"dataframe\">\n",
       "  <thead>\n",
       "    <tr style=\"text-align: right;\">\n",
       "      <th></th>\n",
       "      <th>label</th>\n",
       "      <th>text</th>\n",
       "    </tr>\n",
       "  </thead>\n",
       "  <tbody>\n",
       "    <tr>\n",
       "      <th>0</th>\n",
       "      <td>1</td>\n",
       "      <td>Reuters - Venezuelans turned out early\\and in ...</td>\n",
       "    </tr>\n",
       "    <tr>\n",
       "      <th>1</th>\n",
       "      <td>1</td>\n",
       "      <td>Reuters - South Korean police used water canno...</td>\n",
       "    </tr>\n",
       "    <tr>\n",
       "      <th>2</th>\n",
       "      <td>1</td>\n",
       "      <td>Reuters - Thousands of Palestinian\\prisoners i...</td>\n",
       "    </tr>\n",
       "    <tr>\n",
       "      <th>3</th>\n",
       "      <td>1</td>\n",
       "      <td>AFP - Sporadic gunfire and shelling took place...</td>\n",
       "    </tr>\n",
       "    <tr>\n",
       "      <th>4</th>\n",
       "      <td>1</td>\n",
       "      <td>AP - Dozens of Rwandan soldiers flew into Suda...</td>\n",
       "    </tr>\n",
       "  </tbody>\n",
       "</table>\n",
       "</div>"
      ],
      "text/plain": [
       "   label                                               text\n",
       "0      1  Reuters - Venezuelans turned out early\\and in ...\n",
       "1      1  Reuters - South Korean police used water canno...\n",
       "2      1  Reuters - Thousands of Palestinian\\prisoners i...\n",
       "3      1  AFP - Sporadic gunfire and shelling took place...\n",
       "4      1  AP - Dozens of Rwandan soldiers flew into Suda..."
      ]
     },
     "execution_count": 35,
     "metadata": {},
     "output_type": "execute_result"
    }
   ],
   "source": [
    "topic_train.head()"
   ]
  },
  {
   "cell_type": "code",
   "execution_count": 36,
   "metadata": {},
   "outputs": [],
   "source": [
    "topic_dev_texts = list(topic_dev['text'])\n",
    "topic_dev_labels = np.array(topic_dev['label'])\n",
    "\n",
    "topic_test_texts = list(topic_test['text'])\n",
    "topic_test_labels = np.array(topic_test['label'])\n",
    "\n",
    "topic_train_texts = list(topic_train['text'])\n",
    "topic_train_labels = np.array(topic_train['label'])"
   ]
  },
  {
   "cell_type": "code",
   "execution_count": 37,
   "metadata": {},
   "outputs": [
    {
     "name": "stdout",
     "output_type": "stream",
     "text": [
      "5000\n",
      "\n",
      "[('region', 'south', 'ossetia'), 'delayed', 'takes', 'loans', 'billing', ('chancellor', 'gerhard'), 'joy', ('lower', 'oil', 'prices'), ('al', 'sadr'), 'wall', ('monday', 'saying'), ('strained', 'right'), ('crude', 'prices', 'remain'), 'use', 'son', 'turn', ('four', 'people'), ('search', 'engine'), 'decisive', ('republican', 'national'), ('fell', 'lowest'), ('out', 'olympic', 'tennis'), ('katerina', 'thanou'), 'embassy', 'justin', ('awaited', 'initial'), 'members', ('oil', 'prices', 'upbeat'), ('hours', 'visit'), 'residents', ('maoist', 'rebels'), 'led', 'added', 'kid', 'economic', ('trade', 'deficit'), 'wood', 'appeal', 'before', 'commission', 'upset', 'au', 'kill', ('economic', 'data', 'showing'), 'park', 'effort', 'spokesman', 'battles', ('york', 'stocks'), 'enter', 'decade', ('another', 'record'), ('housing', 'starts', 'rebounded'), 'unusual', 'medtronic', 'independence', 'starts', 'carrier', 'awarded', ('britain', 'charged'), 'under', ('olympic', 'tennis', 'tournament'), ('said', 'received'), ('home', 'depot'), 'chances', 'white', 'moves', ('expected', 'declare'), 'negotiations', ('tearing', 'anterior', 'cruciate'), 'sprinter', ('rival', 'province'), ('regular', 'season'), 'hoped', 'paperwork', 'chicago', 'view', 'louis', 'official', ('found', 'out'), ('top', 'al'), ('toronto', 'blue', 'jays'), ('thousands', 'people'), ('hang', 'over'), 'canadian', ('hd', 'lt', 'gt'), ('hungarian', 'grand'), ('iraqi', 'political'), ('equipment', 'businesses'), 'career', 'champions', 'doubts', ('preliminary', 'round'), 'agent', ('venezuelan', 'president', 'hugo'), 'tour', 'lawsuit', 'story', 'unit', 'walked']\n",
      "\n",
      "[('reuters', 631), ('said', 432), ('tuesday', 413), ('wednesday', 344), ('new', 325), ('ap', 275), ('athens', 245), ('monday', 221), ('first', 210), ('two', 187)]\n"
     ]
    }
   ],
   "source": [
    "vocab, df, _ = get_vocab(topic_train_texts, keep_topN=5000)\n",
    "print(len(vocab))\n",
    "print()\n",
    "print(list(vocab)[:100])\n",
    "print()\n",
    "print(df.most_common()[:10])"
   ]
  },
  {
   "cell_type": "code",
   "execution_count": 38,
   "metadata": {},
   "outputs": [],
   "source": [
    "vocab_id_to_word = dict(enumerate(vocab))\n",
    "\n",
    "word_to_vocab_id = {v: k for k, v in vocab_id_to_word.items()}"
   ]
  },
  {
   "cell_type": "code",
   "execution_count": 39,
   "metadata": {},
   "outputs": [],
   "source": [
    "topic_train_texts_ngrams = (extract_ngrams(text, vocab=vocab)\n",
    "                            for text in topic_train_texts)\n",
    "\n",
    "topic_dev_texts_ngrams = (extract_ngrams(text, vocab=vocab)\n",
    "                          for text in topic_dev_texts)\n",
    "\n",
    "topic_test_texts_ngrams = (extract_ngrams(text, vocab=vocab)\n",
    "                           for text in topic_test_texts)"
   ]
  },
  {
   "cell_type": "markdown",
   "metadata": {},
   "source": [
    "### Count vectors"
   ]
  },
  {
   "cell_type": "code",
   "execution_count": 40,
   "metadata": {},
   "outputs": [],
   "source": [
    "topic_train_count = vectorise(topic_train_texts_ngrams, vocab)\n",
    "\n",
    "topic_dev_count = vectorise(topic_dev_texts_ngrams, vocab)\n",
    "\n",
    "topic_test_count = vectorise(topic_test_texts_ngrams, vocab)"
   ]
  },
  {
   "cell_type": "markdown",
   "metadata": {},
   "source": [
    "### TF.IDF vectors"
   ]
  },
  {
   "cell_type": "code",
   "execution_count": 41,
   "metadata": {},
   "outputs": [],
   "source": [
    "total_topic_train_docs = len(topic_train_texts)\n",
    "total_topic_dev_docs = len(topic_dev_texts)\n",
    "total_topic_test_docs = len(topic_test_texts)\n",
    "\n",
    "_, topic_dev_df, _ = get_vocab(topic_dev_texts, keep_topN=5000)\n",
    "\n",
    "_, topic_test_df, _ = get_vocab(topic_test_texts, keep_topN=5000)\n",
    "\n",
    "topic_train_idf = np.array([\n",
    "    np.log10(total_topic_train_docs / df[v]) for v in vocab]\n",
    ")\n",
    "\n",
    "topic_dev_idf = np.array([\n",
    "    np.log10(total_topic_dev_docs / topic_dev_df[v])\n",
    "    if topic_dev_df[v] else 0 for v in vocab\n",
    "])\n",
    "\n",
    "topic_test_idf = np.array([\n",
    "    np.log10(total_topic_test_docs / topic_test_df[v])\n",
    "    if topic_test_df[v] else 0 for v in vocab\n",
    "])\n",
    "\n",
    "# Use the \"log normalisation\" variant to scale TF for better results\n",
    "topic_train_tfidf = np.log10(1 + topic_train_count) * topic_train_idf\n",
    "\n",
    "topic_dev_tfidf = np.log10(1 + topic_dev_count) * topic_dev_idf\n",
    "\n",
    "topic_test_tfidf = np.log10(1 + topic_test_count) * topic_test_idf"
   ]
  },
  {
   "cell_type": "markdown",
   "metadata": {},
   "source": [
    "Now you need to change `SGD` to support multiclass datasets. First, you need to develop a `softmax` function. It takes as input:\n",
    "\n",
    "- `z`: an array of real numbers\n",
    "\n",
    "and returns:\n",
    "\n",
    "- `smax`: the softmax of `z`"
   ]
  },
  {
   "cell_type": "code",
   "execution_count": 42,
   "metadata": {},
   "outputs": [],
   "source": [
    "def softmax(z):\n",
    "    \"\"\"\n",
    "    Compute probability for each class\n",
    "    \"\"\"\n",
    "    e_z = np.exp(z)\n",
    "    return e_z / np.sum(e_z, axis=1 if e_z.ndim > 1 else None, keepdims=True)"
   ]
  },
  {
   "cell_type": "markdown",
   "metadata": {},
   "source": [
    "Then modify `predict_proba` and `predict_class` functions for the multiclass case:"
   ]
  },
  {
   "cell_type": "code",
   "execution_count": 43,
   "metadata": {},
   "outputs": [],
   "source": [
    "def predict_proba(X, weights):\n",
    "    \"\"\"\n",
    "    :param weights: (3, |vocab|) shape, one weight vector for each class\n",
    "    \"\"\"\n",
    "    z = X.dot(weights.T)\n",
    "    return softmax(z)"
   ]
  },
  {
   "cell_type": "code",
   "execution_count": 44,
   "metadata": {},
   "outputs": [],
   "source": [
    "def predict_class(X, weights):\n",
    "    \"\"\"\n",
    "    Each document will have one probability for each class, \n",
    "    use argmax to find the highest probability class\n",
    "    \"\"\"\n",
    "    # Add 1 after argmax as the topic class starts from 1\n",
    "    return np.argmax(predict_proba(X, weights), axis=1) + 1"
   ]
  },
  {
   "cell_type": "markdown",
   "metadata": {},
   "source": [
    "Test example and expected functionality of the functions above:"
   ]
  },
  {
   "cell_type": "code",
   "execution_count": 45,
   "metadata": {},
   "outputs": [],
   "source": [
    "X = np.array([[0.1, 0.2], [0.2, 0.1], [0.1, -0.2]])\n",
    "w = np.array([[2, -5], [-5, 2]])"
   ]
  },
  {
   "cell_type": "code",
   "execution_count": 46,
   "metadata": {},
   "outputs": [
    {
     "data": {
      "text/plain": [
       "array([[0.33181223, 0.66818777],\n",
       "       [0.66818777, 0.33181223],\n",
       "       [0.89090318, 0.10909682]])"
      ]
     },
     "execution_count": 46,
     "metadata": {},
     "output_type": "execute_result"
    }
   ],
   "source": [
    "predict_proba(X, w)"
   ]
  },
  {
   "cell_type": "code",
   "execution_count": 47,
   "metadata": {},
   "outputs": [
    {
     "data": {
      "text/plain": [
       "array([2, 1, 1])"
      ]
     },
     "execution_count": 47,
     "metadata": {},
     "output_type": "execute_result"
    }
   ],
   "source": [
    "predict_class(X, w)"
   ]
  },
  {
   "cell_type": "markdown",
   "metadata": {},
   "source": [
    "Now you need to compute the categorical cross-entropy loss (extending the binary loss to support multiple classes)."
   ]
  },
  {
   "cell_type": "code",
   "execution_count": 48,
   "metadata": {},
   "outputs": [],
   "source": [
    "def categorical_loss(X, Y, weights, num_classes=5, alpha=0.00001):\n",
    "    # Compute the negative log-likelihood and L2 regularisation for true class only\n",
    "    l = np.array([\n",
    "        -np.log(probs[Y[idx] - 1]) + alpha * np.sum(weights[Y[idx] - 1]**2)\n",
    "        for idx, probs in enumerate(predict_proba(X, weights))\n",
    "    ])\n",
    "\n",
    "    # Return average loss\n",
    "    return np.mean(l)"
   ]
  },
  {
   "cell_type": "markdown",
   "metadata": {},
   "source": [
    "Finally you need to modify SGD to support the categorical cross entropy loss:"
   ]
  },
  {
   "cell_type": "code",
   "execution_count": 49,
   "metadata": {},
   "outputs": [],
   "source": [
    "def SGD(X_tr, Y_tr, X_dev, Y_dev, num_classes=5, lr=0.01, alpha=0.00001, epochs=5, tolerance=0.001, print_progress=True):\n",
    "    # fixing random seed for reproducibility\n",
    "    np.random.seed(123)\n",
    "    training_loss_history = []\n",
    "    validation_loss_history = []\n",
    "\n",
    "    # Initialise weight to zero\n",
    "    weights = np.zeros((num_classes, X_tr.shape[1]))\n",
    "\n",
    "    # Create training tuples\n",
    "    train_docs = list(zip(X_tr, Y_tr))\n",
    "\n",
    "    for epoch in range(epochs):\n",
    "        # Randomise order in train_docs\n",
    "        np.random.shuffle(train_docs)\n",
    "\n",
    "        for x_i, y_i in train_docs:\n",
    "            # Compute gradient and update weight for correct class only\n",
    "            gradient = x_i * (np.max(predict_proba(x_i, weights)) - 1)\n",
    "            weights[y_i - 1] -= lr * (gradient + 2 * alpha * weights[y_i - 1])\n",
    "\n",
    "        # Monitor training and validation loss\n",
    "        cur_loss_tr = categorical_loss(X_tr, Y_tr, weights, alpha)\n",
    "        cur_loss_dev = categorical_loss(X_dev, Y_dev, weights, alpha)\n",
    "\n",
    "        # Early stopping\n",
    "        if epoch > 0 and validation_loss_history[-1] - cur_loss_dev < tolerance:\n",
    "            break\n",
    "        else:\n",
    "            training_loss_history.append(cur_loss_tr)\n",
    "            validation_loss_history.append(cur_loss_dev)\n",
    "\n",
    "        if print_progress:\n",
    "            print(f'Epoch: {epoch} | Training loss: {cur_loss_tr} | Validation loss: {cur_loss_dev}')\n",
    "            \n",
    "    return weights, training_loss_history, validation_loss_history"
   ]
  },
  {
   "cell_type": "markdown",
   "metadata": {},
   "source": [
    "## Train and Evaluate Multi-class Logistic Regresstion with Count Vectors"
   ]
  },
  {
   "cell_type": "code",
   "execution_count": 50,
   "metadata": {
    "scrolled": true
   },
   "outputs": [
    {
     "name": "stdout",
     "output_type": "stream",
     "text": [
      "Epoch: 0 | Training loss: 0.7193002610765054 | Validation loss: 0.8472797399509464\n",
      "Epoch: 1 | Training loss: 0.5896685198635796 | Validation loss: 0.7258160646161449\n",
      "Epoch: 2 | Training loss: 0.5218204362187738 | Validation loss: 0.6525822199247686\n",
      "Epoch: 3 | Training loss: 0.4795781551716312 | Validation loss: 0.6028664193490549\n",
      "Epoch: 4 | Training loss: 0.45059651563515823 | Validation loss: 0.5666975050491727\n",
      "Epoch: 5 | Training loss: 0.4294016129717041 | Validation loss: 0.5388917751301849\n",
      "Epoch: 6 | Training loss: 0.4132185781563457 | Validation loss: 0.5168045462687523\n",
      "Epoch: 7 | Training loss: 0.40039913115898607 | Validation loss: 0.49867941629849893\n",
      "Epoch: 8 | Training loss: 0.3899748787402841 | Validation loss: 0.48359282655753455\n",
      "Epoch: 9 | Training loss: 0.38138850550050873 | Validation loss: 0.4706646482635338\n",
      "Epoch: 10 | Training loss: 0.3741279282231453 | Validation loss: 0.45958750570419776\n",
      "Epoch: 11 | Training loss: 0.3679519058737156 | Validation loss: 0.44987825346188326\n",
      "Epoch: 12 | Training loss: 0.3625836158717799 | Validation loss: 0.44133784596002756\n",
      "Epoch: 13 | Training loss: 0.3579459604234593 | Validation loss: 0.43375538197900926\n",
      "Epoch: 14 | Training loss: 0.35384916583783943 | Validation loss: 0.4269030081386849\n",
      "Epoch: 15 | Training loss: 0.35020894131077407 | Validation loss: 0.4207520043157725\n",
      "Epoch: 16 | Training loss: 0.3469725495010658 | Validation loss: 0.41517973731035557\n",
      "Epoch: 17 | Training loss: 0.34409158560215936 | Validation loss: 0.4101087966211618\n",
      "Epoch: 18 | Training loss: 0.34149567784763 | Validation loss: 0.4054771515967492\n",
      "Epoch: 19 | Training loss: 0.33913897609543986 | Validation loss: 0.40124182309764383\n",
      "Epoch: 20 | Training loss: 0.33701344698329755 | Validation loss: 0.3973156216617951\n",
      "Epoch: 21 | Training loss: 0.3350628979700537 | Validation loss: 0.39370255671962967\n",
      "Epoch: 22 | Training loss: 0.3332775018537647 | Validation loss: 0.3903481923446071\n",
      "Epoch: 23 | Training loss: 0.3316522278743371 | Validation loss: 0.3872326014353115\n",
      "Epoch: 24 | Training loss: 0.3301385129788469 | Validation loss: 0.38433730038532027\n",
      "Epoch: 25 | Training loss: 0.3287701214824919 | Validation loss: 0.381601700836363\n",
      "Epoch: 26 | Training loss: 0.3274971587653633 | Validation loss: 0.3790905944430126\n",
      "Epoch: 27 | Training loss: 0.3263177241106738 | Validation loss: 0.3767192325751791\n",
      "Epoch: 28 | Training loss: 0.32523124545481447 | Validation loss: 0.3744945786295051\n",
      "Epoch: 29 | Training loss: 0.32421406050722656 | Validation loss: 0.3724061585229235\n",
      "Epoch: 30 | Training loss: 0.32328286586151 | Validation loss: 0.3704398100994916\n",
      "Epoch: 31 | Training loss: 0.3223890786172448 | Validation loss: 0.3685825048112624\n",
      "Epoch: 32 | Training loss: 0.3215659928071243 | Validation loss: 0.366847255231514\n",
      "Epoch: 33 | Training loss: 0.3207988185592019 | Validation loss: 0.3652244262904914\n",
      "Epoch: 34 | Training loss: 0.32008405223558933 | Validation loss: 0.3636791128995939\n",
      "Epoch: 35 | Training loss: 0.3194102695321481 | Validation loss: 0.36224073858388284\n",
      "Epoch: 36 | Training loss: 0.3187782778507206 | Validation loss: 0.36088505460858544\n",
      "Epoch: 37 | Training loss: 0.31818569471512526 | Validation loss: 0.35958743108410524\n",
      "Epoch: 38 | Training loss: 0.3176189009113217 | Validation loss: 0.3583709563367372\n",
      "Epoch: 39 | Training loss: 0.3170902603516312 | Validation loss: 0.357207124934161\n",
      "Epoch: 40 | Training loss: 0.31659186941362355 | Validation loss: 0.35610277212173924\n",
      "Epoch: 41 | Training loss: 0.31612668860554133 | Validation loss: 0.3550700180802673\n"
     ]
    }
   ],
   "source": [
    "w_count, tr_loss_count, dev_loss_count = SGD(X_tr=topic_train_count,\n",
    "                                             Y_tr=topic_train_labels,\n",
    "                                             X_dev=topic_dev_count,\n",
    "                                             Y_dev=topic_dev_labels,\n",
    "                                             num_classes=3,\n",
    "                                             lr=0.00425,\n",
    "                                             alpha=0.00001,\n",
    "                                             epochs=100)"
   ]
  },
  {
   "cell_type": "markdown",
   "metadata": {},
   "source": [
    "Plot training and validation process and explain if your model overfit, underfit or is about right:"
   ]
  },
  {
   "cell_type": "code",
   "execution_count": 51,
   "metadata": {},
   "outputs": [
    {
     "data": {
      "image/png": "[encoded data removed]",
      "text/plain": [
       "<Figure size 432x288 with 1 Axes>"
      ]
     },
     "metadata": {
      "needs_background": "light"
     },
     "output_type": "display_data"
    }
   ],
   "source": [
    "plt.plot(tr_loss_count, label='Training loss')\n",
    "plt.plot(dev_loss_count, label='Validation loss')\n",
    "\n",
    "plt.xlabel('Epochs')\n",
    "plt.ylabel('Loss')\n",
    "\n",
    "plt.title('Training Monitoring (Multi-class - Count)')\n",
    "\n",
    "plt.legend()\n",
    "\n",
    "plt.show()"
   ]
  },
  {
   "cell_type": "markdown",
   "metadata": {},
   "source": [
    "According to the plot **Training Monitoring (Multi-class - Count)**, \n",
    "\n",
    "1. The training loss decreases as epoch increases and eventually reaches a point of stability\n",
    "2. The validation loss decreases as epoch increases and eventually reaches a point of stability\n",
    "3. The validation loss is slightly higher than the training loss, i.e. the \"generalisation gap\" is small\n",
    "\n",
    "The following techniques are implemented in the Stochastic Gradient Descent algorithm to avoid overfitting of the training data:\n",
    "\n",
    "1. Early stopping\n",
    "2. L2 regularisation\n",
    "\n",
    "Hence, the model is **about right**."
   ]
  },
  {
   "cell_type": "markdown",
   "metadata": {},
   "source": [
    "Compute accuracy, precision, recall and F1-scores:"
   ]
  },
  {
   "cell_type": "code",
   "execution_count": 52,
   "metadata": {},
   "outputs": [
    {
     "name": "stdout",
     "output_type": "stream",
     "text": [
      "Accuracy: 0.8688888888888889\n",
      "Precision: 0.8698322446387462\n",
      "Recall: 0.8688888888888888\n",
      "F1-Score: 0.8682981036467744\n"
     ]
    }
   ],
   "source": [
    "args = topic_test_labels, predict_class(topic_test_count, w_count)\n",
    "\n",
    "print('Accuracy:', accuracy_score(*args))\n",
    "print('Precision:', precision_score(*args, average='macro'))\n",
    "print('Recall:', recall_score(*args, average='macro'))\n",
    "print('F1-Score:', f1_score(*args, average='macro'))"
   ]
  },
  {
   "cell_type": "markdown",
   "metadata": {},
   "source": [
    "Print the top-10 words for each class respectively."
   ]
  },
  {
   "cell_type": "code",
   "execution_count": 53,
   "metadata": {
    "scrolled": true
   },
   "outputs": [
    {
     "name": "stdout",
     "output_type": "stream",
     "text": [
      "Top 10 Class 1 (World): ['said', 'reuters', 'tuesday', 'ap', 'new', 'afp', 'wednesday', 'monday', 'over', 'president'] \n",
      "\n",
      "Top 10 Class 2 (Sports): ['ap', 'tuesday', 'reuters', 'athens', 'new', 'first', 'wednesday', 'olympic', 'team', 'said'] \n",
      "\n",
      "Top 10 Class 3 (Business): ['reuters', 'said', 'new', 'tuesday', 'company', 'oil', 'more', 'wednesday', 'over', 'about'] \n",
      "\n"
     ]
    }
   ],
   "source": [
    "top10_ids = (-w_count).argsort()[:, :10]\n",
    "\n",
    "print(\n",
    "    f'Top 10 Class 1 (World): {[vocab_id_to_word[id] for id in top10_ids[0]]} \\n'\n",
    ")\n",
    "print(\n",
    "    f'Top 10 Class 2 (Sports): {[vocab_id_to_word[id] for id in top10_ids[1]]} \\n'\n",
    ")\n",
    "print(\n",
    "    f'Top 10 Class 3 (Business): {[vocab_id_to_word[id] for id in top10_ids[2]]} \\n'\n",
    ")"
   ]
  },
  {
   "cell_type": "markdown",
   "metadata": {},
   "source": [
    "### Features Evaluation\n",
    "\n",
    "The top 10 features obtained for each class using **count vectors** are reasonable. Most distinguishable features are:\n",
    "\n",
    "1. World: president\n",
    "2. Sports: athens, team, olympic\n",
    "3. Business: company, oil"
   ]
  },
  {
   "cell_type": "markdown",
   "metadata": {},
   "source": [
    "## Train and Evaluate Multi-class Logistic Regresstion with TF.IDF Vectors"
   ]
  },
  {
   "cell_type": "code",
   "execution_count": 54,
   "metadata": {
    "scrolled": true
   },
   "outputs": [
    {
     "name": "stdout",
     "output_type": "stream",
     "text": [
      "Epoch: 0 | Training loss: 0.7216613877125208 | Validation loss: 0.8796561762011178\n",
      "Epoch: 1 | Training loss: 0.5732100682261018 | Validation loss: 0.7641111956389048\n",
      "Epoch: 2 | Training loss: 0.49377035863697055 | Validation loss: 0.6908691542400103\n",
      "Epoch: 3 | Training loss: 0.44430555137295413 | Validation loss: 0.6395878142758307\n",
      "Epoch: 4 | Training loss: 0.41057206955841585 | Validation loss: 0.6012886245734651\n",
      "Epoch: 5 | Training loss: 0.38611747927519485 | Validation loss: 0.5713468972678108\n",
      "Epoch: 6 | Training loss: 0.36760111800118694 | Validation loss: 0.547183982193356\n",
      "Epoch: 7 | Training loss: 0.3530861584965032 | Validation loss: 0.5271780886441223\n",
      "Epoch: 8 | Training loss: 0.34138522886689704 | Validation loss: 0.5102887736087635\n",
      "Epoch: 9 | Training loss: 0.33180474145198685 | Validation loss: 0.4957813868840507\n",
      "Epoch: 10 | Training loss: 0.3237883357829469 | Validation loss: 0.4831859213043515\n",
      "Epoch: 11 | Training loss: 0.31701151756974283 | Validation loss: 0.4721060633029888\n",
      "Epoch: 12 | Training loss: 0.3111920769196296 | Validation loss: 0.46226633281861684\n",
      "Epoch: 13 | Training loss: 0.3061611449230146 | Validation loss: 0.4534696846428462\n",
      "Epoch: 14 | Training loss: 0.3017634499498516 | Validation loss: 0.44553341904044524\n",
      "Epoch: 15 | Training loss: 0.2978902878322566 | Validation loss: 0.4383475773153043\n",
      "Epoch: 16 | Training loss: 0.29445233103346347 | Validation loss: 0.43179192167759445\n",
      "Epoch: 17 | Training loss: 0.2913836085390561 | Validation loss: 0.42579119375575347\n",
      "Epoch: 18 | Training loss: 0.28863137970457464 | Validation loss: 0.42027121984281385\n",
      "Epoch: 19 | Training loss: 0.28614677081394785 | Validation loss: 0.4151778784104535\n",
      "Epoch: 20 | Training loss: 0.2839002891678337 | Validation loss: 0.4104591522615232\n",
      "Epoch: 21 | Training loss: 0.28184998806060024 | Validation loss: 0.4060762705303559\n",
      "Epoch: 22 | Training loss: 0.27997903501469407 | Validation loss: 0.40198968347415437\n",
      "Epoch: 23 | Training loss: 0.27826582375683234 | Validation loss: 0.3981721013657458\n",
      "Epoch: 24 | Training loss: 0.27668994853239365 | Validation loss: 0.39459251371299553\n",
      "Epoch: 25 | Training loss: 0.27524601132429655 | Validation loss: 0.3912295013213029\n",
      "Epoch: 26 | Training loss: 0.2739076709496832 | Validation loss: 0.388071893939498\n",
      "Epoch: 27 | Training loss: 0.27266755650141156 | Validation loss: 0.38508836604119007\n",
      "Epoch: 28 | Training loss: 0.27151469116302523 | Validation loss: 0.3822723012542653\n",
      "Epoch: 29 | Training loss: 0.2704419241518709 | Validation loss: 0.37961139968871077\n",
      "Epoch: 30 | Training loss: 0.2694400054687701 | Validation loss: 0.37709258741715623\n",
      "Epoch: 31 | Training loss: 0.26849655065408085 | Validation loss: 0.37470494376308766\n",
      "Epoch: 32 | Training loss: 0.26761176013623694 | Validation loss: 0.3724396704522926\n",
      "Epoch: 33 | Training loss: 0.2667809079651415 | Validation loss: 0.3702874590035597\n",
      "Epoch: 34 | Training loss: 0.26599920091018975 | Validation loss: 0.3682392665867102\n",
      "Epoch: 35 | Training loss: 0.2652580201876892 | Validation loss: 0.36629056444841157\n",
      "Epoch: 36 | Training loss: 0.2645581525056726 | Validation loss: 0.36443690460228395\n",
      "Epoch: 37 | Training loss: 0.26389292093163713 | Validation loss: 0.36266558432498897\n",
      "Epoch: 38 | Training loss: 0.2632625797151061 | Validation loss: 0.36097795261378623\n",
      "Epoch: 39 | Training loss: 0.2626658794178356 | Validation loss: 0.35936333694682965\n",
      "Epoch: 40 | Training loss: 0.262107592667451 | Validation loss: 0.3578179571167204\n",
      "Epoch: 41 | Training loss: 0.26158555003504186 | Validation loss: 0.35633898190515806\n",
      "Epoch: 42 | Training loss: 0.2610928517567859 | Validation loss: 0.35492447392111276\n",
      "Epoch: 43 | Training loss: 0.26063211492812255 | Validation loss: 0.35356715144247175\n",
      "Epoch: 44 | Training loss: 0.26020243296906287 | Validation loss: 0.352265003669526\n",
      "Epoch: 45 | Training loss: 0.2597947549456166 | Validation loss: 0.351017052072764\n",
      "Epoch: 46 | Training loss: 0.2594108128651522 | Validation loss: 0.3498153377396113\n",
      "Epoch: 47 | Training loss: 0.2590508116974682 | Validation loss: 0.34866259902147856\n",
      "Epoch: 48 | Training loss: 0.25870849188461426 | Validation loss: 0.3475553277125509\n",
      "Epoch: 49 | Training loss: 0.2583835221851026 | Validation loss: 0.3464910397613905\n",
      "Epoch: 50 | Training loss: 0.25807637950593315 | Validation loss: 0.3454642341847235\n"
     ]
    }
   ],
   "source": [
    "w_tfidf, tr_loss_tfidf, dev_loss_tfidf = SGD(X_tr=topic_train_tfidf,\n",
    "                                             Y_tr=topic_train_labels,\n",
    "                                             X_dev=topic_dev_tfidf,\n",
    "                                             Y_dev=topic_dev_labels,\n",
    "                                             num_classes=3,\n",
    "                                             lr=0.01525,\n",
    "                                             alpha=0.00001,\n",
    "                                             epochs=100)"
   ]
  },
  {
   "cell_type": "markdown",
   "metadata": {},
   "source": [
    "Plot training and validation process and explain if your model overfit, underfit or is about right:"
   ]
  },
  {
   "cell_type": "code",
   "execution_count": 55,
   "metadata": {},
   "outputs": [
    {
     "data": {
      "image/png": "[encoded data removed]",
      "text/plain": [
       "<Figure size 432x288 with 1 Axes>"
      ]
     },
     "metadata": {
      "needs_background": "light"
     },
     "output_type": "display_data"
    }
   ],
   "source": [
    "plt.plot(tr_loss_tfidf, label='Training loss')\n",
    "plt.plot(dev_loss_tfidf, label='Validation loss')\n",
    "\n",
    "plt.xlabel('Epochs')\n",
    "plt.ylabel('Loss')\n",
    "\n",
    "plt.title('Training Monitoring (Multi-class - TFIDF)')\n",
    "\n",
    "plt.legend()\n",
    "\n",
    "plt.show()"
   ]
  },
  {
   "cell_type": "markdown",
   "metadata": {},
   "source": [
    "According to the plot **Training Monitoring (Multi-class - TFIDF)**, \n",
    "\n",
    "1. The training loss decreases as epoch increases and eventually reaches a point of stability\n",
    "2. The validation loss decreases as epoch increases and eventually reaches a point of stability\n",
    "3. The validation loss is slightly higher than the training loss, i.e. the \"generalisation gap\" is small \n",
    "\n",
    "The following techniques are implemented in the Stochastic Gradient Descent algorithm to avoid overfitting of the training data:\n",
    "\n",
    "1. Early stopping\n",
    "2. L2 regularisation\n",
    "\n",
    "Hence, the model is **about right**."
   ]
  },
  {
   "cell_type": "markdown",
   "metadata": {},
   "source": [
    "Compute accuracy, precision, recall and F1-scores:"
   ]
  },
  {
   "cell_type": "code",
   "execution_count": 56,
   "metadata": {},
   "outputs": [
    {
     "name": "stdout",
     "output_type": "stream",
     "text": [
      "Accuracy: 0.8966666666666666\n",
      "Precision: 0.8970314657551683\n",
      "Recall: 0.8966666666666666\n",
      "F1-Score: 0.8960678070376614\n"
     ]
    }
   ],
   "source": [
    "args = topic_test_labels, predict_class(topic_test_tfidf, w_tfidf)\n",
    "\n",
    "print('Accuracy:', accuracy_score(*args))\n",
    "print('Precision:', precision_score(*args, average='macro'))\n",
    "print('Recall:', recall_score(*args, average='macro'))\n",
    "print('F1-Score:', f1_score(*args, average='macro'))"
   ]
  },
  {
   "cell_type": "markdown",
   "metadata": {},
   "source": [
    "Print the top-10 words for each class respectively."
   ]
  },
  {
   "cell_type": "code",
   "execution_count": 57,
   "metadata": {
    "scrolled": false
   },
   "outputs": [
    {
     "name": "stdout",
     "output_type": "stream",
     "text": [
      "Top 10 Class 1 (World): ['said', 'afp', 'ap', 'president', 'tuesday', 'monday', 'new', 'state', 'reuters', 'government'] \n",
      "\n",
      "Top 10 Class 2 (Sports): ['ap', 'athens', 'olympic', 'team', 'first', 'olympics', 'no', 'two', 'season', 'tuesday'] \n",
      "\n",
      "Top 10 Class 3 (Business): ['company', 'said', 'oil', 'new', 'reuters', 'more', 'business', 'million', 'prices', 'about']\n"
     ]
    }
   ],
   "source": [
    "top10_ids = (-w_tfidf).argsort()[:, :10]\n",
    "\n",
    "print(\n",
    "    f'Top 10 Class 1 (World): {[vocab_id_to_word[id] for id in top10_ids[0]]} \\n'\n",
    ")\n",
    "print(\n",
    "    f'Top 10 Class 2 (Sports): {[vocab_id_to_word[id] for id in top10_ids[1]]} \\n'\n",
    ")\n",
    "print(\n",
    "    f'Top 10 Class 3 (Business): {[vocab_id_to_word[id] for id in top10_ids[2]]}'\n",
    ")"
   ]
  },
  {
   "cell_type": "markdown",
   "metadata": {},
   "source": [
    "### Features Evaluation\n",
    "\n",
    "The top 10 features obtained for each class using **TF.IDF vectors** are reasonable. They are more relevant than the features obtained using **count vectors**. Most distinguishable features are:\n",
    "\n",
    "1. World: president, state, government\n",
    "2. Sports: athens, olympic, team, olympics, season\n",
    "3. Business: company, oil. business, million, prices"
   ]
  },
  {
   "cell_type": "markdown",
   "metadata": {},
   "source": [
    "## If we were to apply the classifier we've learned into a different domain such as laptop reviews or restaurant reviews, do you think these features would generalise well?\n",
    "\n",
    "### Count Vectors and TF.IDF Vectors\n",
    "\n",
    "Both count vectors model and TF.IDF vectors **would not generalise well**. The overall explanation is similar to the one in Binary models, with a few differences regarding the top features obtained.\n",
    "\n",
    "1. The top features obtained by the Multi-Class models do not include any sentiment lexicons (e.g. good, bad, etc.).\n",
    "2. Most of the top features apart of general-purpose words (e.g. said, about, etc.) are not applicable to laptop or movie reviews.\n",
    "\n",
    "Therefore, Multi-Class models are less generalised and would have worse performance than the Binary models in the new domains. "
   ]
  },
  {
   "cell_type": "markdown",
   "metadata": {},
   "source": [
    "## Discuss how did you choose model hyperparameters (e.g. learning rate and regularisation strength)? What is the relation between training epochs and learning rate? How does the regularisation strength affect performance?\n",
    "\n",
    "**Note:** Many similar explanations are already written in the hyperparameters discussion for **Binary Logistic Regression**, hence they are not repeated here.\n",
    "\n",
    "Similarly, the initial lower and upper bound of learning rate is set to `0.0001` and `0.1` respectively. The initial lower and upper bound of regularisation strength is set to `0.00001` and `0.01` respectively.\n",
    "\n",
    "\n",
    "### Count Vectors\n",
    "\n",
    "#### Optimising Learning Rate\n",
    "\n",
    "Initial parameters: `lr=0.0001, alpha=0.00001`\n",
    "\n",
    "| Trial | Learning rate | Epochs | Tr. loss | Val. loss | Precision | Recall | F1-Score |\n",
    "|-------|---------------|--------|----------|-----------|-----------|--------|----------|\n",
    "| 0     | 0.0001        | 99     | 0.5631   | 0.6983    | 0.8343    | 0.8333 | 0.8325   |\n",
    "| 1     | 0.0005        | 99     | 0.3693   | 0.4527    | 0.8600    | 0.8588 | 0.8580   |\n",
    "| 2     | 0.001         | 82     | 0.3399   | 0.4035    | 0.8619    | 0.8611 | 0.8603   |\n",
    "| 3     | 0.002         | 61     | 0.3247   | 0.3742    | 0.8650    | 0.8644 | 0.8637   |\n",
    "| 4     | 0.003         | 50     | 0.3192   | 0.3623    | 0.8662    | 0.8655 | 0.8648   |\n",
    "| 5     | 0.004         | 42     | 0.3167   | 0.3566    | 0.8698    | 0.8688 | 0.8682   |\n",
    "| 6     | 0.005         | 38     | 0.3147   | 0.3514    | 0.8688    | 0.8677 | 0.8672   |\n",
    "| 7     | 0.0045        | 40     | 0.3155   | 0.3536    | 0.8687    | 0.8677 | 0.8672   |\n",
    "| 8     | 0.00425       | 41     | 0.3161   | 0.3550    | 0.8698    | 0.8688 | 0.8682   |\n",
    "\n",
    "The optimal `lr` is found to be `0.00425`\n",
    "\n",
    "#### Optimising Regularisation Strength\n",
    "\n",
    "Initial parameters: `lr=0.00425, alpha=0.00001`\n",
    "\n",
    "| Trial | Alpha    | Epochs | Tr. loss | Val. loss | Precision | Recall | F1-Score |\n",
    "|-------|----------|--------|----------|-----------|-----------|--------|----------|\n",
    "| 0     | 0.00001  | 41     | 0.3161   | 0.3550    | 0.8698    | 0.8688 | 0.8682   |\n",
    "| 1     | 0.00002  | 41     | 0.3160   | 0.3552    | 0.8698    | 0.8688 | 0.8682   |\n",
    "| 2     | 0.000015 | 41     | 0.3160   | 0.3551    | 0.8698    | 0.8688 | 0.8682   |\n",
    "| 3     | 0.0001   | 41     | 0.3154   | 0.3565    | 0.8698    | 0.8688 | 0.8682   |\n",
    "\n",
    "No better `alpha` values have been found. The initial `alpha` is considered to be the optimal value.\n",
    "\n",
    "**Conclusion:** Based on the trials above, it can be concluded that the optimal values are `lr=0.00425` and `alpha=0.00001`\n",
    "\n",
    "\n",
    "### TF.IDF Vectors\n",
    "\n",
    "#### Optimising Learning rate\n",
    "\n",
    "Initial parameters: `lr=0.0001, alpha=0.00001`\n",
    "\n",
    "| Trial | Learning rate | Epochs | Tr. loss | Val. loss | Precision | Recall | F1-Score |\n",
    "|-------|---------------|--------|----------|-----------|-----------|--------|----------|\n",
    "| 0     | 0.0001        | 99     | 0.8116   | 0.9398    | 0.8765    | 0.8766 | 0.8758   |\n",
    "| 1     | 0.001         | 99     | 0.3748   | 0.5592    | 0.8882    | 0.8877 | 0.8869   |\n",
    "| 2     | 0.003         | 99     | 0.2849   | 0.4173    | 0.8914    | 0.8911 | 0.8904   |\n",
    "| 3     | 0.005         | 82     | 0.2716   | 0.3877    | 0.8937    | 0.8933 | 0.8927   |\n",
    "| 4     | 0.007         | 72     | 0.2653   | 0.3715    | 0.8946    | 0.8944 | 0.8937   |\n",
    "| 5     | 0.01          | 61     | 0.2609   | 0.3584    | 0.8945    | 0.8944 | 0.8937   |\n",
    "| 6     | 0.011         | 59     | 0.2597   | 0.3546    | 0.8947    | 0.8944 | 0.8938   |\n",
    "| 7     | 0.013         | 54     | 0.2587   | 0.3499    | 0.8958    | 0.8955 | 0.8949   |\n",
    "| 8     | 0.015         | 51     | 0.2579   | 0.3453    | 0.8970    | 0.8966 | 0.8960   |\n",
    "| 9     | 0.017         | 47     | 0.2578   | 0.3430    | 0.8938    | 0.8933 | 0.8927   |\n",
    "| 10    | 0.016         | 49     | 0.2578   | 0.3440    | 0.8959    | 0.8955 | 0.8950   |\n",
    "| 11    | 0.0155        | 50     | 0.2579   | 0.3446    | 0.8959    | 0.8955 | 0.8950   |\n",
    "| 12    | 0.01525       | 50     | 0.2580   | 0.3454    | 0.8970    | 0.8966 | 0.8960   |\n",
    "\n",
    "The optimal `lr` is found to be `0.01525`\n",
    "\n",
    "#### Optimising Regularisation Strength\n",
    "\n",
    "Initial parameters: `lr=0.0152, alpha=0.00001`\n",
    "\n",
    "| Trial | Learning rate | Epochs | Tr. loss | Val. loss | Precision | Recall | F1-Score |\n",
    "|-------|---------------|--------|----------|-----------|-----------|--------|----------|\n",
    "| 0     | 0.00001       | 50     | 0.2580   | 0.3454    | 0.8970    | 0.8966 | 0.8960   |\n",
    "| 1     | 0.00002       | 50     | 0.2578   | 0.3466    | 0.8970    | 0.8966 | 0.8960   |\n",
    "| 2     | 0.000015      | 50     | 0.2579   | 0.3461    | 0.8970    | 0.8966 | 0.8960   |\n",
    "| 3     | 0.0001        | 48     | 0.2572   | 0.3565    | 0.8970    | 0.8966 | 0.8960   |\n",
    "\n",
    "No better `alpha` has been found. The initial `alpha` is considered to be the optimal value.\n",
    "\n",
    "**Conclusion:** Based on the trials above, it can be concluded that the optimal values are `lr=0.01525` and `alpha=0.00001`\n",
    "\n",
    "### Relationship Between Epochs and Learning Rate\n",
    "\n",
    "According to the tables above, it has been shown that the higher the learning rate, the lower the epochs required to converge. This relationship is the same as the one in **Binary Logistic Regression**, hence the type of model does not affect the relationship between epochs and learning rate.\n",
    "\n",
    "### Relationship Between Regularisation Strength and Model Performance\n",
    "\n",
    "According to the tables above, it has been shown that the higher the regularisation strength, the lower the epochs required to converge. Moreover, the training and validation loss increase as the regularisation strength increases. This relationship is the same as the one in **Binary Logistic Regression**. \n",
    "\n",
    "However, no performance improvement is observed in both **Count Vectors** and **TF.IDF Vectors** of this multi-class model. \n",
    "\n",
    "Therefore, there is not enough evidence to state that the relationship between regularisation strength and model performance is consistent across different types of models."
   ]
  },
  {
   "cell_type": "markdown",
   "metadata": {},
   "source": [
    "## Full Results\n",
    "\n",
    "|     LR    |      Precision     |       Recall       |      F1-Score      |\n",
    "|:---------:|:------------------:|:------------------:|:------------------:|\n",
    "| BOW-count | 0.8698296951326174 | 0.8688888888888888 |  0.868323408492766 |\n",
    "| BOW-tfidf | 0.8970314657551683 | 0.8966666666666666 | 0.8960678070376614 |"
   ]
  },
  {
   "cell_type": "markdown",
   "metadata": {},
   "source": [
    "# Justifications for Implementation Choices\n",
    "\n",
    "## Lower Case for N-gram\n",
    "\n",
    "Since the actual sentence structure and word order is not taken into account by the classifier, reducing all n-grams to lower case is a good strategy. It will allow instances of \"*Best*\" at the beginning of a sentence to be considered as \"*best*\". This will also help the model to identify features more accurately.\n",
    "\n",
    "### Performance Improvement\n",
    "\n",
    "Performance improvement is achieved in **Multi-class TFIDF Vectors**, as shown in the following table:\n",
    "\n",
    "|     MLR TFIDF     |      Precision     |       Recall       |      F1-Score      |\n",
    "|:-----------------:|:------------------:|:------------------:|:------------------:|\n",
    "| Without lowercase | 0.8859205236286744 | 0.8855555555555555 | 0.8848282934618362 |\n",
    "|   With lowercase  | 0.8970314657551683 | 0.8966666666666666 | 0.8960678070376614 |\n",
    "\n",
    "### Top 10 Features Weight\n",
    "\n",
    "Without lower case preprocessing:\n",
    "\n",
    "- World: 'The', 'said', 'AFP', 'AP', 'Tuesday', 'Monday', 'President', 'Reuters', 'new', 'people'\n",
    "- Sports: 'AP', 'The', 'Olympic', 'ATHENS', 'first', 'Olympics', 'team', 'two', 'Tuesday', 'season'\n",
    "- Business: 'The', 'company', 'said', 'oil', 'Reuters', 'new', 'more', 'US', 'prices', 'business'\n",
    "\n",
    "With lower case preprocessing:\n",
    "\n",
    "- World: 'said', 'afp', 'ap', 'president', 'tuesday', 'monday', 'new', 'state', 'reuters', 'government'\n",
    "- Sports: 'ap', 'athens', 'olympic', 'team', 'first', 'olympics', 'no', 'two', 'season', 'tuesday'\n",
    "- Business: 'company', 'said', 'oil', 'new', 'reuters', 'more', 'business', 'million', 'prices', 'about'\n",
    "\n",
    "The most noticeable difference is the increases in weight for more important terms in the following classes:\n",
    "\n",
    "- World: 'president', 'state', 'government'\n",
    "- Business: 'business', 'million'\n",
    "\n",
    "\n",
    "## Log Normalisation Scheme for Term Frequency\n",
    "\n",
    "Raw term frequency might not be ideal because: \n",
    "\n",
    "- It is known that a document with `tf = 10` occurrences for a term is more relevant than a document with `tf = 1` occurrence for that term\n",
    "- However, this does not indicate that the document with `tf = 10` is 10 times more relevant than `tf = 1`\n",
    "\n",
    "Hence, relevance does not increase proportionally with term frequency. Using a sublinear function to calculate term frequency will help to reduce the importance of the term that has a high frequency.\n",
    "\n",
    "### Performance Improvement\n",
    "\n",
    "| BLR TF Scheme |      Precision     | Recall |      F1-Score      |\n",
    "|:-------------:|:------------------:|:------:|:------------------:|\n",
    "| Raw frequency | 0.8507462686567164 |  0.855 | 0.8528678304239402 |\n",
    "|   Log scaled  | 0.9025641025641026 |  0.88  | 0.8911392405063291 |\n",
    "\n",
    "| MLR TF Scheme |      Precision     |       Recall       |      F1-Score      |\n",
    "|:-------------:|:------------------:|:------------------:|:------------------:|\n",
    "| Raw frequency | 0.8822875333701315 | 0.8822222222222221 | 0.8816177693062457 |\n",
    "|   Log scaled  | 0.8970314657551683 | 0.8966666666666666 | 0.8960678070376614 |\n",
    "\n",
    "### Top 10 Features Weight\n",
    "\n",
    "The model is able to identify more relevant features using the log normalisation TF weighting scheme. \n",
    "\n",
    "#### Binary Logistic Regression TF.IDF\n",
    "\n",
    "Raw frequency TF weighting scheme:\n",
    "\n",
    "- Positive: 'great', 'fun', 'hilarious', 'terrific', 'overall', 'definitely', 'memorable', 'truman', 'pulp', 'perfectly'\n",
    "\n",
    "- Negative: 'nbsp', 'bad', 'worst', 'boring', 'supposed', 'unfortunately', 'nothing', 'why', 'waste', 'script'\n",
    "\n",
    "Log normalisation TF weighting scheme:\n",
    "\n",
    "- Positive: 'hilarious', 'perfectly', 'terrific', 'great', 'memorable', 'overall', 'definitely', 'perfect', 'excellent', 'fun'\n",
    "\n",
    "- Negative: 'bad', 'worst', 'boring', 'supposed', 'unfortunately', 'ridiculous', 'waste', 'script', 'awful', 'nothing'\n",
    "\n",
    "#### Multi-Class Logistic Regression TF.IDF\n",
    "\n",
    "Raw frequency TF weighting scheme:\n",
    "\n",
    "- World: 'said', 'afp', 'ap', 'president', 'tuesday', 'new', 'monday', 'state', 'reuters', 'government' \n",
    "\n",
    "- Sports: 'ap', 'athens', 'olympic', 'team', 'quot', 'no', 'first', 'olympics', 'tuesday', 'one' \n",
    "\n",
    "- Business: 'company', 'oil', 'said', 'new', 'more', 'reuters', 'business', 'over', 'about', 'up'\n",
    "\n",
    "Log normalisation TF weighting scheme:\n",
    "\n",
    "- World: 'said', 'afp', 'ap', 'president', 'tuesday', 'monday', 'new', 'state', 'reuters', 'government'\n",
    "\n",
    "- Sports: 'ap', 'athens', 'olympic', 'team', 'first', 'olympics', 'no', 'two', 'season', 'tuesday'\n",
    "\n",
    "- Business: 'company', 'said', 'oil', 'new', 'reuters', 'more', 'business', 'million', 'prices', 'about'"
   ]
  }
 ],
 "metadata": {
  "kernelspec": {
   "display_name": "Python 3",
   "language": "python",
   "name": "python3"
  },
  "language_info": {
   "codemirror_mode": {
    "name": "ipython",
    "version": 3
   },
   "file_extension": ".py",
   "mimetype": "text/x-python",
   "name": "python",
   "nbconvert_exporter": "python",
   "pygments_lexer": "ipython3",
   "version": "3.8.1"
  }
 },
 "nbformat": 4,
 "nbformat_minor": 2
}
