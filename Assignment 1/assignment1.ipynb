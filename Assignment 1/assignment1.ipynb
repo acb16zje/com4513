{
 "cells": [
  {
   "cell_type": "markdown",
   "metadata": {},
   "source": [
    "# [COM4513-6513] Assignment 1: Text Classification with Logistic Regression\n",
    "\n",
    "### Instructor: Nikos Aletras\n",
    "\n",
    "\n",
    "The goal of this assignment is to develop and test two text classification systems: \n",
    "\n",
    "- **Task 1:** sentiment analysis, in particular to predict the sentiment of movie review, i.e. positive or negative (binary classification).\n",
    "- **Task 2:** topic classification, to predict whether a news article is about International issues, Sports or Business (multiclass classification).\n",
    "\n",
    "\n",
    "For that purpose, you will implement:\n",
    "\n",
    "- Text processing methods for extracting Bag-Of-Word features, using (1) unigrams, bigrams and trigrams to obtain vector representations of documents. Two vector weighting schemes should be tested: (1) raw frequencies (**3 marks; 1 for each ngram type**); (2) tf.idf (**1 marks**). \n",
    "- Binary Logistic Regression classifiers that will be able to accurately classify movie reviews trained with (1) BOW-count (raw frequencies); and (2) BOW-tfidf (tf.idf weighted) for Task 1. \n",
    "- Multiclass Logistic Regression classifiers that will be able to accurately classify news articles trained with (1) BOW-count (raw frequencies); and (2) BOW-tfidf (tf.idf weighted) for Task 2. \n",
    "- The Stochastic Gradient Descent (SGD) algorithm to estimate the parameters of your Logistic Regression models. Your SGD algorithm should:\n",
    "    - Minimise the Binary Cross-entropy loss function for Task 1 (**3 marks**)\n",
    "    - Minimise the Categorical Cross-entropy loss function for Task 2 (**3 marks**)\n",
    "    - Use L2 regularisation (both tasks) (**1 mark**)\n",
    "    - Perform multiple passes (epochs) over the training data (**1 mark**)\n",
    "    - Randomise the order of training data after each pass (**1 mark**)\n",
    "    - Stop training if the difference between the current and previous validation loss is smaller than a threshold (**1 mark**)\n",
    "    - After each epoch print the training and development loss (**1 mark**)\n",
    "- Discuss how did you choose hyperparameters (e.g. learning rate and regularisation strength)?  (**2 marks; 0.5 for each model in each task**).\n",
    "- After training the LR models, plot the learning process (i.e. training and validation loss in each epoch) using a line plot (**1 mark; 0.5 for both BOW-count and BOW-tfidf LR models in each task**) and discuss if your model overfits/underfits/is about right.\n",
    "- Model interpretability by showing the most important features for each class (i.e. most positive/negative weights). Give the top 10 for each class and comment on whether they make sense (if they don't you might have a bug!).  If we were to apply the classifier we've learned into a different domain such laptop reviews or restaurant reviews, do you think these features would generalise well? Can you propose what features the classifier could pick up as important in the new domain? (**2 marks; 0.5 for BOW-count and BOW-tfidf LR models respectively in each task**)\n",
    "\n",
    "\n",
    "### Data - Task 1 \n",
    "\n",
    "The data you will use for Task 1 are taken from here: [http://www.cs.cornell.edu/people/pabo/movie-review-data/](http://www.cs.cornell.edu/people/pabo/movie-review-data/) and you can find it in the `./data_sentiment` folder in CSV format:\n",
    "\n",
    "- `data_sentiment/train.csv`: contains 1,400 reviews, 700 positive (label: 1) and 700 negative (label: 0) to be used for training.\n",
    "- `data_sentiment/dev.csv`: contains 200 reviews, 100 positive and 100 negative to be used for hyperparameter selection and monitoring the training process.\n",
    "- `data_sentiment/test.csv`: contains 400 reviews, 200 positive and 200 negative to be used for testing.\n",
    "\n",
    "### Data - Task 2\n",
    "\n",
    "The data you will use for Task 2 is a subset of the [AG News Corpus](http://groups.di.unipi.it/~gulli/AG_corpus_of_news_articles.html) and you can find it in the `./data_topic` folder in CSV format:\n",
    "\n",
    "- `data_topic/train.csv`: contains 2,400 news articles, 800 for each class to be used for training.\n",
    "- `data_topic/dev.csv`: contains 150 news articles, 50 for each class to be used for hyperparameter selection and monitoring the training process.\n",
    "- `data_topic/test.csv`: contains 900 news articles, 300 for each class to be used for testing.\n",
    "\n",
    "\n",
    "### Submission Instructions\n",
    "\n",
    "You should submit a Jupyter Notebook file (assignment1.ipynb) and an exported PDF version (you can do it from Jupyter: `File->Download as->PDF via Latex`).\n",
    "\n",
    "You are advised to follow the code structure given in this notebook by completing all given funtions. You can also write any auxilliary/helper functions (and arguments for the functions) that you might need but note that you can provide a full solution without any such functions. Similarly, you can just use only the packages imported below but you are free to use any functionality from the [Python Standard Library](https://docs.python.org/2/library/index.html), NumPy, SciPy and Pandas. You are not allowed to use any third-party library such as Scikit-learn (apart from metric functions already provided), NLTK, Spacy, Keras etc..\n",
    "\n",
    "Please make sure to comment your code. You should also mention if you've used Windows (not recommended) to write and test your code. There is no single correct answer on what your accuracy should be, but correct implementations usually achieve F1-scores around 80\\% or higher. The quality of the analysis of the results is as important as the accuracy itself. \n",
    "\n",
    "This assignment will be marked out of 20. It is worth 20\\% of your final grade in the module.\n",
    "\n",
    "The deadline for this assignment is **23:59 on Fri, 20 Mar 2020** and it needs to be submitted via MOLE. Standard departmental penalties for lateness will be applied. We use a range of strategies to detect [unfair means](https://www.sheffield.ac.uk/ssid/unfair-means/index), including Turnitin which helps detect plagiarism, so make sure you do not plagiarise.\n",
    "\n"
   ]
  },
  {
   "cell_type": "code",
   "execution_count": 126,
   "metadata": {
    "ExecuteTime": {
     "end_time": "2020-02-15T14:31:36.292691Z",
     "start_time": "2020-02-15T14:31:35.549108Z"
    },
    "pycharm": {
     "is_executing": false
    }
   },
   "outputs": [],
   "source": [
    "import pandas as pd\n",
    "import numpy as np\n",
    "from collections import Counter\n",
    "import re\n",
    "import matplotlib.pyplot as plt\n",
    "from sklearn.metrics import accuracy_score, precision_score, recall_score, f1_score\n",
    "import random\n",
    "\n",
    "# fixing random seed for reproducibility\n",
    "random.seed(123)\n",
    "np.random.seed(123)"
   ]
  },
  {
   "cell_type": "markdown",
   "metadata": {},
   "source": [
    "## Load Raw texts and labels into arrays\n",
    "\n",
    "First, you need to load the training, development and test sets from their corresponding CSV files (tip: you can use Pandas dataframes)."
   ]
  },
  {
   "cell_type": "code",
   "execution_count": 2,
   "metadata": {
    "ExecuteTime": {
     "end_time": "2020-02-15T14:17:28.145788Z",
     "start_time": "2020-02-15T14:17:28.066100Z"
    },
    "pycharm": {
     "is_executing": false
    }
   },
   "outputs": [],
   "source": [
    "sentiment_dev = pd.read_csv('data_sentiment/dev.csv', names=['text', 'label'])\n",
    "sentiment_test = pd.read_csv('data_sentiment/test.csv', names=['text', 'label'])\n",
    "sentiment_train = pd.read_csv('data_sentiment/train.csv', names=['text', 'label'])"
   ]
  },
  {
   "cell_type": "markdown",
   "metadata": {},
   "source": [
    "If you use Pandas you can see a sample of the data."
   ]
  },
  {
   "cell_type": "code",
   "execution_count": 3,
   "metadata": {
    "ExecuteTime": {
     "end_time": "2020-02-15T14:17:28.900892Z",
     "start_time": "2020-02-15T14:17:28.891221Z"
    },
    "pycharm": {
     "is_executing": false
    }
   },
   "outputs": [
    {
     "data": {
      "text/html": [
       "<div>\n",
       "<style scoped>\n",
       "    .dataframe tbody tr th:only-of-type {\n",
       "        vertical-align: middle;\n",
       "    }\n",
       "\n",
       "    .dataframe tbody tr th {\n",
       "        vertical-align: top;\n",
       "    }\n",
       "\n",
       "    .dataframe thead th {\n",
       "        text-align: right;\n",
       "    }\n",
       "</style>\n",
       "<table border=\"1\" class=\"dataframe\">\n",
       "  <thead>\n",
       "    <tr style=\"text-align: right;\">\n",
       "      <th></th>\n",
       "      <th>text</th>\n",
       "      <th>label</th>\n",
       "    </tr>\n",
       "  </thead>\n",
       "  <tbody>\n",
       "    <tr>\n",
       "      <th>0</th>\n",
       "      <td>note : some may consider portions of the follo...</td>\n",
       "      <td>1</td>\n",
       "    </tr>\n",
       "    <tr>\n",
       "      <th>1</th>\n",
       "      <td>note : some may consider portions of the follo...</td>\n",
       "      <td>1</td>\n",
       "    </tr>\n",
       "    <tr>\n",
       "      <th>2</th>\n",
       "      <td>every once in a while you see a film that is s...</td>\n",
       "      <td>1</td>\n",
       "    </tr>\n",
       "    <tr>\n",
       "      <th>3</th>\n",
       "      <td>when i was growing up in 1970s , boys in my sc...</td>\n",
       "      <td>1</td>\n",
       "    </tr>\n",
       "    <tr>\n",
       "      <th>4</th>\n",
       "      <td>the muppet movie is the first , and the best m...</td>\n",
       "      <td>1</td>\n",
       "    </tr>\n",
       "  </tbody>\n",
       "</table>\n",
       "</div>"
      ],
      "text/plain": [
       "                                                text  label\n",
       "0  note : some may consider portions of the follo...      1\n",
       "1  note : some may consider portions of the follo...      1\n",
       "2  every once in a while you see a film that is s...      1\n",
       "3  when i was growing up in 1970s , boys in my sc...      1\n",
       "4  the muppet movie is the first , and the best m...      1"
      ]
     },
     "execution_count": 3,
     "metadata": {},
     "output_type": "execute_result"
    }
   ],
   "source": [
    "sentiment_train.head()"
   ]
  },
  {
   "cell_type": "markdown",
   "metadata": {},
   "source": [
    "The next step is to put the raw texts into Python lists and their corresponding labels into NumPy arrays:\n"
   ]
  },
  {
   "cell_type": "code",
   "execution_count": 4,
   "metadata": {
    "ExecuteTime": {
     "end_time": "2020-02-15T14:17:31.115577Z",
     "start_time": "2020-02-15T14:17:31.108038Z"
    },
    "pycharm": {
     "is_executing": false
    }
   },
   "outputs": [],
   "source": [
    "sentiment_dev_texts = list(sentiment_dev['text'])\n",
    "sentiment_dev_labels = np.array(sentiment_dev['label'])\n",
    "\n",
    "sentiment_test_texts = list(sentiment_test['text'])\n",
    "sentiment_test_labels = np.array(sentiment_test['label'])\n",
    "\n",
    "sentiment_train_texts = list(sentiment_train['text'])\n",
    "sentiment_train_labels = np.array(sentiment_train['label'])"
   ]
  },
  {
   "cell_type": "markdown",
   "metadata": {},
   "source": [
    "# Bag-of-Words Representation \n",
    "\n",
    "    \n",
    "To train and test Logisitc Regression models, you first need to obtain vector representations for all documents given a vocabulary of features (unigrams, bigrams, trigrams).\n",
    "\n",
    "\n",
    "## Text Pre-Processing Pipeline\n",
    "\n",
    "To obtain a vocabulary of features, you should: \n",
    "- tokenise all texts into a list of unigrams (tip: using a regular expression) \n",
    "- remove stop words (using the one provided or one of your preference) \n",
    "- compute bigrams, trigrams given the remaining unigrams\n",
    "- remove ngrams appearing in less than K documents\n",
    "- use the remaining to create a vocabulary of unigrams, bigrams and trigrams (you can keep top N if you encounter memory issues).\n"
   ]
  },
  {
   "cell_type": "code",
   "execution_count": 5,
   "metadata": {
    "ExecuteTime": {
     "end_time": "2020-02-15T14:17:31.860420Z",
     "start_time": "2020-02-15T14:17:31.855439Z"
    },
    "pycharm": {
     "is_executing": false
    }
   },
   "outputs": [],
   "source": [
    "stop_words = [\n",
    "    'a', 'in', 'on', 'at', 'and', 'or', 'to', 'the', 'of', 'an', 'by', 'as',\n",
    "    'is', 'was', 'were', 'been', 'be', 'are', 'for', 'this', 'that', 'these',\n",
    "    'those', 'you', 'i', 'it', 'he', 'she', 'we', 'they'\n",
    "    'will', 'have', 'has', 'do', 'did', 'can', 'could', 'who', 'which', 'what',\n",
    "    'his', 'her', 'they', 'them', 'from', 'with', 'its'\n",
    "]"
   ]
  },
  {
   "cell_type": "markdown",
   "metadata": {},
   "source": [
    "### N-gram extraction from a document\n",
    "\n",
    "You first need to implement the `extract_ngrams` function. It takes as input:\n",
    "- `x_raw`: a string corresponding to the raw text of a document\n",
    "- `ngram_range`: a tuple of two integers denoting the type of ngrams you want to extract, e.g. (1,2) denotes extracting unigrams and bigrams.\n",
    "- `token_pattern`: a string to be used within a regular expression to extract all tokens. Note that data is already tokenised so you could opt for a simple white space tokenisation.\n",
    "- `stop_words`: a list of stop words\n",
    "- `vocab`: a given vocabulary. It should be used to extract specific features.\n",
    "\n",
    "and returns:\n",
    "\n",
    "- a list of all extracted features.\n",
    "\n",
    "See the examples below to see how this function should work."
   ]
  },
  {
   "cell_type": "code",
   "execution_count": 116,
   "metadata": {
    "ExecuteTime": {
     "end_time": "2020-02-15T14:17:33.169090Z",
     "start_time": "2020-02-15T14:17:33.161268Z"
    },
    "pycharm": {
     "is_executing": false
    }
   },
   "outputs": [],
   "source": [
    "def extract_ngrams(x_raw, ngram_range=(1, 3), token_pattern=r'\\b[A-Za-z][A-Za-z]+\\b', stop_words=None, vocab=None):\n",
    "    if stop_words is None:\n",
    "        stop_words = []\n",
    "\n",
    "    if vocab is None:\n",
    "        vocab = set()\n",
    "\n",
    "    tokens = [word for word in re.findall(token_pattern, x_raw) if word not in stop_words]\n",
    "\n",
    "    ngrams = []\n",
    "\n",
    "    for n in range(ngram_range[0], ngram_range[1] + 1):\n",
    "        if n == 1:\n",
    "            # Create unigram by concatenating list\n",
    "            ngrams += tokens\n",
    "        else:\n",
    "            # Create bigram / trigram by unzipping list\n",
    "            ngrams += zip(*(tokens[i:] for i in range(n)))\n",
    "        \n",
    "    \n",
    "    return list(set(ngrams) & vocab) if vocab else ngrams"
   ]
  },
  {
   "cell_type": "code",
   "execution_count": 117,
   "metadata": {
    "ExecuteTime": {
     "end_time": "2020-02-15T14:17:33.680114Z",
     "start_time": "2020-02-15T14:17:33.675339Z"
    }
   },
   "outputs": [
    {
     "data": {
      "text/plain": [
       "['great',\n",
       " 'movie',\n",
       " 'watch',\n",
       " ('great', 'movie'),\n",
       " ('movie', 'watch'),\n",
       " ('great', 'movie', 'watch')]"
      ]
     },
     "execution_count": 117,
     "metadata": {},
     "output_type": "execute_result"
    }
   ],
   "source": [
    "extract_ngrams(\"this is a great movie to watch\", \n",
    "               ngram_range=(1,3), \n",
    "               stop_words=stop_words)"
   ]
  },
  {
   "cell_type": "code",
   "execution_count": 118,
   "metadata": {
    "ExecuteTime": {
     "end_time": "2020-02-15T14:17:34.278189Z",
     "start_time": "2020-02-15T14:17:34.273722Z"
    }
   },
   "outputs": [
    {
     "data": {
      "text/plain": [
       "['great', ('great', 'movie')]"
      ]
     },
     "execution_count": 118,
     "metadata": {},
     "output_type": "execute_result"
    }
   ],
   "source": [
    "extract_ngrams(\"this is a great movie to watch\", \n",
    "               ngram_range=(1,2), \n",
    "               stop_words=stop_words, \n",
    "               vocab=set(['great',  ('great','movie')]))"
   ]
  },
  {
   "cell_type": "markdown",
   "metadata": {},
   "source": [
    "Note that it is OK to represent n-grams using lists instead of tuples: e.g. `['great', ['great', 'movie']]`"
   ]
  },
  {
   "cell_type": "markdown",
   "metadata": {},
   "source": [
    "### Create a vocabulary of n-grams\n",
    "\n",
    "Then the `get_vocab` function will be used to (1) create a vocabulary of ngrams; (2) count the document frequencies of ngrams; (3) their raw frequency. It takes as input:\n",
    "- `X_raw`: a list of strings each corresponding to the raw text of a document\n",
    "- `ngram_range`: a tuple of two integers denoting the type of ngrams you want to extract, e.g. (1,2) denotes extracting unigrams and bigrams.\n",
    "- `token_pattern`: a string to be used within a regular expression to extract all tokens. Note that data is already tokenised so you could opt for a simple white space tokenisation.\n",
    "- `stop_words`: a list of stop words\n",
    "- `vocab`: a given vocabulary. It should be used to extract specific features.\n",
    "- `min_df`: keep ngrams with a minimum document frequency.\n",
    "- `keep_topN`: keep top-N more frequent ngrams.\n",
    "\n",
    "and returns:\n",
    "\n",
    "- `vocab`: a set of the n-grams that will be used as features.\n",
    "- `df`: a Counter (or dict) that contains ngrams as keys and their corresponding document frequency as values.\n",
    "- `ngram_counts`: counts of each ngram in vocab\n",
    "\n",
    "Hint: it should make use of the `extract_ngrams` function."
   ]
  },
  {
   "cell_type": "code",
   "execution_count": 96,
   "metadata": {
    "ExecuteTime": {
     "end_time": "2020-02-15T14:17:35.821240Z",
     "start_time": "2020-02-15T14:17:35.814722Z"
    }
   },
   "outputs": [
    {
     "name": "stdout",
     "output_type": "stream",
     "text": [
      "5000\n",
      "\n",
      "['scene', ('their', 'own'), 'loose', 'painful', 'hunt', ('based', 'novel'), 'sports', 'longer', 'committed', 'phone', 'heavy', 'selling', 'angeles', 'lose', 'ages', 'compare', ('couldn', 'help'), ('trust', 'me'), 'somebody', 'child', ('heavy', 'handed'), 'lie', ('don', 'want'), ('like', 'him'), 'foster', 'professional', ('only', 'two'), 'children', 'world', 'grand', 'frightened', 'stupidity', 'justice', 'porter', 'art', 're', 'meanwhile', 'fallen', ('just', 'right'), 'remarkably', ('whole', 'lot'), ('least', 'bit'), 'exceptions', 'fifteen', 'budget', 'prince', 'further', ('all', 'over'), 'line', 'everett', 'assault', 'frequency', 'especially', 'predictably', 'cynical', 'either', 'tales', ('john', 'carpenter'), 'aside', 'cards', 'violence', 'byrne', 'struggles', 'bag', 'agent', 'really', ('woody', 'allen'), 'mulder', 'student', 'eventually', 'investigation', 'city', ('kung', 'fu'), ('come', 'out'), 'makeup', 'officer', ('one', 'two'), 'danny', 'setup', 'colors', 'how', ('tim', 'roth'), 'boyfriend', ('fast', 'paced'), ('there', 'more'), 'brutally', 'ever', 'opinion', 'history', 'amanda', ('both', 'films'), ('much', 'time'), 'piano', 'costume', ('see', 'if'), 'christina', ('every', 'other'), ('city', 'angels'), 'drive', 'jackie']\n",
      "\n",
      "[('but', 1334), ('one', 1247), ('film', 1231), ('not', 1170), ('all', 1117), ('movie', 1095), ('out', 1080), ('so', 1047), ('there', 1046), ('like', 1043)]\n"
     ]
    }
   ],
   "source": [
    "def get_vocab(X_raw, ngram_range=(1,3), token_pattern=r'\\b[A-Za-z][A-Za-z]+\\b', min_df=0, keep_topN=None, stop_words=None):\n",
    "    if stop_words is None:\n",
    "        stop_words = []\n",
    "    \n",
    "    vocab = set()\n",
    "    df = Counter()\n",
    "    ngram_counts = Counter()\n",
    "    \n",
    "    # A list containing each document's ngrams as sublist, e.g. [ [ngram, ngram, ...], ..., ]\n",
    "    ngram_lists = (extract_ngrams(text, ngram_range, token_pattern, stop_words) for text in X_raw)\n",
    "    \n",
    "    for ngram_list in ngram_lists:\n",
    "        # Count document frequency\n",
    "        for ngram in set(ngram_list):\n",
    "            df[ngram] += 1\n",
    "        \n",
    "        # Count ngram frequency\n",
    "        for ngram in ngram_list\n",
    "            if df[ngram] >= min_df:\n",
    "                ngram_counts[ngram] += 1\n",
    "    \n",
    "    ngram_counts = ngram_counts.most_common(keep_topN)\n",
    "    \n",
    "    # Extract ngram into vocab set\n",
    "    vocab = {ngram for (ngram, _) in ngram_counts}\n",
    "    \n",
    "    return vocab, df, ngram_counts\n",
    "\n",
    "vocab, df, ngram_counts = get_vocab(sentiment_train_texts, ngram_range=(1,3), keep_topN=5000, stop_words=stop_words)\n",
    "print(len(vocab))\n",
    "print()\n",
    "print(list(vocab)[:100])\n",
    "print()\n",
    "print(df.most_common()[:10])"
   ]
  },
  {
   "cell_type": "markdown",
   "metadata": {},
   "source": [
    "Now you should use `get_vocab` to create your vocabulary and get document and raw frequencies of n-grams:"
   ]
  },
  {
   "cell_type": "code",
   "execution_count": 10,
   "metadata": {
    "ExecuteTime": {
     "end_time": "2020-02-15T14:17:39.319793Z",
     "start_time": "2020-02-15T14:17:36.836545Z"
    }
   },
   "outputs": [
    {
     "name": "stdout",
     "output_type": "stream",
     "text": [
      "5000\n",
      "\n",
      "['manages', 'questions', 'covered', 'body', 'ron', 'flair', 'drunken', 'approach', 'etc', 'allowing', 'lebowski', 'strong', 'model', 'category', 'family', 'couldn', 'argento', 'why', 'shown', ('doesn', 'work'), 'ocean', ('lot', 'more'), 'lou', 'attorney', 'kick', 'thinking', 'worth', 'larger', ('waste', 'time'), ('back', 'forth'), 'roles', 'adventures', ('million', 'dollars'), 'critics', 'according', ('ghost', 'dog'), 'outside', 'protect', ('last', 'time'), ('but', 'so'), 'creative', 'sell', 'pile', 'needless', 'immediately', 'screens', 'cards', 'blonde', 'meets', 'place', 'needs', 'needed', 'teacher', 'conceived', 'competition', 'powerful', 'expected', ('first', 'movie'), ('but', 'least'), 'gave', 'pleasures', 'spectacular', 'safe', 'wishes', 'stuff', ('there', 'something'), 'robert', 'kid', 'latest', ('bad', 'guy'), 'comet', 'street', 'intelligent', 'allow', ('tim', 'roth'), ('production', 'design'), 'living', 'abyss', 'clean', ('makes', 'him'), 'aware', 'footage', 'vicious', 'sharon', 'genuinely', 'south', 'draw', 'wall', ('will', 'smith'), 'romeo', ('scenes', 'but'), 'sometimes', 'friend', 'millionaire', 'families', 'technique', 'spirit', ('not', 'going'), 'horrifying', 'national']\n",
      "\n",
      "[('but', 1334), ('one', 1247), ('film', 1231), ('not', 1170), ('all', 1117), ('movie', 1095), ('out', 1080), ('so', 1047), ('there', 1046), ('like', 1043)]\n"
     ]
    }
   ],
   "source": [
    "vocab, df, ngram_counts = get_vocab(sentiment_train_texts, ngram_range=(1,3), keep_topN=5000, stop_words=stop_words)\n",
    "print(len(vocab))\n",
    "print()\n",
    "print(list(vocab)[:100])\n",
    "print()\n",
    "print(df.most_common()[:10])"
   ]
  },
  {
   "cell_type": "markdown",
   "metadata": {},
   "source": [
    "Then, you need to create vocabulary id -> word and id -> word dictionaries for reference:"
   ]
  },
  {
   "cell_type": "code",
   "execution_count": 102,
   "metadata": {
    "ExecuteTime": {
     "end_time": "2020-02-15T14:17:39.326811Z",
     "start_time": "2020-02-15T14:17:39.322256Z"
    }
   },
   "outputs": [
    {
     "name": "stdout",
     "output_type": "stream",
     "text": [
      "{0: 'scene', 1: ('their', 'own'), 2: 'loose', 3: 'painful', 4: 'hunt', 5: ('based', 'novel'), 6: 'sports', 7: 'longer', 8: 'committed', 9: 'phone', 10: 'heavy', 11: 'selling', 12: 'angeles', 13: 'lose', 14: 'ages', 15: 'compare', 16: ('couldn', 'help'), 17: ('trust', 'me'), 18: 'somebody', 19: 'child', 20: ('heavy', 'handed'), 21: 'lie', 22: ('don', 'want'), 23: ('like', 'him'), 24: 'foster', 25: 'professional', 26: ('only', 'two'), 27: 'children', 28: 'world', 29: 'grand', 30: 'frightened', 31: 'stupidity', 32: 'justice', 33: 'porter', 34: 'art', 35: 're', 36: 'meanwhile', 37: 'fallen', 38: ('just', 'right'), 39: 'remarkably', 40: ('whole', 'lot'), 41: ('least', 'bit'), 42: 'exceptions', 43: 'fifteen', 44: 'budget', 45: 'prince', 46: 'further', 47: ('all', 'over'), 48: 'line', 49: 'everett', 50: 'assault', 51: 'frequency', 52: 'especially', 53: 'predictably', 54: 'cynical', 55: 'either', 56: 'tales', 57: ('john', 'carpenter'), 58: 'aside', 59: 'cards', 60: 'violence', 61: 'byrne', 62: 'struggles', 63: 'bag', 64: 'agent', 65: 'really', 66: ('woody', 'allen'), 67: 'mulder', 68: 'student', 69: 'eventually', 70: 'investigation', 71: 'city', 72: ('kung', 'fu'), 73: ('come', 'out'), 74: 'makeup', 75: 'officer', 76: ('one', 'two'), 77: 'danny', 78: 'setup', 79: 'colors', 80: 'how', 81: ('tim', 'roth'), 82: 'boyfriend', 83: ('fast', 'paced'), 84: ('there', 'more'), 85: 'brutally', 86: 'ever', 87: 'opinion', 88: 'history', 89: 'amanda', 90: ('both', 'films'), 91: ('much', 'time'), 92: 'piano', 93: 'costume', 94: ('see', 'if'), 95: 'christina', 96: ('every', 'other'), 97: ('city', 'angels'), 98: 'drive', 99: 'jackie', 100: 'saved', 101: 'wait', 102: 'forty', 103: ('new', 'york'), 104: 'got', 105: 'scorsese', 106: ('out', 'way'), 107: 'care', 108: ('but', 'never'), 109: 'directors', 110: 'christ', 111: 'niro', 112: ('if', 'weren'), 113: 'memory', 114: 'characterization', 115: 'unfortunate', 116: 'word', 117: 'probably', 118: 'jan', 119: 'length', 120: 'shadow', 121: 'guest', 122: ('should', 'not'), 123: 'capture', 124: 'final', 125: 'rob', 126: 'throw', 127: 'allow', 128: 'overcome', 129: 'interaction', 130: 'los', 131: ('but', 'instead'), 132: ('horror', 'film'), 133: 'accent', 134: 'ideal', 135: 'trip', 136: 'note', 137: ('production', 'values'), 138: 'christmas', 139: 'gun', 140: 'dollars', 141: 'master', 142: 'sequels', 143: 'rely', 144: 'animation', 145: 'international', 146: 'depressed', 147: 'discovered', 148: 'ordell', 149: 'blood', 150: 'beating', 151: 'existenz', 152: 'itself', 153: 'speaking', 154: 'shares', 155: 'low', 156: ('watching', 'film'), 157: 'apartment', 158: 'blockbuster', 159: 'buzz', 160: ('other', 'actors'), 161: 'project', 162: ('how', 'much'), 163: 'energetic', 164: 'serving', 165: 'colonel', 166: 'billy', 167: 'giving', 168: 'circumstances', 169: 'pre', 170: 'remember', 171: 'fbi', 172: ('also', 'good'), 173: ('many', 'scenes'), 174: 'henstridge', 175: 'occur', 176: ('very', 'bad'), 177: ('great', 'deal'), 178: 'rule', 179: 'fly', 180: 'inability', 181: 'ruthless', 182: 'free', 183: 'england', 184: 'watchable', 185: 'nose', 186: ('any', 'other'), 187: 'joan', 188: 'girls', 189: ('independence', 'day'), 190: ('feels', 'like'), 191: 'remake', 192: 'included', 193: 'ruined', 194: 'plots', 195: 'nick', 196: 'release', 197: ('all', 'while'), 198: ('go', 'into'), 199: 'vacation', 200: 'months', 201: 'engaged', 202: ('fairy', 'tale'), 203: ('seen', 'before'), 204: 'everything', 205: ('other', 'characters'), 206: 'drives', 207: ('first', 'hour'), 208: 'gets', 209: 'me', 210: 'poorly', 211: 'run', 212: 'natasha', 213: ('john', 'woo'), 214: 'filmmakers', 215: ('when', 're'), 216: ('neve', 'campbell'), 217: 'culture', 218: 'screening', 219: 'wedding', 220: 'directorial', 221: 'class', 222: 'ultimate', 223: 'michelle', 224: 'figures', 225: ('get', 'away'), 226: 'crafted', 227: 'pretty', 228: 'letter', 229: ('close', 'ups'), 230: 'todd', 231: 'torn', 232: ('lot', 'more'), 233: 'jordan', 234: 'simple', 235: 'football', 236: 'terrifying', 237: 'cusack', 238: 'familiar', 239: 'unusual', 240: 'reese', 241: 'scenario', 242: ('chicken', 'run'), 243: 'house', 244: 'brilliantly', 245: 'gere', 246: 'surprisingly', 247: 'diaz', 248: 'seen', 249: 'emotions', 250: 'rescue', 251: ('after', 'seeing'), 252: 'saturday', 253: 'isn', 254: 'saving', 255: 'citizens', 256: 'london', 257: ('jar', 'jar'), 258: 'denzel', 259: ('while', 'film'), 260: 'humour', 261: 'twists', 262: ('no', 'idea'), 263: ('little', 'mermaid'), 264: 'bont', 265: 'happy', 266: 'portrays', 267: 'synopsis', 268: 'pulling', 269: 'currently', 270: 'genuine', 271: 'listen', 272: 'shrek', 273: 'martin', 274: 'cliched', 275: ('more', 'than'), 276: 'entertained', 277: 'cool', 278: 'arts', 279: 'war', 280: 'multiple', 281: 'persona', 282: 'larry', 283: 'trio', 284: 'boys', 285: ('nothing', 'more', 'than'), 286: 'suits', 287: 'gloria', 288: 'enormous', 289: 'willis', 290: ('scenes', 'where'), 291: 'made', 292: 'schwarzenegger', 293: ('good', 'film'), 294: 'immensely', 295: 'honor', 296: ('probably', 'best'), 297: 'government', 298: 'let', 299: 'going', 300: 'wants', 301: 'strong', 302: 'matrix', 303: 'writing', 304: 'entertainment', 305: 'brad', 306: ('tim', 'burton'), 307: ('production', 'design'), 308: ('if', 'only'), 309: 'horribly', 310: 'goodman', 311: ('no', 'reason'), 312: 'vehicle', 313: 'oldman', 314: ('good', 'thing'), 315: 'pain', 316: 'cops', 317: 'reaction', 318: 'if', 319: 'disaster', 320: 'expected', 321: 'independent', 322: 'below', 323: 'directing', 324: 'disco', 325: 'single', 326: 'join', 327: 'older', 328: 'slight', 329: 'fall', 330: 'darth', 331: 'warriors', 332: 'triumph', 333: 'remains', 334: 'academy', 335: ('there', 'little'), 336: 'choreographed', 337: 'rarely', 338: 'consistently', 339: ('only', 'way'), 340: 'bland', 341: ('going', 'through'), 342: 'beauty', 343: 'crap', 344: 'handled', 345: 'madness', 346: 'entertain', 347: 'knock', 348: ('there', 'several'), 349: 'fifth', 350: 'right', 351: 'stereotypes', 352: 'terrific', 353: 'themes', 354: 'scientists', 355: 'angle', 356: ('would', 'better'), 357: 'contrast', 358: ('get', 'see'), 359: ('wedding', 'singer'), 360: ('most', 'interesting'), 361: 'store', 362: 'jackson', 363: 'inspiration', 364: 'often', 365: 'reasons', 366: 'code', 367: 'ice', 368: 'featuring', 369: 'credit', 370: 'money', 371: 'amusing', 372: ('just', 'another'), 373: 'butler', 374: 'conclusion', 375: ('best', 'friend'), 376: ('movie', 'where'), 377: 'comedies', 378: 'early', 379: 'section', 380: 'exists', 381: 'walls', 382: 'secretly', 383: 'cookie', 384: 'fits', 385: 'situations', 386: ('sets', 'out'), 387: 'jar', 388: 'ashley', 389: 'media', 390: 'share', 391: 'forgettable', 392: ('may', 'not'), 393: 'highlight', 394: 'standards', 395: 'stephen', 396: 'sight', 397: 'allows', 398: 'wearing', 399: 'james', 400: ('than', 'one'), 401: 'quick', 402: 'needless', 403: 'age', 404: 'gonna', 405: 'adventures', 406: 'glass', 407: 'escape', 408: 'folks', 409: 'sounds', 410: 'melodramatic', 411: 'liked', 412: 'diamond', 413: 'honestly', 414: ('there', 'but'), 415: ('does', 'good'), 416: 'harry', 417: 'slapstick', 418: ('prinze', 'jr'), 419: 'statement', 420: 'admire', 421: 'witty', 422: 'title', 423: 'porn', 424: ('but', 'after'), 425: 'planet', 426: 'nevertheless', 427: 'pay', 428: 'historical', 429: 'speed', 430: 'ethan', 431: 'went', 432: 'suppose', 433: 'neat', 434: 'freedom', 435: ('wonder', 'if'), 436: 'games', 437: 'west', 438: 'any', 439: 'discover', 440: ('love', 'interest'), 441: 'constantly', 442: 'natalie', 443: 'but', 444: 'dialog', 445: 'deadly', 446: 'choose', 447: 'hour', 448: ('make', 'up'), 449: 'variety', 450: ('if', 'film'), 451: ('film', 'all'), 452: 'intentions', 453: 'talking', 454: 'meat', 455: 'masterpiece', 456: 'powerful', 457: ('like', 'all'), 458: 'count', 459: 'belongs', 460: ('jurassic', 'park'), 461: ('some', 'may'), 462: 'finished', 463: 'roman', 464: ('american', 'pie'), 465: 'oliver', 466: 'catherine', 467: 'storytelling', 468: ('few', 'years'), 469: 'sixth', 470: 'male', 471: 'post', 472: ('little', 'more', 'than'), 473: ('too', 'much'), 474: 'portrayed', 475: 'safety', 476: 'believable', 477: 'essential', 478: 'leave', 479: ('las', 'vegas'), 480: 'adapted', 481: ('some', 'other'), 482: ('thin', 'red', 'line'), 483: 'prominent', 484: 'eddie', 485: 'wannabe', 486: ('deep', 'impact'), 487: 'independence', 488: 'ann', 489: 'horrifying', 490: ('not', 'seen'), 491: 'hearts', 492: ('men', 'black'), 493: 'connection', 494: ('real', 'world'), 495: 'zero', 496: 'otherwise', 497: 'whatsoever', 498: ('hour', 'half'), 499: ('falls', 'love'), 500: 'biggest', 501: ('not', 'too'), 502: 'butt', 503: 'worker', 504: ('more', 'more'), 505: ('thing', 'about'), 506: 'kelly', 507: ('chemistry', 'between'), 508: 'ape', 509: 'saw', 510: 'directs', 511: 'acceptable', 512: ('very', 'few'), 513: 'luke', 514: ('so', 'when'), 515: ('michael', 'keaton'), 516: ('get', 'him'), 517: 'learning', 518: 'ned', 519: 'major', 520: 'draw', 521: 'legs', 522: 'computer', 523: 'version', 524: 'craven', 525: 'practically', 526: 'thompson', 527: 'hedwig', 528: 'musical', 529: ('big', 'lebowski'), 530: 'taken', 531: 'mirror', 532: ('there', 'few'), 533: 'chose', 534: 'meg', 535: 'enhanced', 536: 'include', 537: ('but', 'their'), 538: 'obnoxious', 539: 'respective', 540: 'tale', 541: 'consequently', 542: 'coen', 543: 'gangster', 544: 'girl', 545: 'erotic', 546: 'anything', 547: 'shoot', 548: ('much', 'like'), 549: 'shows', 550: 'clumsy', 551: 'bug', 552: 'land', 553: 'lebowski', 554: 'dress', 555: 'drew', 556: 'alicia', 557: 'starship', 558: 'dancing', 559: 'sequel', 560: 'full', 561: ('sandra', 'bullock'), 562: 'strangers', 563: 'introduces', 564: 'prime', 565: 'woody', 566: 'ups', 567: ('very', 'good'), 568: 'role', 569: 'awards', 570: 'remarkable', 571: ('saturday', 'night'), 572: 'gattaca', 573: ('looked', 'like'), 574: 'about', 575: 'humorous', 576: 'tremendous', 577: 'theater', 578: 'comic', 579: 'where', 580: ('young', 'woman'), 581: 'main', 582: 'felt', 583: 'technical', 584: 'provoking', 585: ('up', 'some'), 586: 'wisdom', 587: 'mysterious', 588: 'showgirls', 589: 'cold', 590: 'ride', 591: 'designed', 592: ('van', 'damme'), 593: ('time', 'but'), 594: 'attracted', 595: 'ignored', 596: 'apes', 597: ('going', 'happen'), 598: 'gibson', 599: 'monster', 600: 'spice', 601: ('film', 'festival'), 602: 'hokey', 603: ('make', 'good'), 604: 'flawless', 605: 'mention', 606: 'however', 607: ('best', 'film'), 608: 'federal', 609: ('george', 'clooney'), 610: 'eager', 611: 'writer', 612: 'characters', 613: 'fat', 614: 'randy', 615: 'virtual', 616: 'not', 617: ('so', 'long'), 618: 'foreign', 619: ('after', 'another'), 620: 'barrymore', 621: 'francisco', 622: 'thief', 623: 'claude', 624: 'murderer', 625: ('films', 'but'), 626: 'classics', 627: ('computer', 'generated'), 628: 'fairy', 629: ('any', 'more'), 630: ('movie', 'just'), 631: 'roth', 632: ('small', 'town'), 633: 'singing', 634: 'animals', 635: 'sitting', 636: 'hank', 637: 'some', 638: ('never', 'quite'), 639: 'performers', 640: 'heart', 641: 'sexy', 642: 'occurs', 643: 'williamson', 644: 'believing', 645: ('better', 'off'), 646: ('one', 'big'), 647: 'million', 648: ('best', 'thing'), 649: 'exploring', 650: 'party', 651: 'convinced', 652: 'charm', 653: 'chase', 654: ('comes', 'off'), 655: 'immediately', 656: 'would', 657: 'subtle', 658: ('top', 'notch'), 659: 'dark', 660: 'weapons', 661: 'concept', 662: 'writers', 663: 'existence', 664: ('movie', 'would'), 665: 'continues', 666: 'convenient', 667: 'thanks', 668: 'wide', 669: ('because', 're'), 670: 'whole', 671: 'rating', 672: 'election', 673: 'beast', 674: 'maybe', 675: 'bud', 676: 'nine', 677: 'resolution', 678: 'created', 679: 'astronauts', 680: 'superb', 681: ('during', 'film'), 682: ('ben', 'affleck'), 683: ('feel', 'good'), 684: ('say', 'about'), 685: 'cry', 686: 'remote', 687: 'urban', 688: 'interested', 689: 'looks', 690: ('fifth', 'element'), 691: 'lumumba', 692: 'walk', 693: ('twenty', 'minutes'), 694: 'obi', 695: 'laughable', 696: 'pair', 697: ('gives', 'us'), 698: 'experiences', 699: 'well', 700: 'sat', 701: 'intensity', 702: 'helen', 703: 'newly', 704: 'turning', 705: 'proof', 706: 'cases', 707: 'being', 708: 'cliches', 709: ('tells', 'story'), 710: 'through', 711: 'conflict', 712: 'primarily', 713: 'witherspoon', 714: 'dressed', 715: ('blair', 'witch', 'project'), 716: 'mike', 717: 'friend', 718: 'predictable', 719: 'guessed', 720: 'process', 721: ('but', 'now'), 722: ('sure', 'if'), 723: 'position', 724: 'lewis', 725: 'endings', 726: 'jake', 727: 'travels', 728: 'missed', 729: 'revealing', 730: 'dumb', 731: 'bridges', 732: 'dune', 733: 'develop', 734: 'head', 735: 'paid', 736: 'cinematography', 737: 'means', 738: 'season', 739: 'ambitious', 740: 'ruin', 741: ('best', 'known'), 742: 'anderson', 743: 'pursuit', 744: 'fantasy', 745: 'hair', 746: 'emperor', 747: 'exciting', 748: 'tricks', 749: 'interest', 750: 'costumes', 751: 'stereotypical', 752: 'manager', 753: 'slave', 754: 'clich', 755: ('event', 'horizon'), 756: 'rush', 757: 'tells', 758: 'amounts', 759: 'spent', 760: 'name', 761: 'jon', 762: 'secretary', 763: 'dimensional', 764: 'poor', 765: ('out', 'all'), 766: 'attacks', 767: 'clooney', 768: 'stands', 769: 'emma', 770: 'mulan', 771: 'content', 772: ('bit', 'too'), 773: 'mile', 774: ('never', 'really'), 775: 'equal', 776: 'bizarre', 777: 'lines', 778: 'routine', 779: ('other', 'hand'), 780: 'connor', 781: 'sorts', 782: 'bringing', 783: 'deliver', 784: ('movie', 'doesn'), 785: 'caused', 786: 'wondering', 787: 'script', 788: 'trouble', 789: 'millions', 790: ('there', 'many'), 791: 'broadcast', 792: 'explosions', 793: 'tradition', 794: 'greater', 795: 'view', 796: 'remaining', 797: 'hole', 798: 'white', 799: 'halfway', 800: 'realize', 801: 'thirteenth', 802: ('very', 'funny'), 803: 'henry', 804: 'angel', 805: ('seems', 'more'), 806: 'college', 807: 'weekend', 808: 'stuart', 809: ('film', 'making'), 810: ('but', 'so'), 811: 'coming', 812: 'orders', 813: ('best', 'films'), 814: 'want', 815: 'blade', 816: 'drinking', 817: 'theatre', 818: 'sole', 819: 'extent', 820: 'drawing', 821: 'ear', 822: ('york', 'city'), 823: 'realizes', 824: 'stupid', 825: ('revolves', 'around'), 826: 'trial', 827: 'choice', 828: 'psychiatrist', 829: 'assassin', 830: 'mortal', 831: ('musical', 'score'), 832: ('everything', 'else'), 833: 'instead', 834: 'absurd', 835: 'interview', 836: 'seriously', 837: 'fable', 838: 'naturally', 839: ('my', 'favorite'), 840: ('cover', 'up'), 841: 'roll', 842: 'comet', 843: ('great', 'job'), 844: 'mcconaughey', 845: 'dropped', 846: 'shadows', 847: 'homage', 848: 'jimmy', 849: ('subject', 'matter'), 850: 'details', 851: 'beloved', 852: 'senses', 853: 'legendary', 854: 'saying', 855: 'raging', 856: 'centers', 857: 'crawford', 858: 'jay', 859: 'follows', 860: ('not', 'good'), 861: 'rate', 862: ('think', 'about'), 863: ('so', 'if'), 864: 'taran', 865: 'preview', 866: 'johnny', 867: ('cameron', 'diaz'), 868: 'alternate', 869: 'julie', 870: 'samuel', 871: ('doesn', 'make'), 872: 'goldblum', 873: 'kept', 874: 'threat', 875: 'idea', 876: 'recognition', 877: 'phantom', 878: 'catholic', 879: 'gem', 880: ('star', 'wars'), 881: ('film', 'starts'), 882: ('so', 'bad'), 883: 'depressing', 884: 'alfred', 885: ('when', 'all'), 886: ('sci', 'fi'), 887: 'amistad', 888: ('just', 'isn'), 889: 'human', 890: ('even', 'better'), 891: 'massive', 892: 'fashion', 893: 'empty', 894: 'numerous', 895: ('out', 'loud'), 896: 'problem', 897: 'month', 898: ('more', 'about'), 899: 'colorful', 900: 'begin', 901: 'tim', 902: 'takes', 903: ('go', 'back'), 904: 'god', 905: ('talking', 'about'), 906: 'grier', 907: 'screenwriters', 908: 'tension', 909: 'score', 910: ('years', 'later'), 911: 'sell', 912: 'nifty', 913: 'hits', 914: 'performance', 915: ('long', 'time'), 916: 'needed', 917: 'villains', 918: 'above', 919: 'superficial', 920: 'disc', 921: ('one', 'best'), 922: 'punch', 923: 'delivers', 924: 'doesn', 925: 'hold', 926: 'read', 927: 'morning', 928: 'risk', 929: 'lucky', 930: ('other', 'films'), 931: 'laughter', 932: 'results', 933: 'pacing', 934: 'arthur', 935: 'sub', 936: 'state', 937: ('motion', 'picture'), 938: 'specifically', 939: ('action', 'films'), 940: 'mafia', 941: 'pod', 942: 'author', 943: ('mission', 'impossible'), 944: 'frame', 945: ('but', 'really'), 946: 'offering', 947: ('star', 'trek'), 948: 'plus', 949: ('fall', 'love'), 950: 'excellent', 951: 'clever', 952: 'genuinely', 953: ('least', 'one'), 954: 'ad', 955: 'light', 956: 'flight', 957: 'screen', 958: 'parent', 959: 'previous', 960: 'dialogue', 961: 'sweet', 962: 'act', 963: 'aspects', 964: 'nightmare', 965: 'pregnant', 966: 'four', 967: ('new', 'york', 'city'), 968: 'wealthy', 969: 'fuller', 970: 'follow', 971: 'might', 972: ('but', 'here'), 973: 'plausible', 974: 'albeit', 975: 'possible', 976: 'internet', 977: 'opens', 978: 'inspired', 979: 'scream', 980: ('but', 'one'), 981: 'barely', 982: 'bride', 983: 'irish', 984: 'dinosaurs', 985: 'antonio', 986: ('but', 'then'), 987: 'hints', 988: 'miller', 989: 'virtually', 990: 'stranger', 991: 'rape', 992: 'sure', 993: 'animated', 994: ('film', 'where'), 995: 'artist', 996: 'end', 997: 'next', 998: 'airplane', 999: 'sold', 1000: 'arquette', 1001: 'leads', 1002: 'assured', 1003: ('ghost', 'dog'), 1004: 'mere', 1005: 'jolie', 1006: 'japanese', 1007: 'mail', 1008: 'imagery', 1009: 'pierce', 1010: ('get', 'into'), 1011: 'marie', 1012: 'entry', 1013: 'screenplay', 1014: ('although', 'there'), 1015: 'teeth', 1016: 'kilmer', 1017: 'anaconda', 1018: 'hopper', 1019: 'stopped', 1020: ('one', 'one'), 1021: 'chair', 1022: 'hot', 1023: ('but', 'end'), 1024: 'previously', 1025: 'batman', 1026: 'packed', 1027: 'removed', 1028: ('know', 'last'), 1029: 'involves', 1030: 'redman', 1031: ('two', 'films'), 1032: 'came', 1033: 'themselves', 1034: ('just', 'don'), 1035: 'confrontation', 1036: ('many', 'other'), 1037: 'starring', 1038: 'producers', 1039: ('black', 'cauldron'), 1040: 'harrison', 1041: 'gothic', 1042: 'local', 1043: 'abandoned', 1044: ('problem', 'film'), 1045: 'tries', 1046: ('virtual', 'reality'), 1047: 'teens', 1048: 'adults', 1049: 'lived', 1050: 'hidden', 1051: 'miles', 1052: ('here', 'there'), 1053: 'last', 1054: ('while', 'not'), 1055: 'confusing', 1056: 'whom', 1057: 'freeze', 1058: 'sucked', 1059: ('ben', 'stiller'), 1060: 'guns', 1061: 'weren', 1062: 'kate', 1063: ('towards', 'end'), 1064: ('film', 'while'), 1065: 'robocop', 1066: ('all', 'more'), 1067: 'likable', 1068: 'grace', 1069: ('more', 'time'), 1070: 'anyway', 1071: 'guard', 1072: 'dedicated', 1073: 'operation', 1074: 'lance', 1075: 'terry', 1076: 'bumbling', 1077: 'penn', 1078: ('story', 'but'), 1079: ('one', 'point'), 1080: 'turn', 1081: 'wrong', 1082: 'annie', 1083: 'blow', 1084: 'attempts', 1085: 'met', 1086: 'riding', 1087: 'greatly', 1088: 'king', 1089: 'tech', 1090: ('story', 'about'), 1091: 'step', 1092: 'skywalker', 1093: 'dragon', 1094: 'watch', 1095: 'frankly', 1096: 'police', 1097: 'utter', 1098: 'pieces', 1099: 'curtis', 1100: 'calls', 1101: 'stumbles', 1102: 'steps', 1103: 'heartfelt', 1104: 'david', 1105: ('just', 'not'), 1106: 'momma', 1107: 'baby', 1108: ('united', 'states'), 1109: 'thinks', 1110: 'plan', 1111: 'tell', 1112: 'types', 1113: 'mainstream', 1114: 'demands', 1115: 'gratuitous', 1116: 'heck', 1117: ('sets', 'up'), 1118: 'training', 1119: 'feature', 1120: 'closely', 1121: ('film', 'begins'), 1122: 'hudson', 1123: 'cgi', 1124: 'quinn', 1125: 'roger', 1126: 'hanging', 1127: 'brown', 1128: 'gory', 1129: 'bodies', 1130: 'species', 1131: 'unless', 1132: 'flawed', 1133: ('john', 'cusack'), 1134: 'creative', 1135: 'fortunately', 1136: 'whose', 1137: 'wong', 1138: ('final', 'scene'), 1139: 'ali', 1140: 'ok', 1141: 'robinson', 1142: 'popularity', 1143: 'fred', 1144: 'funniest', 1145: 'ramsey', 1146: 'notion', 1147: 'pull', 1148: 'bigger', 1149: ('starts', 'off'), 1150: 'jones', 1151: ('does', 'so'), 1152: 'apparently', 1153: ('don', 'get'), 1154: 'shakespeare', 1155: 'stand', 1156: 'elfman', 1157: 'supporting', 1158: 'moving', 1159: 'fit', 1160: 'mood', 1161: ('there', 'very'), 1162: 'violent', 1163: 'unable', 1164: ('character', 'development'), 1165: 'impressed', 1166: 'terribly', 1167: 'concerns', 1168: 'credits', 1169: 'again', 1170: 'silly', 1171: 'primary', 1172: 'tommy', 1173: 'cat', 1174: 'hughes', 1175: ('jay', 'silent', 'bob'), 1176: 'brenner', 1177: 'treatment', 1178: 'setting', 1179: 'studios', 1180: 'blame', 1181: 'larger', 1182: 'buy', 1183: 'southern', 1184: 'granted', 1185: 'insight', 1186: ('if', 'don'), 1187: 'humor', 1188: ('george', 'lucas'), 1189: 'hundred', 1190: 'insulting', 1191: 'sleazy', 1192: ('plot', 'points'), 1193: 'professor', 1194: 'cameras', 1195: 'mine', 1196: 'similar', 1197: 'spends', 1198: 'fair', 1199: 'slasher', 1200: 'higher', 1201: 'instantly', 1202: 'supposedly', 1203: 'endless', 1204: ('but', 'movie'), 1205: 'station', 1206: 'jesus', 1207: 'suffice', 1208: ('feel', 'like'), 1209: 'sleep', 1210: ('other', 'things'), 1211: 'people', 1212: 'explicit', 1213: 'inane', 1214: 'bowling', 1215: 'escapes', 1216: 'properly', 1217: ('part', 'movie'), 1218: 'pick', 1219: 'sort', 1220: 'bits', 1221: 'stahl', 1222: 'decidedly', 1223: 'birth', 1224: 'host', 1225: ('their', 'lives'), 1226: 'destination', 1227: 'sinise', 1228: 'ran', 1229: 'cut', 1230: 'talent', 1231: 'hundreds', 1232: 'kinds', 1233: 'shoots', 1234: 'apart', 1235: 'strength', 1236: 'bull', 1237: ('high', 'school'), 1238: 'satisfying', 1239: 'manage', 1240: 'achieved', 1241: ('one', 'movie'), 1242: 'audiences', 1243: 'analyze', 1244: 'base', 1245: 'jazz', 1246: 'german', 1247: 'road', 1248: 'differences', 1249: 'dad', 1250: 'fancy', 1251: 'mr', 1252: 'allen', 1253: 'drunken', 1254: 'tour', 1255: ('home', 'alone'), 1256: 'consequences', 1257: 'provide', 1258: 'acting', 1259: 'desperate', 1260: 'south', 1261: 'frightening', 1262: ('if', 'not'), 1263: 'sister', 1264: ('film', 'just'), 1265: 'outcome', 1266: 'decisions', 1267: ('five', 'years'), 1268: 'ending', 1269: 'short', 1270: 'modern', 1271: 'starting', 1272: 'spite', 1273: ('couldn', 'help', 'but'), 1274: 'touching', 1275: 'american', 1276: 'cynthia', 1277: ('little', 'more'), 1278: 'trust', 1279: 'grant', 1280: ('than', 'just'), 1281: 'christopher', 1282: 'charge', 1283: ('movie', 'not'), 1284: 'brains', 1285: 'baker', 1286: 'managed', 1287: 'determined', 1288: 'vampire', 1289: 'drama', 1290: 'kills', 1291: 'paced', 1292: ('lot', 'like'), 1293: 'surrounded', 1294: 'critics', 1295: 'restaurant', 1296: 'outside', 1297: ('but', 'least'), 1298: 'loaded', 1299: 'engaging', 1300: ('so', 'good'), 1301: 'man', 1302: 'together', 1303: 'spectacular', 1304: 'protagonist', 1305: 'therefore', 1306: 'recognize', 1307: 'brilliant', 1308: ('usual', 'suspects'), 1309: 'chief', 1310: 'doll', 1311: 'imagine', 1312: 'beginning', 1313: 'joins', 1314: 'showdown', 1315: 'hand', 1316: ('know', 'how'), 1317: ('every', 'single'), 1318: 'something', 1319: 'unfunny', 1320: 'less', 1321: 'footage', 1322: 'style', 1323: 'into', 1324: 'van', 1325: ('halfway', 'through'), 1326: ('most', 'film'), 1327: 'composed', 1328: 'antz', 1329: ('don', 'care'), 1330: ('if', 're'), 1331: 'success', 1332: 'signs', 1333: 'river', 1334: 'create', 1335: 'murders', 1336: 'suggest', 1337: ('into', 'their'), 1338: 'expecting', 1339: 'argue', 1340: ('films', 'like'), 1341: ('go', 'out'), 1342: 'heist', 1343: 'minor', 1344: 'uneven', 1345: 'toy', 1346: 'kubrick', 1347: 'overdone', 1348: 'split', 1349: 'structure', 1350: ('bad', 'guys'), 1351: 'attempt', 1352: ('why', 'not'), 1353: 'palma', 1354: 'friendship', 1355: 'boxing', 1356: 'directly', 1357: ('james', 'bond'), 1358: 'ex', 1359: 'considerably', 1360: 'story', 1361: 'couple', 1362: ('wild', 'west'), 1363: 'band', 1364: 'features', 1365: 'finale', 1366: 'friends', 1367: 'holding', 1368: 'unfolds', 1369: 'flesh', 1370: 'helps', 1371: ('here', 'but'), 1372: ('other', 'people'), 1373: 'bacon', 1374: 'thoughtful', 1375: ('animated', 'feature'), 1376: 'fans', 1377: 'students', 1378: 'unlike', 1379: 'alex', 1380: 'bean', 1381: 'blatantly', 1382: 'mars', 1383: 'extraordinary', 1384: 'tag', 1385: 'danger', 1386: ('witch', 'project'), 1387: ('not', 'like'), 1388: 'perspective', 1389: 'film', 1390: 'wacky', 1391: 'falling', 1392: 'turkey', 1393: 'peter', 1394: ('one', 'man'), 1395: 'tracks', 1396: ('last', 'time'), 1397: 'marty', 1398: ('sound', 'like'), 1399: 'innocence', 1400: ('just', 'too'), 1401: 'portman', 1402: 'iron', 1403: 'food', 1404: 'murder', 1405: 'myers', 1406: 'over', 1407: 'technically', 1408: 'honest', 1409: 'inside', 1410: 'bugs', 1411: 'around', 1412: 'machine', 1413: 'appropriately', 1414: 'victims', 1415: 'dillon', 1416: 'passes', 1417: 'marriage', 1418: 'location', 1419: 'pitt', 1420: 'nice', 1421: ('film', 'doesn'), 1422: ('first', 'two'), 1423: ('movie', 'there'), 1424: 'davis', 1425: 'moses', 1426: ('good', 'guys'), 1427: 'battle', 1428: 'sees', 1429: 'pile', 1430: 'son', 1431: ('characters', 'all'), 1432: 'deserved', 1433: 'introduced', 1434: 'financial', 1435: 'castle', 1436: 'performances', 1437: 'mindless', 1438: 'different', 1439: 'compelling', 1440: 'english', 1441: ('all', 'know'), 1442: 'attractive', 1443: ('over', 'again'), 1444: 'much', 1445: 'powers', 1446: 'lady', 1447: 'exceptional', 1448: 'mean', 1449: 'award', 1450: 'judge', 1451: ('not', 'very'), 1452: 'special', 1453: 'destruction', 1454: 'sheen', 1455: 'jedi', 1456: 'elements', 1457: 'com', 1458: 'arrival', 1459: 'hype', 1460: ('all', 'but'), 1461: 'heat', 1462: ('movie', 'if'), 1463: 'boogie', 1464: 'used', 1465: 'dealing', 1466: 'sometimes', 1467: 'climactic', 1468: ('might', 'well'), 1469: 'york', 1470: ('all', 'about'), 1471: 'dude', 1472: ('entire', 'movie'), 1473: 'gay', 1474: 'community', 1475: ('about', 'how'), 1476: ('time', 'around'), 1477: 'bible', 1478: 'half', 1479: ('films', 'year'), 1480: ('two', 'people'), 1481: 'cooper', 1482: 'lord', 1483: 'focuses', 1484: 'veteran', 1485: 'spirited', 1486: 'perform', 1487: 'personality', 1488: 'size', 1489: 'club', 1490: 'obsessed', 1491: ('some', 'best'), 1492: 'messages', 1493: 'abyss', 1494: 'sets', 1495: 'convince', 1496: 'loves', 1497: 'strictly', 1498: 'devil', 1499: 'memorable', 1500: ('there', 'really'), 1501: 'clue', 1502: 'dreams', 1503: ('will', 'not'), 1504: 'armed', 1505: 'caught', 1506: 'attraction', 1507: 'sorry', 1508: 'reminiscent', 1509: 'ron', 1510: ('little', 'too'), 1511: 'marks', 1512: 'caan', 1513: 'back', 1514: ('mission', 'mars'), 1515: 'suit', 1516: ('geoffrey', 'rush'), 1517: 'artificial', 1518: 'intended', 1519: ('bill', 'murray'), 1520: 'range', 1521: 'memories', 1522: 'shall', 1523: ('new', 'film'), 1524: 'horner', 1525: 'machines', 1526: 'power', 1527: 'repetitive', 1528: 'check', 1529: 'completely', 1530: 'ugly', 1531: 'ensues', 1532: ('first', 'half'), 1533: 'changing', 1534: 'told', 1535: 'another', 1536: ('lines', 'like'), 1537: ('some', 'good'), 1538: 'safe', 1539: ('there', 'one'), 1540: 'crucial', 1541: 'two', 1542: 'arrow', 1543: ('tom', 'hanks'), 1544: 'investigator', 1545: 'science', 1546: 'finds', 1547: 'instances', 1548: 'gore', 1549: 'come', 1550: 'open', 1551: 'raise', 1552: 'row', 1553: 'satire', 1554: 'immediate', 1555: 'actions', 1556: 'haunting', 1557: 'recall', 1558: 'travolta', 1559: 'straightforward', 1560: 'sexual', 1561: 'nasty', 1562: 'matter', 1563: 'oh', 1564: 'respectable', 1565: 'him', 1566: 'cult', 1567: ('saving', 'private'), 1568: 'reporter', 1569: 'eyed', 1570: 'works', 1571: 'describe', 1572: 'stop', 1573: ('same', 'name'), 1574: ('boogie', 'nights'), 1575: 'judd', 1576: 'eric', 1577: 'mediocre', 1578: 'walks', 1579: ('but', 'only'), 1580: ('film', 'seems'), 1581: ('over', 'over', 'again'), 1582: 'flair', 1583: 'boss', 1584: 'attitude', 1585: 'animal', 1586: ('sharon', 'stone'), 1587: ('really', 'bad'), 1588: ('de', 'niro'), 1589: 'tired', 1590: 'allowing', 1591: ('much', 'better'), 1592: ('almost', 'every'), 1593: 'dog', 1594: 'social', 1595: ('runs', 'into'), 1596: ('thought', 'provoking'), 1597: ('film', 'does'), 1598: 'graham', 1599: 'breakdown', 1600: 'mary', 1601: 'magic', 1602: 'lower', 1603: ('certainly', 'not'), 1604: 'superior', 1605: 'written', 1606: 'cinema', 1607: 'authentic', 1608: 'unnecessary', 1609: ('more', 'like'), 1610: 'logic', 1611: 'generation', 1612: ('anything', 'else'), 1613: 'ryan', 1614: 'insult', 1615: 'spoilers', 1616: 'liking', 1617: 'others', 1618: 'jackal', 1619: 'frequently', 1620: ('set', 'pieces'), 1621: 'finest', 1622: ('up', 'but'), 1623: 'drawn', 1624: ('not', 'so'), 1625: 'else', 1626: 'trick', 1627: 'pulled', 1628: 'romantic', 1629: 'ray', 1630: 'warm', 1631: 'par', 1632: 'interesting', 1633: 'shown', 1634: ('not', 'quite'), 1635: 'viewing', 1636: 'eve', 1637: 'skill', 1638: 'clothes', 1639: 'holes', 1640: 'bats', 1641: 'kidnapped', 1642: ('supporting', 'characters'), 1643: 'bored', 1644: ('take', 'place'), 1645: 'missing', 1646: 'words', 1647: 'don', 1648: 'unbelievable', 1649: 'inevitably', 1650: ('scenes', 'but'), 1651: 'treats', 1652: 'subsequent', 1653: ('some', 'sort'), 1654: 'contains', 1655: 'entire', 1656: 'false', 1657: 'soon', 1658: 'workers', 1659: 'husband', 1660: 'park', 1661: 'meet', 1662: 'albert', 1663: 'babe', 1664: 'believed', 1665: 'criminals', 1666: ('made', 'film'), 1667: 'jakob', 1668: ('even', 'when'), 1669: 'wonder', 1670: 'united', 1671: 'year', 1672: 'hitchcock', 1673: ('gives', 'him'), 1674: 'hapless', 1675: 'respect', 1676: ('all', 'time'), 1677: 'start', 1678: 'demonstrates', 1679: ('no', 'one'), 1680: 'fantasies', 1681: 'opening', 1682: 'took', 1683: 'intriguing', 1684: 'hanks', 1685: 'amount', 1686: 'philip', 1687: 'enjoyable', 1688: 'nonetheless', 1689: 'wayne', 1690: 'surrounding', 1691: 'research', 1692: 'subtlety', 1693: 'win', 1694: 'after', 1695: 'scientist', 1696: 'leary', 1697: 'nowhere', 1698: 'thought', 1699: 'lane', 1700: ('much', 'film'), 1701: 'lover', 1702: ('few', 'minutes'), 1703: 'neve', 1704: 'new', 1705: 'deniro', 1706: 'doom', 1707: 'truly', 1708: ('film', 'isn'), 1709: 'traditional', 1710: 'plans', 1711: 'lighting', 1712: ('doesn', 'quite'), 1713: 'simply', 1714: 'specific', 1715: 'spielberg', 1716: ('one', 'my'), 1717: 'befriends', 1718: 'most', 1719: 'nor', 1720: 'sides', 1721: 'hill', 1722: 'round', 1723: 'set', 1724: 'promise', 1725: 'realm', 1726: 'chinese', 1727: 'lack', 1728: 'rage', 1729: ('but', 'film'), 1730: ('doesn', 'get'), 1731: 'profanity', 1732: ('most', 'important'), 1733: 'screenwriter', 1734: 'challenging', 1735: 'picks', 1736: 'responsible', 1737: 'knows', 1738: 'merely', 1739: ('zeta', 'jones'), 1740: ('part', 'film'), 1741: ('movie', 'but'), 1742: 'subject', 1743: 'possibly', 1744: ('only', 'thing'), 1745: 'weaver', 1746: ('old', 'fashioned'), 1747: ('help', 'but'), 1748: 'ghetto', 1749: 'paltrow', 1750: ('most', 'part'), 1751: 'voices', 1752: 'necessarily', 1753: 'daniel', 1754: 'office', 1755: ('good', 'time'), 1756: ('movie', 'about'), 1757: 'text', 1758: 'briefly', 1759: 'high', 1760: 'reality', 1761: 'wear', 1762: 'nicely', 1763: 'thrown', 1764: 'theaters', 1765: 'pool', 1766: 'rights', 1767: ('one', 'film'), 1768: ('not', 'really'), 1769: 'company', 1770: 'kline', 1771: ('ever', 'seen'), 1772: 'usually', 1773: 'secrets', 1774: ('one', 'night'), 1775: 'self', 1776: 'became', 1777: 'william', 1778: 'stretch', 1779: 'respected', 1780: ('romantic', 'comedy'), 1781: 'enterprise', 1782: 'drink', 1783: ('ve', 'got'), 1784: ('jackie', 'chan'), 1785: 'banderas', 1786: 'terrorist', 1787: 'term', 1788: 'tunes', 1789: ('running', 'time'), 1790: 'paulie', 1791: 'pulls', 1792: 'shape', 1793: 'minds', 1794: ('one', 'thing'), 1795: 'perry', 1796: 'acclaimed', 1797: 'five', 1798: 'related', 1799: 'complicated', 1800: ('deep', 'rising'), 1801: ('robert', 'de'), 1802: 'harsh', 1803: ('into', 'one'), 1804: 'comparisons', 1805: 'smith', 1806: ('not', 'one'), 1807: 'sequences', 1808: 'fool', 1809: 'using', 1810: 'dogs', 1811: 'generic', 1812: ('little', 'bit'), 1813: 'underground', 1814: 'insane', 1815: 'tight', 1816: 'dignity', 1817: 'cheap', 1818: 'conversation', 1819: 'die', 1820: 'ii', 1821: ('but', 'unfortunately'), 1822: 'covered', 1823: ('especially', 'when'), 1824: 'suffer', 1825: 'us', 1826: 'highly', 1827: 'tiny', 1828: 'fugitive', 1829: 'roles', 1830: 'gorilla', 1831: 'voight', 1832: 'charlie', 1833: 'comedic', 1834: 'brosnan', 1835: 'room', 1836: ('one', 'another'), 1837: 'appear', 1838: 'kevin', 1839: 'stone', 1840: 'their', 1841: 'soldiers', 1842: 'heroes', 1843: ('anything', 'but'), 1844: ('doesn', 'really'), 1845: 'marshall', 1846: ('sounds', 'like'), 1847: ('out', 'place'), 1848: 'quentin', 1849: 'intelligent', 1850: 'absent', 1851: 'recently', 1852: 'companion', 1853: 'thousand', 1854: 'visually', 1855: 'mistaken', 1856: 'certainly', 1857: ('worth', 'seeing'), 1858: ('saving', 'private', 'ryan'), 1859: 'convey', 1860: 'kids', 1861: 'semi', 1862: 'correct', 1863: 'fun', 1864: 'appeal', 1865: ('set', 'up'), 1866: 'recommend', 1867: 'opened', 1868: 'sweetback', 1869: 'treated', 1870: 'fighting', 1871: 'tv', 1872: 'expression', 1873: 'connery', 1874: 'passing', 1875: ('box', 'office'), 1876: 'perfection', 1877: 'thus', 1878: 'water', 1879: 'struggle', 1880: ('seems', 'like'), 1881: 'jamie', 1882: 'western', 1883: ('things', 'up'), 1884: 'runner', 1885: 'across', 1886: 'driver', 1887: 'dirty', 1888: 'wouldn', 1889: ('but', 'will'), 1890: 'dead', 1891: 'himself', 1892: 'director', 1893: 'delivering', 1894: 'sidekick', 1895: 'hours', 1896: 'car', 1897: 'behind', 1898: 'vs', 1899: 'small', 1900: 'crosses', 1901: 'premise', 1902: 'since', 1903: 'harrelson', 1904: ('modern', 'day'), 1905: 'featured', 1906: ('film', 'not'), 1907: 'jonathan', 1908: 'lone', 1909: 'six', 1910: ('love', 'story'), 1911: ('probably', 'not'), 1912: 'likely', 1913: 'inept', 1914: 'jewish', 1915: 'wit', 1916: 'humans', 1917: 'mickey', 1918: 'pat', 1919: 'mystery', 1920: 'fan', 1921: 'supernatural', 1922: 'hiding', 1923: ('real', 'people'), 1924: 'equally', 1925: 'successfully', 1926: 'combination', 1927: 'promising', 1928: 'friday', 1929: 'heaven', 1930: 'speech', 1931: 'here', 1932: 'blake', 1933: 'paying', 1934: 'neil', 1935: 'woo', 1936: 'bone', 1937: ('wild', 'wild'), 1938: 'levels', 1939: 'hoping', 1940: ('entire', 'film'), 1941: 'buddy', 1942: 'onto', 1943: 'unlikely', 1944: 'revelation', 1945: 'must', 1946: ('even', 'if'), 1947: ('film', 'more'), 1948: 'con', 1949: 'lee', 1950: ('look', 'like'), 1951: 'al', 1952: 'exception', 1953: 'leading', 1954: 'cliche', 1955: ('most', 'likely'), 1956: 'individuals', 1957: 'breaking', 1958: ('comic', 'relief'), 1959: ('well', 'made'), 1960: 'hope', 1961: 'burns', 1962: 'august', 1963: ('not', 'mention'), 1964: 'postman', 1965: 'walked', 1966: ('supporting', 'cast'), 1967: ('because', 'film'), 1968: ('into', 'movie'), 1969: 'added', 1970: ('not', 'movie'), 1971: 'liam', 1972: 'prove', 1973: 'status', 1974: 'served', 1975: 'editor', 1976: 'heads', 1977: 'speak', 1978: 'exchange', 1979: 'badly', 1980: 'theory', 1981: 'cutting', 1982: 'accused', 1983: 'contact', 1984: ('if', 've'), 1985: ('no', 'matter', 'how'), 1986: ('funny', 'but'), 1987: 'feels', 1988: ('last', 'year'), 1989: 'achieve', 1990: 'killers', 1991: 'population', 1992: 'comparison', 1993: 'vampires', 1994: 'learned', 1995: 'asks', 1996: ('film', 'because'), 1997: 'perfectly', 1998: 'mermaid', 1999: 'such', 2000: 'along', 2001: ('some', 'kind'), 2002: 'league', 2003: ('film', 'there'), 2004: 'addition', 2005: 'occurred', 2006: 'see', 2007: 'difficult', 2008: 'staged', 2009: 'balance', 2010: 'lies', 2011: 'talented', 2012: 'nbsp', 2013: 'shirt', 2014: 'youth', 2015: 'via', 2016: ('makes', 'him'), 2017: 'return', 2018: 'contemporary', 2019: 'devito', 2020: ('so', 'well'), 2021: 'compared', 2022: 'delivery', 2023: 'latest', 2024: 'outer', 2025: 'carry', 2026: 'fight', 2027: ('back', 'into'), 2028: ('eddie', 'murphy'), 2029: 'bet', 2030: ('see', 'how'), 2031: ('give', 'us'), 2032: ('their', 'first'), 2033: 'potential', 2034: 'level', 2035: 'crow', 2036: 'built', 2037: 'duvall', 2038: 'embarrassing', 2039: 'keep', 2040: ('care', 'about'), 2041: ('film', 'if'), 2042: 'sean', 2043: 'praise', 2044: 'against', 2045: 'method', 2046: 'proper', 2047: 'hood', 2048: 'whatever', 2049: 'mercury', 2050: 'strip', 2051: ('pretty', 'much'), 2052: 'neither', 2053: 'detailed', 2054: 'evident', 2055: ('there', 'only'), 2056: 'drugs', 2057: 'blonde', 2058: 'visit', 2059: ('even', 'though'), 2060: 'pathetic', 2061: 'provided', 2062: 'identity', 2063: ('so', 'called'), 2064: ('non', 'stop'), 2065: 'great', 2066: 'charming', 2067: 'emotion', 2068: 'receive', 2069: 'glenn', 2070: ('but', 'other'), 2071: ('toy', 'story'), 2072: 'originally', 2073: 'requires', 2074: 'voice', 2075: 'giant', 2076: 'judging', 2077: 'needs', 2078: 'hopefully', 2079: 'battles', 2080: 'armageddon', 2081: 'joke', 2082: 'overall', 2083: 'wall', 2084: 'while', 2085: ('after', 'all'), 2086: 'hollow', 2087: 'showed', 2088: 'dramatic', 2089: 'forth', 2090: 'breasts', 2091: ('keanu', 'reeves'), 2092: 'believes', 2093: 'festival', 2094: 'proves', 2095: 'absolutely', 2096: 'deserve', 2097: 'feet', 2098: ('matt', 'damon'), 2099: 'protect', 2100: ('nothing', 'more'), 2101: 'greatest', 2102: 'law', 2103: 'make', 2104: 'boat', 2105: 'leader', 2106: 'returns', 2107: 'context', 2108: 'indiana', 2109: 'skills', 2110: ('opening', 'scene'), 2111: 'rose', 2112: 'hollywood', 2113: 'successful', 2114: 'corny', 2115: 'though', 2116: 'time', 2117: 'desperately', 2118: 'princess', 2119: ('only', 'does'), 2120: 'rated', 2121: ('anthony', 'hopkins'), 2122: 'snow', 2123: 'designer', 2124: 'phil', 2125: 'mildly', 2126: 'julia', 2127: 'stunning', 2128: 'combined', 2129: ('get', 'out'), 2130: 'close', 2131: ('some', 'most'), 2132: ('but', 'does'), 2133: 'late', 2134: 'gary', 2135: 'neeson', 2136: ('film', 'too'), 2137: 'soundtrack', 2138: 'now', 2139: 'soft', 2140: ('award', 'winning'), 2141: 'dvd', 2142: 'personalities', 2143: 'presents', 2144: 'sutherland', 2145: ('ve', 'seen'), 2146: 'anybody', 2147: 'encounter', 2148: 'catches', 2149: 'ace', 2150: 'outrageous', 2151: ('ve', 'ever', 'seen'), 2152: 'besides', 2153: 'add', 2154: 'holy', 2155: 'picked', 2156: ('die', 'hard'), 2157: ('far', 'too'), 2158: 'interviews', 2159: 'source', 2160: 'charles', 2161: 'track', 2162: ('jack', 'nicholson'), 2163: 'stylish', 2164: 'contained', 2165: 'years', 2166: 'damn', 2167: 'geoffrey', 2168: 'disney', 2169: 'susan', 2170: 'foot', 2171: 'files', 2172: 'shop', 2173: ('way', 'too'), 2174: 'filmed', 2175: 'meaning', 2176: 'definite', 2177: ('television', 'series'), 2178: 'paper', 2179: 'branagh', 2180: 'form', 2181: 'wallace', 2182: 'protagonists', 2183: 'alien', 2184: 'purpose', 2185: 'clearly', 2186: 'partner', 2187: 'paxton', 2188: 'lazy', 2189: ('lee', 'jones'), 2190: 'stronger', 2191: 'wings', 2192: 'shooting', 2193: 'named', 2194: ('bug', 'life'), 2195: 'total', 2196: 'lloyd', 2197: 'critique', 2198: 'hired', 2199: 'chambers', 2200: ('screen', 'time'), 2201: 'sounding', 2202: ('talk', 'about'), 2203: 'depth', 2204: 'awful', 2205: 'opposite', 2206: 'adequate', 2207: 'received', 2208: 'causes', 2209: 'values', 2210: 'pam', 2211: 'utterly', 2212: 'cable', 2213: ('million', 'dollars'), 2214: 'ways', 2215: 'accomplished', 2216: ('two', 'hours'), 2217: 'proving', 2218: 'mrs', 2219: 'event', 2220: ('but', 'isn'), 2221: 'use', 2222: 'subplot', 2223: 'saves', 2224: 'image', 2225: 'hospital', 2226: 'sophisticated', 2227: 'sudden', 2228: 'job', 2229: 'even', 2230: 'walter', 2231: 'hook', 2232: 'shy', 2233: ('might', 'not'), 2234: 'execution', 2235: 'guess', 2236: 'views', 2237: 'weapon', 2238: 'joseph', 2239: 'ball', 2240: 'jeffrey', 2241: 'mel', 2242: 'sin', 2243: 'bit', 2244: 'glad', 2245: ('larry', 'flynt'), 2246: ('science', 'fiction'), 2247: ('seen', 'all'), 2248: ('all', 'around'), 2249: 'far', 2250: 'brooks', 2251: 'public', 2252: 'broad', 2253: 'blows', 2254: 'terror', 2255: 'visual', 2256: ('african', 'american'), 2257: 'career', 2258: 'bus', 2259: ('scenes', 'like'), 2260: 'breath', 2261: 'australian', 2262: 'occasionally', 2263: ('our', 'heroes'), 2264: 'thousands', 2265: 'teacher', 2266: 'altman', 2267: 'burton', 2268: 'rest', 2269: ('jay', 'silent'), 2270: 'say', 2271: 'tried', 2272: 'began', 2273: 'seven', 2274: ('robert', 'de', 'niro'), 2275: 'tend', 2276: 'telling', 2277: ('but', 'when'), 2278: ('not', 'only'), 2279: ('out', 'there'), 2280: ('matter', 'how'), 2281: 'raised', 2282: 'gambling', 2283: ('movies', 'but'), 2284: 'cox', 2285: 'away', 2286: 'stale', 2287: ('turned', 'into'), 2288: 'uses', 2289: ('home', 'video'), 2290: 'goes', 2291: 'long', 2292: 'movement', 2293: 'crowd', 2294: 'black', 2295: 'necessary', 2296: 'discovery', 2297: 'collection', 2298: ('but', 'still'), 2299: 'ring', 2300: 'unexpectedly', 2301: ('every', 'scene'), 2302: 'roberts', 2303: 'type', 2304: 'menace', 2305: 'rain', 2306: 'prevent', 2307: ('then', 'there'), 2308: 'dying', 2309: 'cowboy', 2310: 'university', 2311: 'prinze', 2312: 'jerry', 2313: 'also', 2314: ('check', 'out'), 2315: 'jane', 2316: 'bed', 2317: ('don', 'know'), 2318: 'altogether', 2319: 'drag', 2320: 'aimed', 2321: 'driving', 2322: 'inspector', 2323: 'wasted', 2324: 'odd', 2325: 'underdeveloped', 2326: 'chick', 2327: 'mighty', 2328: ('many', 'times'), 2329: 'bang', 2330: 'manipulative', 2331: 'returned', 2332: 'federation', 2333: 'trilogy', 2334: 'beats', 2335: 'tragic', 2336: 'nolte', 2337: 'stark', 2338: ('first', 'one'), 2339: 'sit', 2340: 'shut', 2341: 'relatively', 2342: 'placed', 2343: ('kind', 'movie'), 2344: ('doesn', 'take'), 2345: 'ford', 2346: 'capsule', 2347: 'busy', 2348: 'psychological', 2349: 'identify', 2350: 'problems', 2351: ('movie', 'like'), 2352: 'kill', 2353: 'jump', 2354: 'fate', 2355: 'discovering', 2356: 'plot', 2357: ('film', 'itself'), 2358: ('years', 'ago'), 2359: 'harris', 2360: 'lean', 2361: 'bomb', 2362: 'tunnel', 2363: 'funny', 2364: 'quality', 2365: 'order', 2366: 'matthew', 2367: 'captures', 2368: ('something', 'more'), 2369: ('once', 'again'), 2370: 'places', 2371: 'genre', 2372: 'trapped', 2373: 'ago', 2374: ('but', 'don'), 2375: 'news', 2376: 'whale', 2377: ('seem', 'like'), 2378: 'save', 2379: 'big', 2380: 'sandra', 2381: 'smart', 2382: ('too', 'many'), 2383: 'think', 2384: 'scare', 2385: ('when', 'comes'), 2386: ('samuel', 'jackson'), 2387: 'kenobi', 2388: 'true', 2389: 'worth', 2390: ('seen', 'movie'), 2391: ('throughout', 'film'), 2392: 'night', 2393: 'chemistry', 2394: 'kicks', 2395: 'elderly', 2396: 'including', 2397: 'popping', 2398: 'red', 2399: 'lead', 2400: 'copy', 2401: 'value', 2402: 'warned', 2403: 'cousin', 2404: 'wrote', 2405: ('just', 'so'), 2406: 'remembered', 2407: 'ordinary', 2408: 'movie', 2409: 'nominated', 2410: 'driven', 2411: 'cameo', 2412: 'vicious', 2413: 'sinister', 2414: 'surely', 2415: 'passion', 2416: 'events', 2417: ('horror', 'films'), 2418: 'tribe', 2419: 'understanding', 2420: ('into', 'film'), 2421: ('not', 'film'), 2422: 'african', 2423: 'closer', 2424: ('world', 'war'), 2425: 'making', 2426: 'top', 2427: 'lola', 2428: 'odds', 2429: ('than', 'anything'), 2430: 'finally', 2431: ('absolutely', 'nothing'), 2432: 'separate', 2433: 'daughter', 2434: 'attention', 2435: 'spend', 2436: ('film', 'had'), 2437: 'elizabeth', 2438: 'ludicrous', 2439: 'jean', 2440: 'antics', 2441: 'fame', 2442: 'playing', 2443: ('but', 'not'), 2444: 'johnson', 2445: 'foul', 2446: 'pleasant', 2447: 'aware', 2448: 'brian', 2449: 'asking', 2450: ('very', 'little'), 2451: ('film', 'good'), 2452: 'rolling', 2453: 'edwards', 2454: 'normal', 2455: 'succeeds', 2456: 'gwyneth', 2457: 'window', 2458: 'choices', 2459: 'once', 2460: 'tall', 2461: 'physically', 2462: 'cars', 2463: 'vision', 2464: 'flick', 2465: 'grade', 2466: 'ted', 2467: 'oscar', 2468: 'later', 2469: 'hugh', 2470: 'sheriff', 2471: 'invisible', 2472: 'canadian', 2473: ('one', 'not'), 2474: 'graphic', 2475: 'learn', 2476: 'everywhere', 2477: 'treat', 2478: 'parody', 2479: 'deep', 2480: ('end', 'movie'), 2481: 'fail', 2482: 'loser', 2483: 'texas', 2484: 'matt', 2485: ('wild', 'wild', 'west'), 2486: 'decent', 2487: 'joe', 2488: ('yet', 'another'), 2489: 'seagal', 2490: 'someone', 2491: 'prisoner', 2492: 'robbins', 2493: 'actresses', 2494: 'filmmaking', 2495: 'ellie', 2496: 'liners', 2497: 'blair', 2498: 'improved', 2499: 'asleep', 2500: ('but', 're'), 2501: 'hammer', 2502: 'harlem', 2503: 'sunday', 2504: 'affection', 2505: 'figured', 2506: ('real', 'life'), 2507: ('about', 'their'), 2508: 'explored', 2509: 'stern', 2510: 'match', 2511: 'center', 2512: 'supposed', 2513: ('special', 'effects'), 2514: 'bleak', 2515: 'tough', 2516: 'mom', 2517: 'popular', 2518: 'enjoyed', 2519: ('nothing', 'short'), 2520: 'based', 2521: 'boy', 2522: 'realizing', 2523: ('absolutely', 'no'), 2524: 'importance', 2525: 'obviously', 2526: 'vaguely', 2527: 'still', 2528: 'ships', 2529: 'drop', 2530: 'comedy', 2531: 'department', 2532: ('larger', 'than'), 2533: 'dr', 2534: 'go', 2535: 'book', 2536: ('first', 'movie'), 2537: ('all', 'all'), 2538: 'write', 2539: 'record', 2540: 'star', 2541: 'feel', 2542: 'sing', 2543: 'instinct', 2544: 'breaks', 2545: 'unfortunately', 2546: 'smile', 2547: 'confused', 2548: 'entertaining', 2549: 'john', 2550: 'virus', 2551: 'oz', 2552: 'rip', 2553: 'earth', 2554: 'includes', 2555: ('movie', 'so'), 2556: 'decided', 2557: 'mouse', 2558: ('re', 'not'), 2559: 'qui', 2560: 'family', 2561: ('but', 'even'), 2562: ('no', 'doubt'), 2563: ('go', 'wrong'), 2564: 'normally', 2565: 'industry', 2566: ('silent', 'bob'), 2567: 'thirty', 2568: 'fascinating', 2569: 'kennedy', 2570: 'television', 2571: 'cinematographer', 2572: 'too', 2573: ('phantom', 'menace'), 2574: 'france', 2575: 'slow', 2576: 'only', 2577: 'religion', 2578: ('most', 'importantly'), 2579: 'ill', 2580: 'mansion', 2581: 'worst', 2582: 'thinking', 2583: ('but', 'if'), 2584: 'play', 2585: 'twin', 2586: 'atmosphere', 2587: 'exist', 2588: 'brings', 2589: 'lame', 2590: 'three', 2591: 'dave', 2592: 'lifetime', 2593: 'air', 2594: 'spare', 2595: 'fine', 2596: 'command', 2597: ('plot', 'twists'), 2598: 'stories', 2599: 'pilot', 2600: 'technology', 2601: 'old', 2602: 'boston', 2603: 'girlfriend', 2604: 'starred', 2605: 'bill', 2606: ('only', 'reason'), 2607: 'cartoonish', 2608: 'carrying', 2609: 'bastard', 2610: 'produce', 2611: 'logical', 2612: ('over', 'top'), 2613: 'paris', 2614: 'hear', 2615: ('batman', 'robin'), 2616: 'fire', 2617: 'couldn', 2618: 'eat', 2619: 'excessive', 2620: 'pitch', 2621: ('private', 'ryan'), 2622: 'adaptation', 2623: ('after', 'while'), 2624: ('rather', 'than'), 2625: 'bathroom', 2626: 'super', 2627: 'ghosts', 2628: 'sword', 2629: 'nearly', 2630: 'stir', 2631: 'incredible', 2632: 'becomes', 2633: 'laughed', 2634: ('life', 'but'), 2635: ('kevin', 'bacon'), 2636: 'jack', 2637: 'surreal', 2638: 'hewitt', 2639: ('will', 'find'), 2640: 'duke', 2641: 'concerned', 2642: ('one', 'liners'), 2643: ('bad', 'guy'), 2644: ('there', 'lot'), 2645: 'strange', 2646: 'cruise', 2647: 'racism', 2648: ('bit', 'more'), 2649: 'adding', 2650: 'hitting', 2651: 'nicholas', 2652: 'individual', 2653: 'enemy', 2654: 'dinner', 2655: 'proud', 2656: 'freeman', 2657: 'carrey', 2658: 'beneath', 2659: 'suffering', 2660: 'situation', 2661: 'mexico', 2662: 'screens', 2663: ('up', 'all'), 2664: 'sky', 2665: 'price', 2666: 'costner', 2667: ('my', 'opinion'), 2668: 'uma', 2669: 'sheer', 2670: 'movies', 2671: 'commercials', 2672: ('figure', 'out'), 2673: ('but', 'too'), 2674: 'alive', 2675: 'birthday', 2676: 'audience', 2677: ('difference', 'between'), 2678: 'defense', 2679: 'minutes', 2680: ('fifteen', 'minutes'), 2681: 'gave', 2682: 'aging', 2683: 'floating', 2684: ('making', 'movie'), 2685: 'waste', 2686: 'standard', 2687: ('obi', 'wan'), 2688: ('will', 'go'), 2689: 'respectively', 2690: 'mixed', 2691: 'passed', 2692: 'player', 2693: ('good', 'performance'), 2694: 'seemingly', 2695: 'get', 2696: ('let', 'me'), 2697: ('don', 'think'), 2698: ('just', 'doesn'), 2699: 'civil', 2700: 'attempting', 2701: ('many', 'ways'), 2702: ('there', 'isn'), 2703: ('something', 'about'), 2704: 'narration', 2705: 'dogma', 2706: ('better', 'than'), 2707: 'drags', 2708: 'witch', 2709: 'deserves', 2710: ('came', 'out'), 2711: 'skin', 2712: 'raimi', 2713: 'toilet', 2714: 'dealer', 2715: 'breathtaking', 2716: ('movie', 'one'), 2717: 'mind', 2718: 'trend', 2719: 'lousy', 2720: 'disappointment', 2721: ('too', 'late'), 2722: 'question', 2723: 'mistake', 2724: ('any', 'film'), 2725: 'sly', 2726: 'hills', 2727: 'mask', 2728: 'halloween', 2729: 'design', 2730: 'known', 2731: 'death', 2732: 'numbers', 2733: ('jean', 'claude'), 2734: 'projects', 2735: 'mentally', 2736: 'mistakes', 2737: 'sidney', 2738: 'menacing', 2739: ('sean', 'connery'), 2740: 'anywhere', 2741: 'co', 2742: 'struggling', 2743: 'similarly', 2744: 'calling', 2745: 'ironic', 2746: 'pg', 2747: 'field', 2748: 'gag', 2749: 'talents', 2750: 'grisham', 2751: 'peak', 2752: 'gus', 2753: 'assistant', 2754: 'fargo', 2755: 'scheme', 2756: 'never', 2757: 'random', 2758: 'nights', 2759: 'all', 2760: 'richards', 2761: 'ingredients', 2762: ('live', 'up'), 2763: 'development', 2764: 'doubt', 2765: 'shots', 2766: ('tv', 'show'), 2767: ('while', 'watching'), 2768: 'visuals', 2769: 'chan', 2770: 'information', 2771: 'few', 2772: 'matters', 2773: 'documentary', 2774: 'wicked', 2775: 'lesbian', 2776: ('only', 'problem'), 2777: 'worn', 2778: 'scared', 2779: 'schindler', 2780: 'bloody', 2781: 'methods', 2782: ('rest', 'movie'), 2783: 'bucks', 2784: 'kidman', 2785: 'delightful', 2786: 'debut', 2787: 'twisted', 2788: 'shue', 2789: 'jokes', 2790: 'private', 2791: 'plenty', 2792: 'hint', 2793: 'losing', 2794: ('some', 'people'), 2795: ('serial', 'killer'), 2796: 'stay', 2797: 'pig', 2798: 'staying', 2799: 'looking', 2800: ('doesn', 'know'), 2801: 'quest', 2802: 'seems', 2803: ('pick', 'up'), 2804: 'course', 2805: 'tears', 2806: 'almost', 2807: 'detail', 2808: ('jackie', 'brown'), 2809: 'rick', 2810: 'sticks', 2811: 'pulp', 2812: 'born', 2813: 'lets', 2814: 'confidence', 2815: 'chris', 2816: 'parents', 2817: ('also', 'very'), 2818: ('why', 'would'), 2819: 'handed', 2820: 'george', 2821: 'guts', 2822: 'won', 2823: 'mark', 2824: 'lonely', 2825: 'continue', 2826: 'aliens', 2827: ('because', 'there'), 2828: ('morgan', 'freeman'), 2829: ('same', 'time'), 2830: 'references', 2831: 'grows', 2832: 'emotionally', 2833: 'surprised', 2834: 'invasion', 2835: 'rich', 2836: 'described', 2837: ('big', 'budget'), 2838: ('seen', 'film'), 2839: 'fairly', 2840: 'soul', 2841: 'thoroughly', 2842: ('all', 'right'), 2843: 'soldier', 2844: 'bank', 2845: 'kick', 2846: 'large', 2847: ('last', 'summer'), 2848: 'sound', 2849: 'hunter', 2850: 'downright', 2851: 'mouth', 2852: 'volcano', 2853: 'vegas', 2854: 'decision', 2855: 'middle', 2856: 'initial', 2857: ('come', 'up'), 2858: 'nazi', 2859: 'brother', 2860: 'yourself', 2861: 'ain', 2862: 'jude', 2863: 'chance', 2864: 'appeared', 2865: 'call', 2866: 'motion', 2867: 'strike', 2868: 'buddies', 2869: 'am', 2870: 'bring', 2871: ('ever', 'made'), 2872: 'edition', 2873: 'maintain', 2874: 'kiss', 2875: 'followed', 2876: 'warrior', 2877: 'neck', 2878: 'dry', 2879: 'touch', 2880: 'jr', 2881: 'reminds', 2882: ('summer', 'movie'), 2883: 'explain', 2884: 'rather', 2885: 'dies', 2886: 'each', 2887: ('not', 'only', 'does'), 2888: 'kingsley', 2889: 'effect', 2890: 'baseball', 2891: 'ralph', 2892: 'reviews', 2893: ('end', 'credits'), 2894: 'mini', 2895: 'desert', 2896: ('tommy', 'lee'), 2897: 'moments', 2898: 'meeting', 2899: 'fighter', 2900: 'formula', 2901: 'today', 2902: 'mountain', 2903: 'stunts', 2904: 'fortune', 2905: ('half', 'hour'), 2906: 'moral', 2907: 'hopes', 2908: 'regardless', 2909: 'affair', 2910: 'lynch', 2911: 'disbelief', 2912: 'anymore', 2913: 'stage', 2914: 'thankfully', 2915: 'brand', 2916: 'easy', 2917: 'led', 2918: 'difference', 2919: 'dating', 2920: ('oscar', 'nomination'), 2921: 'part', 2922: 'ben', 2923: 'scripts', 2924: 'forward', 2925: 'crash', 2926: 'realistic', 2927: 'wish', 2928: 'mid', 2929: ('had', 'no'), 2930: 'switch', 2931: 'proceedings', 2932: ('film', 'like'), 2933: 'dawn', 2934: ('there', 'not'), 2935: 'front', 2936: 'waiting', 2937: 'haunted', 2938: 'forget', 2939: 'duchovny', 2940: ('end', 'film'), 2941: ('only', 'few'), 2942: ('movies', 'like'), 2943: 'impressive', 2944: ('ed', 'wood'), 2945: 'tedious', 2946: ('want', 'see'), 2947: 'path', 2948: 'wins', 2949: 'lovable', 2950: 'sgt', 2951: 'sphere', 2952: 'angles', 2953: 'laughs', 2954: ('their', 'way'), 2955: 'cross', 2956: 'pace', 2957: 'sequence', 2958: 'flaw', 2959: 'blind', 2960: 'so', 2961: 'uninspired', 2962: 'obsession', 2963: 'serves', 2964: 'notch', 2965: 'spiritual', 2966: 'sexuality', 2967: 'richard', 2968: 'double', 2969: 'bates', 2970: 'impact', 2971: 'started', 2972: ('about', 'all'), 2973: 'real', 2974: 'twice', 2975: 'forms', 2976: ('shows', 'up'), 2977: ('film', 'very'), 2978: 'bobby', 2979: 'natural', 2980: ('one', 'few'), 2981: ('don', 'like'), 2982: 'group', 2983: 'screaming', 2984: 'painting', 2985: 'revealed', 2986: 'exercise', 2987: ('kevin', 'smith'), 2988: 'straight', 2989: 'travel', 2990: ('first', 'film'), 2991: 'shame', 2992: 'feeling', 2993: 'inventive', 2994: 'gabriel', 2995: 'australia', 2996: ('hong', 'kong'), 2997: 'toys', 2998: ('everyone', 'else'), 2999: 'shocking', 3000: ('well', 'but'), 3001: 'dreamworks', 3002: 'exact', 3003: 'expressions', 3004: ('enough', 'make'), 3005: ('your', 'life'), 3006: ('had', 'some'), 3007: 'task', 3008: ('main', 'character'), 3009: 'basically', 3010: 'survivors', 3011: ('best', 'performance'), 3012: 'shock', 3013: 'usual', 3014: 'filming', 3015: ('worse', 'than'), 3016: 'box', 3017: 'cliff', 3018: 'searching', 3019: 'caring', 3020: 'developing', 3021: 'angry', 3022: 'french', 3023: 'village', 3024: ('despite', 'fact'), 3025: 'famous', 3026: 'ended', 3027: ('main', 'characters'), 3028: ('know', 'last', 'summer'), 3029: 'basis', 3030: 'lethal', 3031: ('find', 'themselves'), 3032: 'bat', 3033: 've', 3034: 'attempted', 3035: 'manner', 3036: 'live', 3037: 'presentation', 3038: ('some', 'more'), 3039: 'fantastic', 3040: 'lacking', 3041: ('meg', 'ryan'), 3042: 'laura', 3043: 'frank', 3044: 'ahead', 3045: 'appropriate', 3046: ('makes', 'film'), 3047: 'bought', 3048: 'consists', 3049: 'adds', 3050: 'had', 3051: 'surprise', 3052: 'very', 3053: ('film', 'most'), 3054: ('original', 'film'), 3055: ('there', 'even'), 3056: 'wow', 3057: 'teenagers', 3058: 'leonard', 3059: 'convincing', 3060: ('lost', 'space'), 3061: 'alexander', 3062: 'yes', 3063: 'aspect', 3064: 'tarantino', 3065: 'campaign', 3066: 'senator', 3067: ('blair', 'witch'), 3068: ('uma', 'thurman'), 3069: 'seeing', 3070: ('than', 'most'), 3071: 'cell', 3072: ('take', 'over'), 3073: 'green', 3074: 'gang', 3075: ('second', 'half'), 3076: 'spin', 3077: 'devoted', 3078: ('life', 'beautiful'), 3079: ('disney', 'animated'), 3080: 'site', 3081: 'men', 3082: 'series', 3083: ('see', 'him'), 3084: 'awkward', 3085: 'efforts', 3086: 'fellow', 3087: 'members', 3088: ('no', 'way'), 3089: 'letting', 3090: 'russell', 3091: 'quiet', 3092: 'cope', 3093: 'haven', 3094: ('million', 'dollar'), 3095: 'warner', 3096: ('quentin', 'tarantino'), 3097: 'casablanca', 3098: 'genius', 3099: 'pass', 3100: ('rest', 'cast'), 3101: 'element', 3102: ('sixth', 'sense'), 3103: 'experienced', 3104: 'commentary', 3105: 'storm', 3106: 'essence', 3107: ('tv', 'series'), 3108: 'onscreen', 3109: 'cheek', 3110: ('doesn', 'seem'), 3111: 'factory', 3112: 'hey', 3113: 'hackman', 3114: 'inner', 3115: 'decade', 3116: ('bottom', 'line'), 3117: 'hang', 3118: 'bear', 3119: 'ewan', 3120: 'blond', 3121: 'likes', 3122: 'street', 3123: 'production', 3124: 'fails', 3125: ('about', 'movie'), 3126: ('not', 'say'), 3127: 'client', 3128: 'manages', 3129: 'country', 3130: 'hopkins', 3131: 'expensive', 3132: ('no', 'longer'), 3133: 'aged', 3134: 'possesses', 3135: ('but', 'all'), 3136: 'battlefield', 3137: ('but', 'certainly'), 3138: 'said', 3139: 'alas', 3140: ('without', 'any'), 3141: 'appreciate', 3142: 'appearing', 3143: 'vince', 3144: 'convention', 3145: 'offer', 3146: ('film', 'so'), 3147: 'grow', 3148: 'lawyer', 3149: ('not', 'enough'), 3150: ('film', 'also'), 3151: 'italian', 3152: 'powder', 3153: 'avoid', 3154: 'potentially', 3155: 'patrick', 3156: 'learns', 3157: 'particularly', 3158: 'flash', 3159: 'overbearing', 3160: 'thomas', 3161: 'forever', 3162: 'actors', 3163: 'irritating', 3164: 'episode', 3165: 'friendly', 3166: 'turns', 3167: ('just', 'how'), 3168: 'crime', 3169: ('soap', 'opera'), 3170: 'then', 3171: 'courtroom', 3172: 'finn', 3173: 'spawn', 3174: 'up', 3175: 'credible', 3176: ('every', 'time'), 3177: 'token', 3178: 'failure', 3179: 'amazed', 3180: ('young', 'man'), 3181: 'perhaps', 3182: 'puts', 3183: 'streets', 3184: 'trash', 3185: 'substance', 3186: 'derek', 3187: ('some', 'reason'), 3188: 'settle', 3189: 'talk', 3190: 'cute', 3191: 'clueless', 3192: ('romeo', 'juliet'), 3193: 'spot', 3194: 'spending', 3195: ('out', 'their'), 3196: 'service', 3197: 'cannot', 3198: 'seek', 3199: ('finds', 'out'), 3200: 'working', 3201: 'found', 3202: 'bottle', 3203: 'married', 3204: 'frustrated', 3205: 'typical', 3206: 'murray', 3207: 'ensemble', 3208: 'brought', 3209: 'understand', 3210: 'effects', 3211: ('action', 'movie'), 3212: ('make', 'him'), 3213: ('action', 'scenes'), 3214: 'grown', 3215: ('other', 'words'), 3216: 'leaving', 3217: ('film', 'however'), 3218: 'fell', 3219: ('doesn', 'work'), 3220: 'politics', 3221: 'forest', 3222: 'sorvino', 3223: 'mystical', 3224: 'troopers', 3225: 'wind', 3226: 'already', 3227: 'solid', 3228: 'eye', 3229: ('james', 'woods'), 3230: 'upcoming', 3231: ('very', 'very'), 3232: ('one', 'many'), 3233: 'poignant', 3234: 'weird', 3235: ('one', 'character'), 3236: 'lands', 3237: 'work', 3238: ('no', 'less'), 3239: ('knows', 'how'), 3240: 'villain', 3241: 'color', 3242: 'kid', 3243: 'pet', 3244: 'las', 3245: 'direction', 3246: 'gags', 3247: 'initially', 3248: 'show', 3249: 'why', 3250: 'col', 3251: 'train', 3252: 'ross', 3253: ('one', 'dimensional'), 3254: 'tyler', 3255: 'feelings', 3256: 'experience', 3257: ('rest', 'film'), 3258: ('then', 'again'), 3259: 'adams', 3260: 'lot', 3261: 'charged', 3262: 'effectively', 3263: 'uninteresting', 3264: 'flashy', 3265: 'creating', 3266: 'teenage', 3267: ('found', 'myself'), 3268: 'segment', 3269: 'former', 3270: 'cameos', 3271: 'films', 3272: ('fun', 'watch'), 3273: 'comedian', 3274: ('film', 'really'), 3275: 'killing', 3276: 'doors', 3277: 'jeremy', 3278: 'viewers', 3279: 'best', 3280: 'sleepy', 3281: 'vincent', 3282: ('sleepy', 'hollow'), 3283: 'prostitute', 3284: 'aren', 3285: 'magical', 3286: 'broken', 3287: 'when', 3288: 'matilda', 3289: ('through', 'film'), 3290: 'enjoying', 3291: 'sentimental', 3292: 'walking', 3293: 'mental', 3294: 'carries', 3295: 'baldwin', 3296: ('just', 'because'), 3297: 'beautiful', 3298: ('julia', 'roberts'), 3299: 'hostage', 3300: 'welles', 3301: 'control', 3302: 'mitchell', 3303: 'wife', 3304: 'ridiculous', 3305: 'darryl', 3306: 'relate', 3307: 'de', 3308: 'steal', 3309: 'isolated', 3310: 'fiennes', 3311: ('not', 'even'), 3312: ('film', 'no'), 3313: ('no', 'real'), 3314: 'bother', 3315: 'unrealistic', 3316: 'national', 3317: ('make', 'sure'), 3318: ('follow', 'up'), 3319: 'support', 3320: ('film', 'one'), 3321: ('character', 'film'), 3322: ('old', 'man'), 3323: 'greatness', 3324: 'mature', 3325: 'carried', 3326: ('not', 'exactly'), 3327: ('film', 'opens'), 3328: ('like', 'one'), 3329: 'growing', 3330: 'jumping', 3331: 'british', 3332: 'mob', 3333: ('many', 'people'), 3334: 'linda', 3335: ('story', 'line'), 3336: 'handles', 3337: 'astonishing', 3338: 'stallone', 3339: ('point', 'view'), 3340: ('definitely', 'not'), 3341: 'okay', 3342: 'among', 3343: 'focus', 3344: ('would', 'not'), 3345: 'wahlberg', 3346: 'formulaic', 3347: 'plain', 3348: 'actually', 3349: 'build', 3350: 'extreme', 3351: 'member', 3352: 'arm', 3353: 'discovers', 3354: 'bare', 3355: 'leo', 3356: 'admit', 3357: 'ripley', 3358: 'thriller', 3359: 'segments', 3360: 'object', 3361: 'philosophy', 3362: 'cause', 3363: 'eating', 3364: 'lawrence', 3365: ('director', 'john'), 3366: 'americans', 3367: 'develops', 3368: ('film', 'would'), 3369: 'opera', 3370: ('not', 'bad'), 3371: 'refuses', 3372: 'crisis', 3373: 'ridiculously', 3374: 'spy', 3375: 'always', 3376: 'truth', 3377: 'medium', 3378: 'happens', 3379: 'tiresome', 3380: 'nervous', 3381: 'flashbacks', 3382: 'nightmares', 3383: 'crew', 3384: ('sit', 'through'), 3385: 'per', 3386: 'hoffman', 3387: ('something', 'like'), 3388: 'society', 3389: 'various', 3390: 'lost', 3391: 'macho', 3392: 'ghost', 3393: 'wonders', 3394: 'beings', 3395: 'rules', 3396: 'reach', 3397: ('doesn', 'even'), 3398: 'points', 3399: 'reads', 3400: 'advantage', 3401: 'convicted', 3402: 'er', 3403: 'developed', 3404: ('first', 'place'), 3405: 'product', 3406: 'model', 3407: ('back', 'forth'), 3408: 'appreciated', 3409: 'families', 3410: ('though', 'not'), 3411: ('film', 'some'), 3412: ('good', 'will'), 3413: 'abilities', 3414: 'mentioned', 3415: 'fear', 3416: 'sympathy', 3417: 'there', 3418: 'actual', 3419: 'asked', 3420: 'spoken', 3421: ('another', 'one'), 3422: 'miss', 3423: 'll', 3424: 'presented', 3425: 'effective', 3426: 'episodes', 3427: 'delivered', 3428: 'thrilling', 3429: 'notes', 3430: 'mainly', 3431: 'anna', 3432: 'relief', 3433: 'chooses', 3434: 'device', 3435: ('even', 'worse'), 3436: 'stewart', 3437: 'celebrity', 3438: 'cage', 3439: 'proved', 3440: 'faith', 3441: 'martha', 3442: 'clad', 3443: ('other', 'than'), 3444: 'hilarious', 3445: 'ms', 3446: 'storyline', 3447: 'bruce', 3448: 'chosen', 3449: 'unique', 3450: 'market', 3451: 'technique', 3452: 'mess', 3453: 'skip', 3454: 'example', 3455: ('two', 'men'), 3456: 'welcome', 3457: 'trained', 3458: 'qualities', 3459: 'incredibly', 3460: 'associated', 3461: ('their', 'roles'), 3462: 'suspicious', 3463: 'fresh', 3464: 'wes', 3465: 'camera', 3466: 'should', 3467: 'tense', 3468: 'christian', 3469: ('if', 'there'), 3470: ('little', 'known'), 3471: ('show', 'up'), 3472: ('into', 'story'), 3473: ('ten', 'minutes'), 3474: 'portrait', 3475: 'channel', 3476: 'prison', 3477: 'plays', 3478: 'nearby', 3479: 'julianne', 3480: 'mass', 3481: 'firm', 3482: 'astronaut', 3483: 'judith', 3484: 'dangerous', 3485: 'amazing', 3486: 'focused', 3487: 'captured', 3488: ('will', 'hunting'), 3489: 'hands', 3490: ('turns', 'into'), 3491: 'brothers', 3492: 'meets', 3493: ('black', 'white'), 3494: ('had', 'me'), 3495: 'san', 3496: 'standout', 3497: 'past', 3498: ('de', 'palma'), 3499: 'campbell', 3500: 'having', 3501: 'cameron', 3502: 'gordon', 3503: 'general', 3504: 'basic', 3505: 'scenes', 3506: ('waste', 'time'), 3507: ('one', 'their'), 3508: 'silent', 3509: 'father', 3510: 'criminal', 3511: 'val', 3512: 'getting', 3513: 'love', 3514: 'admittedly', 3515: 'releases', 3516: 'like', 3517: 'players', 3518: 'town', 3519: 'generally', 3520: 'rocky', 3521: 'earlier', 3522: 'resembles', 3523: 'seemed', 3524: ('too', 'far'), 3525: 'molly', 3526: ('bad', 'but'), 3527: ('all', 'other'), 3528: 'island', 3529: 'relationships', 3530: 'idiotic', 3531: 'monkey', 3532: 'listening', 3533: 'running', 3534: 'burning', 3535: 'webb', 3536: ('like', 'movie'), 3537: 'kenneth', 3538: 'hearing', 3539: ('red', 'line'), 3540: 'happened', 3541: 'runs', 3542: 'particular', 3543: ('any', 'way'), 3544: 'happily', 3545: 'pure', 3546: 'devices', 3547: ('face', 'off'), 3548: ('not', 'sure'), 3549: 'morgan', 3550: 'coach', 3551: 'killed', 3552: 'aboard', 3553: 'personally', 3554: 'hurricane', 3555: 'fights', 3556: 'issues', 3557: 'upon', 3558: 'current', 3559: 'thing', 3560: ('so', 'many'), 3561: 'adult', 3562: 'wilson', 3563: 'category', 3564: 'intense', 3565: 'school', 3566: 'whether', 3567: 'church', 3568: 'likeable', 3569: 'enjoyment', 3570: 'adventure', 3571: 'winner', 3572: 'rocks', 3573: 'tone', 3574: 'brutal', 3575: 'force', 3576: 'stock', 3577: 'fish', 3578: 'solve', 3579: 'looked', 3580: 'bound', 3581: 'adam', 3582: 'accidentally', 3583: 'shine', 3584: 'craig', 3585: 'campy', 3586: ('movie', 'will'), 3587: 'explosion', 3588: 'stops', 3589: 'anakin', 3590: ('good', 'but'), 3591: 'arrive', 3592: 'charisma', 3593: 'wrestling', 3594: 'hero', 3595: ('half', 'film'), 3596: 'howard', 3597: 'break', 3598: 'shouldn', 3599: 'data', 3600: 'point', 3601: ('him', 'but'), 3602: 'snipes', 3603: ('about', 'film'), 3604: ('tells', 'him'), 3605: 'comment', 3606: 'possessed', 3607: 'singer', 3608: 'flaws', 3609: 'trek', 3610: 'installment', 3611: 'irene', 3612: 'motives', 3613: ('reminded', 'me'), 3614: 'andy', 3615: 'strongly', 3616: 'truck', 3617: 'timing', 3618: ('go', 'through'), 3619: 'will', 3620: 'buscemi', 3621: ('just', 'about'), 3622: ('haven', 'seen'), 3623: 'between', 3624: 'nature', 3625: ('after', 'being'), 3626: 'gas', 3627: 'schumacher', 3628: ('our', 'hero'), 3629: 'forces', 3630: 'game', 3631: 'holds', 3632: 'remain', 3633: 'lacks', 3634: 'sends', 3635: 'building', 3636: 'life', 3637: ('year', 'old'), 3638: 'outstanding', 3639: 'influence', 3640: 'titled', 3641: 'attorney', 3642: ('perhaps', 'most'), 3643: 'josh', 3644: 'stolen', 3645: 'eyes', 3646: ('well', 'done'), 3647: 'helped', 3648: 'damme', 3649: ('but', 'most'), 3650: 'grim', 3651: 'younger', 3652: 'promises', 3653: 'anastasia', 3654: ('will', 'probably'), 3655: 'wrapped', 3656: 'barry', 3657: 'executive', 3658: ('low', 'budget'), 3659: 'causing', 3660: 'wing', 3661: 'nelson', 3662: 'seem', 3663: 'producer', 3664: 'predecessor', 3665: 'changes', 3666: 'taking', 3667: 'seconds', 3668: 'fishburne', 3669: 'critical', 3670: 'imagination', 3671: 'iii', 3672: 'pop', 3673: 'gotten', 3674: 'martial', 3675: 'unforgettable', 3676: 'actress', 3677: 'carefully', 3678: 'austin', 3679: ('action', 'film'), 3680: ('one', 'most'), 3681: 'marry', 3682: 'wood', 3683: 'bridge', 3684: ('than', 'any'), 3685: 'thurman', 3686: 'enough', 3687: 'thrill', 3688: 'bullets', 3689: 'constructed', 3690: 'spoof', 3691: 'angela', 3692: 'background', 3693: 'lots', 3694: 'says', 3695: 'notably', 3696: ('find', 'out'), 3697: 'answers', 3698: 'winds', 3699: 'no', 3700: 'tarzan', 3701: 'bay', 3702: 'critic', 3703: 'helping', 3704: 'quaid', 3705: 'strangely', 3706: 'effort', 3707: 'called', 3708: 'block', 3709: 'paranoid', 3710: 'drug', 3711: 'executed', 3712: ('see', 'movie'), 3713: 'try', 3714: 'accents', 3715: ('many', 'years'), 3716: 'ideas', 3717: ('pretty', 'good'), 3718: 'magnificent', 3719: 'ho', 3720: 'dawson', 3721: 'candy', 3722: 'hadn', 3723: 'meyer', 3724: 'instance', 3725: 'studio', 3726: 'ready', 3727: 'leaves', 3728: 'betty', 3729: 'other', 3730: 'joy', 3731: 'charismatic', 3732: 'reed', 3733: ('their', 'characters'), 3734: 'dozen', 3735: 'francis', 3736: 'certain', 3737: 'bitter', 3738: 'starts', 3739: 'alice', 3740: 'crystal', 3741: 'thrillers', 3742: ('tommy', 'lee', 'jones'), 3743: 'hunting', 3744: ('but', 'also'), 3745: 'evening', 3746: 'conversations', 3747: ('him', 'out'), 3748: 'thoughts', 3749: 'pleasures', 3750: ('when', 'one'), 3751: 'take', 3752: 'area', 3753: 'disease', 3754: 'enjoy', 3755: 'conceived', 3756: ('scene', 'where'), 3757: 'many', 3758: 'everybody', 3759: 'mother', 3760: 'move', 3761: 'tragedy', 3762: 'list', 3763: 'fact', 3764: 'hip', 3765: 'magazine', 3766: 'blue', 3767: 'extended', 3768: ('film', 'based'), 3769: 'gavin', 3770: ('feature', 'film'), 3771: ('pulp', 'fiction'), 3772: 'competition', 3773: 'viewed', 3774: 'week', 3775: 'screams', 3776: 'brief', 3777: 'zeta', 3778: ('any', 'real'), 3779: 'somehow', 3780: 'murdered', 3781: 'cinematic', 3782: 'flicks', 3783: 'suicide', 3784: 'crazed', 3785: 'put', 3786: 'affleck', 3787: 'watching', 3788: 'portrayal', 3789: 'teaching', 3790: 'diane', 3791: 'ricky', 3792: 'notice', 3793: 'artistic', 3794: ('more', 'than', 'just'), 3795: 'may', 3796: 'confident', 3797: 'case', 3798: 'kinda', 3799: 'out', 3800: ('but', 'nothing'), 3801: ('how', 'about'), 3802: 'wars', 3803: 'decide', 3804: 'commanding', 3805: 'kim', 3806: 'argento', 3807: 'previews', 3808: ('sense', 'humor'), 3809: 'dull', 3810: 'hasn', 3811: 'jeff', 3812: 'suspenseful', 3813: 'study', 3814: 'horror', 3815: 'alec', 3816: 'chasing', 3817: 'viewer', 3818: 'cash', 3819: 'faced', 3820: 'uncle', 3821: ('although', 'not'), 3822: 'gene', 3823: 'lengthy', 3824: ('make', 'movie'), 3825: 'disturbing', 3826: 'jason', 3827: ('finds', 'himself'), 3828: 'garbage', 3829: 'weak', 3830: 'easier', 3831: 'rooting', 3832: 'painfully', 3833: 'cover', 3834: ('starship', 'troopers'), 3835: 'gorgeous', 3836: 'endearing', 3837: 'priest', 3838: ('end', 'days'), 3839: 'survive', 3840: 'carpenter', 3841: 'change', 3842: 'millionaire', 3843: 'review', 3844: 'bullock', 3845: 'prior', 3846: 'unknown', 3847: 'flashback', 3848: 'experiment', 3849: 'nuclear', 3850: 'seat', 3851: 'involving', 3852: 'gadget', 3853: 'ed', 3854: 'corner', 3855: 'political', 3856: 'deeper', 3857: 'terrible', 3858: 'actor', 3859: 'claims', 3860: 'without', 3861: ('visual', 'effects'), 3862: 'turned', 3863: ('urban', 'legend'), 3864: 'believe', 3865: 'ones', 3866: ('film', 'first'), 3867: 'wanting', 3868: ('wonder', 'why'), 3869: 'established', 3870: 'deeply', 3871: 'apparent', 3872: 'entirely', 3873: ('film', 'only'), 3874: 'same', 3875: ('film', 'takes'), 3876: 'second', 3877: ('dark', 'city'), 3878: 'norton', 3879: ('would', 'make'), 3880: 'bird', 3881: 'both', 3882: 'hardly', 3883: 'kong', 3884: 'carol', 3885: 'died', 3886: 'poker', 3887: 'beautifully', 3888: 'sci', 3889: 'midst', 3890: ('if', 'anything'), 3891: 'miami', 3892: ('only', 'one'), 3893: 'snake', 3894: 'easily', 3895: 'ultimately', 3896: ('but', 'no'), 3897: 'expert', 3898: 'builds', 3899: 'bottom', 3900: ('not', 'all'), 3901: 'hit', 3902: 'dante', 3903: ('their', 'relationship'), 3904: ('two', 'years'), 3905: 'farrelly', 3906: 'toward', 3907: 'flying', 3908: 'juliet', 3909: ('if', 'had'), 3910: 'holiday', 3911: 'fears', 3912: 'gone', 3913: 'pointless', 3914: 'doctor', 3915: 'douglas', 3916: 'unpredictable', 3917: ('even', 'more'), 3918: 'luc', 3919: ('but', 'just'), 3920: 'third', 3921: ('schindler', 'list'), 3922: ('very', 'much'), 3923: 'reason', 3924: 'intelligence', 3925: ('things', 'about'), 3926: ('way', 'through'), 3927: 'china', 3928: 'gradually', 3929: 'upper', 3930: 'date', 3931: ('best', 'part'), 3932: 'guy', 3933: 'mamet', 3934: 'achievement', 3935: 'presence', 3936: 'favor', 3937: 'horse', 3938: 'know', 3939: 'obvious', 3940: 'faithful', 3941: 'tony', 3942: 'investigate', 3943: ('people', 'will'), 3944: 'warning', 3945: 'whenever', 3946: 'boring', 3947: 'thrills', 3948: 'does', 3949: ('starts', 'out'), 3950: 'donald', 3951: 'sandler', 3952: ('but', 'would'), 3953: 'relies', 3954: 'truman', 3955: 'convoluted', 3956: 'happiness', 3957: ('when', 'movie'), 3958: ('whether', 'not'), 3959: ('along', 'way'), 3960: 'one', 3961: 'scary', 3962: 'closing', 3963: ('rip', 'off'), 3964: 'li', 3965: 'robin', 3966: 'walker', 3967: 'weeks', 3968: 'suspense', 3969: 'following', 3970: 'fill', 3971: 'replaced', 3972: 'cast', 3973: 'aid', 3974: 'hall', 3975: 'delight', 3976: ('scene', 'between'), 3977: 'chicago', 3978: 'despite', 3979: 'opportunity', 3980: 'jessica', 3981: 'presumably', 3982: ('all', 'way'), 3983: 'chow', 3984: 'godzilla', 3985: 'superman', 3986: 'novel', 3987: ('film', 'ever'), 3988: ('one', 'would'), 3989: ('re', 'going'), 3990: ('but', 'some'), 3991: 'echoes', 3992: 'rebecca', 3993: 'gentle', 3994: ('most', 'people'), 3995: 'beach', 3996: 'rival', 3997: ('true', 'story'), 3998: 'worthwhile', 3999: 'books', 4000: 'noir', 4001: 'gross', 4002: 'explains', 4003: ('ve', 'ever'), 4004: 'annoying', 4005: 'sir', 4006: 'myself', 4007: 'damon', 4008: 'cop', 4009: 'north', 4010: 'queen', 4011: 'legend', 4012: 'complex', 4013: 'imaginative', 4014: 'hopelessly', 4015: 'psychotic', 4016: 'suspects', 4017: 'business', 4018: 'masterful', 4019: 'suffered', 4020: 'wishes', 4021: ('right', 'now'), 4022: 'malkovich', 4023: 'happen', 4024: ('like', 'film'), 4025: 'explanation', 4026: 'nc', 4027: 'court', 4028: 'em', 4029: 'admirable', 4030: 'facts', 4031: 'gold', 4032: 'bowfinger', 4033: 'theatrical', 4034: 'guys', 4035: 'nomination', 4036: 'watched', 4037: 'alone', 4038: 'latter', 4039: 'reading', 4040: 'sentence', 4041: 'consider', 4042: 'willing', 4043: 'sex', 4044: ('far', 'more'), 4045: 'caliber', 4046: 'dressing', 4047: ('robin', 'williams'), 4048: 'yet', 4049: 'flubber', 4050: 'ancient', 4051: ('make', 'sense'), 4052: ('good', 'will', 'hunting'), 4053: 'chuckle', 4054: 'dennis', 4055: 'un', 4056: 'extremely', 4057: 'loved', 4058: 'robot', 4059: 'afterwards', 4060: 'robbery', 4061: 'dick', 4062: ('but', 'didn'), 4063: 'awake', 4064: ('but', 'doesn'), 4065: ('believe', 'me'), 4066: 'trite', 4067: 'please', 4068: ('mel', 'gibson'), 4069: ('not', 'nearly'), 4070: 'destined', 4071: 'benigni', 4072: 'putting', 4073: 'moment', 4074: 'drunk', 4075: 'quirky', 4076: 'target', 4077: 'way', 4078: 'edward', 4079: 'central', 4080: 'cuts', 4081: 'satan', 4082: 'joel', 4083: 'lucas', 4084: 'evidence', 4085: 'disappointed', 4086: 'comes', 4087: 'provides', 4088: 'controversial', 4089: ('liam', 'neeson'), 4090: 'stuck', 4091: 'beatty', 4092: 'excitement', 4093: 'living', 4094: ('will', 'make'), 4095: 'your', 4096: 'heard', 4097: 'ironically', 4098: 'account', 4099: 'nurse', 4100: 'perfect', 4101: 'wave', 4102: 'tongue', 4103: 'produced', 4104: ('whole', 'movie'), 4105: 'plane', 4106: 'handsome', 4107: 'sally', 4108: 'century', 4109: 'bar', 4110: 'broderick', 4111: 'cauldron', 4112: 'fourth', 4113: 'lovers', 4114: 'hotel', 4115: 'hide', 4116: 'directed', 4117: 'max', 4118: 'program', 4119: 'handful', 4120: 'suspect', 4121: 'look', 4122: 'von', 4123: ('film', 'takes', 'place'), 4124: 'creepy', 4125: 'wears', 4126: 'pleasure', 4127: 'fincher', 4128: 'climax', 4129: 'mix', 4130: 'patient', 4131: 'laugh', 4132: 'ellen', 4133: 'literally', 4134: 'forced', 4135: 'romance', 4136: 'picture', 4137: 'worked', 4138: 'jealous', 4139: 'succeed', 4140: 'wild', 4141: 'army', 4142: 'totally', 4143: ('aspect', 'film'), 4144: 'appears', 4145: 'accurate', 4146: 'curious', 4147: 'knowing', 4148: 'within', 4149: 'tucker', 4150: 'worried', 4151: 'slightest', 4152: ('my', 'mind'), 4153: 'taylor', 4154: ('drew', 'barrymore'), 4155: 'unpleasant', 4156: 'darkness', 4157: 'physical', 4158: ('some', 'very'), 4159: 'hard', 4160: 'amy', 4161: ('no', 'sense'), 4162: 'original', 4163: ('will', 'never'), 4164: 'winning', 4165: 'video', 4166: ('how', 'many'), 4167: ('nearly', 'every'), 4168: 'language', 4169: 'offers', 4170: 'better', 4171: 'tom', 4172: 'editing', 4173: 'hurt', 4174: 'lights', 4175: 'trailers', 4176: 'thick', 4177: ('end', 'up'), 4178: ('billy', 'crystal'), 4179: 'cindy', 4180: 'creatures', 4181: 'evil', 4182: 'peace', 4183: 'chucky', 4184: ('jim', 'carrey'), 4185: 'plotting', 4186: 'agents', 4187: 'hack', 4188: 'required', 4189: 'trade', 4190: 'fi', 4191: 'disappointing', 4192: 'down', 4193: 'regular', 4194: 'detective', 4195: 'clues', 4196: 'steven', 4197: 'female', 4198: 'more', 4199: 'spacey', 4200: 'test', 4201: 'anne', 4202: 'empire', 4203: 'race', 4204: 'allowed', 4205: 'taste', 4206: ('see', 'film'), 4207: ('little', 'girl'), 4208: 'hated', 4209: 'cuba', 4210: 'farm', 4211: 'recent', 4212: 'offensive', 4213: ('not', 'much'), 4214: 'gift', 4215: 'generated', 4216: 'mtv', 4217: ('film', 'will'), 4218: ('spice', 'girls'), 4219: 'suddenly', 4220: ('all', 'too'), 4221: 'appealing', 4222: 'because', 4223: 'witness', 4224: ('but', 'seems'), 4225: 'fare', 4226: 'find', 4227: 'throwing', 4228: 'catch', 4229: 'marvelous', 4230: 'psycho', 4231: 'jobs', 4232: 'disappears', 4233: 'emotional', 4234: 'reluctant', 4235: 'gain', 4236: 'spots', 4237: 'robert', 4238: 'bulworth', 4239: ('very', 'well'), 4240: 'energy', 4241: 'person', 4242: 'dan', 4243: 'fault', 4244: 'subplots', 4245: 'creator', 4246: 'epic', 4247: 'becoming', 4248: 'blank', 4249: ('music', 'video'), 4250: 'questions', 4251: 'tie', 4252: ('there', 'so'), 4253: 'aforementioned', 4254: ('there', 'also'), 4255: 'ship', 4256: 'horizon', 4257: 'message', 4258: 'cartoon', 4259: 'complete', 4260: 'exactly', 4261: ('comic', 'book'), 4262: 'journey', 4263: 'jim', 4264: 'granger', 4265: 'display', 4266: 'sent', 4267: 'sick', 4268: 'worthy', 4269: 'serial', 4270: 'childhood', 4271: 'originality', 4272: 'edge', 4273: ('so', 'why'), 4274: ('film', 'director'), 4275: 'cruel', 4276: 'response', 4277: ('when', 'first'), 4278: 'hearted', 4279: 'send', 4280: 'owner', 4281: 'team', 4282: 'silence', 4283: 'burn', 4284: 'marc', 4285: ('just', 'like'), 4286: 'challenge', 4287: ('one', 'scene'), 4288: 'sign', 4289: 'finding', 4290: 'ask', 4291: 'loving', 4292: 'spanish', 4293: ('make', 'film'), 4294: 'narrative', 4295: 'lucy', 4296: 'involved', 4297: 'jail', 4298: 'majority', 4299: ('years', 'after'), 4300: 'vietnam', 4301: 'agree', 4302: 'chaos', 4303: 'ignore', 4304: 'loyal', 4305: 'guilty', 4306: ('plot', 'holes'), 4307: 'pacino', 4308: 'smoking', 4309: 'gal', 4310: 'yeah', 4311: 'ticket', 4312: ('there', 'nothing'), 4313: ('nothing', 'else'), 4314: 'names', 4315: 'given', 4316: ('out', 'film'), 4317: 'positive', 4318: 'tossed', 4319: ('reason', 'why'), 4320: 'accident', 4321: 'california', 4322: 'redeeming', 4323: 'harder', 4324: 'reminded', 4325: ('movie', 'even'), 4326: 'remotely', 4327: 'multi', 4328: 'lou', 4329: 'troubled', 4330: 'east', 4331: 'need', 4332: 'infamous', 4333: 'core', 4334: 'nicholson', 4335: 'talks', 4336: 'territory', 4337: 'crossing', 4338: 'wire', 4339: 'released', 4340: 'headed', 4341: 'hong', 4342: 'naked', 4343: 'favorite', 4344: 'direct', 4345: ('there', 'something'), 4346: 'sarah', 4347: 'kind', 4348: 'during', 4349: 'nicole', 4350: 'occasional', 4351: 'lively', 4352: 'failed', 4353: 'spirit', 4354: 'fully', 4355: 'faces', 4356: ('great', 'film'), 4357: ('less', 'than'), 4358: 'terminator', 4359: 'until', 4360: ('over', 'over'), 4361: 'deal', 4362: 'expect', 4363: 'beat', 4364: 'serious', 4365: 'silver', 4366: 'providing', 4367: ('times', 'before'), 4368: 'donnell', 4369: ('if', 'want'), 4370: 'hell', 4371: 'jet', 4372: 'explaining', 4373: 'under', 4374: 'touches', 4375: 'twins', 4376: 'afraid', 4377: ('lot', 'fun'), 4378: 'importantly', 4379: 'melodrama', 4380: 'give', 4381: ('film', 'but'), 4382: 'sad', 4383: 'neighbor', 4384: 'attack', 4385: 'romeo', 4386: 'eerie', 4387: 'broke', 4388: 'become', 4389: 'surface', 4390: 'ass', 4391: ('film', 'about'), 4392: 'credibility', 4393: 'personal', 4394: 'esque', 4395: ('first', 'time'), 4396: 'trying', 4397: 'things', 4398: 'heroine', 4399: 'laughing', 4400: ('come', 'off'), 4401: 'alan', 4402: 'just', 4403: 'chases', 4404: 'wasn', 4405: 'religious', 4406: 'women', 4407: 'mcgregor', 4408: 'confusion', 4409: 'important', 4410: 'jungle', 4411: 'days', 4412: 'sharp', 4413: 'description', 4414: 'warren', 4415: 'craft', 4416: 'lisa', 4417: 'killer', 4418: ('bruce', 'willis'), 4419: 'clown', 4420: ('film', 'actually'), 4421: 'shot', 4422: 'able', 4423: 'crazy', 4424: 'vast', 4425: ('there', 'no'), 4426: 'before', 4427: ('made', 'me'), 4428: 'none', 4429: 'card', 4430: 'extra', 4431: 'benefit', 4432: ('than', 'life'), 4433: 'present', 4434: 'held', 4435: 'jennifer', 4436: 'wright', 4437: 'scale', 4438: 'arnold', 4439: 'distance', 4440: 'commercial', 4441: 'russian', 4442: ('steve', 'martin'), 4443: ('when', 'film'), 4444: ('get', 'me'), 4445: 'classic', 4446: 'insurrection', 4447: 'simon', 4448: 'violin', 4449: ('there', 'just'), 4450: 'system', 4451: ('gwyneth', 'paltrow'), 4452: 'suffers', 4453: ('would', 'like'), 4454: 'makes', 4455: 'frequent', 4456: 'nello', 4457: 'song', 4458: 'incident', 4459: 'dimension', 4460: 'donkey', 4461: 'times', 4462: 'america', 4463: 'bunch', 4464: 'jumps', 4465: 'regarding', 4466: ('de', 'bont'), 4467: 'measure', 4468: 'freddie', 4469: 'psychologist', 4470: 'franchise', 4471: 'trailer', 4472: 'grasp', 4473: 'due', 4474: 'according', 4475: 'assume', 4476: 'rubin', 4477: ('too', 'long'), 4478: 'receives', 4479: 'investigating', 4480: 'conventional', 4481: 'sun', 4482: 'largely', 4483: ('comes', 'across'), 4484: 'reveal', 4485: 'done', 4486: 'negative', 4487: ('opening', 'credits'), 4488: 'photography', 4489: ('first', 'rate'), 4490: 'generations', 4491: 'pseudo', 4492: 'loss', 4493: 'every', 4494: 'bad', 4495: 'little', 4496: 'contain', 4497: 'watson', 4498: 'future', 4499: 'tape', 4500: ('five', 'minutes'), 4501: 'arrives', 4502: 'captain', 4503: 'lake', 4504: 'advice', 4505: 'murphy', 4506: 'kung', 4507: 'constant', 4508: ('there', 'some'), 4509: 'throws', 4510: 'brain', 4511: 'place', 4512: 'acted', 4513: 'gives', 4514: 'chain', 4515: 'played', 4516: ('but', 'rather'), 4517: 'sadly', 4518: 'earned', 4519: 'stick', 4520: 'than', 4521: 'figure', 4522: 'eight', 4523: 'door', 4524: 'creates', 4525: 'notable', 4526: ('not', 'get'), 4527: 'fast', 4528: 'agrees', 4529: ('nothing', 'but'), 4530: 'lives', 4531: 'intellectual', 4532: 'pays', 4533: 'overly', 4534: 'refreshing', 4535: ('fight', 'scenes'), 4536: 'answer', 4537: 'destroy', 4538: 'sisters', 4539: 'carter', 4540: 'theme', 4541: 'filled', 4542: 'limited', 4543: 'heavily', 4544: ('way', 'out'), 4545: 'paul', 4546: ('film', 'should'), 4547: 'bore', 4548: 'jurassic', 4549: 'connected', 4550: 'oddly', 4551: 'rising', 4552: 'nonsense', 4553: ('film', 'never'), 4554: 'approach', 4555: ('whole', 'film'), 4556: 'home', 4557: 'enter', 4558: 'stab', 4559: ('academy', 'award'), 4560: 'woods', 4561: 'stars', 4562: 'till', 4563: 'sense', 4564: 'finish', 4565: 'fashioned', 4566: 'root', 4567: 'rock', 4568: 'combat', 4569: ('ends', 'up'), 4570: 'happening', 4571: ('much', 'more'), 4572: 'pretentious', 4573: 'monsters', 4574: 'threatening', 4575: 'impression', 4576: 'waves', 4577: ('ve', 'never'), 4578: ('steve', 'buscemi'), 4579: 'factor', 4580: 'president', 4581: 'fonda', 4582: 'left', 4583: 'enters', 4584: 'environment', 4585: ('things', 'like'), 4586: 'press', 4587: 'steel', 4588: 'loses', 4589: 'proceeds', 4590: ('tom', 'cruise'), 4591: 'reference', 4592: ('any', 'sense'), 4593: 'camp', 4594: ('but', 'more'), 4595: ('final', 'destination'), 4596: 'several', 4597: 'states', 4598: 'opportunities', 4599: 'moved', 4600: 'relationship', 4601: 'fox', 4602: 'luck', 4603: 'decides', 4604: 'keanu', 4605: 'parker', 4606: 'cares', 4607: 'stunt', 4608: ('go', 'see'), 4609: 'casting', 4610: ('pull', 'off'), 4611: 'fiction', 4612: ('turns', 'out'), 4613: 'summer', 4614: 'anti', 4615: 'anthony', 4616: ('not', 'going'), 4617: 'africa', 4618: ('so', 'much'), 4619: 'luckily', 4620: 'reputation', 4621: ('never', 'seen'), 4622: 'good', 4623: 'displays', 4624: 'ian', 4625: 'available', 4626: ('more', 'interesting'), 4627: ('having', 'sex'), 4628: 'twist', 4629: 'revolves', 4630: ('one', 'more'), 4631: 'soap', 4632: ('film', 'when'), 4633: 'eugene', 4634: 'increasingly', 4635: 'norman', 4636: 'except', 4637: 'victim', 4638: ('woody', 'harrelson'), 4639: 'monty', 4640: 'countless', 4641: 'braveheart', 4642: 'realism', 4643: 'mad', 4644: 'bright', 4645: 'wise', 4646: ('will', 'smith'), 4647: ('but', 'because'), 4648: 'least', 4649: 'distracting', 4650: ('rush', 'hour'), 4651: 'makers', 4652: 'sam', 4653: 'changed', 4654: 'keeping', 4655: ('good', 'one'), 4656: 'naive', 4657: ('but', 'there'), 4658: 'speaks', 4659: 'neo', 4660: 'innocent', 4661: 'michael', 4662: 'standing', 4663: 'possibilities', 4664: 'raw', 4665: 'assigned', 4666: 'worse', 4667: 'meant', 4668: ('just', 'one'), 4669: 'material', 4670: 'argument', 4671: 'ability', 4672: ('not', 'just'), 4673: 'dare', 4674: 'voiced', 4675: 'horrible', 4676: ('some', 'scenes'), 4677: 'melvin', 4678: 'cheesy', 4679: ('martial', 'arts'), 4680: ('horror', 'movie'), 4681: 'blown', 4682: 'suggests', 4683: 'hate', 4684: 'dollar', 4685: 'excuse', 4686: ('john', 'travolta'), 4687: 'day', 4688: ('big', 'screen'), 4689: ('one', 'worst'), 4690: 'surprising', 4691: 'etc', 4692: 'titanic', 4693: 'herself', 4694: 'washington', 4695: 'rare', 4696: 'comments', 4697: 'spark', 4698: ('action', 'sequences'), 4699: 'conspiracy', 4700: ('too', 'bad'), 4701: 'quite', 4702: 'loud', 4703: 'sloppy', 4704: 'sharon', 4705: 'help', 4706: 'wan', 4707: 'stealing', 4708: 'examples', 4709: 'towards', 4710: 'dance', 4711: 'impossible', 4712: 'knight', 4713: 'destroyed', 4714: ('watching', 'movie'), 4715: 'underwater', 4716: ('just', 'plain'), 4717: 'striking', 4718: 'parts', 4719: 'serve', 4720: ('so', 'far'), 4721: 'encounters', 4722: 'uncomfortable', 4723: 'ends', 4724: 'lifeless', 4725: 'nobody', 4726: ('all', 'characters'), 4727: ('small', 'role'), 4728: ('him', 'into'), 4729: 'digital', 4730: 'condition', 4731: 'pictures', 4732: 'stanley', 4733: 'although', 4734: 'bachelor', 4735: ('qui', 'gon'), 4736: 'revenge', 4737: 'music', 4738: 'showing', 4739: 'our', 4740: 'somewhat', 4741: 'behavior', 4742: 'throughout', 4743: 'hop', 4744: 'keeps', 4745: 'keaton', 4746: 'search', 4747: ('well', 'written'), 4748: ('good', 'job'), 4749: ('around', 'him'), 4750: 'edited', 4751: 'essentially', 4752: 'degree', 4753: 'framed', 4754: ('there', 'any'), 4755: 'board', 4756: 'body', 4757: ('there', 'scene'), 4758: ('far', 'away'), 4759: ('one', 'day'), 4760: 'begins', 4761: ('takes', 'place'), 4762: 'space', 4763: 'wonderful', 4764: 'seth', 4765: 'goal', 4766: ('work', 'but'), 4767: 'secret', 4768: ('no', 'other'), 4769: ('writer', 'director'), 4770: 'worry', 4771: 'thin', 4772: 'nothing', 4773: 'teen', 4774: 'military', 4775: 'table', 4776: ('most', 'time'), 4777: 'accept', 4778: 'everyone', 4779: 'moore', 4780: 'fix', 4781: 'key', 4782: 'own', 4783: 'lovely', 4784: 'floor', 4785: 'off', 4786: 'contrived', 4787: 'la', 4788: 'weight', 4789: 'shower', 4790: ('picks', 'up'), 4791: 'blues', 4792: 'acts', 4793: 'flat', 4794: 'terrorists', 4795: ('one', 'will'), 4796: 'issue', 4797: 'sea', 4798: 'surprises', 4799: 'flynt', 4800: 'joblo', 4801: 'narrator', 4802: ('bad', 'movie'), 4803: 'definitely', 4804: 'solely', 4805: ('dante', 'peak'), 4806: 'reveals', 4807: 'falls', 4808: 'dean', 4809: 'wooden', 4810: ('looks', 'like'), 4811: 'knew', 4812: ('if', 'one'), 4813: 'gooding', 4814: 'piece', 4815: 'verhoeven', 4816: 'authority', 4817: 'desire', 4818: 'midnight', 4819: 'sympathetic', 4820: 'scares', 4821: 'prepared', 4822: 'spring', 4823: 'slick', 4824: 'action', 4825: 'clear', 4826: 'explained', 4827: ('each', 'other'), 4828: 'rises', 4829: 'universe', 4830: 'leigh', 4831: 'tree', 4832: 'writes', 4833: 'dream', 4834: 'greg', 4835: 'twenty', 4836: 'steals', 4837: 'common', 4838: ('relationship', 'between'), 4839: 'denise', 4840: 'first', 4841: ('john', 'malkovich'), 4842: 'buck', 4843: 'ocean', 4844: 'somewhere', 4845: 'momentum', 4846: 'shining', 4847: 'prisoners', 4848: 'kudrow', 4849: 'illegal', 4850: 'progresses', 4851: 'period', 4852: ('slow', 'motion'), 4853: 'dozens', 4854: ('good', 'movie'), 4855: 'filmmaker', 4856: 'glory', 4857: 'andrew', 4858: ('los', 'angeles'), 4859: 'shallow', 4860: 'my', 4861: 'bond', 4862: 'wanted', 4863: 'appearances', 4864: 'garofalo', 4865: 'appearance', 4866: ('between', 'two'), 4867: ('thin', 'red'), 4868: 'images', 4869: 'nude', 4870: ('does', 'not'), 4871: 'nielsen', 4872: 'doing', 4873: ('still', 'know'), 4874: 'beyond', 4875: 'clean', 4876: 'era', 4877: ('well', 'known'), 4878: 'character', 4879: ('james', 'cameron'), 4880: 'golden', 4881: 'anyone', 4882: ('about', 'minutes'), 4883: 'ground', 4884: 'fake', 4885: 'universal', 4886: 'rise', 4887: 'showcase', 4888: 'wildly', 4889: 'ricci', 4890: 'reeves', 4891: 'humanity', 4892: 'network', 4893: 'october', 4894: 'side', 4895: ('movie', 'all'), 4896: 'pie', 4897: 'joker', 4898: 'hat', 4899: 'rent', 4900: 'near', 4901: 'carrie', 4902: ('movie', 've'), 4903: 'lesson', 4904: 'scenery', 4905: 'radio', 4906: ('few', 'scenes'), 4907: 'mission', 4908: 'face', 4909: ('film', 'even'), 4910: ('no', 'matter'), 4911: 'nudity', 4912: 'fiona', 4913: 'highlights', 4914: 'decades', 4915: 'stays', 4916: 'expectations', 4917: 'bob', 4918: 'slowly', 4919: ('camera', 'work'), 4920: 'gon', 4921: 'shannon', 4922: 'woman', 4923: ('characters', 'film'), 4924: 'advance', 4925: 'considered', 4926: ('don', 'see'), 4927: 'frustrating', 4928: ('wild', 'things'), 4929: 'number', 4930: 'rachel', 4931: 'young', 4932: ('title', 'character'), 4933: 'chicken', 4934: 'claire', 4935: 'scott', 4936: 'reaches', 4937: 'forgotten', 4938: 'strikes', 4939: ('black', 'comedy'), 4940: ('so', 'film'), 4941: 'sitcom', 4942: 'fu', 4943: 'platt', 4944: 'metal', 4945: 'obligatory', 4946: 'string', 4947: 'quickly', 4948: 'maggie', 4949: ('live', 'action'), 4950: 'realized', 4951: 'thank', 4952: 'arms', 4953: 'stuff', 4954: 'goofy', 4955: 'eccentric', 4956: 'irony', 4957: 'inevitable', 4958: 'average', 4959: ('ended', 'up'), 4960: 'ten', 4961: 'didn', 4962: ('truman', 'show'), 4963: 'considering', 4964: 'knowledge', 4965: 'convinces', 4966: 'handle', 4967: 'deals', 4968: 'indeed', 4969: ('nice', 'guy'), 4970: ('don', 'even'), 4971: 'controlled', 4972: 'significant', 4973: ('one', 'but'), 4974: 'slightly', 4975: 'angels', 4976: 'capable', 4977: 'marketing', 4978: 'sake', 4979: 'songs', 4980: 'williams', 4981: 'terms', 4982: 'mostly', 4983: 'minute', 4984: 'patch', 4985: 'stiller', 4986: 'result', 4987: 'medical', 4988: 'steve', 4989: 'elaborate', 4990: 'noticed', 4991: 'security', 4992: 'moves', 4993: 'unexpected', 4994: 'non', 4995: 'creature', 4996: ('give', 'him'), 4997: 'huge', 4998: 'wonderfully', 4999: ('someone', 'else')}\n",
      "{'scene': 0, ('their', 'own'): 1, 'loose': 2, 'painful': 3, 'hunt': 4, ('based', 'novel'): 5, 'sports': 6, 'longer': 7, 'committed': 8, 'phone': 9, 'heavy': 10, 'selling': 11, 'angeles': 12, 'lose': 13, 'ages': 14, 'compare': 15, ('couldn', 'help'): 16, ('trust', 'me'): 17, 'somebody': 18, 'child': 19, ('heavy', 'handed'): 20, 'lie': 21, ('don', 'want'): 22, ('like', 'him'): 23, 'foster': 24, 'professional': 25, ('only', 'two'): 26, 'children': 27, 'world': 28, 'grand': 29, 'frightened': 30, 'stupidity': 31, 'justice': 32, 'porter': 33, 'art': 34, 're': 35, 'meanwhile': 36, 'fallen': 37, ('just', 'right'): 38, 'remarkably': 39, ('whole', 'lot'): 40, ('least', 'bit'): 41, 'exceptions': 42, 'fifteen': 43, 'budget': 44, 'prince': 45, 'further': 46, ('all', 'over'): 47, 'line': 48, 'everett': 49, 'assault': 50, 'frequency': 51, 'especially': 52, 'predictably': 53, 'cynical': 54, 'either': 55, 'tales': 56, ('john', 'carpenter'): 57, 'aside': 58, 'cards': 59, 'violence': 60, 'byrne': 61, 'struggles': 62, 'bag': 63, 'agent': 64, 'really': 65, ('woody', 'allen'): 66, 'mulder': 67, 'student': 68, 'eventually': 69, 'investigation': 70, 'city': 71, ('kung', 'fu'): 72, ('come', 'out'): 73, 'makeup': 74, 'officer': 75, ('one', 'two'): 76, 'danny': 77, 'setup': 78, 'colors': 79, 'how': 80, ('tim', 'roth'): 81, 'boyfriend': 82, ('fast', 'paced'): 83, ('there', 'more'): 84, 'brutally': 85, 'ever': 86, 'opinion': 87, 'history': 88, 'amanda': 89, ('both', 'films'): 90, ('much', 'time'): 91, 'piano': 92, 'costume': 93, ('see', 'if'): 94, 'christina': 95, ('every', 'other'): 96, ('city', 'angels'): 97, 'drive': 98, 'jackie': 99, 'saved': 100, 'wait': 101, 'forty': 102, ('new', 'york'): 103, 'got': 104, 'scorsese': 105, ('out', 'way'): 106, 'care': 107, ('but', 'never'): 108, 'directors': 109, 'christ': 110, 'niro': 111, ('if', 'weren'): 112, 'memory': 113, 'characterization': 114, 'unfortunate': 115, 'word': 116, 'probably': 117, 'jan': 118, 'length': 119, 'shadow': 120, 'guest': 121, ('should', 'not'): 122, 'capture': 123, 'final': 124, 'rob': 125, 'throw': 126, 'allow': 127, 'overcome': 128, 'interaction': 129, 'los': 130, ('but', 'instead'): 131, ('horror', 'film'): 132, 'accent': 133, 'ideal': 134, 'trip': 135, 'note': 136, ('production', 'values'): 137, 'christmas': 138, 'gun': 139, 'dollars': 140, 'master': 141, 'sequels': 142, 'rely': 143, 'animation': 144, 'international': 145, 'depressed': 146, 'discovered': 147, 'ordell': 148, 'blood': 149, 'beating': 150, 'existenz': 151, 'itself': 152, 'speaking': 153, 'shares': 154, 'low': 155, ('watching', 'film'): 156, 'apartment': 157, 'blockbuster': 158, 'buzz': 159, ('other', 'actors'): 160, 'project': 161, ('how', 'much'): 162, 'energetic': 163, 'serving': 164, 'colonel': 165, 'billy': 166, 'giving': 167, 'circumstances': 168, 'pre': 169, 'remember': 170, 'fbi': 171, ('also', 'good'): 172, ('many', 'scenes'): 173, 'henstridge': 174, 'occur': 175, ('very', 'bad'): 176, ('great', 'deal'): 177, 'rule': 178, 'fly': 179, 'inability': 180, 'ruthless': 181, 'free': 182, 'england': 183, 'watchable': 184, 'nose': 185, ('any', 'other'): 186, 'joan': 187, 'girls': 188, ('independence', 'day'): 189, ('feels', 'like'): 190, 'remake': 191, 'included': 192, 'ruined': 193, 'plots': 194, 'nick': 195, 'release': 196, ('all', 'while'): 197, ('go', 'into'): 198, 'vacation': 199, 'months': 200, 'engaged': 201, ('fairy', 'tale'): 202, ('seen', 'before'): 203, 'everything': 204, ('other', 'characters'): 205, 'drives': 206, ('first', 'hour'): 207, 'gets': 208, 'me': 209, 'poorly': 210, 'run': 211, 'natasha': 212, ('john', 'woo'): 213, 'filmmakers': 214, ('when', 're'): 215, ('neve', 'campbell'): 216, 'culture': 217, 'screening': 218, 'wedding': 219, 'directorial': 220, 'class': 221, 'ultimate': 222, 'michelle': 223, 'figures': 224, ('get', 'away'): 225, 'crafted': 226, 'pretty': 227, 'letter': 228, ('close', 'ups'): 229, 'todd': 230, 'torn': 231, ('lot', 'more'): 232, 'jordan': 233, 'simple': 234, 'football': 235, 'terrifying': 236, 'cusack': 237, 'familiar': 238, 'unusual': 239, 'reese': 240, 'scenario': 241, ('chicken', 'run'): 242, 'house': 243, 'brilliantly': 244, 'gere': 245, 'surprisingly': 246, 'diaz': 247, 'seen': 248, 'emotions': 249, 'rescue': 250, ('after', 'seeing'): 251, 'saturday': 252, 'isn': 253, 'saving': 254, 'citizens': 255, 'london': 256, ('jar', 'jar'): 257, 'denzel': 258, ('while', 'film'): 259, 'humour': 260, 'twists': 261, ('no', 'idea'): 262, ('little', 'mermaid'): 263, 'bont': 264, 'happy': 265, 'portrays': 266, 'synopsis': 267, 'pulling': 268, 'currently': 269, 'genuine': 270, 'listen': 271, 'shrek': 272, 'martin': 273, 'cliched': 274, ('more', 'than'): 275, 'entertained': 276, 'cool': 277, 'arts': 278, 'war': 279, 'multiple': 280, 'persona': 281, 'larry': 282, 'trio': 283, 'boys': 284, ('nothing', 'more', 'than'): 285, 'suits': 286, 'gloria': 287, 'enormous': 288, 'willis': 289, ('scenes', 'where'): 290, 'made': 291, 'schwarzenegger': 292, ('good', 'film'): 293, 'immensely': 294, 'honor': 295, ('probably', 'best'): 296, 'government': 297, 'let': 298, 'going': 299, 'wants': 300, 'strong': 301, 'matrix': 302, 'writing': 303, 'entertainment': 304, 'brad': 305, ('tim', 'burton'): 306, ('production', 'design'): 307, ('if', 'only'): 308, 'horribly': 309, 'goodman': 310, ('no', 'reason'): 311, 'vehicle': 312, 'oldman': 313, ('good', 'thing'): 314, 'pain': 315, 'cops': 316, 'reaction': 317, 'if': 318, 'disaster': 319, 'expected': 320, 'independent': 321, 'below': 322, 'directing': 323, 'disco': 324, 'single': 325, 'join': 326, 'older': 327, 'slight': 328, 'fall': 329, 'darth': 330, 'warriors': 331, 'triumph': 332, 'remains': 333, 'academy': 334, ('there', 'little'): 335, 'choreographed': 336, 'rarely': 337, 'consistently': 338, ('only', 'way'): 339, 'bland': 340, ('going', 'through'): 341, 'beauty': 342, 'crap': 343, 'handled': 344, 'madness': 345, 'entertain': 346, 'knock': 347, ('there', 'several'): 348, 'fifth': 349, 'right': 350, 'stereotypes': 351, 'terrific': 352, 'themes': 353, 'scientists': 354, 'angle': 355, ('would', 'better'): 356, 'contrast': 357, ('get', 'see'): 358, ('wedding', 'singer'): 359, ('most', 'interesting'): 360, 'store': 361, 'jackson': 362, 'inspiration': 363, 'often': 364, 'reasons': 365, 'code': 366, 'ice': 367, 'featuring': 368, 'credit': 369, 'money': 370, 'amusing': 371, ('just', 'another'): 372, 'butler': 373, 'conclusion': 374, ('best', 'friend'): 375, ('movie', 'where'): 376, 'comedies': 377, 'early': 378, 'section': 379, 'exists': 380, 'walls': 381, 'secretly': 382, 'cookie': 383, 'fits': 384, 'situations': 385, ('sets', 'out'): 386, 'jar': 387, 'ashley': 388, 'media': 389, 'share': 390, 'forgettable': 391, ('may', 'not'): 392, 'highlight': 393, 'standards': 394, 'stephen': 395, 'sight': 396, 'allows': 397, 'wearing': 398, 'james': 399, ('than', 'one'): 400, 'quick': 401, 'needless': 402, 'age': 403, 'gonna': 404, 'adventures': 405, 'glass': 406, 'escape': 407, 'folks': 408, 'sounds': 409, 'melodramatic': 410, 'liked': 411, 'diamond': 412, 'honestly': 413, ('there', 'but'): 414, ('does', 'good'): 415, 'harry': 416, 'slapstick': 417, ('prinze', 'jr'): 418, 'statement': 419, 'admire': 420, 'witty': 421, 'title': 422, 'porn': 423, ('but', 'after'): 424, 'planet': 425, 'nevertheless': 426, 'pay': 427, 'historical': 428, 'speed': 429, 'ethan': 430, 'went': 431, 'suppose': 432, 'neat': 433, 'freedom': 434, ('wonder', 'if'): 435, 'games': 436, 'west': 437, 'any': 438, 'discover': 439, ('love', 'interest'): 440, 'constantly': 441, 'natalie': 442, 'but': 443, 'dialog': 444, 'deadly': 445, 'choose': 446, 'hour': 447, ('make', 'up'): 448, 'variety': 449, ('if', 'film'): 450, ('film', 'all'): 451, 'intentions': 452, 'talking': 453, 'meat': 454, 'masterpiece': 455, 'powerful': 456, ('like', 'all'): 457, 'count': 458, 'belongs': 459, ('jurassic', 'park'): 460, ('some', 'may'): 461, 'finished': 462, 'roman': 463, ('american', 'pie'): 464, 'oliver': 465, 'catherine': 466, 'storytelling': 467, ('few', 'years'): 468, 'sixth': 469, 'male': 470, 'post': 471, ('little', 'more', 'than'): 472, ('too', 'much'): 473, 'portrayed': 474, 'safety': 475, 'believable': 476, 'essential': 477, 'leave': 478, ('las', 'vegas'): 479, 'adapted': 480, ('some', 'other'): 481, ('thin', 'red', 'line'): 482, 'prominent': 483, 'eddie': 484, 'wannabe': 485, ('deep', 'impact'): 486, 'independence': 487, 'ann': 488, 'horrifying': 489, ('not', 'seen'): 490, 'hearts': 491, ('men', 'black'): 492, 'connection': 493, ('real', 'world'): 494, 'zero': 495, 'otherwise': 496, 'whatsoever': 497, ('hour', 'half'): 498, ('falls', 'love'): 499, 'biggest': 500, ('not', 'too'): 501, 'butt': 502, 'worker': 503, ('more', 'more'): 504, ('thing', 'about'): 505, 'kelly': 506, ('chemistry', 'between'): 507, 'ape': 508, 'saw': 509, 'directs': 510, 'acceptable': 511, ('very', 'few'): 512, 'luke': 513, ('so', 'when'): 514, ('michael', 'keaton'): 515, ('get', 'him'): 516, 'learning': 517, 'ned': 518, 'major': 519, 'draw': 520, 'legs': 521, 'computer': 522, 'version': 523, 'craven': 524, 'practically': 525, 'thompson': 526, 'hedwig': 527, 'musical': 528, ('big', 'lebowski'): 529, 'taken': 530, 'mirror': 531, ('there', 'few'): 532, 'chose': 533, 'meg': 534, 'enhanced': 535, 'include': 536, ('but', 'their'): 537, 'obnoxious': 538, 'respective': 539, 'tale': 540, 'consequently': 541, 'coen': 542, 'gangster': 543, 'girl': 544, 'erotic': 545, 'anything': 546, 'shoot': 547, ('much', 'like'): 548, 'shows': 549, 'clumsy': 550, 'bug': 551, 'land': 552, 'lebowski': 553, 'dress': 554, 'drew': 555, 'alicia': 556, 'starship': 557, 'dancing': 558, 'sequel': 559, 'full': 560, ('sandra', 'bullock'): 561, 'strangers': 562, 'introduces': 563, 'prime': 564, 'woody': 565, 'ups': 566, ('very', 'good'): 567, 'role': 568, 'awards': 569, 'remarkable': 570, ('saturday', 'night'): 571, 'gattaca': 572, ('looked', 'like'): 573, 'about': 574, 'humorous': 575, 'tremendous': 576, 'theater': 577, 'comic': 578, 'where': 579, ('young', 'woman'): 580, 'main': 581, 'felt': 582, 'technical': 583, 'provoking': 584, ('up', 'some'): 585, 'wisdom': 586, 'mysterious': 587, 'showgirls': 588, 'cold': 589, 'ride': 590, 'designed': 591, ('van', 'damme'): 592, ('time', 'but'): 593, 'attracted': 594, 'ignored': 595, 'apes': 596, ('going', 'happen'): 597, 'gibson': 598, 'monster': 599, 'spice': 600, ('film', 'festival'): 601, 'hokey': 602, ('make', 'good'): 603, 'flawless': 604, 'mention': 605, 'however': 606, ('best', 'film'): 607, 'federal': 608, ('george', 'clooney'): 609, 'eager': 610, 'writer': 611, 'characters': 612, 'fat': 613, 'randy': 614, 'virtual': 615, 'not': 616, ('so', 'long'): 617, 'foreign': 618, ('after', 'another'): 619, 'barrymore': 620, 'francisco': 621, 'thief': 622, 'claude': 623, 'murderer': 624, ('films', 'but'): 625, 'classics': 626, ('computer', 'generated'): 627, 'fairy': 628, ('any', 'more'): 629, ('movie', 'just'): 630, 'roth': 631, ('small', 'town'): 632, 'singing': 633, 'animals': 634, 'sitting': 635, 'hank': 636, 'some': 637, ('never', 'quite'): 638, 'performers': 639, 'heart': 640, 'sexy': 641, 'occurs': 642, 'williamson': 643, 'believing': 644, ('better', 'off'): 645, ('one', 'big'): 646, 'million': 647, ('best', 'thing'): 648, 'exploring': 649, 'party': 650, 'convinced': 651, 'charm': 652, 'chase': 653, ('comes', 'off'): 654, 'immediately': 655, 'would': 656, 'subtle': 657, ('top', 'notch'): 658, 'dark': 659, 'weapons': 660, 'concept': 661, 'writers': 662, 'existence': 663, ('movie', 'would'): 664, 'continues': 665, 'convenient': 666, 'thanks': 667, 'wide': 668, ('because', 're'): 669, 'whole': 670, 'rating': 671, 'election': 672, 'beast': 673, 'maybe': 674, 'bud': 675, 'nine': 676, 'resolution': 677, 'created': 678, 'astronauts': 679, 'superb': 680, ('during', 'film'): 681, ('ben', 'affleck'): 682, ('feel', 'good'): 683, ('say', 'about'): 684, 'cry': 685, 'remote': 686, 'urban': 687, 'interested': 688, 'looks': 689, ('fifth', 'element'): 690, 'lumumba': 691, 'walk': 692, ('twenty', 'minutes'): 693, 'obi': 694, 'laughable': 695, 'pair': 696, ('gives', 'us'): 697, 'experiences': 698, 'well': 699, 'sat': 700, 'intensity': 701, 'helen': 702, 'newly': 703, 'turning': 704, 'proof': 705, 'cases': 706, 'being': 707, 'cliches': 708, ('tells', 'story'): 709, 'through': 710, 'conflict': 711, 'primarily': 712, 'witherspoon': 713, 'dressed': 714, ('blair', 'witch', 'project'): 715, 'mike': 716, 'friend': 717, 'predictable': 718, 'guessed': 719, 'process': 720, ('but', 'now'): 721, ('sure', 'if'): 722, 'position': 723, 'lewis': 724, 'endings': 725, 'jake': 726, 'travels': 727, 'missed': 728, 'revealing': 729, 'dumb': 730, 'bridges': 731, 'dune': 732, 'develop': 733, 'head': 734, 'paid': 735, 'cinematography': 736, 'means': 737, 'season': 738, 'ambitious': 739, 'ruin': 740, ('best', 'known'): 741, 'anderson': 742, 'pursuit': 743, 'fantasy': 744, 'hair': 745, 'emperor': 746, 'exciting': 747, 'tricks': 748, 'interest': 749, 'costumes': 750, 'stereotypical': 751, 'manager': 752, 'slave': 753, 'clich': 754, ('event', 'horizon'): 755, 'rush': 756, 'tells': 757, 'amounts': 758, 'spent': 759, 'name': 760, 'jon': 761, 'secretary': 762, 'dimensional': 763, 'poor': 764, ('out', 'all'): 765, 'attacks': 766, 'clooney': 767, 'stands': 768, 'emma': 769, 'mulan': 770, 'content': 771, ('bit', 'too'): 772, 'mile': 773, ('never', 'really'): 774, 'equal': 775, 'bizarre': 776, 'lines': 777, 'routine': 778, ('other', 'hand'): 779, 'connor': 780, 'sorts': 781, 'bringing': 782, 'deliver': 783, ('movie', 'doesn'): 784, 'caused': 785, 'wondering': 786, 'script': 787, 'trouble': 788, 'millions': 789, ('there', 'many'): 790, 'broadcast': 791, 'explosions': 792, 'tradition': 793, 'greater': 794, 'view': 795, 'remaining': 796, 'hole': 797, 'white': 798, 'halfway': 799, 'realize': 800, 'thirteenth': 801, ('very', 'funny'): 802, 'henry': 803, 'angel': 804, ('seems', 'more'): 805, 'college': 806, 'weekend': 807, 'stuart': 808, ('film', 'making'): 809, ('but', 'so'): 810, 'coming': 811, 'orders': 812, ('best', 'films'): 813, 'want': 814, 'blade': 815, 'drinking': 816, 'theatre': 817, 'sole': 818, 'extent': 819, 'drawing': 820, 'ear': 821, ('york', 'city'): 822, 'realizes': 823, 'stupid': 824, ('revolves', 'around'): 825, 'trial': 826, 'choice': 827, 'psychiatrist': 828, 'assassin': 829, 'mortal': 830, ('musical', 'score'): 831, ('everything', 'else'): 832, 'instead': 833, 'absurd': 834, 'interview': 835, 'seriously': 836, 'fable': 837, 'naturally': 838, ('my', 'favorite'): 839, ('cover', 'up'): 840, 'roll': 841, 'comet': 842, ('great', 'job'): 843, 'mcconaughey': 844, 'dropped': 845, 'shadows': 846, 'homage': 847, 'jimmy': 848, ('subject', 'matter'): 849, 'details': 850, 'beloved': 851, 'senses': 852, 'legendary': 853, 'saying': 854, 'raging': 855, 'centers': 856, 'crawford': 857, 'jay': 858, 'follows': 859, ('not', 'good'): 860, 'rate': 861, ('think', 'about'): 862, ('so', 'if'): 863, 'taran': 864, 'preview': 865, 'johnny': 866, ('cameron', 'diaz'): 867, 'alternate': 868, 'julie': 869, 'samuel': 870, ('doesn', 'make'): 871, 'goldblum': 872, 'kept': 873, 'threat': 874, 'idea': 875, 'recognition': 876, 'phantom': 877, 'catholic': 878, 'gem': 879, ('star', 'wars'): 880, ('film', 'starts'): 881, ('so', 'bad'): 882, 'depressing': 883, 'alfred': 884, ('when', 'all'): 885, ('sci', 'fi'): 886, 'amistad': 887, ('just', 'isn'): 888, 'human': 889, ('even', 'better'): 890, 'massive': 891, 'fashion': 892, 'empty': 893, 'numerous': 894, ('out', 'loud'): 895, 'problem': 896, 'month': 897, ('more', 'about'): 898, 'colorful': 899, 'begin': 900, 'tim': 901, 'takes': 902, ('go', 'back'): 903, 'god': 904, ('talking', 'about'): 905, 'grier': 906, 'screenwriters': 907, 'tension': 908, 'score': 909, ('years', 'later'): 910, 'sell': 911, 'nifty': 912, 'hits': 913, 'performance': 914, ('long', 'time'): 915, 'needed': 916, 'villains': 917, 'above': 918, 'superficial': 919, 'disc': 920, ('one', 'best'): 921, 'punch': 922, 'delivers': 923, 'doesn': 924, 'hold': 925, 'read': 926, 'morning': 927, 'risk': 928, 'lucky': 929, ('other', 'films'): 930, 'laughter': 931, 'results': 932, 'pacing': 933, 'arthur': 934, 'sub': 935, 'state': 936, ('motion', 'picture'): 937, 'specifically': 938, ('action', 'films'): 939, 'mafia': 940, 'pod': 941, 'author': 942, ('mission', 'impossible'): 943, 'frame': 944, ('but', 'really'): 945, 'offering': 946, ('star', 'trek'): 947, 'plus': 948, ('fall', 'love'): 949, 'excellent': 950, 'clever': 951, 'genuinely': 952, ('least', 'one'): 953, 'ad': 954, 'light': 955, 'flight': 956, 'screen': 957, 'parent': 958, 'previous': 959, 'dialogue': 960, 'sweet': 961, 'act': 962, 'aspects': 963, 'nightmare': 964, 'pregnant': 965, 'four': 966, ('new', 'york', 'city'): 967, 'wealthy': 968, 'fuller': 969, 'follow': 970, 'might': 971, ('but', 'here'): 972, 'plausible': 973, 'albeit': 974, 'possible': 975, 'internet': 976, 'opens': 977, 'inspired': 978, 'scream': 979, ('but', 'one'): 980, 'barely': 981, 'bride': 982, 'irish': 983, 'dinosaurs': 984, 'antonio': 985, ('but', 'then'): 986, 'hints': 987, 'miller': 988, 'virtually': 989, 'stranger': 990, 'rape': 991, 'sure': 992, 'animated': 993, ('film', 'where'): 994, 'artist': 995, 'end': 996, 'next': 997, 'airplane': 998, 'sold': 999, 'arquette': 1000, 'leads': 1001, 'assured': 1002, ('ghost', 'dog'): 1003, 'mere': 1004, 'jolie': 1005, 'japanese': 1006, 'mail': 1007, 'imagery': 1008, 'pierce': 1009, ('get', 'into'): 1010, 'marie': 1011, 'entry': 1012, 'screenplay': 1013, ('although', 'there'): 1014, 'teeth': 1015, 'kilmer': 1016, 'anaconda': 1017, 'hopper': 1018, 'stopped': 1019, ('one', 'one'): 1020, 'chair': 1021, 'hot': 1022, ('but', 'end'): 1023, 'previously': 1024, 'batman': 1025, 'packed': 1026, 'removed': 1027, ('know', 'last'): 1028, 'involves': 1029, 'redman': 1030, ('two', 'films'): 1031, 'came': 1032, 'themselves': 1033, ('just', 'don'): 1034, 'confrontation': 1035, ('many', 'other'): 1036, 'starring': 1037, 'producers': 1038, ('black', 'cauldron'): 1039, 'harrison': 1040, 'gothic': 1041, 'local': 1042, 'abandoned': 1043, ('problem', 'film'): 1044, 'tries': 1045, ('virtual', 'reality'): 1046, 'teens': 1047, 'adults': 1048, 'lived': 1049, 'hidden': 1050, 'miles': 1051, ('here', 'there'): 1052, 'last': 1053, ('while', 'not'): 1054, 'confusing': 1055, 'whom': 1056, 'freeze': 1057, 'sucked': 1058, ('ben', 'stiller'): 1059, 'guns': 1060, 'weren': 1061, 'kate': 1062, ('towards', 'end'): 1063, ('film', 'while'): 1064, 'robocop': 1065, ('all', 'more'): 1066, 'likable': 1067, 'grace': 1068, ('more', 'time'): 1069, 'anyway': 1070, 'guard': 1071, 'dedicated': 1072, 'operation': 1073, 'lance': 1074, 'terry': 1075, 'bumbling': 1076, 'penn': 1077, ('story', 'but'): 1078, ('one', 'point'): 1079, 'turn': 1080, 'wrong': 1081, 'annie': 1082, 'blow': 1083, 'attempts': 1084, 'met': 1085, 'riding': 1086, 'greatly': 1087, 'king': 1088, 'tech': 1089, ('story', 'about'): 1090, 'step': 1091, 'skywalker': 1092, 'dragon': 1093, 'watch': 1094, 'frankly': 1095, 'police': 1096, 'utter': 1097, 'pieces': 1098, 'curtis': 1099, 'calls': 1100, 'stumbles': 1101, 'steps': 1102, 'heartfelt': 1103, 'david': 1104, ('just', 'not'): 1105, 'momma': 1106, 'baby': 1107, ('united', 'states'): 1108, 'thinks': 1109, 'plan': 1110, 'tell': 1111, 'types': 1112, 'mainstream': 1113, 'demands': 1114, 'gratuitous': 1115, 'heck': 1116, ('sets', 'up'): 1117, 'training': 1118, 'feature': 1119, 'closely': 1120, ('film', 'begins'): 1121, 'hudson': 1122, 'cgi': 1123, 'quinn': 1124, 'roger': 1125, 'hanging': 1126, 'brown': 1127, 'gory': 1128, 'bodies': 1129, 'species': 1130, 'unless': 1131, 'flawed': 1132, ('john', 'cusack'): 1133, 'creative': 1134, 'fortunately': 1135, 'whose': 1136, 'wong': 1137, ('final', 'scene'): 1138, 'ali': 1139, 'ok': 1140, 'robinson': 1141, 'popularity': 1142, 'fred': 1143, 'funniest': 1144, 'ramsey': 1145, 'notion': 1146, 'pull': 1147, 'bigger': 1148, ('starts', 'off'): 1149, 'jones': 1150, ('does', 'so'): 1151, 'apparently': 1152, ('don', 'get'): 1153, 'shakespeare': 1154, 'stand': 1155, 'elfman': 1156, 'supporting': 1157, 'moving': 1158, 'fit': 1159, 'mood': 1160, ('there', 'very'): 1161, 'violent': 1162, 'unable': 1163, ('character', 'development'): 1164, 'impressed': 1165, 'terribly': 1166, 'concerns': 1167, 'credits': 1168, 'again': 1169, 'silly': 1170, 'primary': 1171, 'tommy': 1172, 'cat': 1173, 'hughes': 1174, ('jay', 'silent', 'bob'): 1175, 'brenner': 1176, 'treatment': 1177, 'setting': 1178, 'studios': 1179, 'blame': 1180, 'larger': 1181, 'buy': 1182, 'southern': 1183, 'granted': 1184, 'insight': 1185, ('if', 'don'): 1186, 'humor': 1187, ('george', 'lucas'): 1188, 'hundred': 1189, 'insulting': 1190, 'sleazy': 1191, ('plot', 'points'): 1192, 'professor': 1193, 'cameras': 1194, 'mine': 1195, 'similar': 1196, 'spends': 1197, 'fair': 1198, 'slasher': 1199, 'higher': 1200, 'instantly': 1201, 'supposedly': 1202, 'endless': 1203, ('but', 'movie'): 1204, 'station': 1205, 'jesus': 1206, 'suffice': 1207, ('feel', 'like'): 1208, 'sleep': 1209, ('other', 'things'): 1210, 'people': 1211, 'explicit': 1212, 'inane': 1213, 'bowling': 1214, 'escapes': 1215, 'properly': 1216, ('part', 'movie'): 1217, 'pick': 1218, 'sort': 1219, 'bits': 1220, 'stahl': 1221, 'decidedly': 1222, 'birth': 1223, 'host': 1224, ('their', 'lives'): 1225, 'destination': 1226, 'sinise': 1227, 'ran': 1228, 'cut': 1229, 'talent': 1230, 'hundreds': 1231, 'kinds': 1232, 'shoots': 1233, 'apart': 1234, 'strength': 1235, 'bull': 1236, ('high', 'school'): 1237, 'satisfying': 1238, 'manage': 1239, 'achieved': 1240, ('one', 'movie'): 1241, 'audiences': 1242, 'analyze': 1243, 'base': 1244, 'jazz': 1245, 'german': 1246, 'road': 1247, 'differences': 1248, 'dad': 1249, 'fancy': 1250, 'mr': 1251, 'allen': 1252, 'drunken': 1253, 'tour': 1254, ('home', 'alone'): 1255, 'consequences': 1256, 'provide': 1257, 'acting': 1258, 'desperate': 1259, 'south': 1260, 'frightening': 1261, ('if', 'not'): 1262, 'sister': 1263, ('film', 'just'): 1264, 'outcome': 1265, 'decisions': 1266, ('five', 'years'): 1267, 'ending': 1268, 'short': 1269, 'modern': 1270, 'starting': 1271, 'spite': 1272, ('couldn', 'help', 'but'): 1273, 'touching': 1274, 'american': 1275, 'cynthia': 1276, ('little', 'more'): 1277, 'trust': 1278, 'grant': 1279, ('than', 'just'): 1280, 'christopher': 1281, 'charge': 1282, ('movie', 'not'): 1283, 'brains': 1284, 'baker': 1285, 'managed': 1286, 'determined': 1287, 'vampire': 1288, 'drama': 1289, 'kills': 1290, 'paced': 1291, ('lot', 'like'): 1292, 'surrounded': 1293, 'critics': 1294, 'restaurant': 1295, 'outside': 1296, ('but', 'least'): 1297, 'loaded': 1298, 'engaging': 1299, ('so', 'good'): 1300, 'man': 1301, 'together': 1302, 'spectacular': 1303, 'protagonist': 1304, 'therefore': 1305, 'recognize': 1306, 'brilliant': 1307, ('usual', 'suspects'): 1308, 'chief': 1309, 'doll': 1310, 'imagine': 1311, 'beginning': 1312, 'joins': 1313, 'showdown': 1314, 'hand': 1315, ('know', 'how'): 1316, ('every', 'single'): 1317, 'something': 1318, 'unfunny': 1319, 'less': 1320, 'footage': 1321, 'style': 1322, 'into': 1323, 'van': 1324, ('halfway', 'through'): 1325, ('most', 'film'): 1326, 'composed': 1327, 'antz': 1328, ('don', 'care'): 1329, ('if', 're'): 1330, 'success': 1331, 'signs': 1332, 'river': 1333, 'create': 1334, 'murders': 1335, 'suggest': 1336, ('into', 'their'): 1337, 'expecting': 1338, 'argue': 1339, ('films', 'like'): 1340, ('go', 'out'): 1341, 'heist': 1342, 'minor': 1343, 'uneven': 1344, 'toy': 1345, 'kubrick': 1346, 'overdone': 1347, 'split': 1348, 'structure': 1349, ('bad', 'guys'): 1350, 'attempt': 1351, ('why', 'not'): 1352, 'palma': 1353, 'friendship': 1354, 'boxing': 1355, 'directly': 1356, ('james', 'bond'): 1357, 'ex': 1358, 'considerably': 1359, 'story': 1360, 'couple': 1361, ('wild', 'west'): 1362, 'band': 1363, 'features': 1364, 'finale': 1365, 'friends': 1366, 'holding': 1367, 'unfolds': 1368, 'flesh': 1369, 'helps': 1370, ('here', 'but'): 1371, ('other', 'people'): 1372, 'bacon': 1373, 'thoughtful': 1374, ('animated', 'feature'): 1375, 'fans': 1376, 'students': 1377, 'unlike': 1378, 'alex': 1379, 'bean': 1380, 'blatantly': 1381, 'mars': 1382, 'extraordinary': 1383, 'tag': 1384, 'danger': 1385, ('witch', 'project'): 1386, ('not', 'like'): 1387, 'perspective': 1388, 'film': 1389, 'wacky': 1390, 'falling': 1391, 'turkey': 1392, 'peter': 1393, ('one', 'man'): 1394, 'tracks': 1395, ('last', 'time'): 1396, 'marty': 1397, ('sound', 'like'): 1398, 'innocence': 1399, ('just', 'too'): 1400, 'portman': 1401, 'iron': 1402, 'food': 1403, 'murder': 1404, 'myers': 1405, 'over': 1406, 'technically': 1407, 'honest': 1408, 'inside': 1409, 'bugs': 1410, 'around': 1411, 'machine': 1412, 'appropriately': 1413, 'victims': 1414, 'dillon': 1415, 'passes': 1416, 'marriage': 1417, 'location': 1418, 'pitt': 1419, 'nice': 1420, ('film', 'doesn'): 1421, ('first', 'two'): 1422, ('movie', 'there'): 1423, 'davis': 1424, 'moses': 1425, ('good', 'guys'): 1426, 'battle': 1427, 'sees': 1428, 'pile': 1429, 'son': 1430, ('characters', 'all'): 1431, 'deserved': 1432, 'introduced': 1433, 'financial': 1434, 'castle': 1435, 'performances': 1436, 'mindless': 1437, 'different': 1438, 'compelling': 1439, 'english': 1440, ('all', 'know'): 1441, 'attractive': 1442, ('over', 'again'): 1443, 'much': 1444, 'powers': 1445, 'lady': 1446, 'exceptional': 1447, 'mean': 1448, 'award': 1449, 'judge': 1450, ('not', 'very'): 1451, 'special': 1452, 'destruction': 1453, 'sheen': 1454, 'jedi': 1455, 'elements': 1456, 'com': 1457, 'arrival': 1458, 'hype': 1459, ('all', 'but'): 1460, 'heat': 1461, ('movie', 'if'): 1462, 'boogie': 1463, 'used': 1464, 'dealing': 1465, 'sometimes': 1466, 'climactic': 1467, ('might', 'well'): 1468, 'york': 1469, ('all', 'about'): 1470, 'dude': 1471, ('entire', 'movie'): 1472, 'gay': 1473, 'community': 1474, ('about', 'how'): 1475, ('time', 'around'): 1476, 'bible': 1477, 'half': 1478, ('films', 'year'): 1479, ('two', 'people'): 1480, 'cooper': 1481, 'lord': 1482, 'focuses': 1483, 'veteran': 1484, 'spirited': 1485, 'perform': 1486, 'personality': 1487, 'size': 1488, 'club': 1489, 'obsessed': 1490, ('some', 'best'): 1491, 'messages': 1492, 'abyss': 1493, 'sets': 1494, 'convince': 1495, 'loves': 1496, 'strictly': 1497, 'devil': 1498, 'memorable': 1499, ('there', 'really'): 1500, 'clue': 1501, 'dreams': 1502, ('will', 'not'): 1503, 'armed': 1504, 'caught': 1505, 'attraction': 1506, 'sorry': 1507, 'reminiscent': 1508, 'ron': 1509, ('little', 'too'): 1510, 'marks': 1511, 'caan': 1512, 'back': 1513, ('mission', 'mars'): 1514, 'suit': 1515, ('geoffrey', 'rush'): 1516, 'artificial': 1517, 'intended': 1518, ('bill', 'murray'): 1519, 'range': 1520, 'memories': 1521, 'shall': 1522, ('new', 'film'): 1523, 'horner': 1524, 'machines': 1525, 'power': 1526, 'repetitive': 1527, 'check': 1528, 'completely': 1529, 'ugly': 1530, 'ensues': 1531, ('first', 'half'): 1532, 'changing': 1533, 'told': 1534, 'another': 1535, ('lines', 'like'): 1536, ('some', 'good'): 1537, 'safe': 1538, ('there', 'one'): 1539, 'crucial': 1540, 'two': 1541, 'arrow': 1542, ('tom', 'hanks'): 1543, 'investigator': 1544, 'science': 1545, 'finds': 1546, 'instances': 1547, 'gore': 1548, 'come': 1549, 'open': 1550, 'raise': 1551, 'row': 1552, 'satire': 1553, 'immediate': 1554, 'actions': 1555, 'haunting': 1556, 'recall': 1557, 'travolta': 1558, 'straightforward': 1559, 'sexual': 1560, 'nasty': 1561, 'matter': 1562, 'oh': 1563, 'respectable': 1564, 'him': 1565, 'cult': 1566, ('saving', 'private'): 1567, 'reporter': 1568, 'eyed': 1569, 'works': 1570, 'describe': 1571, 'stop': 1572, ('same', 'name'): 1573, ('boogie', 'nights'): 1574, 'judd': 1575, 'eric': 1576, 'mediocre': 1577, 'walks': 1578, ('but', 'only'): 1579, ('film', 'seems'): 1580, ('over', 'over', 'again'): 1581, 'flair': 1582, 'boss': 1583, 'attitude': 1584, 'animal': 1585, ('sharon', 'stone'): 1586, ('really', 'bad'): 1587, ('de', 'niro'): 1588, 'tired': 1589, 'allowing': 1590, ('much', 'better'): 1591, ('almost', 'every'): 1592, 'dog': 1593, 'social': 1594, ('runs', 'into'): 1595, ('thought', 'provoking'): 1596, ('film', 'does'): 1597, 'graham': 1598, 'breakdown': 1599, 'mary': 1600, 'magic': 1601, 'lower': 1602, ('certainly', 'not'): 1603, 'superior': 1604, 'written': 1605, 'cinema': 1606, 'authentic': 1607, 'unnecessary': 1608, ('more', 'like'): 1609, 'logic': 1610, 'generation': 1611, ('anything', 'else'): 1612, 'ryan': 1613, 'insult': 1614, 'spoilers': 1615, 'liking': 1616, 'others': 1617, 'jackal': 1618, 'frequently': 1619, ('set', 'pieces'): 1620, 'finest': 1621, ('up', 'but'): 1622, 'drawn': 1623, ('not', 'so'): 1624, 'else': 1625, 'trick': 1626, 'pulled': 1627, 'romantic': 1628, 'ray': 1629, 'warm': 1630, 'par': 1631, 'interesting': 1632, 'shown': 1633, ('not', 'quite'): 1634, 'viewing': 1635, 'eve': 1636, 'skill': 1637, 'clothes': 1638, 'holes': 1639, 'bats': 1640, 'kidnapped': 1641, ('supporting', 'characters'): 1642, 'bored': 1643, ('take', 'place'): 1644, 'missing': 1645, 'words': 1646, 'don': 1647, 'unbelievable': 1648, 'inevitably': 1649, ('scenes', 'but'): 1650, 'treats': 1651, 'subsequent': 1652, ('some', 'sort'): 1653, 'contains': 1654, 'entire': 1655, 'false': 1656, 'soon': 1657, 'workers': 1658, 'husband': 1659, 'park': 1660, 'meet': 1661, 'albert': 1662, 'babe': 1663, 'believed': 1664, 'criminals': 1665, ('made', 'film'): 1666, 'jakob': 1667, ('even', 'when'): 1668, 'wonder': 1669, 'united': 1670, 'year': 1671, 'hitchcock': 1672, ('gives', 'him'): 1673, 'hapless': 1674, 'respect': 1675, ('all', 'time'): 1676, 'start': 1677, 'demonstrates': 1678, ('no', 'one'): 1679, 'fantasies': 1680, 'opening': 1681, 'took': 1682, 'intriguing': 1683, 'hanks': 1684, 'amount': 1685, 'philip': 1686, 'enjoyable': 1687, 'nonetheless': 1688, 'wayne': 1689, 'surrounding': 1690, 'research': 1691, 'subtlety': 1692, 'win': 1693, 'after': 1694, 'scientist': 1695, 'leary': 1696, 'nowhere': 1697, 'thought': 1698, 'lane': 1699, ('much', 'film'): 1700, 'lover': 1701, ('few', 'minutes'): 1702, 'neve': 1703, 'new': 1704, 'deniro': 1705, 'doom': 1706, 'truly': 1707, ('film', 'isn'): 1708, 'traditional': 1709, 'plans': 1710, 'lighting': 1711, ('doesn', 'quite'): 1712, 'simply': 1713, 'specific': 1714, 'spielberg': 1715, ('one', 'my'): 1716, 'befriends': 1717, 'most': 1718, 'nor': 1719, 'sides': 1720, 'hill': 1721, 'round': 1722, 'set': 1723, 'promise': 1724, 'realm': 1725, 'chinese': 1726, 'lack': 1727, 'rage': 1728, ('but', 'film'): 1729, ('doesn', 'get'): 1730, 'profanity': 1731, ('most', 'important'): 1732, 'screenwriter': 1733, 'challenging': 1734, 'picks': 1735, 'responsible': 1736, 'knows': 1737, 'merely': 1738, ('zeta', 'jones'): 1739, ('part', 'film'): 1740, ('movie', 'but'): 1741, 'subject': 1742, 'possibly': 1743, ('only', 'thing'): 1744, 'weaver': 1745, ('old', 'fashioned'): 1746, ('help', 'but'): 1747, 'ghetto': 1748, 'paltrow': 1749, ('most', 'part'): 1750, 'voices': 1751, 'necessarily': 1752, 'daniel': 1753, 'office': 1754, ('good', 'time'): 1755, ('movie', 'about'): 1756, 'text': 1757, 'briefly': 1758, 'high': 1759, 'reality': 1760, 'wear': 1761, 'nicely': 1762, 'thrown': 1763, 'theaters': 1764, 'pool': 1765, 'rights': 1766, ('one', 'film'): 1767, ('not', 'really'): 1768, 'company': 1769, 'kline': 1770, ('ever', 'seen'): 1771, 'usually': 1772, 'secrets': 1773, ('one', 'night'): 1774, 'self': 1775, 'became': 1776, 'william': 1777, 'stretch': 1778, 'respected': 1779, ('romantic', 'comedy'): 1780, 'enterprise': 1781, 'drink': 1782, ('ve', 'got'): 1783, ('jackie', 'chan'): 1784, 'banderas': 1785, 'terrorist': 1786, 'term': 1787, 'tunes': 1788, ('running', 'time'): 1789, 'paulie': 1790, 'pulls': 1791, 'shape': 1792, 'minds': 1793, ('one', 'thing'): 1794, 'perry': 1795, 'acclaimed': 1796, 'five': 1797, 'related': 1798, 'complicated': 1799, ('deep', 'rising'): 1800, ('robert', 'de'): 1801, 'harsh': 1802, ('into', 'one'): 1803, 'comparisons': 1804, 'smith': 1805, ('not', 'one'): 1806, 'sequences': 1807, 'fool': 1808, 'using': 1809, 'dogs': 1810, 'generic': 1811, ('little', 'bit'): 1812, 'underground': 1813, 'insane': 1814, 'tight': 1815, 'dignity': 1816, 'cheap': 1817, 'conversation': 1818, 'die': 1819, 'ii': 1820, ('but', 'unfortunately'): 1821, 'covered': 1822, ('especially', 'when'): 1823, 'suffer': 1824, 'us': 1825, 'highly': 1826, 'tiny': 1827, 'fugitive': 1828, 'roles': 1829, 'gorilla': 1830, 'voight': 1831, 'charlie': 1832, 'comedic': 1833, 'brosnan': 1834, 'room': 1835, ('one', 'another'): 1836, 'appear': 1837, 'kevin': 1838, 'stone': 1839, 'their': 1840, 'soldiers': 1841, 'heroes': 1842, ('anything', 'but'): 1843, ('doesn', 'really'): 1844, 'marshall': 1845, ('sounds', 'like'): 1846, ('out', 'place'): 1847, 'quentin': 1848, 'intelligent': 1849, 'absent': 1850, 'recently': 1851, 'companion': 1852, 'thousand': 1853, 'visually': 1854, 'mistaken': 1855, 'certainly': 1856, ('worth', 'seeing'): 1857, ('saving', 'private', 'ryan'): 1858, 'convey': 1859, 'kids': 1860, 'semi': 1861, 'correct': 1862, 'fun': 1863, 'appeal': 1864, ('set', 'up'): 1865, 'recommend': 1866, 'opened': 1867, 'sweetback': 1868, 'treated': 1869, 'fighting': 1870, 'tv': 1871, 'expression': 1872, 'connery': 1873, 'passing': 1874, ('box', 'office'): 1875, 'perfection': 1876, 'thus': 1877, 'water': 1878, 'struggle': 1879, ('seems', 'like'): 1880, 'jamie': 1881, 'western': 1882, ('things', 'up'): 1883, 'runner': 1884, 'across': 1885, 'driver': 1886, 'dirty': 1887, 'wouldn': 1888, ('but', 'will'): 1889, 'dead': 1890, 'himself': 1891, 'director': 1892, 'delivering': 1893, 'sidekick': 1894, 'hours': 1895, 'car': 1896, 'behind': 1897, 'vs': 1898, 'small': 1899, 'crosses': 1900, 'premise': 1901, 'since': 1902, 'harrelson': 1903, ('modern', 'day'): 1904, 'featured': 1905, ('film', 'not'): 1906, 'jonathan': 1907, 'lone': 1908, 'six': 1909, ('love', 'story'): 1910, ('probably', 'not'): 1911, 'likely': 1912, 'inept': 1913, 'jewish': 1914, 'wit': 1915, 'humans': 1916, 'mickey': 1917, 'pat': 1918, 'mystery': 1919, 'fan': 1920, 'supernatural': 1921, 'hiding': 1922, ('real', 'people'): 1923, 'equally': 1924, 'successfully': 1925, 'combination': 1926, 'promising': 1927, 'friday': 1928, 'heaven': 1929, 'speech': 1930, 'here': 1931, 'blake': 1932, 'paying': 1933, 'neil': 1934, 'woo': 1935, 'bone': 1936, ('wild', 'wild'): 1937, 'levels': 1938, 'hoping': 1939, ('entire', 'film'): 1940, 'buddy': 1941, 'onto': 1942, 'unlikely': 1943, 'revelation': 1944, 'must': 1945, ('even', 'if'): 1946, ('film', 'more'): 1947, 'con': 1948, 'lee': 1949, ('look', 'like'): 1950, 'al': 1951, 'exception': 1952, 'leading': 1953, 'cliche': 1954, ('most', 'likely'): 1955, 'individuals': 1956, 'breaking': 1957, ('comic', 'relief'): 1958, ('well', 'made'): 1959, 'hope': 1960, 'burns': 1961, 'august': 1962, ('not', 'mention'): 1963, 'postman': 1964, 'walked': 1965, ('supporting', 'cast'): 1966, ('because', 'film'): 1967, ('into', 'movie'): 1968, 'added': 1969, ('not', 'movie'): 1970, 'liam': 1971, 'prove': 1972, 'status': 1973, 'served': 1974, 'editor': 1975, 'heads': 1976, 'speak': 1977, 'exchange': 1978, 'badly': 1979, 'theory': 1980, 'cutting': 1981, 'accused': 1982, 'contact': 1983, ('if', 've'): 1984, ('no', 'matter', 'how'): 1985, ('funny', 'but'): 1986, 'feels': 1987, ('last', 'year'): 1988, 'achieve': 1989, 'killers': 1990, 'population': 1991, 'comparison': 1992, 'vampires': 1993, 'learned': 1994, 'asks': 1995, ('film', 'because'): 1996, 'perfectly': 1997, 'mermaid': 1998, 'such': 1999, 'along': 2000, ('some', 'kind'): 2001, 'league': 2002, ('film', 'there'): 2003, 'addition': 2004, 'occurred': 2005, 'see': 2006, 'difficult': 2007, 'staged': 2008, 'balance': 2009, 'lies': 2010, 'talented': 2011, 'nbsp': 2012, 'shirt': 2013, 'youth': 2014, 'via': 2015, ('makes', 'him'): 2016, 'return': 2017, 'contemporary': 2018, 'devito': 2019, ('so', 'well'): 2020, 'compared': 2021, 'delivery': 2022, 'latest': 2023, 'outer': 2024, 'carry': 2025, 'fight': 2026, ('back', 'into'): 2027, ('eddie', 'murphy'): 2028, 'bet': 2029, ('see', 'how'): 2030, ('give', 'us'): 2031, ('their', 'first'): 2032, 'potential': 2033, 'level': 2034, 'crow': 2035, 'built': 2036, 'duvall': 2037, 'embarrassing': 2038, 'keep': 2039, ('care', 'about'): 2040, ('film', 'if'): 2041, 'sean': 2042, 'praise': 2043, 'against': 2044, 'method': 2045, 'proper': 2046, 'hood': 2047, 'whatever': 2048, 'mercury': 2049, 'strip': 2050, ('pretty', 'much'): 2051, 'neither': 2052, 'detailed': 2053, 'evident': 2054, ('there', 'only'): 2055, 'drugs': 2056, 'blonde': 2057, 'visit': 2058, ('even', 'though'): 2059, 'pathetic': 2060, 'provided': 2061, 'identity': 2062, ('so', 'called'): 2063, ('non', 'stop'): 2064, 'great': 2065, 'charming': 2066, 'emotion': 2067, 'receive': 2068, 'glenn': 2069, ('but', 'other'): 2070, ('toy', 'story'): 2071, 'originally': 2072, 'requires': 2073, 'voice': 2074, 'giant': 2075, 'judging': 2076, 'needs': 2077, 'hopefully': 2078, 'battles': 2079, 'armageddon': 2080, 'joke': 2081, 'overall': 2082, 'wall': 2083, 'while': 2084, ('after', 'all'): 2085, 'hollow': 2086, 'showed': 2087, 'dramatic': 2088, 'forth': 2089, 'breasts': 2090, ('keanu', 'reeves'): 2091, 'believes': 2092, 'festival': 2093, 'proves': 2094, 'absolutely': 2095, 'deserve': 2096, 'feet': 2097, ('matt', 'damon'): 2098, 'protect': 2099, ('nothing', 'more'): 2100, 'greatest': 2101, 'law': 2102, 'make': 2103, 'boat': 2104, 'leader': 2105, 'returns': 2106, 'context': 2107, 'indiana': 2108, 'skills': 2109, ('opening', 'scene'): 2110, 'rose': 2111, 'hollywood': 2112, 'successful': 2113, 'corny': 2114, 'though': 2115, 'time': 2116, 'desperately': 2117, 'princess': 2118, ('only', 'does'): 2119, 'rated': 2120, ('anthony', 'hopkins'): 2121, 'snow': 2122, 'designer': 2123, 'phil': 2124, 'mildly': 2125, 'julia': 2126, 'stunning': 2127, 'combined': 2128, ('get', 'out'): 2129, 'close': 2130, ('some', 'most'): 2131, ('but', 'does'): 2132, 'late': 2133, 'gary': 2134, 'neeson': 2135, ('film', 'too'): 2136, 'soundtrack': 2137, 'now': 2138, 'soft': 2139, ('award', 'winning'): 2140, 'dvd': 2141, 'personalities': 2142, 'presents': 2143, 'sutherland': 2144, ('ve', 'seen'): 2145, 'anybody': 2146, 'encounter': 2147, 'catches': 2148, 'ace': 2149, 'outrageous': 2150, ('ve', 'ever', 'seen'): 2151, 'besides': 2152, 'add': 2153, 'holy': 2154, 'picked': 2155, ('die', 'hard'): 2156, ('far', 'too'): 2157, 'interviews': 2158, 'source': 2159, 'charles': 2160, 'track': 2161, ('jack', 'nicholson'): 2162, 'stylish': 2163, 'contained': 2164, 'years': 2165, 'damn': 2166, 'geoffrey': 2167, 'disney': 2168, 'susan': 2169, 'foot': 2170, 'files': 2171, 'shop': 2172, ('way', 'too'): 2173, 'filmed': 2174, 'meaning': 2175, 'definite': 2176, ('television', 'series'): 2177, 'paper': 2178, 'branagh': 2179, 'form': 2180, 'wallace': 2181, 'protagonists': 2182, 'alien': 2183, 'purpose': 2184, 'clearly': 2185, 'partner': 2186, 'paxton': 2187, 'lazy': 2188, ('lee', 'jones'): 2189, 'stronger': 2190, 'wings': 2191, 'shooting': 2192, 'named': 2193, ('bug', 'life'): 2194, 'total': 2195, 'lloyd': 2196, 'critique': 2197, 'hired': 2198, 'chambers': 2199, ('screen', 'time'): 2200, 'sounding': 2201, ('talk', 'about'): 2202, 'depth': 2203, 'awful': 2204, 'opposite': 2205, 'adequate': 2206, 'received': 2207, 'causes': 2208, 'values': 2209, 'pam': 2210, 'utterly': 2211, 'cable': 2212, ('million', 'dollars'): 2213, 'ways': 2214, 'accomplished': 2215, ('two', 'hours'): 2216, 'proving': 2217, 'mrs': 2218, 'event': 2219, ('but', 'isn'): 2220, 'use': 2221, 'subplot': 2222, 'saves': 2223, 'image': 2224, 'hospital': 2225, 'sophisticated': 2226, 'sudden': 2227, 'job': 2228, 'even': 2229, 'walter': 2230, 'hook': 2231, 'shy': 2232, ('might', 'not'): 2233, 'execution': 2234, 'guess': 2235, 'views': 2236, 'weapon': 2237, 'joseph': 2238, 'ball': 2239, 'jeffrey': 2240, 'mel': 2241, 'sin': 2242, 'bit': 2243, 'glad': 2244, ('larry', 'flynt'): 2245, ('science', 'fiction'): 2246, ('seen', 'all'): 2247, ('all', 'around'): 2248, 'far': 2249, 'brooks': 2250, 'public': 2251, 'broad': 2252, 'blows': 2253, 'terror': 2254, 'visual': 2255, ('african', 'american'): 2256, 'career': 2257, 'bus': 2258, ('scenes', 'like'): 2259, 'breath': 2260, 'australian': 2261, 'occasionally': 2262, ('our', 'heroes'): 2263, 'thousands': 2264, 'teacher': 2265, 'altman': 2266, 'burton': 2267, 'rest': 2268, ('jay', 'silent'): 2269, 'say': 2270, 'tried': 2271, 'began': 2272, 'seven': 2273, ('robert', 'de', 'niro'): 2274, 'tend': 2275, 'telling': 2276, ('but', 'when'): 2277, ('not', 'only'): 2278, ('out', 'there'): 2279, ('matter', 'how'): 2280, 'raised': 2281, 'gambling': 2282, ('movies', 'but'): 2283, 'cox': 2284, 'away': 2285, 'stale': 2286, ('turned', 'into'): 2287, 'uses': 2288, ('home', 'video'): 2289, 'goes': 2290, 'long': 2291, 'movement': 2292, 'crowd': 2293, 'black': 2294, 'necessary': 2295, 'discovery': 2296, 'collection': 2297, ('but', 'still'): 2298, 'ring': 2299, 'unexpectedly': 2300, ('every', 'scene'): 2301, 'roberts': 2302, 'type': 2303, 'menace': 2304, 'rain': 2305, 'prevent': 2306, ('then', 'there'): 2307, 'dying': 2308, 'cowboy': 2309, 'university': 2310, 'prinze': 2311, 'jerry': 2312, 'also': 2313, ('check', 'out'): 2314, 'jane': 2315, 'bed': 2316, ('don', 'know'): 2317, 'altogether': 2318, 'drag': 2319, 'aimed': 2320, 'driving': 2321, 'inspector': 2322, 'wasted': 2323, 'odd': 2324, 'underdeveloped': 2325, 'chick': 2326, 'mighty': 2327, ('many', 'times'): 2328, 'bang': 2329, 'manipulative': 2330, 'returned': 2331, 'federation': 2332, 'trilogy': 2333, 'beats': 2334, 'tragic': 2335, 'nolte': 2336, 'stark': 2337, ('first', 'one'): 2338, 'sit': 2339, 'shut': 2340, 'relatively': 2341, 'placed': 2342, ('kind', 'movie'): 2343, ('doesn', 'take'): 2344, 'ford': 2345, 'capsule': 2346, 'busy': 2347, 'psychological': 2348, 'identify': 2349, 'problems': 2350, ('movie', 'like'): 2351, 'kill': 2352, 'jump': 2353, 'fate': 2354, 'discovering': 2355, 'plot': 2356, ('film', 'itself'): 2357, ('years', 'ago'): 2358, 'harris': 2359, 'lean': 2360, 'bomb': 2361, 'tunnel': 2362, 'funny': 2363, 'quality': 2364, 'order': 2365, 'matthew': 2366, 'captures': 2367, ('something', 'more'): 2368, ('once', 'again'): 2369, 'places': 2370, 'genre': 2371, 'trapped': 2372, 'ago': 2373, ('but', 'don'): 2374, 'news': 2375, 'whale': 2376, ('seem', 'like'): 2377, 'save': 2378, 'big': 2379, 'sandra': 2380, 'smart': 2381, ('too', 'many'): 2382, 'think': 2383, 'scare': 2384, ('when', 'comes'): 2385, ('samuel', 'jackson'): 2386, 'kenobi': 2387, 'true': 2388, 'worth': 2389, ('seen', 'movie'): 2390, ('throughout', 'film'): 2391, 'night': 2392, 'chemistry': 2393, 'kicks': 2394, 'elderly': 2395, 'including': 2396, 'popping': 2397, 'red': 2398, 'lead': 2399, 'copy': 2400, 'value': 2401, 'warned': 2402, 'cousin': 2403, 'wrote': 2404, ('just', 'so'): 2405, 'remembered': 2406, 'ordinary': 2407, 'movie': 2408, 'nominated': 2409, 'driven': 2410, 'cameo': 2411, 'vicious': 2412, 'sinister': 2413, 'surely': 2414, 'passion': 2415, 'events': 2416, ('horror', 'films'): 2417, 'tribe': 2418, 'understanding': 2419, ('into', 'film'): 2420, ('not', 'film'): 2421, 'african': 2422, 'closer': 2423, ('world', 'war'): 2424, 'making': 2425, 'top': 2426, 'lola': 2427, 'odds': 2428, ('than', 'anything'): 2429, 'finally': 2430, ('absolutely', 'nothing'): 2431, 'separate': 2432, 'daughter': 2433, 'attention': 2434, 'spend': 2435, ('film', 'had'): 2436, 'elizabeth': 2437, 'ludicrous': 2438, 'jean': 2439, 'antics': 2440, 'fame': 2441, 'playing': 2442, ('but', 'not'): 2443, 'johnson': 2444, 'foul': 2445, 'pleasant': 2446, 'aware': 2447, 'brian': 2448, 'asking': 2449, ('very', 'little'): 2450, ('film', 'good'): 2451, 'rolling': 2452, 'edwards': 2453, 'normal': 2454, 'succeeds': 2455, 'gwyneth': 2456, 'window': 2457, 'choices': 2458, 'once': 2459, 'tall': 2460, 'physically': 2461, 'cars': 2462, 'vision': 2463, 'flick': 2464, 'grade': 2465, 'ted': 2466, 'oscar': 2467, 'later': 2468, 'hugh': 2469, 'sheriff': 2470, 'invisible': 2471, 'canadian': 2472, ('one', 'not'): 2473, 'graphic': 2474, 'learn': 2475, 'everywhere': 2476, 'treat': 2477, 'parody': 2478, 'deep': 2479, ('end', 'movie'): 2480, 'fail': 2481, 'loser': 2482, 'texas': 2483, 'matt': 2484, ('wild', 'wild', 'west'): 2485, 'decent': 2486, 'joe': 2487, ('yet', 'another'): 2488, 'seagal': 2489, 'someone': 2490, 'prisoner': 2491, 'robbins': 2492, 'actresses': 2493, 'filmmaking': 2494, 'ellie': 2495, 'liners': 2496, 'blair': 2497, 'improved': 2498, 'asleep': 2499, ('but', 're'): 2500, 'hammer': 2501, 'harlem': 2502, 'sunday': 2503, 'affection': 2504, 'figured': 2505, ('real', 'life'): 2506, ('about', 'their'): 2507, 'explored': 2508, 'stern': 2509, 'match': 2510, 'center': 2511, 'supposed': 2512, ('special', 'effects'): 2513, 'bleak': 2514, 'tough': 2515, 'mom': 2516, 'popular': 2517, 'enjoyed': 2518, ('nothing', 'short'): 2519, 'based': 2520, 'boy': 2521, 'realizing': 2522, ('absolutely', 'no'): 2523, 'importance': 2524, 'obviously': 2525, 'vaguely': 2526, 'still': 2527, 'ships': 2528, 'drop': 2529, 'comedy': 2530, 'department': 2531, ('larger', 'than'): 2532, 'dr': 2533, 'go': 2534, 'book': 2535, ('first', 'movie'): 2536, ('all', 'all'): 2537, 'write': 2538, 'record': 2539, 'star': 2540, 'feel': 2541, 'sing': 2542, 'instinct': 2543, 'breaks': 2544, 'unfortunately': 2545, 'smile': 2546, 'confused': 2547, 'entertaining': 2548, 'john': 2549, 'virus': 2550, 'oz': 2551, 'rip': 2552, 'earth': 2553, 'includes': 2554, ('movie', 'so'): 2555, 'decided': 2556, 'mouse': 2557, ('re', 'not'): 2558, 'qui': 2559, 'family': 2560, ('but', 'even'): 2561, ('no', 'doubt'): 2562, ('go', 'wrong'): 2563, 'normally': 2564, 'industry': 2565, ('silent', 'bob'): 2566, 'thirty': 2567, 'fascinating': 2568, 'kennedy': 2569, 'television': 2570, 'cinematographer': 2571, 'too': 2572, ('phantom', 'menace'): 2573, 'france': 2574, 'slow': 2575, 'only': 2576, 'religion': 2577, ('most', 'importantly'): 2578, 'ill': 2579, 'mansion': 2580, 'worst': 2581, 'thinking': 2582, ('but', 'if'): 2583, 'play': 2584, 'twin': 2585, 'atmosphere': 2586, 'exist': 2587, 'brings': 2588, 'lame': 2589, 'three': 2590, 'dave': 2591, 'lifetime': 2592, 'air': 2593, 'spare': 2594, 'fine': 2595, 'command': 2596, ('plot', 'twists'): 2597, 'stories': 2598, 'pilot': 2599, 'technology': 2600, 'old': 2601, 'boston': 2602, 'girlfriend': 2603, 'starred': 2604, 'bill': 2605, ('only', 'reason'): 2606, 'cartoonish': 2607, 'carrying': 2608, 'bastard': 2609, 'produce': 2610, 'logical': 2611, ('over', 'top'): 2612, 'paris': 2613, 'hear': 2614, ('batman', 'robin'): 2615, 'fire': 2616, 'couldn': 2617, 'eat': 2618, 'excessive': 2619, 'pitch': 2620, ('private', 'ryan'): 2621, 'adaptation': 2622, ('after', 'while'): 2623, ('rather', 'than'): 2624, 'bathroom': 2625, 'super': 2626, 'ghosts': 2627, 'sword': 2628, 'nearly': 2629, 'stir': 2630, 'incredible': 2631, 'becomes': 2632, 'laughed': 2633, ('life', 'but'): 2634, ('kevin', 'bacon'): 2635, 'jack': 2636, 'surreal': 2637, 'hewitt': 2638, ('will', 'find'): 2639, 'duke': 2640, 'concerned': 2641, ('one', 'liners'): 2642, ('bad', 'guy'): 2643, ('there', 'lot'): 2644, 'strange': 2645, 'cruise': 2646, 'racism': 2647, ('bit', 'more'): 2648, 'adding': 2649, 'hitting': 2650, 'nicholas': 2651, 'individual': 2652, 'enemy': 2653, 'dinner': 2654, 'proud': 2655, 'freeman': 2656, 'carrey': 2657, 'beneath': 2658, 'suffering': 2659, 'situation': 2660, 'mexico': 2661, 'screens': 2662, ('up', 'all'): 2663, 'sky': 2664, 'price': 2665, 'costner': 2666, ('my', 'opinion'): 2667, 'uma': 2668, 'sheer': 2669, 'movies': 2670, 'commercials': 2671, ('figure', 'out'): 2672, ('but', 'too'): 2673, 'alive': 2674, 'birthday': 2675, 'audience': 2676, ('difference', 'between'): 2677, 'defense': 2678, 'minutes': 2679, ('fifteen', 'minutes'): 2680, 'gave': 2681, 'aging': 2682, 'floating': 2683, ('making', 'movie'): 2684, 'waste': 2685, 'standard': 2686, ('obi', 'wan'): 2687, ('will', 'go'): 2688, 'respectively': 2689, 'mixed': 2690, 'passed': 2691, 'player': 2692, ('good', 'performance'): 2693, 'seemingly': 2694, 'get': 2695, ('let', 'me'): 2696, ('don', 'think'): 2697, ('just', 'doesn'): 2698, 'civil': 2699, 'attempting': 2700, ('many', 'ways'): 2701, ('there', 'isn'): 2702, ('something', 'about'): 2703, 'narration': 2704, 'dogma': 2705, ('better', 'than'): 2706, 'drags': 2707, 'witch': 2708, 'deserves': 2709, ('came', 'out'): 2710, 'skin': 2711, 'raimi': 2712, 'toilet': 2713, 'dealer': 2714, 'breathtaking': 2715, ('movie', 'one'): 2716, 'mind': 2717, 'trend': 2718, 'lousy': 2719, 'disappointment': 2720, ('too', 'late'): 2721, 'question': 2722, 'mistake': 2723, ('any', 'film'): 2724, 'sly': 2725, 'hills': 2726, 'mask': 2727, 'halloween': 2728, 'design': 2729, 'known': 2730, 'death': 2731, 'numbers': 2732, ('jean', 'claude'): 2733, 'projects': 2734, 'mentally': 2735, 'mistakes': 2736, 'sidney': 2737, 'menacing': 2738, ('sean', 'connery'): 2739, 'anywhere': 2740, 'co': 2741, 'struggling': 2742, 'similarly': 2743, 'calling': 2744, 'ironic': 2745, 'pg': 2746, 'field': 2747, 'gag': 2748, 'talents': 2749, 'grisham': 2750, 'peak': 2751, 'gus': 2752, 'assistant': 2753, 'fargo': 2754, 'scheme': 2755, 'never': 2756, 'random': 2757, 'nights': 2758, 'all': 2759, 'richards': 2760, 'ingredients': 2761, ('live', 'up'): 2762, 'development': 2763, 'doubt': 2764, 'shots': 2765, ('tv', 'show'): 2766, ('while', 'watching'): 2767, 'visuals': 2768, 'chan': 2769, 'information': 2770, 'few': 2771, 'matters': 2772, 'documentary': 2773, 'wicked': 2774, 'lesbian': 2775, ('only', 'problem'): 2776, 'worn': 2777, 'scared': 2778, 'schindler': 2779, 'bloody': 2780, 'methods': 2781, ('rest', 'movie'): 2782, 'bucks': 2783, 'kidman': 2784, 'delightful': 2785, 'debut': 2786, 'twisted': 2787, 'shue': 2788, 'jokes': 2789, 'private': 2790, 'plenty': 2791, 'hint': 2792, 'losing': 2793, ('some', 'people'): 2794, ('serial', 'killer'): 2795, 'stay': 2796, 'pig': 2797, 'staying': 2798, 'looking': 2799, ('doesn', 'know'): 2800, 'quest': 2801, 'seems': 2802, ('pick', 'up'): 2803, 'course': 2804, 'tears': 2805, 'almost': 2806, 'detail': 2807, ('jackie', 'brown'): 2808, 'rick': 2809, 'sticks': 2810, 'pulp': 2811, 'born': 2812, 'lets': 2813, 'confidence': 2814, 'chris': 2815, 'parents': 2816, ('also', 'very'): 2817, ('why', 'would'): 2818, 'handed': 2819, 'george': 2820, 'guts': 2821, 'won': 2822, 'mark': 2823, 'lonely': 2824, 'continue': 2825, 'aliens': 2826, ('because', 'there'): 2827, ('morgan', 'freeman'): 2828, ('same', 'time'): 2829, 'references': 2830, 'grows': 2831, 'emotionally': 2832, 'surprised': 2833, 'invasion': 2834, 'rich': 2835, 'described': 2836, ('big', 'budget'): 2837, ('seen', 'film'): 2838, 'fairly': 2839, 'soul': 2840, 'thoroughly': 2841, ('all', 'right'): 2842, 'soldier': 2843, 'bank': 2844, 'kick': 2845, 'large': 2846, ('last', 'summer'): 2847, 'sound': 2848, 'hunter': 2849, 'downright': 2850, 'mouth': 2851, 'volcano': 2852, 'vegas': 2853, 'decision': 2854, 'middle': 2855, 'initial': 2856, ('come', 'up'): 2857, 'nazi': 2858, 'brother': 2859, 'yourself': 2860, 'ain': 2861, 'jude': 2862, 'chance': 2863, 'appeared': 2864, 'call': 2865, 'motion': 2866, 'strike': 2867, 'buddies': 2868, 'am': 2869, 'bring': 2870, ('ever', 'made'): 2871, 'edition': 2872, 'maintain': 2873, 'kiss': 2874, 'followed': 2875, 'warrior': 2876, 'neck': 2877, 'dry': 2878, 'touch': 2879, 'jr': 2880, 'reminds': 2881, ('summer', 'movie'): 2882, 'explain': 2883, 'rather': 2884, 'dies': 2885, 'each': 2886, ('not', 'only', 'does'): 2887, 'kingsley': 2888, 'effect': 2889, 'baseball': 2890, 'ralph': 2891, 'reviews': 2892, ('end', 'credits'): 2893, 'mini': 2894, 'desert': 2895, ('tommy', 'lee'): 2896, 'moments': 2897, 'meeting': 2898, 'fighter': 2899, 'formula': 2900, 'today': 2901, 'mountain': 2902, 'stunts': 2903, 'fortune': 2904, ('half', 'hour'): 2905, 'moral': 2906, 'hopes': 2907, 'regardless': 2908, 'affair': 2909, 'lynch': 2910, 'disbelief': 2911, 'anymore': 2912, 'stage': 2913, 'thankfully': 2914, 'brand': 2915, 'easy': 2916, 'led': 2917, 'difference': 2918, 'dating': 2919, ('oscar', 'nomination'): 2920, 'part': 2921, 'ben': 2922, 'scripts': 2923, 'forward': 2924, 'crash': 2925, 'realistic': 2926, 'wish': 2927, 'mid': 2928, ('had', 'no'): 2929, 'switch': 2930, 'proceedings': 2931, ('film', 'like'): 2932, 'dawn': 2933, ('there', 'not'): 2934, 'front': 2935, 'waiting': 2936, 'haunted': 2937, 'forget': 2938, 'duchovny': 2939, ('end', 'film'): 2940, ('only', 'few'): 2941, ('movies', 'like'): 2942, 'impressive': 2943, ('ed', 'wood'): 2944, 'tedious': 2945, ('want', 'see'): 2946, 'path': 2947, 'wins': 2948, 'lovable': 2949, 'sgt': 2950, 'sphere': 2951, 'angles': 2952, 'laughs': 2953, ('their', 'way'): 2954, 'cross': 2955, 'pace': 2956, 'sequence': 2957, 'flaw': 2958, 'blind': 2959, 'so': 2960, 'uninspired': 2961, 'obsession': 2962, 'serves': 2963, 'notch': 2964, 'spiritual': 2965, 'sexuality': 2966, 'richard': 2967, 'double': 2968, 'bates': 2969, 'impact': 2970, 'started': 2971, ('about', 'all'): 2972, 'real': 2973, 'twice': 2974, 'forms': 2975, ('shows', 'up'): 2976, ('film', 'very'): 2977, 'bobby': 2978, 'natural': 2979, ('one', 'few'): 2980, ('don', 'like'): 2981, 'group': 2982, 'screaming': 2983, 'painting': 2984, 'revealed': 2985, 'exercise': 2986, ('kevin', 'smith'): 2987, 'straight': 2988, 'travel': 2989, ('first', 'film'): 2990, 'shame': 2991, 'feeling': 2992, 'inventive': 2993, 'gabriel': 2994, 'australia': 2995, ('hong', 'kong'): 2996, 'toys': 2997, ('everyone', 'else'): 2998, 'shocking': 2999, ('well', 'but'): 3000, 'dreamworks': 3001, 'exact': 3002, 'expressions': 3003, ('enough', 'make'): 3004, ('your', 'life'): 3005, ('had', 'some'): 3006, 'task': 3007, ('main', 'character'): 3008, 'basically': 3009, 'survivors': 3010, ('best', 'performance'): 3011, 'shock': 3012, 'usual': 3013, 'filming': 3014, ('worse', 'than'): 3015, 'box': 3016, 'cliff': 3017, 'searching': 3018, 'caring': 3019, 'developing': 3020, 'angry': 3021, 'french': 3022, 'village': 3023, ('despite', 'fact'): 3024, 'famous': 3025, 'ended': 3026, ('main', 'characters'): 3027, ('know', 'last', 'summer'): 3028, 'basis': 3029, 'lethal': 3030, ('find', 'themselves'): 3031, 'bat': 3032, 've': 3033, 'attempted': 3034, 'manner': 3035, 'live': 3036, 'presentation': 3037, ('some', 'more'): 3038, 'fantastic': 3039, 'lacking': 3040, ('meg', 'ryan'): 3041, 'laura': 3042, 'frank': 3043, 'ahead': 3044, 'appropriate': 3045, ('makes', 'film'): 3046, 'bought': 3047, 'consists': 3048, 'adds': 3049, 'had': 3050, 'surprise': 3051, 'very': 3052, ('film', 'most'): 3053, ('original', 'film'): 3054, ('there', 'even'): 3055, 'wow': 3056, 'teenagers': 3057, 'leonard': 3058, 'convincing': 3059, ('lost', 'space'): 3060, 'alexander': 3061, 'yes': 3062, 'aspect': 3063, 'tarantino': 3064, 'campaign': 3065, 'senator': 3066, ('blair', 'witch'): 3067, ('uma', 'thurman'): 3068, 'seeing': 3069, ('than', 'most'): 3070, 'cell': 3071, ('take', 'over'): 3072, 'green': 3073, 'gang': 3074, ('second', 'half'): 3075, 'spin': 3076, 'devoted': 3077, ('life', 'beautiful'): 3078, ('disney', 'animated'): 3079, 'site': 3080, 'men': 3081, 'series': 3082, ('see', 'him'): 3083, 'awkward': 3084, 'efforts': 3085, 'fellow': 3086, 'members': 3087, ('no', 'way'): 3088, 'letting': 3089, 'russell': 3090, 'quiet': 3091, 'cope': 3092, 'haven': 3093, ('million', 'dollar'): 3094, 'warner': 3095, ('quentin', 'tarantino'): 3096, 'casablanca': 3097, 'genius': 3098, 'pass': 3099, ('rest', 'cast'): 3100, 'element': 3101, ('sixth', 'sense'): 3102, 'experienced': 3103, 'commentary': 3104, 'storm': 3105, 'essence': 3106, ('tv', 'series'): 3107, 'onscreen': 3108, 'cheek': 3109, ('doesn', 'seem'): 3110, 'factory': 3111, 'hey': 3112, 'hackman': 3113, 'inner': 3114, 'decade': 3115, ('bottom', 'line'): 3116, 'hang': 3117, 'bear': 3118, 'ewan': 3119, 'blond': 3120, 'likes': 3121, 'street': 3122, 'production': 3123, 'fails': 3124, ('about', 'movie'): 3125, ('not', 'say'): 3126, 'client': 3127, 'manages': 3128, 'country': 3129, 'hopkins': 3130, 'expensive': 3131, ('no', 'longer'): 3132, 'aged': 3133, 'possesses': 3134, ('but', 'all'): 3135, 'battlefield': 3136, ('but', 'certainly'): 3137, 'said': 3138, 'alas': 3139, ('without', 'any'): 3140, 'appreciate': 3141, 'appearing': 3142, 'vince': 3143, 'convention': 3144, 'offer': 3145, ('film', 'so'): 3146, 'grow': 3147, 'lawyer': 3148, ('not', 'enough'): 3149, ('film', 'also'): 3150, 'italian': 3151, 'powder': 3152, 'avoid': 3153, 'potentially': 3154, 'patrick': 3155, 'learns': 3156, 'particularly': 3157, 'flash': 3158, 'overbearing': 3159, 'thomas': 3160, 'forever': 3161, 'actors': 3162, 'irritating': 3163, 'episode': 3164, 'friendly': 3165, 'turns': 3166, ('just', 'how'): 3167, 'crime': 3168, ('soap', 'opera'): 3169, 'then': 3170, 'courtroom': 3171, 'finn': 3172, 'spawn': 3173, 'up': 3174, 'credible': 3175, ('every', 'time'): 3176, 'token': 3177, 'failure': 3178, 'amazed': 3179, ('young', 'man'): 3180, 'perhaps': 3181, 'puts': 3182, 'streets': 3183, 'trash': 3184, 'substance': 3185, 'derek': 3186, ('some', 'reason'): 3187, 'settle': 3188, 'talk': 3189, 'cute': 3190, 'clueless': 3191, ('romeo', 'juliet'): 3192, 'spot': 3193, 'spending': 3194, ('out', 'their'): 3195, 'service': 3196, 'cannot': 3197, 'seek': 3198, ('finds', 'out'): 3199, 'working': 3200, 'found': 3201, 'bottle': 3202, 'married': 3203, 'frustrated': 3204, 'typical': 3205, 'murray': 3206, 'ensemble': 3207, 'brought': 3208, 'understand': 3209, 'effects': 3210, ('action', 'movie'): 3211, ('make', 'him'): 3212, ('action', 'scenes'): 3213, 'grown': 3214, ('other', 'words'): 3215, 'leaving': 3216, ('film', 'however'): 3217, 'fell': 3218, ('doesn', 'work'): 3219, 'politics': 3220, 'forest': 3221, 'sorvino': 3222, 'mystical': 3223, 'troopers': 3224, 'wind': 3225, 'already': 3226, 'solid': 3227, 'eye': 3228, ('james', 'woods'): 3229, 'upcoming': 3230, ('very', 'very'): 3231, ('one', 'many'): 3232, 'poignant': 3233, 'weird': 3234, ('one', 'character'): 3235, 'lands': 3236, 'work': 3237, ('no', 'less'): 3238, ('knows', 'how'): 3239, 'villain': 3240, 'color': 3241, 'kid': 3242, 'pet': 3243, 'las': 3244, 'direction': 3245, 'gags': 3246, 'initially': 3247, 'show': 3248, 'why': 3249, 'col': 3250, 'train': 3251, 'ross': 3252, ('one', 'dimensional'): 3253, 'tyler': 3254, 'feelings': 3255, 'experience': 3256, ('rest', 'film'): 3257, ('then', 'again'): 3258, 'adams': 3259, 'lot': 3260, 'charged': 3261, 'effectively': 3262, 'uninteresting': 3263, 'flashy': 3264, 'creating': 3265, 'teenage': 3266, ('found', 'myself'): 3267, 'segment': 3268, 'former': 3269, 'cameos': 3270, 'films': 3271, ('fun', 'watch'): 3272, 'comedian': 3273, ('film', 'really'): 3274, 'killing': 3275, 'doors': 3276, 'jeremy': 3277, 'viewers': 3278, 'best': 3279, 'sleepy': 3280, 'vincent': 3281, ('sleepy', 'hollow'): 3282, 'prostitute': 3283, 'aren': 3284, 'magical': 3285, 'broken': 3286, 'when': 3287, 'matilda': 3288, ('through', 'film'): 3289, 'enjoying': 3290, 'sentimental': 3291, 'walking': 3292, 'mental': 3293, 'carries': 3294, 'baldwin': 3295, ('just', 'because'): 3296, 'beautiful': 3297, ('julia', 'roberts'): 3298, 'hostage': 3299, 'welles': 3300, 'control': 3301, 'mitchell': 3302, 'wife': 3303, 'ridiculous': 3304, 'darryl': 3305, 'relate': 3306, 'de': 3307, 'steal': 3308, 'isolated': 3309, 'fiennes': 3310, ('not', 'even'): 3311, ('film', 'no'): 3312, ('no', 'real'): 3313, 'bother': 3314, 'unrealistic': 3315, 'national': 3316, ('make', 'sure'): 3317, ('follow', 'up'): 3318, 'support': 3319, ('film', 'one'): 3320, ('character', 'film'): 3321, ('old', 'man'): 3322, 'greatness': 3323, 'mature': 3324, 'carried': 3325, ('not', 'exactly'): 3326, ('film', 'opens'): 3327, ('like', 'one'): 3328, 'growing': 3329, 'jumping': 3330, 'british': 3331, 'mob': 3332, ('many', 'people'): 3333, 'linda': 3334, ('story', 'line'): 3335, 'handles': 3336, 'astonishing': 3337, 'stallone': 3338, ('point', 'view'): 3339, ('definitely', 'not'): 3340, 'okay': 3341, 'among': 3342, 'focus': 3343, ('would', 'not'): 3344, 'wahlberg': 3345, 'formulaic': 3346, 'plain': 3347, 'actually': 3348, 'build': 3349, 'extreme': 3350, 'member': 3351, 'arm': 3352, 'discovers': 3353, 'bare': 3354, 'leo': 3355, 'admit': 3356, 'ripley': 3357, 'thriller': 3358, 'segments': 3359, 'object': 3360, 'philosophy': 3361, 'cause': 3362, 'eating': 3363, 'lawrence': 3364, ('director', 'john'): 3365, 'americans': 3366, 'develops': 3367, ('film', 'would'): 3368, 'opera': 3369, ('not', 'bad'): 3370, 'refuses': 3371, 'crisis': 3372, 'ridiculously': 3373, 'spy': 3374, 'always': 3375, 'truth': 3376, 'medium': 3377, 'happens': 3378, 'tiresome': 3379, 'nervous': 3380, 'flashbacks': 3381, 'nightmares': 3382, 'crew': 3383, ('sit', 'through'): 3384, 'per': 3385, 'hoffman': 3386, ('something', 'like'): 3387, 'society': 3388, 'various': 3389, 'lost': 3390, 'macho': 3391, 'ghost': 3392, 'wonders': 3393, 'beings': 3394, 'rules': 3395, 'reach': 3396, ('doesn', 'even'): 3397, 'points': 3398, 'reads': 3399, 'advantage': 3400, 'convicted': 3401, 'er': 3402, 'developed': 3403, ('first', 'place'): 3404, 'product': 3405, 'model': 3406, ('back', 'forth'): 3407, 'appreciated': 3408, 'families': 3409, ('though', 'not'): 3410, ('film', 'some'): 3411, ('good', 'will'): 3412, 'abilities': 3413, 'mentioned': 3414, 'fear': 3415, 'sympathy': 3416, 'there': 3417, 'actual': 3418, 'asked': 3419, 'spoken': 3420, ('another', 'one'): 3421, 'miss': 3422, 'll': 3423, 'presented': 3424, 'effective': 3425, 'episodes': 3426, 'delivered': 3427, 'thrilling': 3428, 'notes': 3429, 'mainly': 3430, 'anna': 3431, 'relief': 3432, 'chooses': 3433, 'device': 3434, ('even', 'worse'): 3435, 'stewart': 3436, 'celebrity': 3437, 'cage': 3438, 'proved': 3439, 'faith': 3440, 'martha': 3441, 'clad': 3442, ('other', 'than'): 3443, 'hilarious': 3444, 'ms': 3445, 'storyline': 3446, 'bruce': 3447, 'chosen': 3448, 'unique': 3449, 'market': 3450, 'technique': 3451, 'mess': 3452, 'skip': 3453, 'example': 3454, ('two', 'men'): 3455, 'welcome': 3456, 'trained': 3457, 'qualities': 3458, 'incredibly': 3459, 'associated': 3460, ('their', 'roles'): 3461, 'suspicious': 3462, 'fresh': 3463, 'wes': 3464, 'camera': 3465, 'should': 3466, 'tense': 3467, 'christian': 3468, ('if', 'there'): 3469, ('little', 'known'): 3470, ('show', 'up'): 3471, ('into', 'story'): 3472, ('ten', 'minutes'): 3473, 'portrait': 3474, 'channel': 3475, 'prison': 3476, 'plays': 3477, 'nearby': 3478, 'julianne': 3479, 'mass': 3480, 'firm': 3481, 'astronaut': 3482, 'judith': 3483, 'dangerous': 3484, 'amazing': 3485, 'focused': 3486, 'captured': 3487, ('will', 'hunting'): 3488, 'hands': 3489, ('turns', 'into'): 3490, 'brothers': 3491, 'meets': 3492, ('black', 'white'): 3493, ('had', 'me'): 3494, 'san': 3495, 'standout': 3496, 'past': 3497, ('de', 'palma'): 3498, 'campbell': 3499, 'having': 3500, 'cameron': 3501, 'gordon': 3502, 'general': 3503, 'basic': 3504, 'scenes': 3505, ('waste', 'time'): 3506, ('one', 'their'): 3507, 'silent': 3508, 'father': 3509, 'criminal': 3510, 'val': 3511, 'getting': 3512, 'love': 3513, 'admittedly': 3514, 'releases': 3515, 'like': 3516, 'players': 3517, 'town': 3518, 'generally': 3519, 'rocky': 3520, 'earlier': 3521, 'resembles': 3522, 'seemed': 3523, ('too', 'far'): 3524, 'molly': 3525, ('bad', 'but'): 3526, ('all', 'other'): 3527, 'island': 3528, 'relationships': 3529, 'idiotic': 3530, 'monkey': 3531, 'listening': 3532, 'running': 3533, 'burning': 3534, 'webb': 3535, ('like', 'movie'): 3536, 'kenneth': 3537, 'hearing': 3538, ('red', 'line'): 3539, 'happened': 3540, 'runs': 3541, 'particular': 3542, ('any', 'way'): 3543, 'happily': 3544, 'pure': 3545, 'devices': 3546, ('face', 'off'): 3547, ('not', 'sure'): 3548, 'morgan': 3549, 'coach': 3550, 'killed': 3551, 'aboard': 3552, 'personally': 3553, 'hurricane': 3554, 'fights': 3555, 'issues': 3556, 'upon': 3557, 'current': 3558, 'thing': 3559, ('so', 'many'): 3560, 'adult': 3561, 'wilson': 3562, 'category': 3563, 'intense': 3564, 'school': 3565, 'whether': 3566, 'church': 3567, 'likeable': 3568, 'enjoyment': 3569, 'adventure': 3570, 'winner': 3571, 'rocks': 3572, 'tone': 3573, 'brutal': 3574, 'force': 3575, 'stock': 3576, 'fish': 3577, 'solve': 3578, 'looked': 3579, 'bound': 3580, 'adam': 3581, 'accidentally': 3582, 'shine': 3583, 'craig': 3584, 'campy': 3585, ('movie', 'will'): 3586, 'explosion': 3587, 'stops': 3588, 'anakin': 3589, ('good', 'but'): 3590, 'arrive': 3591, 'charisma': 3592, 'wrestling': 3593, 'hero': 3594, ('half', 'film'): 3595, 'howard': 3596, 'break': 3597, 'shouldn': 3598, 'data': 3599, 'point': 3600, ('him', 'but'): 3601, 'snipes': 3602, ('about', 'film'): 3603, ('tells', 'him'): 3604, 'comment': 3605, 'possessed': 3606, 'singer': 3607, 'flaws': 3608, 'trek': 3609, 'installment': 3610, 'irene': 3611, 'motives': 3612, ('reminded', 'me'): 3613, 'andy': 3614, 'strongly': 3615, 'truck': 3616, 'timing': 3617, ('go', 'through'): 3618, 'will': 3619, 'buscemi': 3620, ('just', 'about'): 3621, ('haven', 'seen'): 3622, 'between': 3623, 'nature': 3624, ('after', 'being'): 3625, 'gas': 3626, 'schumacher': 3627, ('our', 'hero'): 3628, 'forces': 3629, 'game': 3630, 'holds': 3631, 'remain': 3632, 'lacks': 3633, 'sends': 3634, 'building': 3635, 'life': 3636, ('year', 'old'): 3637, 'outstanding': 3638, 'influence': 3639, 'titled': 3640, 'attorney': 3641, ('perhaps', 'most'): 3642, 'josh': 3643, 'stolen': 3644, 'eyes': 3645, ('well', 'done'): 3646, 'helped': 3647, 'damme': 3648, ('but', 'most'): 3649, 'grim': 3650, 'younger': 3651, 'promises': 3652, 'anastasia': 3653, ('will', 'probably'): 3654, 'wrapped': 3655, 'barry': 3656, 'executive': 3657, ('low', 'budget'): 3658, 'causing': 3659, 'wing': 3660, 'nelson': 3661, 'seem': 3662, 'producer': 3663, 'predecessor': 3664, 'changes': 3665, 'taking': 3666, 'seconds': 3667, 'fishburne': 3668, 'critical': 3669, 'imagination': 3670, 'iii': 3671, 'pop': 3672, 'gotten': 3673, 'martial': 3674, 'unforgettable': 3675, 'actress': 3676, 'carefully': 3677, 'austin': 3678, ('action', 'film'): 3679, ('one', 'most'): 3680, 'marry': 3681, 'wood': 3682, 'bridge': 3683, ('than', 'any'): 3684, 'thurman': 3685, 'enough': 3686, 'thrill': 3687, 'bullets': 3688, 'constructed': 3689, 'spoof': 3690, 'angela': 3691, 'background': 3692, 'lots': 3693, 'says': 3694, 'notably': 3695, ('find', 'out'): 3696, 'answers': 3697, 'winds': 3698, 'no': 3699, 'tarzan': 3700, 'bay': 3701, 'critic': 3702, 'helping': 3703, 'quaid': 3704, 'strangely': 3705, 'effort': 3706, 'called': 3707, 'block': 3708, 'paranoid': 3709, 'drug': 3710, 'executed': 3711, ('see', 'movie'): 3712, 'try': 3713, 'accents': 3714, ('many', 'years'): 3715, 'ideas': 3716, ('pretty', 'good'): 3717, 'magnificent': 3718, 'ho': 3719, 'dawson': 3720, 'candy': 3721, 'hadn': 3722, 'meyer': 3723, 'instance': 3724, 'studio': 3725, 'ready': 3726, 'leaves': 3727, 'betty': 3728, 'other': 3729, 'joy': 3730, 'charismatic': 3731, 'reed': 3732, ('their', 'characters'): 3733, 'dozen': 3734, 'francis': 3735, 'certain': 3736, 'bitter': 3737, 'starts': 3738, 'alice': 3739, 'crystal': 3740, 'thrillers': 3741, ('tommy', 'lee', 'jones'): 3742, 'hunting': 3743, ('but', 'also'): 3744, 'evening': 3745, 'conversations': 3746, ('him', 'out'): 3747, 'thoughts': 3748, 'pleasures': 3749, ('when', 'one'): 3750, 'take': 3751, 'area': 3752, 'disease': 3753, 'enjoy': 3754, 'conceived': 3755, ('scene', 'where'): 3756, 'many': 3757, 'everybody': 3758, 'mother': 3759, 'move': 3760, 'tragedy': 3761, 'list': 3762, 'fact': 3763, 'hip': 3764, 'magazine': 3765, 'blue': 3766, 'extended': 3767, ('film', 'based'): 3768, 'gavin': 3769, ('feature', 'film'): 3770, ('pulp', 'fiction'): 3771, 'competition': 3772, 'viewed': 3773, 'week': 3774, 'screams': 3775, 'brief': 3776, 'zeta': 3777, ('any', 'real'): 3778, 'somehow': 3779, 'murdered': 3780, 'cinematic': 3781, 'flicks': 3782, 'suicide': 3783, 'crazed': 3784, 'put': 3785, 'affleck': 3786, 'watching': 3787, 'portrayal': 3788, 'teaching': 3789, 'diane': 3790, 'ricky': 3791, 'notice': 3792, 'artistic': 3793, ('more', 'than', 'just'): 3794, 'may': 3795, 'confident': 3796, 'case': 3797, 'kinda': 3798, 'out': 3799, ('but', 'nothing'): 3800, ('how', 'about'): 3801, 'wars': 3802, 'decide': 3803, 'commanding': 3804, 'kim': 3805, 'argento': 3806, 'previews': 3807, ('sense', 'humor'): 3808, 'dull': 3809, 'hasn': 3810, 'jeff': 3811, 'suspenseful': 3812, 'study': 3813, 'horror': 3814, 'alec': 3815, 'chasing': 3816, 'viewer': 3817, 'cash': 3818, 'faced': 3819, 'uncle': 3820, ('although', 'not'): 3821, 'gene': 3822, 'lengthy': 3823, ('make', 'movie'): 3824, 'disturbing': 3825, 'jason': 3826, ('finds', 'himself'): 3827, 'garbage': 3828, 'weak': 3829, 'easier': 3830, 'rooting': 3831, 'painfully': 3832, 'cover': 3833, ('starship', 'troopers'): 3834, 'gorgeous': 3835, 'endearing': 3836, 'priest': 3837, ('end', 'days'): 3838, 'survive': 3839, 'carpenter': 3840, 'change': 3841, 'millionaire': 3842, 'review': 3843, 'bullock': 3844, 'prior': 3845, 'unknown': 3846, 'flashback': 3847, 'experiment': 3848, 'nuclear': 3849, 'seat': 3850, 'involving': 3851, 'gadget': 3852, 'ed': 3853, 'corner': 3854, 'political': 3855, 'deeper': 3856, 'terrible': 3857, 'actor': 3858, 'claims': 3859, 'without': 3860, ('visual', 'effects'): 3861, 'turned': 3862, ('urban', 'legend'): 3863, 'believe': 3864, 'ones': 3865, ('film', 'first'): 3866, 'wanting': 3867, ('wonder', 'why'): 3868, 'established': 3869, 'deeply': 3870, 'apparent': 3871, 'entirely': 3872, ('film', 'only'): 3873, 'same': 3874, ('film', 'takes'): 3875, 'second': 3876, ('dark', 'city'): 3877, 'norton': 3878, ('would', 'make'): 3879, 'bird': 3880, 'both': 3881, 'hardly': 3882, 'kong': 3883, 'carol': 3884, 'died': 3885, 'poker': 3886, 'beautifully': 3887, 'sci': 3888, 'midst': 3889, ('if', 'anything'): 3890, 'miami': 3891, ('only', 'one'): 3892, 'snake': 3893, 'easily': 3894, 'ultimately': 3895, ('but', 'no'): 3896, 'expert': 3897, 'builds': 3898, 'bottom': 3899, ('not', 'all'): 3900, 'hit': 3901, 'dante': 3902, ('their', 'relationship'): 3903, ('two', 'years'): 3904, 'farrelly': 3905, 'toward': 3906, 'flying': 3907, 'juliet': 3908, ('if', 'had'): 3909, 'holiday': 3910, 'fears': 3911, 'gone': 3912, 'pointless': 3913, 'doctor': 3914, 'douglas': 3915, 'unpredictable': 3916, ('even', 'more'): 3917, 'luc': 3918, ('but', 'just'): 3919, 'third': 3920, ('schindler', 'list'): 3921, ('very', 'much'): 3922, 'reason': 3923, 'intelligence': 3924, ('things', 'about'): 3925, ('way', 'through'): 3926, 'china': 3927, 'gradually': 3928, 'upper': 3929, 'date': 3930, ('best', 'part'): 3931, 'guy': 3932, 'mamet': 3933, 'achievement': 3934, 'presence': 3935, 'favor': 3936, 'horse': 3937, 'know': 3938, 'obvious': 3939, 'faithful': 3940, 'tony': 3941, 'investigate': 3942, ('people', 'will'): 3943, 'warning': 3944, 'whenever': 3945, 'boring': 3946, 'thrills': 3947, 'does': 3948, ('starts', 'out'): 3949, 'donald': 3950, 'sandler': 3951, ('but', 'would'): 3952, 'relies': 3953, 'truman': 3954, 'convoluted': 3955, 'happiness': 3956, ('when', 'movie'): 3957, ('whether', 'not'): 3958, ('along', 'way'): 3959, 'one': 3960, 'scary': 3961, 'closing': 3962, ('rip', 'off'): 3963, 'li': 3964, 'robin': 3965, 'walker': 3966, 'weeks': 3967, 'suspense': 3968, 'following': 3969, 'fill': 3970, 'replaced': 3971, 'cast': 3972, 'aid': 3973, 'hall': 3974, 'delight': 3975, ('scene', 'between'): 3976, 'chicago': 3977, 'despite': 3978, 'opportunity': 3979, 'jessica': 3980, 'presumably': 3981, ('all', 'way'): 3982, 'chow': 3983, 'godzilla': 3984, 'superman': 3985, 'novel': 3986, ('film', 'ever'): 3987, ('one', 'would'): 3988, ('re', 'going'): 3989, ('but', 'some'): 3990, 'echoes': 3991, 'rebecca': 3992, 'gentle': 3993, ('most', 'people'): 3994, 'beach': 3995, 'rival': 3996, ('true', 'story'): 3997, 'worthwhile': 3998, 'books': 3999, 'noir': 4000, 'gross': 4001, 'explains': 4002, ('ve', 'ever'): 4003, 'annoying': 4004, 'sir': 4005, 'myself': 4006, 'damon': 4007, 'cop': 4008, 'north': 4009, 'queen': 4010, 'legend': 4011, 'complex': 4012, 'imaginative': 4013, 'hopelessly': 4014, 'psychotic': 4015, 'suspects': 4016, 'business': 4017, 'masterful': 4018, 'suffered': 4019, 'wishes': 4020, ('right', 'now'): 4021, 'malkovich': 4022, 'happen': 4023, ('like', 'film'): 4024, 'explanation': 4025, 'nc': 4026, 'court': 4027, 'em': 4028, 'admirable': 4029, 'facts': 4030, 'gold': 4031, 'bowfinger': 4032, 'theatrical': 4033, 'guys': 4034, 'nomination': 4035, 'watched': 4036, 'alone': 4037, 'latter': 4038, 'reading': 4039, 'sentence': 4040, 'consider': 4041, 'willing': 4042, 'sex': 4043, ('far', 'more'): 4044, 'caliber': 4045, 'dressing': 4046, ('robin', 'williams'): 4047, 'yet': 4048, 'flubber': 4049, 'ancient': 4050, ('make', 'sense'): 4051, ('good', 'will', 'hunting'): 4052, 'chuckle': 4053, 'dennis': 4054, 'un': 4055, 'extremely': 4056, 'loved': 4057, 'robot': 4058, 'afterwards': 4059, 'robbery': 4060, 'dick': 4061, ('but', 'didn'): 4062, 'awake': 4063, ('but', 'doesn'): 4064, ('believe', 'me'): 4065, 'trite': 4066, 'please': 4067, ('mel', 'gibson'): 4068, ('not', 'nearly'): 4069, 'destined': 4070, 'benigni': 4071, 'putting': 4072, 'moment': 4073, 'drunk': 4074, 'quirky': 4075, 'target': 4076, 'way': 4077, 'edward': 4078, 'central': 4079, 'cuts': 4080, 'satan': 4081, 'joel': 4082, 'lucas': 4083, 'evidence': 4084, 'disappointed': 4085, 'comes': 4086, 'provides': 4087, 'controversial': 4088, ('liam', 'neeson'): 4089, 'stuck': 4090, 'beatty': 4091, 'excitement': 4092, 'living': 4093, ('will', 'make'): 4094, 'your': 4095, 'heard': 4096, 'ironically': 4097, 'account': 4098, 'nurse': 4099, 'perfect': 4100, 'wave': 4101, 'tongue': 4102, 'produced': 4103, ('whole', 'movie'): 4104, 'plane': 4105, 'handsome': 4106, 'sally': 4107, 'century': 4108, 'bar': 4109, 'broderick': 4110, 'cauldron': 4111, 'fourth': 4112, 'lovers': 4113, 'hotel': 4114, 'hide': 4115, 'directed': 4116, 'max': 4117, 'program': 4118, 'handful': 4119, 'suspect': 4120, 'look': 4121, 'von': 4122, ('film', 'takes', 'place'): 4123, 'creepy': 4124, 'wears': 4125, 'pleasure': 4126, 'fincher': 4127, 'climax': 4128, 'mix': 4129, 'patient': 4130, 'laugh': 4131, 'ellen': 4132, 'literally': 4133, 'forced': 4134, 'romance': 4135, 'picture': 4136, 'worked': 4137, 'jealous': 4138, 'succeed': 4139, 'wild': 4140, 'army': 4141, 'totally': 4142, ('aspect', 'film'): 4143, 'appears': 4144, 'accurate': 4145, 'curious': 4146, 'knowing': 4147, 'within': 4148, 'tucker': 4149, 'worried': 4150, 'slightest': 4151, ('my', 'mind'): 4152, 'taylor': 4153, ('drew', 'barrymore'): 4154, 'unpleasant': 4155, 'darkness': 4156, 'physical': 4157, ('some', 'very'): 4158, 'hard': 4159, 'amy': 4160, ('no', 'sense'): 4161, 'original': 4162, ('will', 'never'): 4163, 'winning': 4164, 'video': 4165, ('how', 'many'): 4166, ('nearly', 'every'): 4167, 'language': 4168, 'offers': 4169, 'better': 4170, 'tom': 4171, 'editing': 4172, 'hurt': 4173, 'lights': 4174, 'trailers': 4175, 'thick': 4176, ('end', 'up'): 4177, ('billy', 'crystal'): 4178, 'cindy': 4179, 'creatures': 4180, 'evil': 4181, 'peace': 4182, 'chucky': 4183, ('jim', 'carrey'): 4184, 'plotting': 4185, 'agents': 4186, 'hack': 4187, 'required': 4188, 'trade': 4189, 'fi': 4190, 'disappointing': 4191, 'down': 4192, 'regular': 4193, 'detective': 4194, 'clues': 4195, 'steven': 4196, 'female': 4197, 'more': 4198, 'spacey': 4199, 'test': 4200, 'anne': 4201, 'empire': 4202, 'race': 4203, 'allowed': 4204, 'taste': 4205, ('see', 'film'): 4206, ('little', 'girl'): 4207, 'hated': 4208, 'cuba': 4209, 'farm': 4210, 'recent': 4211, 'offensive': 4212, ('not', 'much'): 4213, 'gift': 4214, 'generated': 4215, 'mtv': 4216, ('film', 'will'): 4217, ('spice', 'girls'): 4218, 'suddenly': 4219, ('all', 'too'): 4220, 'appealing': 4221, 'because': 4222, 'witness': 4223, ('but', 'seems'): 4224, 'fare': 4225, 'find': 4226, 'throwing': 4227, 'catch': 4228, 'marvelous': 4229, 'psycho': 4230, 'jobs': 4231, 'disappears': 4232, 'emotional': 4233, 'reluctant': 4234, 'gain': 4235, 'spots': 4236, 'robert': 4237, 'bulworth': 4238, ('very', 'well'): 4239, 'energy': 4240, 'person': 4241, 'dan': 4242, 'fault': 4243, 'subplots': 4244, 'creator': 4245, 'epic': 4246, 'becoming': 4247, 'blank': 4248, ('music', 'video'): 4249, 'questions': 4250, 'tie': 4251, ('there', 'so'): 4252, 'aforementioned': 4253, ('there', 'also'): 4254, 'ship': 4255, 'horizon': 4256, 'message': 4257, 'cartoon': 4258, 'complete': 4259, 'exactly': 4260, ('comic', 'book'): 4261, 'journey': 4262, 'jim': 4263, 'granger': 4264, 'display': 4265, 'sent': 4266, 'sick': 4267, 'worthy': 4268, 'serial': 4269, 'childhood': 4270, 'originality': 4271, 'edge': 4272, ('so', 'why'): 4273, ('film', 'director'): 4274, 'cruel': 4275, 'response': 4276, ('when', 'first'): 4277, 'hearted': 4278, 'send': 4279, 'owner': 4280, 'team': 4281, 'silence': 4282, 'burn': 4283, 'marc': 4284, ('just', 'like'): 4285, 'challenge': 4286, ('one', 'scene'): 4287, 'sign': 4288, 'finding': 4289, 'ask': 4290, 'loving': 4291, 'spanish': 4292, ('make', 'film'): 4293, 'narrative': 4294, 'lucy': 4295, 'involved': 4296, 'jail': 4297, 'majority': 4298, ('years', 'after'): 4299, 'vietnam': 4300, 'agree': 4301, 'chaos': 4302, 'ignore': 4303, 'loyal': 4304, 'guilty': 4305, ('plot', 'holes'): 4306, 'pacino': 4307, 'smoking': 4308, 'gal': 4309, 'yeah': 4310, 'ticket': 4311, ('there', 'nothing'): 4312, ('nothing', 'else'): 4313, 'names': 4314, 'given': 4315, ('out', 'film'): 4316, 'positive': 4317, 'tossed': 4318, ('reason', 'why'): 4319, 'accident': 4320, 'california': 4321, 'redeeming': 4322, 'harder': 4323, 'reminded': 4324, ('movie', 'even'): 4325, 'remotely': 4326, 'multi': 4327, 'lou': 4328, 'troubled': 4329, 'east': 4330, 'need': 4331, 'infamous': 4332, 'core': 4333, 'nicholson': 4334, 'talks': 4335, 'territory': 4336, 'crossing': 4337, 'wire': 4338, 'released': 4339, 'headed': 4340, 'hong': 4341, 'naked': 4342, 'favorite': 4343, 'direct': 4344, ('there', 'something'): 4345, 'sarah': 4346, 'kind': 4347, 'during': 4348, 'nicole': 4349, 'occasional': 4350, 'lively': 4351, 'failed': 4352, 'spirit': 4353, 'fully': 4354, 'faces': 4355, ('great', 'film'): 4356, ('less', 'than'): 4357, 'terminator': 4358, 'until': 4359, ('over', 'over'): 4360, 'deal': 4361, 'expect': 4362, 'beat': 4363, 'serious': 4364, 'silver': 4365, 'providing': 4366, ('times', 'before'): 4367, 'donnell': 4368, ('if', 'want'): 4369, 'hell': 4370, 'jet': 4371, 'explaining': 4372, 'under': 4373, 'touches': 4374, 'twins': 4375, 'afraid': 4376, ('lot', 'fun'): 4377, 'importantly': 4378, 'melodrama': 4379, 'give': 4380, ('film', 'but'): 4381, 'sad': 4382, 'neighbor': 4383, 'attack': 4384, 'romeo': 4385, 'eerie': 4386, 'broke': 4387, 'become': 4388, 'surface': 4389, 'ass': 4390, ('film', 'about'): 4391, 'credibility': 4392, 'personal': 4393, 'esque': 4394, ('first', 'time'): 4395, 'trying': 4396, 'things': 4397, 'heroine': 4398, 'laughing': 4399, ('come', 'off'): 4400, 'alan': 4401, 'just': 4402, 'chases': 4403, 'wasn': 4404, 'religious': 4405, 'women': 4406, 'mcgregor': 4407, 'confusion': 4408, 'important': 4409, 'jungle': 4410, 'days': 4411, 'sharp': 4412, 'description': 4413, 'warren': 4414, 'craft': 4415, 'lisa': 4416, 'killer': 4417, ('bruce', 'willis'): 4418, 'clown': 4419, ('film', 'actually'): 4420, 'shot': 4421, 'able': 4422, 'crazy': 4423, 'vast': 4424, ('there', 'no'): 4425, 'before': 4426, ('made', 'me'): 4427, 'none': 4428, 'card': 4429, 'extra': 4430, 'benefit': 4431, ('than', 'life'): 4432, 'present': 4433, 'held': 4434, 'jennifer': 4435, 'wright': 4436, 'scale': 4437, 'arnold': 4438, 'distance': 4439, 'commercial': 4440, 'russian': 4441, ('steve', 'martin'): 4442, ('when', 'film'): 4443, ('get', 'me'): 4444, 'classic': 4445, 'insurrection': 4446, 'simon': 4447, 'violin': 4448, ('there', 'just'): 4449, 'system': 4450, ('gwyneth', 'paltrow'): 4451, 'suffers': 4452, ('would', 'like'): 4453, 'makes': 4454, 'frequent': 4455, 'nello': 4456, 'song': 4457, 'incident': 4458, 'dimension': 4459, 'donkey': 4460, 'times': 4461, 'america': 4462, 'bunch': 4463, 'jumps': 4464, 'regarding': 4465, ('de', 'bont'): 4466, 'measure': 4467, 'freddie': 4468, 'psychologist': 4469, 'franchise': 4470, 'trailer': 4471, 'grasp': 4472, 'due': 4473, 'according': 4474, 'assume': 4475, 'rubin': 4476, ('too', 'long'): 4477, 'receives': 4478, 'investigating': 4479, 'conventional': 4480, 'sun': 4481, 'largely': 4482, ('comes', 'across'): 4483, 'reveal': 4484, 'done': 4485, 'negative': 4486, ('opening', 'credits'): 4487, 'photography': 4488, ('first', 'rate'): 4489, 'generations': 4490, 'pseudo': 4491, 'loss': 4492, 'every': 4493, 'bad': 4494, 'little': 4495, 'contain': 4496, 'watson': 4497, 'future': 4498, 'tape': 4499, ('five', 'minutes'): 4500, 'arrives': 4501, 'captain': 4502, 'lake': 4503, 'advice': 4504, 'murphy': 4505, 'kung': 4506, 'constant': 4507, ('there', 'some'): 4508, 'throws': 4509, 'brain': 4510, 'place': 4511, 'acted': 4512, 'gives': 4513, 'chain': 4514, 'played': 4515, ('but', 'rather'): 4516, 'sadly': 4517, 'earned': 4518, 'stick': 4519, 'than': 4520, 'figure': 4521, 'eight': 4522, 'door': 4523, 'creates': 4524, 'notable': 4525, ('not', 'get'): 4526, 'fast': 4527, 'agrees': 4528, ('nothing', 'but'): 4529, 'lives': 4530, 'intellectual': 4531, 'pays': 4532, 'overly': 4533, 'refreshing': 4534, ('fight', 'scenes'): 4535, 'answer': 4536, 'destroy': 4537, 'sisters': 4538, 'carter': 4539, 'theme': 4540, 'filled': 4541, 'limited': 4542, 'heavily': 4543, ('way', 'out'): 4544, 'paul': 4545, ('film', 'should'): 4546, 'bore': 4547, 'jurassic': 4548, 'connected': 4549, 'oddly': 4550, 'rising': 4551, 'nonsense': 4552, ('film', 'never'): 4553, 'approach': 4554, ('whole', 'film'): 4555, 'home': 4556, 'enter': 4557, 'stab': 4558, ('academy', 'award'): 4559, 'woods': 4560, 'stars': 4561, 'till': 4562, 'sense': 4563, 'finish': 4564, 'fashioned': 4565, 'root': 4566, 'rock': 4567, 'combat': 4568, ('ends', 'up'): 4569, 'happening': 4570, ('much', 'more'): 4571, 'pretentious': 4572, 'monsters': 4573, 'threatening': 4574, 'impression': 4575, 'waves': 4576, ('ve', 'never'): 4577, ('steve', 'buscemi'): 4578, 'factor': 4579, 'president': 4580, 'fonda': 4581, 'left': 4582, 'enters': 4583, 'environment': 4584, ('things', 'like'): 4585, 'press': 4586, 'steel': 4587, 'loses': 4588, 'proceeds': 4589, ('tom', 'cruise'): 4590, 'reference': 4591, ('any', 'sense'): 4592, 'camp': 4593, ('but', 'more'): 4594, ('final', 'destination'): 4595, 'several': 4596, 'states': 4597, 'opportunities': 4598, 'moved': 4599, 'relationship': 4600, 'fox': 4601, 'luck': 4602, 'decides': 4603, 'keanu': 4604, 'parker': 4605, 'cares': 4606, 'stunt': 4607, ('go', 'see'): 4608, 'casting': 4609, ('pull', 'off'): 4610, 'fiction': 4611, ('turns', 'out'): 4612, 'summer': 4613, 'anti': 4614, 'anthony': 4615, ('not', 'going'): 4616, 'africa': 4617, ('so', 'much'): 4618, 'luckily': 4619, 'reputation': 4620, ('never', 'seen'): 4621, 'good': 4622, 'displays': 4623, 'ian': 4624, 'available': 4625, ('more', 'interesting'): 4626, ('having', 'sex'): 4627, 'twist': 4628, 'revolves': 4629, ('one', 'more'): 4630, 'soap': 4631, ('film', 'when'): 4632, 'eugene': 4633, 'increasingly': 4634, 'norman': 4635, 'except': 4636, 'victim': 4637, ('woody', 'harrelson'): 4638, 'monty': 4639, 'countless': 4640, 'braveheart': 4641, 'realism': 4642, 'mad': 4643, 'bright': 4644, 'wise': 4645, ('will', 'smith'): 4646, ('but', 'because'): 4647, 'least': 4648, 'distracting': 4649, ('rush', 'hour'): 4650, 'makers': 4651, 'sam': 4652, 'changed': 4653, 'keeping': 4654, ('good', 'one'): 4655, 'naive': 4656, ('but', 'there'): 4657, 'speaks': 4658, 'neo': 4659, 'innocent': 4660, 'michael': 4661, 'standing': 4662, 'possibilities': 4663, 'raw': 4664, 'assigned': 4665, 'worse': 4666, 'meant': 4667, ('just', 'one'): 4668, 'material': 4669, 'argument': 4670, 'ability': 4671, ('not', 'just'): 4672, 'dare': 4673, 'voiced': 4674, 'horrible': 4675, ('some', 'scenes'): 4676, 'melvin': 4677, 'cheesy': 4678, ('martial', 'arts'): 4679, ('horror', 'movie'): 4680, 'blown': 4681, 'suggests': 4682, 'hate': 4683, 'dollar': 4684, 'excuse': 4685, ('john', 'travolta'): 4686, 'day': 4687, ('big', 'screen'): 4688, ('one', 'worst'): 4689, 'surprising': 4690, 'etc': 4691, 'titanic': 4692, 'herself': 4693, 'washington': 4694, 'rare': 4695, 'comments': 4696, 'spark': 4697, ('action', 'sequences'): 4698, 'conspiracy': 4699, ('too', 'bad'): 4700, 'quite': 4701, 'loud': 4702, 'sloppy': 4703, 'sharon': 4704, 'help': 4705, 'wan': 4706, 'stealing': 4707, 'examples': 4708, 'towards': 4709, 'dance': 4710, 'impossible': 4711, 'knight': 4712, 'destroyed': 4713, ('watching', 'movie'): 4714, 'underwater': 4715, ('just', 'plain'): 4716, 'striking': 4717, 'parts': 4718, 'serve': 4719, ('so', 'far'): 4720, 'encounters': 4721, 'uncomfortable': 4722, 'ends': 4723, 'lifeless': 4724, 'nobody': 4725, ('all', 'characters'): 4726, ('small', 'role'): 4727, ('him', 'into'): 4728, 'digital': 4729, 'condition': 4730, 'pictures': 4731, 'stanley': 4732, 'although': 4733, 'bachelor': 4734, ('qui', 'gon'): 4735, 'revenge': 4736, 'music': 4737, 'showing': 4738, 'our': 4739, 'somewhat': 4740, 'behavior': 4741, 'throughout': 4742, 'hop': 4743, 'keeps': 4744, 'keaton': 4745, 'search': 4746, ('well', 'written'): 4747, ('good', 'job'): 4748, ('around', 'him'): 4749, 'edited': 4750, 'essentially': 4751, 'degree': 4752, 'framed': 4753, ('there', 'any'): 4754, 'board': 4755, 'body': 4756, ('there', 'scene'): 4757, ('far', 'away'): 4758, ('one', 'day'): 4759, 'begins': 4760, ('takes', 'place'): 4761, 'space': 4762, 'wonderful': 4763, 'seth': 4764, 'goal': 4765, ('work', 'but'): 4766, 'secret': 4767, ('no', 'other'): 4768, ('writer', 'director'): 4769, 'worry': 4770, 'thin': 4771, 'nothing': 4772, 'teen': 4773, 'military': 4774, 'table': 4775, ('most', 'time'): 4776, 'accept': 4777, 'everyone': 4778, 'moore': 4779, 'fix': 4780, 'key': 4781, 'own': 4782, 'lovely': 4783, 'floor': 4784, 'off': 4785, 'contrived': 4786, 'la': 4787, 'weight': 4788, 'shower': 4789, ('picks', 'up'): 4790, 'blues': 4791, 'acts': 4792, 'flat': 4793, 'terrorists': 4794, ('one', 'will'): 4795, 'issue': 4796, 'sea': 4797, 'surprises': 4798, 'flynt': 4799, 'joblo': 4800, 'narrator': 4801, ('bad', 'movie'): 4802, 'definitely': 4803, 'solely': 4804, ('dante', 'peak'): 4805, 'reveals': 4806, 'falls': 4807, 'dean': 4808, 'wooden': 4809, ('looks', 'like'): 4810, 'knew': 4811, ('if', 'one'): 4812, 'gooding': 4813, 'piece': 4814, 'verhoeven': 4815, 'authority': 4816, 'desire': 4817, 'midnight': 4818, 'sympathetic': 4819, 'scares': 4820, 'prepared': 4821, 'spring': 4822, 'slick': 4823, 'action': 4824, 'clear': 4825, 'explained': 4826, ('each', 'other'): 4827, 'rises': 4828, 'universe': 4829, 'leigh': 4830, 'tree': 4831, 'writes': 4832, 'dream': 4833, 'greg': 4834, 'twenty': 4835, 'steals': 4836, 'common': 4837, ('relationship', 'between'): 4838, 'denise': 4839, 'first': 4840, ('john', 'malkovich'): 4841, 'buck': 4842, 'ocean': 4843, 'somewhere': 4844, 'momentum': 4845, 'shining': 4846, 'prisoners': 4847, 'kudrow': 4848, 'illegal': 4849, 'progresses': 4850, 'period': 4851, ('slow', 'motion'): 4852, 'dozens': 4853, ('good', 'movie'): 4854, 'filmmaker': 4855, 'glory': 4856, 'andrew': 4857, ('los', 'angeles'): 4858, 'shallow': 4859, 'my': 4860, 'bond': 4861, 'wanted': 4862, 'appearances': 4863, 'garofalo': 4864, 'appearance': 4865, ('between', 'two'): 4866, ('thin', 'red'): 4867, 'images': 4868, 'nude': 4869, ('does', 'not'): 4870, 'nielsen': 4871, 'doing': 4872, ('still', 'know'): 4873, 'beyond': 4874, 'clean': 4875, 'era': 4876, ('well', 'known'): 4877, 'character': 4878, ('james', 'cameron'): 4879, 'golden': 4880, 'anyone': 4881, ('about', 'minutes'): 4882, 'ground': 4883, 'fake': 4884, 'universal': 4885, 'rise': 4886, 'showcase': 4887, 'wildly': 4888, 'ricci': 4889, 'reeves': 4890, 'humanity': 4891, 'network': 4892, 'october': 4893, 'side': 4894, ('movie', 'all'): 4895, 'pie': 4896, 'joker': 4897, 'hat': 4898, 'rent': 4899, 'near': 4900, 'carrie': 4901, ('movie', 've'): 4902, 'lesson': 4903, 'scenery': 4904, 'radio': 4905, ('few', 'scenes'): 4906, 'mission': 4907, 'face': 4908, ('film', 'even'): 4909, ('no', 'matter'): 4910, 'nudity': 4911, 'fiona': 4912, 'highlights': 4913, 'decades': 4914, 'stays': 4915, 'expectations': 4916, 'bob': 4917, 'slowly': 4918, ('camera', 'work'): 4919, 'gon': 4920, 'shannon': 4921, 'woman': 4922, ('characters', 'film'): 4923, 'advance': 4924, 'considered': 4925, ('don', 'see'): 4926, 'frustrating': 4927, ('wild', 'things'): 4928, 'number': 4929, 'rachel': 4930, 'young': 4931, ('title', 'character'): 4932, 'chicken': 4933, 'claire': 4934, 'scott': 4935, 'reaches': 4936, 'forgotten': 4937, 'strikes': 4938, ('black', 'comedy'): 4939, ('so', 'film'): 4940, 'sitcom': 4941, 'fu': 4942, 'platt': 4943, 'metal': 4944, 'obligatory': 4945, 'string': 4946, 'quickly': 4947, 'maggie': 4948, ('live', 'action'): 4949, 'realized': 4950, 'thank': 4951, 'arms': 4952, 'stuff': 4953, 'goofy': 4954, 'eccentric': 4955, 'irony': 4956, 'inevitable': 4957, 'average': 4958, ('ended', 'up'): 4959, 'ten': 4960, 'didn': 4961, ('truman', 'show'): 4962, 'considering': 4963, 'knowledge': 4964, 'convinces': 4965, 'handle': 4966, 'deals': 4967, 'indeed': 4968, ('nice', 'guy'): 4969, ('don', 'even'): 4970, 'controlled': 4971, 'significant': 4972, ('one', 'but'): 4973, 'slightly': 4974, 'angels': 4975, 'capable': 4976, 'marketing': 4977, 'sake': 4978, 'songs': 4979, 'williams': 4980, 'terms': 4981, 'mostly': 4982, 'minute': 4983, 'patch': 4984, 'stiller': 4985, 'result': 4986, 'medical': 4987, 'steve': 4988, 'elaborate': 4989, 'noticed': 4990, 'security': 4991, 'moves': 4992, 'unexpected': 4993, 'non': 4994, 'creature': 4995, ('give', 'him'): 4996, 'huge': 4997, 'wonderfully': 4998, ('someone', 'else'): 4999}\n"
     ]
    }
   ],
   "source": [
    "id_to_word = enumerate(vocab)\n",
    "id_to_word = dict(id_to_word)\n",
    "print(id_to_word)\n",
    "\n",
    "word_to_id = {value: key for key, value in id_to_word.items()}\n",
    "print(word_to_id)"
   ]
  },
  {
   "cell_type": "markdown",
   "metadata": {},
   "source": [
    "Now you should be able to extract n-grams for each text in the training, development and test sets:"
   ]
  },
  {
   "cell_type": "code",
   "execution_count": 121,
   "metadata": {
    "ExecuteTime": {
     "end_time": "2020-02-15T14:17:40.213253Z",
     "start_time": "2020-02-15T14:17:39.329147Z"
    }
   },
   "outputs": [],
   "source": [
    "sentiment_dev_vocab, sentiment_dev_df, sentiment_dev_ngram_counts = get_vocab(\n",
    "    sentiment_dev_texts,\n",
    "    ngram_range=(1, 3),\n",
    "    keep_topN=5000,\n",
    "    stop_words=stop_words)\n",
    "\n",
    "sentiment_test_vocab, sentiment_test_df, sentiment_test_ngram_counts = get_vocab(\n",
    "    sentiment_test_texts,\n",
    "    ngram_range=(1, 3),\n",
    "    keep_topN=5000,\n",
    "    stop_words=stop_words)\n",
    "\n",
    "sentiment_train_vocab, sentiment_train_df, sentiment_train_ngram_counts = get_vocab(\n",
    "    sentiment_train_texts,\n",
    "    ngram_range=(1, 3),\n",
    "    keep_topN=5000,\n",
    "    stop_words=stop_words)"
   ]
  },
  {
   "cell_type": "markdown",
   "metadata": {},
   "source": [
    "## Vectorise documents "
   ]
  },
  {
   "cell_type": "markdown",
   "metadata": {},
   "source": [
    "Next, write a function `vectoriser` to obtain Bag-of-ngram representations for a list of documents. The function should take as input:\n",
    "- `X_ngram`: a list of texts (documents), where each text is represented as list of n-grams in the `vocab`\n",
    "- `vocab`: a set of n-grams to be used for representing the documents\n",
    "\n",
    "and return:\n",
    "- `X_vec`: an array with dimensionality Nx|vocab| where N is the number of documents and |vocab| is the size of the vocabulary. Each element of the array should represent the frequency of a given n-gram in a document.\n"
   ]
  },
  {
   "cell_type": "code",
   "execution_count": 169,
   "metadata": {
    "ExecuteTime": {
     "end_time": "2020-02-15T14:17:40.219201Z",
     "start_time": "2020-02-15T14:17:40.215129Z"
    }
   },
   "outputs": [],
   "source": [
    "def vectorise(X_ngram, vocab):\n",
    "    X_vec = []\n",
    "\n",
    "    for ngram_list in X_ngram:\n",
    "        counter = Counter(ngram_list)\n",
    "        X_vec.append([counter[v] for v in vocab])\n",
    "\n",
    "    X_vec = np.array(X_vec)\n",
    "\n",
    "    return X_vec"
   ]
  },
  {
   "cell_type": "markdown",
   "metadata": {},
   "source": [
    "Finally, use `vectorise` to obtain document vectors for each document in the train, development and test set. You should extract both count and tf.idf vectors respectively:"
   ]
  },
  {
   "cell_type": "markdown",
   "metadata": {},
   "source": [
    "#### Count vectors"
   ]
  },
  {
   "cell_type": "code",
   "execution_count": 170,
   "metadata": {
    "ExecuteTime": {
     "end_time": "2020-02-15T14:17:41.999574Z",
     "start_time": "2020-02-15T14:17:40.376534Z"
    }
   },
   "outputs": [],
   "source": [
    "sentiment_train_count = vectorise(\n",
    "    (extract_ngrams(text, stop_words=stop_words) for text in sentiment_train_texts),\n",
    "    sentiment_train_vocab)"
   ]
  },
  {
   "cell_type": "code",
   "execution_count": 171,
   "metadata": {
    "ExecuteTime": {
     "end_time": "2020-02-15T14:17:42.004808Z",
     "start_time": "2020-02-15T14:17:42.001555Z"
    }
   },
   "outputs": [
    {
     "data": {
      "text/plain": [
       "(1400, 5000)"
      ]
     },
     "execution_count": 171,
     "metadata": {},
     "output_type": "execute_result"
    }
   ],
   "source": [
    "sentiment_train_count.shape"
   ]
  },
  {
   "cell_type": "code",
   "execution_count": 172,
   "metadata": {
    "ExecuteTime": {
     "end_time": "2020-02-15T14:17:42.010525Z",
     "start_time": "2020-02-15T14:17:42.006309Z"
    }
   },
   "outputs": [
    {
     "data": {
      "text/plain": [
       "array([[0, 0, 0, 0, 0, 0, 0, 0, 0, 0, 0, 0, 0, 0, 0, 0, 0, 0, 0, 0, 0, 0,\n",
       "        0, 0, 0, 0, 0, 1, 1, 0, 0, 0, 0, 0, 0, 4, 0, 0, 0, 2, 0, 0, 0, 0,\n",
       "        0, 2, 0, 0, 0, 0],\n",
       "       [2, 0, 0, 0, 0, 0, 0, 0, 0, 0, 0, 0, 0, 0, 0, 0, 0, 0, 1, 0, 0, 0,\n",
       "        0, 0, 0, 0, 0, 0, 0, 0, 0, 0, 0, 0, 0, 2, 0, 0, 0, 0, 0, 0, 0, 0,\n",
       "        0, 0, 0, 0, 0, 0]])"
      ]
     },
     "execution_count": 172,
     "metadata": {},
     "output_type": "execute_result"
    }
   ],
   "source": [
    "sentiment_train_count[:2,:50]"
   ]
  },
  {
   "cell_type": "markdown",
   "metadata": {},
   "source": [
    "#### TF.IDF vectors\n",
    "\n",
    "First compute `idfs` an array containing inverted document frequencies (Note: its elements should correspond to your `vocab`)"
   ]
  },
  {
   "cell_type": "code",
   "execution_count": 17,
   "metadata": {
    "ExecuteTime": {
     "end_time": "2020-02-15T14:17:42.022692Z",
     "start_time": "2020-02-15T14:17:42.012315Z"
    }
   },
   "outputs": [],
   "source": [
    "# fill in your code..."
   ]
  },
  {
   "cell_type": "markdown",
   "metadata": {},
   "source": [
    "Then transform your count vectors to tf.idf vectors:"
   ]
  },
  {
   "cell_type": "code",
   "execution_count": 18,
   "metadata": {
    "ExecuteTime": {
     "end_time": "2020-02-15T14:17:42.802265Z",
     "start_time": "2020-02-15T14:17:42.752448Z"
    }
   },
   "outputs": [],
   "source": [
    "# fill in your code..."
   ]
  },
  {
   "cell_type": "code",
   "execution_count": 19,
   "metadata": {
    "ExecuteTime": {
     "end_time": "2020-02-15T14:17:43.211619Z",
     "start_time": "2020-02-15T14:17:43.207266Z"
    }
   },
   "outputs": [
    {
     "data": {
      "text/plain": [
       "array([0.        , 0.        , 0.        , 2.24028121, 0.        ,\n",
       "       0.        , 0.        , 5.67501654, 0.        , 0.        ,\n",
       "       0.        , 0.        , 0.        , 0.        , 0.        ,\n",
       "       2.47354289, 0.        , 0.        , 0.        , 0.        ,\n",
       "       0.        , 0.        , 0.        , 0.        , 0.        ,\n",
       "       0.        , 0.        , 0.        , 0.        , 0.        ,\n",
       "       0.        , 0.        , 0.        , 0.        , 0.        ,\n",
       "       0.        , 0.        , 0.        , 0.        , 0.        ,\n",
       "       0.        , 0.        , 0.        , 0.        , 2.56209629,\n",
       "       0.        , 0.        , 0.        , 0.        , 0.        ])"
      ]
     },
     "execution_count": 19,
     "metadata": {},
     "output_type": "execute_result"
    }
   ],
   "source": [
    "X_tr_tfidf[1,:50]"
   ]
  },
  {
   "cell_type": "code",
   "execution_count": null,
   "metadata": {},
   "outputs": [],
   "source": []
  },
  {
   "cell_type": "markdown",
   "metadata": {},
   "source": [
    "# Binary Logistic Regression\n",
    "\n",
    "After obtaining vector representations of the data, now you are ready to implement Binary Logistic Regression for classifying sentiment."
   ]
  },
  {
   "cell_type": "markdown",
   "metadata": {},
   "source": [
    "First, you need to implement the `sigmoid` function. It takes as input:\n",
    "\n",
    "- `z`: a real number or an array of real numbers \n",
    "\n",
    "and returns:\n",
    "\n",
    "- `sig`: the sigmoid of `z`"
   ]
  },
  {
   "cell_type": "code",
   "execution_count": 20,
   "metadata": {
    "ExecuteTime": {
     "end_time": "2020-02-15T14:17:44.160661Z",
     "start_time": "2020-02-15T14:17:44.157902Z"
    }
   },
   "outputs": [],
   "source": [
    "def sigmoid(z):\n",
    "    \n",
    "    # fill in your code...\n",
    "    \n",
    "    return z"
   ]
  },
  {
   "cell_type": "code",
   "execution_count": 21,
   "metadata": {
    "ExecuteTime": {
     "end_time": "2020-02-15T14:17:44.351292Z",
     "start_time": "2020-02-15T14:17:44.346822Z"
    }
   },
   "outputs": [
    {
     "name": "stdout",
     "output_type": "stream",
     "text": [
      "0.5\n",
      "[0.00669285 0.76852478]\n"
     ]
    }
   ],
   "source": [
    "print(sigmoid(0)) \n",
    "print(sigmoid(np.array([-5., 1.2])))"
   ]
  },
  {
   "cell_type": "markdown",
   "metadata": {},
   "source": [
    "Then, implement the `predict_proba` function to obtain prediction probabilities. It takes as input:\n",
    "\n",
    "- `X`: an array of inputs, i.e. documents represented by bag-of-ngram vectors ($N \\times |vocab|$)\n",
    "- `weights`: a 1-D array of the model's weights $(1, |vocab|)$\n",
    "\n",
    "and returns:\n",
    "\n",
    "- `preds_proba`: the prediction probabilities of X given the weights"
   ]
  },
  {
   "cell_type": "code",
   "execution_count": 22,
   "metadata": {
    "ExecuteTime": {
     "end_time": "2020-02-15T14:17:44.718566Z",
     "start_time": "2020-02-15T14:17:44.715017Z"
    }
   },
   "outputs": [],
   "source": [
    "def predict_proba(X, weights):\n",
    "    \n",
    "    # fill in your code...\n",
    "    \n",
    "    return preds_proba"
   ]
  },
  {
   "cell_type": "markdown",
   "metadata": {},
   "source": [
    "Then, implement the `predict_class` function to obtain the most probable class for each vector in an array of input vectors. It takes as input:\n",
    "\n",
    "- `X`: an array of documents represented by bag-of-ngram vectors ($N \\times |vocab|$)\n",
    "- `weights`: a 1-D array of the model's weights $(1, |vocab|)$\n",
    "\n",
    "and returns:\n",
    "\n",
    "- `preds_class`: the predicted class for each x in X given the weights"
   ]
  },
  {
   "cell_type": "code",
   "execution_count": 23,
   "metadata": {
    "ExecuteTime": {
     "end_time": "2020-02-15T14:17:45.002125Z",
     "start_time": "2020-02-15T14:17:44.998668Z"
    }
   },
   "outputs": [],
   "source": [
    "def predict_class(X, weights):\n",
    "    \n",
    "    # fill in your code...\n",
    "    \n",
    "    return preds_class"
   ]
  },
  {
   "cell_type": "markdown",
   "metadata": {},
   "source": [
    "To learn the weights from data, we need to minimise the binary cross-entropy loss. Implement `binary_loss` that takes as input:\n",
    "\n",
    "- `X`: input vectors\n",
    "- `Y`: labels\n",
    "- `weights`: model weights\n",
    "- `alpha`: regularisation strength\n",
    "\n",
    "and return:\n",
    "\n",
    "- `l`: the loss score"
   ]
  },
  {
   "cell_type": "code",
   "execution_count": 24,
   "metadata": {
    "ExecuteTime": {
     "end_time": "2020-02-15T14:17:45.455533Z",
     "start_time": "2020-02-15T14:17:45.451475Z"
    }
   },
   "outputs": [],
   "source": [
    "def binary_loss(X, Y, weights, alpha=0.00001):\n",
    "    \n",
    "    # fill in your code...\n",
    "\n",
    "    return l\n",
    "    \n",
    "\n"
   ]
  },
  {
   "cell_type": "markdown",
   "metadata": {},
   "source": [
    "Now, you can implement Stochastic Gradient Descent to learn the weights of your sentiment classifier. The `SGD` function takes as input:\n",
    "\n",
    "- `X_tr`: array of training data (vectors)\n",
    "- `Y_tr`: labels of `X_tr`\n",
    "- `X_dev`: array of development (i.e. validation) data (vectors)\n",
    "- `Y_dev`: labels of `X_dev`\n",
    "- `lr`: learning rate\n",
    "- `alpha`: regularisation strength\n",
    "- `epochs`: number of full passes over the training data\n",
    "- `tolerance`: stop training if the difference between the current and previous validation loss is smaller than a threshold\n",
    "- `print_progress`: flag for printing the training progress (train/validation loss)\n",
    "\n",
    "\n",
    "and returns:\n",
    "\n",
    "- `weights`: the weights learned\n",
    "- `training_loss_history`: an array with the average losses of the whole training set after each epoch\n",
    "- `validation_loss_history`: an array with the average losses of the whole development set after each epoch"
   ]
  },
  {
   "cell_type": "code",
   "execution_count": 25,
   "metadata": {
    "ExecuteTime": {
     "end_time": "2020-02-15T14:17:45.968510Z",
     "start_time": "2020-02-15T14:17:45.958185Z"
    }
   },
   "outputs": [],
   "source": [
    "def SGD(X_tr, Y_tr, X_dev=[], Y_dev=[], loss=\"binary\", lr=0.1, alpha=0.00001, epochs=5, tolerance=0.0001, print_progress=True):\n",
    "    \n",
    "    cur_loss_tr = 1.\n",
    "    cur_loss_dev = 1.\n",
    "    training_loss_history = []\n",
    "    validation_loss_history = []\n",
    "    \n",
    "    # fill in your code...\n",
    "    \n",
    "\n",
    "    return weights, training_loss_history, validation_loss_history"
   ]
  },
  {
   "cell_type": "markdown",
   "metadata": {},
   "source": [
    "## Train and Evaluate Logistic Regression with Count vectors\n",
    "\n",
    "First train the model using SGD:"
   ]
  },
  {
   "cell_type": "code",
   "execution_count": 26,
   "metadata": {
    "ExecuteTime": {
     "end_time": "2020-02-15T14:17:51.480197Z",
     "start_time": "2020-02-15T14:17:46.362729Z"
    },
    "scrolled": true
   },
   "outputs": [
    {
     "name": "stderr",
     "output_type": "stream",
     "text": [
      "/anaconda3/lib/python3.7/site-packages/ipykernel_launcher.py:50: DeprecationWarning: elementwise == comparison failed; this will raise an error in the future.\n"
     ]
    },
    {
     "name": "stdout",
     "output_type": "stream",
     "text": [
      "Epoch: 0| Training loss: 0.6281849626714022| Validation loss: 0.6459904270912492\n",
      "Epoch: 1| Training loss: 0.58394973349301| Validation loss: 0.615917609244642\n",
      "Epoch: 2| Training loss: 0.5505425987370951| Validation loss: 0.5920179207204117\n",
      "Epoch: 3| Training loss: 0.5239076409919164| Validation loss: 0.5742090121213917\n",
      "Epoch: 4| Training loss: 0.500731542158432| Validation loss: 0.5599256616458367\n",
      "Epoch: 5| Training loss: 0.481386614351927| Validation loss: 0.5483399203516909\n",
      "Epoch: 6| Training loss: 0.46462260481387196| Validation loss: 0.536726260641603\n",
      "Epoch: 7| Training loss: 0.4500982582962053| Validation loss: 0.5293935827417584\n",
      "Epoch: 8| Training loss: 0.4361300598154409| Validation loss: 0.5194135185643873\n",
      "Epoch: 9| Training loss: 0.42421092133995136| Validation loss: 0.5128852380111468\n",
      "Epoch: 10| Training loss: 0.41424666156856305| Validation loss: 0.5081058150491683\n",
      "Epoch: 11| Training loss: 0.40290405763261916| Validation loss: 0.4998331750481731\n",
      "Epoch: 12| Training loss: 0.39344726405965164| Validation loss: 0.4940158979403169\n",
      "Epoch: 13| Training loss: 0.38503789030766256| Validation loss: 0.48976802503845507\n",
      "Epoch: 14| Training loss: 0.37654890135179875| Validation loss: 0.484037098115325\n",
      "Epoch: 15| Training loss: 0.36894058100253413| Validation loss: 0.4798610532741002\n",
      "Epoch: 16| Training loss: 0.3617911351634668| Validation loss: 0.47588612765070365\n",
      "Epoch: 17| Training loss: 0.3551265404206662| Validation loss: 0.47234842804380855\n",
      "Epoch: 18| Training loss: 0.3486529010996841| Validation loss: 0.46797755621787246\n",
      "Epoch: 19| Training loss: 0.34244316989524753| Validation loss: 0.464938665019058\n",
      "Epoch: 20| Training loss: 0.3366343015770723| Validation loss: 0.4616842926731529\n",
      "Epoch: 21| Training loss: 0.3312023236130169| Validation loss: 0.4590262056110472\n",
      "Epoch: 22| Training loss: 0.3260007588631569| Validation loss: 0.4563979800942745\n",
      "Epoch: 23| Training loss: 0.32083959589960936| Validation loss: 0.45317017998003734\n",
      "Epoch: 24| Training loss: 0.31705059120551277| Validation loss: 0.4527182622861437\n",
      "Epoch: 25| Training loss: 0.31137245815884257| Validation loss: 0.4484012987783105\n",
      "Epoch: 26| Training loss: 0.3069467760380594| Validation loss: 0.4461629481765205\n",
      "Epoch: 27| Training loss: 0.30267985376747814| Validation loss: 0.4440273276849877\n",
      "Epoch: 28| Training loss: 0.298560387521571| Validation loss: 0.4418603123640002\n",
      "Epoch: 29| Training loss: 0.29558254986979837| Validation loss: 0.44172617207437204\n",
      "Epoch: 30| Training loss: 0.29078322582916094| Validation loss: 0.4380952460056868\n",
      "Epoch: 31| Training loss: 0.28718417285149966| Validation loss: 0.4362850387634425\n",
      "Epoch: 32| Training loss: 0.28408560988552123| Validation loss: 0.43577239283434904\n",
      "Epoch: 33| Training loss: 0.28009737012982255| Validation loss: 0.4331545678568254\n",
      "Epoch: 34| Training loss: 0.2767640337246711| Validation loss: 0.431657490301419\n",
      "Epoch: 35| Training loss: 0.27350820080571875| Validation loss: 0.43010420069230215\n",
      "Epoch: 36| Training loss: 0.27036735251938776| Validation loss: 0.42862832552853375\n",
      "Epoch: 37| Training loss: 0.2673211984298023| Validation loss: 0.42731624333970303\n",
      "Epoch: 38| Training loss: 0.2643682626690211| Validation loss: 0.4260636123942821\n",
      "Epoch: 39| Training loss: 0.2615143553313424| Validation loss: 0.4247602930846561\n",
      "Epoch: 40| Training loss: 0.25872058410623594| Validation loss: 0.4235425412009785\n",
      "Epoch: 41| Training loss: 0.2560177969586485| Validation loss: 0.42236637774851515\n",
      "Epoch: 42| Training loss: 0.2533546845784477| Validation loss: 0.42128448240471866\n",
      "Epoch: 43| Training loss: 0.2507883305559025| Validation loss: 0.4202410832783033\n",
      "Epoch: 44| Training loss: 0.24825701835297637| Validation loss: 0.41923554264174134\n",
      "Epoch: 45| Training loss: 0.2458218689350721| Validation loss: 0.41821537954238325\n",
      "Epoch: 46| Training loss: 0.2435181956552816| Validation loss: 0.4175138038837945\n",
      "Epoch: 47| Training loss: 0.241183986857215| Validation loss: 0.4165877792887614\n",
      "Epoch: 48| Training loss: 0.2389589545183026| Validation loss: 0.41557310746919895\n",
      "Epoch: 49| Training loss: 0.23680171011929335| Validation loss: 0.4147816507167802\n",
      "Epoch: 50| Training loss: 0.23450601755766678| Validation loss: 0.41387587000162357\n",
      "Epoch: 51| Training loss: 0.23247124983002218| Validation loss: 0.4131240893983248\n",
      "Epoch: 52| Training loss: 0.23033786650938054| Validation loss: 0.41233527047381\n",
      "Epoch: 53| Training loss: 0.2282567887396891| Validation loss: 0.41156614941290953\n",
      "Epoch: 54| Training loss: 0.22647270304097009| Validation loss: 0.41099267683408564\n",
      "Epoch: 55| Training loss: 0.2246358767100557| Validation loss: 0.41042708711540626\n",
      "Epoch: 56| Training loss: 0.22246017419395409| Validation loss: 0.40954002861607436\n",
      "Epoch: 57| Training loss: 0.22060668292241928| Validation loss: 0.40889556239058955\n",
      "Epoch: 58| Training loss: 0.2187885160668603| Validation loss: 0.4082432051363766\n",
      "Epoch: 59| Training loss: 0.2170224169340236| Validation loss: 0.4076163788242318\n",
      "Epoch: 60| Training loss: 0.21530320470315473| Validation loss: 0.40713880258386625\n",
      "Epoch: 61| Training loss: 0.21357932142988068| Validation loss: 0.4065210097418873\n",
      "Epoch: 62| Training loss: 0.21191185411079208| Validation loss: 0.4060224089558166\n",
      "Epoch: 63| Training loss: 0.21032271463596797| Validation loss: 0.4054921850332128\n",
      "Epoch: 64| Training loss: 0.2087609426053154| Validation loss: 0.40501547722330933\n",
      "Epoch: 65| Training loss: 0.2071890996095131| Validation loss: 0.4045265690542238\n",
      "Epoch: 66| Training loss: 0.20560751820427933| Validation loss: 0.4040820565490143\n",
      "Epoch: 67| Training loss: 0.20406864906806577| Validation loss: 0.40361262444820656\n",
      "Epoch: 68| Training loss: 0.2025156464996579| Validation loss: 0.4030518995290221\n",
      "Epoch: 69| Training loss: 0.2010378950218318| Validation loss: 0.4025949361740047\n",
      "Epoch: 70| Training loss: 0.1997728849127573| Validation loss: 0.4023991394978512\n",
      "Epoch: 71| Training loss: 0.19841801966004854| Validation loss: 0.40200966293582197\n",
      "Epoch: 72| Training loss: 0.1968157840876145| Validation loss: 0.4013443623862235\n",
      "Epoch: 73| Training loss: 0.19555410813697371| Validation loss: 0.4011169859186285\n",
      "Epoch: 74| Training loss: 0.19413924871716362| Validation loss: 0.4006309698407786\n",
      "Epoch: 75| Training loss: 0.19278085382790883| Validation loss: 0.40022613590881917\n",
      "Epoch: 76| Training loss: 0.1914947308475946| Validation loss: 0.3998871578256288\n",
      "Epoch: 77| Training loss: 0.190261922351623| Validation loss: 0.39960823107953586\n",
      "Epoch: 78| Training loss: 0.18896911417129283| Validation loss: 0.39922627783002923\n",
      "Epoch: 79| Training loss: 0.1877191702258717| Validation loss: 0.3988834207898679\n",
      "Epoch: 80| Training loss: 0.18650134006367705| Validation loss: 0.3985725136186029\n",
      "Epoch: 81| Training loss: 0.1853023306621783| Validation loss: 0.3982626757047629\n",
      "Epoch: 82| Training loss: 0.18425246300322776| Validation loss: 0.3981454498168277\n",
      "Epoch: 83| Training loss: 0.18298816020164818| Validation loss: 0.39772399858098695\n"
     ]
    }
   ],
   "source": [
    "w_count, loss_tr_count, dev_loss_count = SGD(X_tr_count, Y_tr, \n",
    "                                             X_dev=X_dev_count, \n",
    "                                             Y_dev=Y_dev, \n",
    "                                             lr=0.0001, \n",
    "                                             alpha=0.001, \n",
    "                                             epochs=100)"
   ]
  },
  {
   "cell_type": "markdown",
   "metadata": {},
   "source": [
    "Now plot the training and validation history per epoch. Does your model underfit, overfit or is it about right? Explain why."
   ]
  },
  {
   "cell_type": "code",
   "execution_count": 27,
   "metadata": {
    "ExecuteTime": {
     "end_time": "2020-02-15T14:17:51.598911Z",
     "start_time": "2020-02-15T14:17:51.482307Z"
    }
   },
   "outputs": [
    {
     "data": {
      "image/png": "[encoded data removed]",
      "text/plain": [
       "<Figure size 432x288 with 1 Axes>"
      ]
     },
     "metadata": {
      "needs_background": "light"
     },
     "output_type": "display_data"
    }
   ],
   "source": []
  },
  {
   "cell_type": "markdown",
   "metadata": {
    "ExecuteTime": {
     "end_time": "2020-01-21T16:52:26.583150Z",
     "start_time": "2020-01-21T16:52:26.578754Z"
    }
   },
   "source": [
    "Explain here..."
   ]
  },
  {
   "cell_type": "markdown",
   "metadata": {},
   "source": [
    "Compute accuracy, precision, recall and F1-scores:"
   ]
  },
  {
   "cell_type": "code",
   "execution_count": 10,
   "metadata": {
    "ExecuteTime": {
     "end_time": "2020-02-15T14:37:40.569499Z",
     "start_time": "2020-02-15T14:37:40.566796Z"
    }
   },
   "outputs": [],
   "source": [
    "# fill in your code...\n",
    "\n",
    "print('Accuracy:', accuracy_score(Y_te,preds_te_count))\n",
    "print('Precision:', precision_score(Y_te,preds_te_count))\n",
    "print('Recall:', recall_score(Y_te,preds_te_count))\n",
    "print('F1-Score:', f1_score(Y_te,preds_te_count))"
   ]
  },
  {
   "cell_type": "markdown",
   "metadata": {},
   "source": [
    "Finally, print the top-10 words for the negative and positive class respectively."
   ]
  },
  {
   "cell_type": "code",
   "execution_count": 8,
   "metadata": {
    "ExecuteTime": {
     "end_time": "2020-02-15T14:37:07.638179Z",
     "start_time": "2020-02-15T14:37:07.635838Z"
    }
   },
   "outputs": [],
   "source": [
    "# fill in your code..."
   ]
  },
  {
   "cell_type": "code",
   "execution_count": 9,
   "metadata": {
    "ExecuteTime": {
     "end_time": "2020-02-15T14:37:08.381103Z",
     "start_time": "2020-02-15T14:37:08.378641Z"
    }
   },
   "outputs": [],
   "source": [
    "# fill in your code..."
   ]
  },
  {
   "cell_type": "markdown",
   "metadata": {},
   "source": [
    "If we were to apply the classifier we've learned into a different domain such laptop reviews or restaurant reviews, do you think these features would generalise well? Can you propose what features the classifier could pick up as important in the new domain?"
   ]
  },
  {
   "cell_type": "markdown",
   "metadata": {},
   "source": [
    "Provide your answer here..."
   ]
  },
  {
   "cell_type": "markdown",
   "metadata": {},
   "source": [
    "## Train and Evaluate Logistic Regression with TF.IDF vectors\n",
    "\n",
    "Follow the same steps as above (i.e. evaluating count n-gram representations).\n"
   ]
  },
  {
   "cell_type": "code",
   "execution_count": 31,
   "metadata": {
    "ExecuteTime": {
     "end_time": "2020-02-15T14:17:54.414637Z",
     "start_time": "2020-02-15T14:17:51.625934Z"
    },
    "scrolled": true
   },
   "outputs": [
    {
     "name": "stdout",
     "output_type": "stream",
     "text": [
      "Epoch: 0| Training loss: 0.496538116279205| Validation loss: 0.5895899274588817\n",
      "Epoch: 1| Training loss: 0.4084394710560143| Validation loss: 0.544649086837174\n"
     ]
    },
    {
     "name": "stderr",
     "output_type": "stream",
     "text": [
      "/anaconda3/lib/python3.7/site-packages/ipykernel_launcher.py:50: DeprecationWarning: elementwise == comparison failed; this will raise an error in the future.\n"
     ]
    },
    {
     "name": "stdout",
     "output_type": "stream",
     "text": [
      "Epoch: 2| Training loss: 0.35196590407420064| Validation loss: 0.5150876603863132\n",
      "Epoch: 3| Training loss: 0.3116844242022623| Validation loss: 0.49489773731674874\n",
      "Epoch: 4| Training loss: 0.2810715774838783| Validation loss: 0.47997275137676726\n",
      "Epoch: 5| Training loss: 0.25668747878708276| Validation loss: 0.46763654113258013\n",
      "Epoch: 6| Training loss: 0.23654276549913594| Validation loss: 0.45767733688153556\n",
      "Epoch: 7| Training loss: 0.21965240746100156| Validation loss: 0.4492067736453032\n",
      "Epoch: 8| Training loss: 0.20518502986248432| Validation loss: 0.44195046817180716\n",
      "Epoch: 9| Training loss: 0.1926379393530923| Validation loss: 0.4358175343417367\n",
      "Epoch: 10| Training loss: 0.18161013121343478| Validation loss: 0.430927744935762\n",
      "Epoch: 11| Training loss: 0.17183241812407454| Validation loss: 0.4267194647775054\n",
      "Epoch: 12| Training loss: 0.1631180196151434| Validation loss: 0.42287948202462305\n",
      "Epoch: 13| Training loss: 0.1552643554313739| Validation loss: 0.4185174243921952\n",
      "Epoch: 14| Training loss: 0.14816016424795736| Validation loss: 0.41535439115243267\n",
      "Epoch: 15| Training loss: 0.14171645583977022| Validation loss: 0.41354500028973346\n",
      "Epoch: 16| Training loss: 0.13573592746279245| Validation loss: 0.41050631949541183\n",
      "Epoch: 17| Training loss: 0.13034674080565548| Validation loss: 0.40873127609435583\n",
      "Epoch: 18| Training loss: 0.12530074212468914| Validation loss: 0.4062032520033557\n",
      "Epoch: 19| Training loss: 0.1206804384762821| Validation loss: 0.4042355558277022\n",
      "Epoch: 20| Training loss: 0.11641749849268634| Validation loss: 0.40343553356873935\n",
      "Epoch: 21| Training loss: 0.11238278831491308| Validation loss: 0.4016416833615827\n",
      "Epoch: 22| Training loss: 0.10865156439664284| Validation loss: 0.4000595888878182\n",
      "Epoch: 23| Training loss: 0.10516197433948125| Validation loss: 0.39868784044604255\n",
      "Epoch: 24| Training loss: 0.10189115553121805| Validation loss: 0.3979524616390154\n",
      "Epoch: 25| Training loss: 0.09882058648610967| Validation loss: 0.3970440497535089\n",
      "Epoch: 26| Training loss: 0.09592138473665975| Validation loss: 0.395778881579832\n",
      "Epoch: 27| Training loss: 0.09320843385055887| Validation loss: 0.3953557357339525\n",
      "Epoch: 28| Training loss: 0.09063019016289853| Validation loss: 0.39470595909680056\n",
      "Epoch: 29| Training loss: 0.08817629918827585| Validation loss: 0.3937076446246101\n",
      "Epoch: 30| Training loss: 0.08586942642600201| Validation loss: 0.3932263994003147\n",
      "Epoch: 31| Training loss: 0.08367305497260015| Validation loss: 0.3925446707702044\n",
      "Epoch: 32| Training loss: 0.08158397572757985| Validation loss: 0.39185414682427805\n",
      "Epoch: 33| Training loss: 0.0795957520805118| Validation loss: 0.3912667860138064\n",
      "Epoch: 34| Training loss: 0.0777226931855252| Validation loss: 0.3914079793827536\n",
      "Epoch: 35| Training loss: 0.07590268082740566| Validation loss: 0.39055218226682514\n",
      "Epoch: 36| Training loss: 0.07417745810765715| Validation loss: 0.39023461847996976\n",
      "Epoch: 37| Training loss: 0.07253087010654821| Validation loss: 0.3899764154646073\n",
      "Epoch: 38| Training loss: 0.07095338295428982| Validation loss: 0.38952321238763404\n",
      "Epoch: 39| Training loss: 0.06944490333053023| Validation loss: 0.3891662489075472\n",
      "Epoch: 40| Training loss: 0.06799534146111857| Validation loss: 0.389052493545359\n",
      "Epoch: 41| Training loss: 0.06660689466800641| Validation loss: 0.3887629118157739\n",
      "Epoch: 42| Training loss: 0.06527371405647933| Validation loss: 0.38843451100305176\n"
     ]
    }
   ],
   "source": [
    "w_tfidf, trl, devl = SGD(X_tr_tfidf, Y_tr, \n",
    "                         X_dev=X_dev_tfidf, \n",
    "                         Y_dev=Y_dev, \n",
    "                         lr=0.0001, \n",
    "                         alpha=0.00001, \n",
    "                         epochs=50)"
   ]
  },
  {
   "cell_type": "markdown",
   "metadata": {},
   "source": [
    "Now plot the training and validation history per epoch. Does your model underfit, overfit or is it about right? Explain why."
   ]
  },
  {
   "cell_type": "code",
   "execution_count": 32,
   "metadata": {
    "ExecuteTime": {
     "end_time": "2020-02-15T14:17:54.517668Z",
     "start_time": "2020-02-15T14:17:54.417118Z"
    }
   },
   "outputs": [
    {
     "data": {
      "image/png": "[encoded data removed]",
      "text/plain": [
       "<Figure size 432x288 with 1 Axes>"
      ]
     },
     "metadata": {
      "needs_background": "light"
     },
     "output_type": "display_data"
    }
   ],
   "source": [
    "# fill in your code..."
   ]
  },
  {
   "cell_type": "markdown",
   "metadata": {},
   "source": [
    "Compute accuracy, precision, recall and F1-scores:"
   ]
  },
  {
   "cell_type": "code",
   "execution_count": 11,
   "metadata": {
    "ExecuteTime": {
     "end_time": "2020-02-15T14:37:56.489814Z",
     "start_time": "2020-02-15T14:37:56.487014Z"
    }
   },
   "outputs": [],
   "source": [
    "# fill in your code...\n",
    "\n",
    "print('Accuracy:', accuracy_score(Y_te,preds_te))\n",
    "print('Precision:', precision_score(Y_te,preds_te))\n",
    "print('Recall:', recall_score(Y_te,preds_te))\n",
    "print('F1-Score:', f1_score(Y_te,preds_te))"
   ]
  },
  {
   "cell_type": "markdown",
   "metadata": {},
   "source": [
    "Print top-10 most positive and negative words:"
   ]
  },
  {
   "cell_type": "code",
   "execution_count": 13,
   "metadata": {
    "ExecuteTime": {
     "end_time": "2020-02-15T14:38:17.845485Z",
     "start_time": "2020-02-15T14:38:17.842557Z"
    }
   },
   "outputs": [],
   "source": [
    "# fill in your code..."
   ]
  },
  {
   "cell_type": "code",
   "execution_count": 14,
   "metadata": {
    "ExecuteTime": {
     "end_time": "2020-02-15T14:38:22.781128Z",
     "start_time": "2020-02-15T14:38:22.778590Z"
    }
   },
   "outputs": [],
   "source": [
    "# fill in your code..."
   ]
  },
  {
   "cell_type": "markdown",
   "metadata": {},
   "source": [
    "### Discuss how did you choose model hyperparameters (e.g. learning rate and regularisation strength)? What is the relation between training epochs and learning rate? How the regularisation strength affects performance?"
   ]
  },
  {
   "cell_type": "markdown",
   "metadata": {},
   "source": [
    "Enter your answer here..."
   ]
  },
  {
   "cell_type": "markdown",
   "metadata": {},
   "source": [
    "\n",
    "\n",
    "## Full Results\n",
    "\n",
    "Add here your results:\n",
    "\n",
    "| LR | Precision  | Recall  | F1-Score  |\n",
    "|:-:|:-:|:-:|:-:|\n",
    "| BOW-count  |   |   |   |\n",
    "| BOW-tfidf  |   |   |   |\n"
   ]
  },
  {
   "cell_type": "markdown",
   "metadata": {},
   "source": [
    "# Multi-class Logistic Regression \n",
    "\n",
    "Now you need to train a Multiclass Logistic Regression (MLR) Classifier by extending the Binary model you developed above. You will use the MLR model to perform topic classification on the AG news dataset consisting of three classes:"
   ]
  },
  {
   "cell_type": "markdown",
   "metadata": {},
   "source": [
    "- Class 1: World\n",
    "- Class 2: Sports\n",
    "- Class 3: Business"
   ]
  },
  {
   "cell_type": "markdown",
   "metadata": {},
   "source": [
    "You need to follow the same process as in Task 1 for data processing and feature extraction by reusing the functions you wrote."
   ]
  },
  {
   "cell_type": "code",
   "execution_count": 16,
   "metadata": {
    "ExecuteTime": {
     "end_time": "2020-02-15T14:18:03.212229Z",
     "start_time": "2020-02-15T14:18:03.185261Z"
    },
    "pycharm": {
     "is_executing": false
    }
   },
   "outputs": [],
   "source": [
    "topic_dev = pd.read_csv('data_topic/dev.csv', names=['label', 'text'])\n",
    "topic_test = pd.read_csv('data_topic/test.csv', names=['label', 'text'])\n",
    "topic_train = pd.read_csv('data_topic/train.csv', names=['label', 'text'])"
   ]
  },
  {
   "cell_type": "code",
   "execution_count": 17,
   "metadata": {
    "ExecuteTime": {
     "end_time": "2020-02-15T14:18:03.515585Z",
     "start_time": "2020-02-15T14:18:03.508299Z"
    },
    "pycharm": {
     "is_executing": false
    }
   },
   "outputs": [
    {
     "data": {
      "text/html": [
       "<div>\n",
       "<style scoped>\n",
       "    .dataframe tbody tr th:only-of-type {\n",
       "        vertical-align: middle;\n",
       "    }\n",
       "\n",
       "    .dataframe tbody tr th {\n",
       "        vertical-align: top;\n",
       "    }\n",
       "\n",
       "    .dataframe thead th {\n",
       "        text-align: right;\n",
       "    }\n",
       "</style>\n",
       "<table border=\"1\" class=\"dataframe\">\n",
       "  <thead>\n",
       "    <tr style=\"text-align: right;\">\n",
       "      <th></th>\n",
       "      <th>label</th>\n",
       "      <th>text</th>\n",
       "    </tr>\n",
       "  </thead>\n",
       "  <tbody>\n",
       "    <tr>\n",
       "      <th>0</th>\n",
       "      <td>1</td>\n",
       "      <td>Reuters - Venezuelans turned out early\\and in ...</td>\n",
       "    </tr>\n",
       "    <tr>\n",
       "      <th>1</th>\n",
       "      <td>1</td>\n",
       "      <td>Reuters - South Korean police used water canno...</td>\n",
       "    </tr>\n",
       "    <tr>\n",
       "      <th>2</th>\n",
       "      <td>1</td>\n",
       "      <td>Reuters - Thousands of Palestinian\\prisoners i...</td>\n",
       "    </tr>\n",
       "    <tr>\n",
       "      <th>3</th>\n",
       "      <td>1</td>\n",
       "      <td>AFP - Sporadic gunfire and shelling took place...</td>\n",
       "    </tr>\n",
       "    <tr>\n",
       "      <th>4</th>\n",
       "      <td>1</td>\n",
       "      <td>AP - Dozens of Rwandan soldiers flew into Suda...</td>\n",
       "    </tr>\n",
       "  </tbody>\n",
       "</table>\n",
       "</div>"
      ],
      "text/plain": [
       "   label                                               text\n",
       "0      1  Reuters - Venezuelans turned out early\\and in ...\n",
       "1      1  Reuters - South Korean police used water canno...\n",
       "2      1  Reuters - Thousands of Palestinian\\prisoners i...\n",
       "3      1  AFP - Sporadic gunfire and shelling took place...\n",
       "4      1  AP - Dozens of Rwandan soldiers flew into Suda..."
      ]
     },
     "execution_count": 17,
     "metadata": {},
     "output_type": "execute_result"
    }
   ],
   "source": [
    "topic_train.head()"
   ]
  },
  {
   "cell_type": "code",
   "execution_count": 18,
   "metadata": {
    "ExecuteTime": {
     "end_time": "2020-02-15T14:18:03.806523Z",
     "start_time": "2020-02-15T14:18:03.798279Z"
    },
    "pycharm": {
     "is_executing": false
    }
   },
   "outputs": [],
   "source": [
    "topic_dev_texts = list(topic_dev['text'])\n",
    "topic_dev_labels = np.array(topic_dev['label'])\n",
    "\n",
    "topic_test_texts = list(topic_test['text'])\n",
    "label_test_labels = np.array(topic_test['label'])\n",
    "\n",
    "topic_train_texts = list(topic_train['text'])\n",
    "topic_train_labels = np.array(topic_train['label'])"
   ]
  },
  {
   "cell_type": "code",
   "execution_count": 39,
   "metadata": {
    "ExecuteTime": {
     "end_time": "2020-02-15T14:18:04.508938Z",
     "start_time": "2020-02-15T14:18:04.171071Z"
    }
   },
   "outputs": [
    {
     "name": "stdout",
     "output_type": "stream",
     "text": [
      "5000\n",
      "\n",
      "['questions', ('exhibition', 'game'), ('computer', 'maker'), ('chavez', 'won'), ('invoices', 'halliburton'), ('den', 'hoogenband', 'netherlands'), 'body', ('anterior', 'cruciate'), ('billion', 'cash', 'stock'), ('nortel', 'networks', 'corp'), ('offering', 'nearly'), ('prime', 'minister'), ('july', 'first', 'time'), 'strong', ('hang', 'over'), 'model', 'ease', 'assets', 'category', 'family', 'disappeared', ('olympic', 'men'), 'couldn', 'why', 'shift', ('world', 'largest', 'food'), 'oust', ('settler', 'homes'), ('jerusalem', 'reuters'), ('wisconsin', 'reuters'), 'luis', 'bowl', ('monday', 'said', 'quarterly'), ('baltimore', 'orioles'), ('more', 'israeli'), ('army', 'had', 'decided'), 'economic', ('after', 'web', 'no'), 'lynn', ('defensive', 'end'), 'according', 'facilities', ('company', 'wednesday'), ('lt', 'gt', 'wednesday'), 'tutsi', ('dillard', 'inc'), 'outside', 'protect', 'uk', 'weather', 'sell', 'pile', 'immediately', 'senate', ('venus', 'williams'), ('four', 'months'), 'pope', ('assistant', 'manager'), 'nyse', 'place', 'needs', 'needed', 'competition', 'powerful', 'outlooks', 'expected', 'gave', ('holding', 'corp'), ('minister', 'alexander'), 'spectacular', ('world', 'biggest'), 'barrel', ('store', 'sales'), 'venezuela', 'groups', 'robert', 'calf', 'brokerage', ('fears', 'about', 'country'), ('retailer', 'behind'), 'kid', 'latest', 'street', 'allow', 'surge', 'living', ('aug', 'reuters'), 'aware', 'thens', 'stunned', 'sending', 'sharon', 'south', 'draw', 'wall', 'declare', ('inc', 'said'), 'lows', ('cincinnati', 'reds'), 'families']\n",
      "\n",
      "[('reuters', 631), ('said', 432), ('tuesday', 413), ('wednesday', 344), ('new', 325), ('after', 295), ('ap', 275), ('athens', 245), ('monday', 221), ('first', 210)]\n"
     ]
    }
   ],
   "source": [
    "vocab, df, ngram_counts = get_vocab(X_tr_raw, ngram_range=(1,3), keep_topN=5000, stop_words=stop_words)\n",
    "print(len(vocab))\n",
    "print()\n",
    "print(list(vocab)[:100])\n",
    "print()\n",
    "print(df.most_common()[:10])"
   ]
  },
  {
   "cell_type": "code",
   "execution_count": 40,
   "metadata": {
    "ExecuteTime": {
     "end_time": "2020-02-15T14:18:04.706802Z",
     "start_time": "2020-02-15T14:18:04.511061Z"
    }
   },
   "outputs": [],
   "source": [
    "# fill in your code..."
   ]
  },
  {
   "cell_type": "markdown",
   "metadata": {},
   "source": [
    "Now you need to change `SGD` to support multiclass datasets. First you need to develop a `softmax` function. It takes as input:\n",
    "\n",
    "- `z`: array of real numbers \n",
    "\n",
    "and returns:\n",
    "\n",
    "- `smax`: the softmax of `z`"
   ]
  },
  {
   "cell_type": "code",
   "execution_count": 42,
   "metadata": {
    "ExecuteTime": {
     "end_time": "2020-02-15T14:18:07.440998Z",
     "start_time": "2020-02-15T14:18:07.437915Z"
    }
   },
   "outputs": [],
   "source": [
    "def softmax(z):\n",
    "    \n",
    "    # fill in your code...\n",
    "    \n",
    "    return smax"
   ]
  },
  {
   "cell_type": "markdown",
   "metadata": {},
   "source": [
    "Then modify `predict_proba` and `predict_class` functions for the multiclass case:"
   ]
  },
  {
   "cell_type": "code",
   "execution_count": 43,
   "metadata": {
    "ExecuteTime": {
     "end_time": "2020-02-15T14:18:07.445451Z",
     "start_time": "2020-02-15T14:18:07.442851Z"
    }
   },
   "outputs": [],
   "source": [
    "def predict_proba(X, weights):\n",
    "    \n",
    "    # fill in your code...\n",
    "    \n",
    "    return preds_proba"
   ]
  },
  {
   "cell_type": "code",
   "execution_count": 44,
   "metadata": {
    "ExecuteTime": {
     "end_time": "2020-02-15T14:18:07.449814Z",
     "start_time": "2020-02-15T14:18:07.447145Z"
    }
   },
   "outputs": [],
   "source": [
    "def predict_class(X, weights):\n",
    "    \n",
    "    # fill in your code...\n",
    "    \n",
    "    return preds_class"
   ]
  },
  {
   "cell_type": "markdown",
   "metadata": {},
   "source": [
    "Toy example and expected functionality of the functions above:"
   ]
  },
  {
   "cell_type": "code",
   "execution_count": 45,
   "metadata": {
    "ExecuteTime": {
     "end_time": "2020-02-15T14:18:08.059902Z",
     "start_time": "2020-02-15T14:18:08.056774Z"
    }
   },
   "outputs": [],
   "source": [
    "X = np.array([[0.1,0.2],[0.2,0.1],[0.1,-0.2]])\n",
    "w = np.array([[2,-5],[-5,2]])"
   ]
  },
  {
   "cell_type": "code",
   "execution_count": 46,
   "metadata": {
    "ExecuteTime": {
     "end_time": "2020-02-15T14:18:08.495464Z",
     "start_time": "2020-02-15T14:18:08.491074Z"
    }
   },
   "outputs": [
    {
     "data": {
      "text/plain": [
       "array([[0.33181223, 0.66818777],\n",
       "       [0.66818777, 0.33181223],\n",
       "       [0.89090318, 0.10909682]])"
      ]
     },
     "execution_count": 46,
     "metadata": {},
     "output_type": "execute_result"
    }
   ],
   "source": [
    "predict_proba(X, w)"
   ]
  },
  {
   "cell_type": "code",
   "execution_count": 47,
   "metadata": {
    "ExecuteTime": {
     "end_time": "2020-02-15T14:18:08.714215Z",
     "start_time": "2020-02-15T14:18:08.710098Z"
    }
   },
   "outputs": [
    {
     "data": {
      "text/plain": [
       "array([2, 1, 1])"
      ]
     },
     "execution_count": 47,
     "metadata": {},
     "output_type": "execute_result"
    }
   ],
   "source": [
    "predict_class(X, w)"
   ]
  },
  {
   "cell_type": "markdown",
   "metadata": {},
   "source": [
    "Now you need to compute the categorical cross entropy loss (extending the binary loss to support multiple classes)."
   ]
  },
  {
   "cell_type": "code",
   "execution_count": 1,
   "metadata": {
    "ExecuteTime": {
     "end_time": "2020-02-15T14:30:48.047338Z",
     "start_time": "2020-02-15T14:30:48.044395Z"
    }
   },
   "outputs": [],
   "source": [
    "def categorical_loss(X, Y, weights, num_classes=5, alpha=0.00001):\n",
    "    \n",
    "    # fill in your code...\n",
    "    \n",
    "    return l\n",
    "    "
   ]
  },
  {
   "cell_type": "markdown",
   "metadata": {
    "ExecuteTime": {
     "end_time": "2020-02-15T14:08:59.937442Z",
     "start_time": "2020-02-15T14:08:59.932221Z"
    }
   },
   "source": [
    "Finally you need to modify SGD to support the categorical cross entropy loss:"
   ]
  },
  {
   "cell_type": "code",
   "execution_count": 49,
   "metadata": {
    "ExecuteTime": {
     "end_time": "2020-02-15T14:18:10.176885Z",
     "start_time": "2020-02-15T14:18:10.165021Z"
    }
   },
   "outputs": [],
   "source": [
    "def SGD(X_tr, Y_tr, X_dev=[], Y_dev=[], num_classes=5, lr=0.01, alpha=0.00001, epochs=5, tolerance=0.001, print_progress=True):\n",
    "    \n",
    "    # fill in your code...\n",
    "\n",
    "    return weights, training_loss_history, validation_loss_history"
   ]
  },
  {
   "cell_type": "markdown",
   "metadata": {
    "ExecuteTime": {
     "end_time": "2020-02-15T14:10:15.772383Z",
     "start_time": "2020-02-15T14:10:15.767855Z"
    }
   },
   "source": [
    "Now you are ready to train and evaluate you MLR following the same steps as in Task 1 for both Count and tfidf features:"
   ]
  },
  {
   "cell_type": "code",
   "execution_count": 50,
   "metadata": {
    "ExecuteTime": {
     "end_time": "2020-02-15T14:18:55.324956Z",
     "start_time": "2020-02-15T14:18:11.720952Z"
    }
   },
   "outputs": [
    {
     "name": "stderr",
     "output_type": "stream",
     "text": [
      "/anaconda3/lib/python3.7/site-packages/ipykernel_launcher.py:55: DeprecationWarning: elementwise == comparison failed; this will raise an error in the future.\n"
     ]
    },
    {
     "name": "stdout",
     "output_type": "stream",
     "text": [
      "Epoch: 0| Training loss: 1.0797445295473487| Validation loss: 1.081372090349833\n",
      "Epoch: 1| Training loss: 1.079316160352198| Validation loss: 1.0640685482079149\n",
      "Epoch: 2| Training loss: 1.0560473439817515| Validation loss: 1.0466716664674833\n",
      "Epoch: 3| Training loss: 1.0823272116547453| Validation loss: 1.0293144599016153\n",
      "Epoch: 4| Training loss: 1.0541411400498168| Validation loss: 1.0120430537618956\n",
      "Epoch: 5| Training loss: 0.6018201485747277| Validation loss: 0.9949501699020834\n",
      "Epoch: 6| Training loss: 0.9408020769124341| Validation loss: 0.9780518842493735\n",
      "Epoch: 7| Training loss: 0.9785218029526777| Validation loss: 0.961399507260303\n",
      "Epoch: 8| Training loss: 1.105504123262664| Validation loss: 0.945017429821232\n",
      "Epoch: 9| Training loss: 0.9330426453622344| Validation loss: 0.9289397744769093\n",
      "Epoch: 10| Training loss: 0.7202271854150083| Validation loss: 0.9131712383598369\n",
      "Epoch: 11| Training loss: 0.980165568395653| Validation loss: 0.8977588631301825\n",
      "Epoch: 12| Training loss: 0.9350596877302814| Validation loss: 0.8826257874396408\n",
      "Epoch: 13| Training loss: 1.015964417226491| Validation loss: 0.8678640000045689\n",
      "Epoch: 14| Training loss: 0.7853481727623568| Validation loss: 0.8534092079475973\n",
      "Epoch: 15| Training loss: 1.1280839072469695| Validation loss: 0.8392859262760239\n",
      "Epoch: 16| Training loss: 0.45596125168525925| Validation loss: 0.8254557688887008\n",
      "Epoch: 17| Training loss: 1.0070191455181927| Validation loss: 0.8120053087983156\n",
      "Epoch: 18| Training loss: 0.9938827745552048| Validation loss: 0.7989146470042358\n",
      "Epoch: 19| Training loss: 0.5941619165230784| Validation loss: 0.7861148779646865\n",
      "Epoch: 20| Training loss: 0.347645483062249| Validation loss: 0.773639617757056\n",
      "Epoch: 21| Training loss: 0.8615779910495689| Validation loss: 0.7614413103814573\n",
      "Epoch: 22| Training loss: 0.8559620095999312| Validation loss: 0.7495740843572936\n",
      "Epoch: 23| Training loss: 0.7123026165421295| Validation loss: 0.7380118770283757\n",
      "Epoch: 24| Training loss: 0.628420348319027| Validation loss: 0.7267497405327836\n",
      "Epoch: 25| Training loss: 1.1143453645268255| Validation loss: 0.7157650456550849\n",
      "Epoch: 26| Training loss: 0.5053554837538091| Validation loss: 0.7050752398160355\n",
      "Epoch: 27| Training loss: 0.8580561710864723| Validation loss: 0.6946265481406195\n",
      "Epoch: 28| Training loss: 1.0145821027394442| Validation loss: 0.6844644903515154\n",
      "Epoch: 29| Training loss: 0.889803100593025| Validation loss: 0.6745416521972386\n",
      "Epoch: 30| Training loss: 0.3512373705994844| Validation loss: 0.6649076709998702\n",
      "Epoch: 31| Training loss: 0.6946077278013651| Validation loss: 0.6554896489368593\n",
      "Epoch: 32| Training loss: 0.5721038746595615| Validation loss: 0.6463159196618706\n",
      "Epoch: 33| Training loss: 0.9286421195752351| Validation loss: 0.6374037446331372\n",
      "Epoch: 34| Training loss: 0.3043301520488227| Validation loss: 0.6286933702647342\n",
      "Epoch: 35| Training loss: 0.8412715058863925| Validation loss: 0.6201950715638889\n",
      "Epoch: 36| Training loss: 1.0162421996444875| Validation loss: 0.6119312128918258\n",
      "Epoch: 37| Training loss: 0.9800875509382644| Validation loss: 0.6038364508265476\n",
      "Epoch: 38| Training loss: 0.2529787526410042| Validation loss: 0.5959680427407086\n",
      "Epoch: 39| Training loss: 0.5204508487025243| Validation loss: 0.5882845644274958\n",
      "Epoch: 40| Training loss: 0.663760559879069| Validation loss: 0.5807678321194896\n",
      "Epoch: 41| Training loss: 0.15865889006553835| Validation loss: 0.5734687699728561\n",
      "Epoch: 42| Training loss: 0.6408607725036662| Validation loss: 0.5663184689700342\n",
      "Epoch: 43| Training loss: 0.2797611441024611| Validation loss: 0.5593606258380786\n",
      "Epoch: 44| Training loss: 0.7852857528209075| Validation loss: 0.552554302011612\n",
      "Epoch: 45| Training loss: 1.006186400841472| Validation loss: 0.5459031927551995\n",
      "Epoch: 46| Training loss: 1.121242812418955| Validation loss: 0.5394152242463135\n",
      "Epoch: 47| Training loss: 0.45275382650303764| Validation loss: 0.5330716806209664\n",
      "Epoch: 48| Training loss: 0.5002302346473977| Validation loss: 0.5268516486205744\n",
      "Epoch: 49| Training loss: 0.2927756479030764| Validation loss: 0.520796556633722\n",
      "Epoch: 50| Training loss: 0.5815213659515958| Validation loss: 0.514875429745833\n",
      "Epoch: 51| Training loss: 0.43511107264972204| Validation loss: 0.509093372083549\n",
      "Epoch: 52| Training loss: 0.2004456471210612| Validation loss: 0.5034369186797815\n",
      "Epoch: 53| Training loss: 0.6927294724851424| Validation loss: 0.4978805528962536\n",
      "Epoch: 54| Training loss: 0.22762255875684806| Validation loss: 0.49248110263913736\n",
      "Epoch: 55| Training loss: 0.41286842099956444| Validation loss: 0.4871768560097116\n",
      "Epoch: 56| Training loss: 0.2858867912825694| Validation loss: 0.4820023098168036\n",
      "Epoch: 57| Training loss: 1.07945594292479| Validation loss: 0.4769355688611146\n",
      "Epoch: 58| Training loss: 0.08632099484327364| Validation loss: 0.4719707627364577\n",
      "Epoch: 59| Training loss: 0.4380467526003749| Validation loss: 0.4671259629523961\n",
      "Epoch: 60| Training loss: 0.4504033371479604| Validation loss: 0.4623682646862233\n",
      "Epoch: 61| Training loss: 0.8991535203093632| Validation loss: 0.45772777193305997\n",
      "Epoch: 62| Training loss: 0.37976053429018847| Validation loss: 0.453170172687834\n",
      "Epoch: 63| Training loss: 0.6690249969029779| Validation loss: 0.4487003465696454\n",
      "Epoch: 64| Training loss: 0.12214122740982129| Validation loss: 0.4443374960034709\n",
      "Epoch: 65| Training loss: 0.6816289535486254| Validation loss: 0.4400584436398409\n",
      "Epoch: 66| Training loss: 0.18194708158942638| Validation loss: 0.4358569111132549\n",
      "Epoch: 67| Training loss: 0.5175968359577696| Validation loss: 0.4317374156856518\n",
      "Epoch: 68| Training loss: 0.2748850713851889| Validation loss: 0.42768780305615756\n",
      "Epoch: 69| Training loss: 0.47027298142101503| Validation loss: 0.42374507168474584\n",
      "Epoch: 70| Training loss: 0.19929430369829634| Validation loss: 0.4198554513354222\n",
      "Epoch: 71| Training loss: 0.3119339792974164| Validation loss: 0.4160593000805275\n",
      "Epoch: 72| Training loss: 0.2802330752147449| Validation loss: 0.4123300080340496\n",
      "Epoch: 73| Training loss: 1.4068722074169777| Validation loss: 0.4086685670109219\n",
      "Epoch: 74| Training loss: 1.2289700039889522| Validation loss: 0.4050692506591351\n",
      "Epoch: 75| Training loss: 0.5879134607806588| Validation loss: 0.4015404749982959\n",
      "Epoch: 76| Training loss: 0.5598034047715446| Validation loss: 0.3980768791999669\n",
      "Epoch: 77| Training loss: 0.4072390166320532| Validation loss: 0.3946781657347487\n",
      "Epoch: 78| Training loss: 0.4720387020720993| Validation loss: 0.39135074144554305\n",
      "Epoch: 79| Training loss: 0.8652127247147093| Validation loss: 0.3880767411953969\n",
      "Epoch: 80| Training loss: 0.49502493338551296| Validation loss: 0.38485336346274324\n",
      "Epoch: 81| Training loss: 0.8478719397159928| Validation loss: 0.3816873793123302\n",
      "Epoch: 82| Training loss: 0.5769432672302212| Validation loss: 0.3785768379529342\n",
      "Epoch: 83| Training loss: 0.25865075231928386| Validation loss: 0.37552080913970615\n",
      "Epoch: 84| Training loss: 0.6780205857236974| Validation loss: 0.37251982296888037\n",
      "Epoch: 85| Training loss: 0.5717729327147981| Validation loss: 0.36958152892125545\n",
      "Epoch: 86| Training loss: 0.7185798657407652| Validation loss: 0.36668874595841955\n",
      "Epoch: 87| Training loss: 0.32730720069458585| Validation loss: 0.3638467143325988\n",
      "Epoch: 88| Training loss: 0.9394375601966297| Validation loss: 0.3610402229621626\n",
      "Epoch: 89| Training loss: 0.5314941113071576| Validation loss: 0.3582963265282113\n",
      "Epoch: 90| Training loss: 0.9159430629959491| Validation loss: 0.3556047452606419\n",
      "Epoch: 91| Training loss: 0.27830594341362347| Validation loss: 0.3529452396878083\n",
      "Epoch: 92| Training loss: 0.08922609875671272| Validation loss: 0.3503285390711649\n",
      "Epoch: 93| Training loss: 0.5109477286610166| Validation loss: 0.34776466510396653\n",
      "Epoch: 94| Training loss: 0.8247015373951916| Validation loss: 0.34523113629834656\n",
      "Epoch: 95| Training loss: 1.4111970700349956| Validation loss: 0.3427459408526143\n",
      "Epoch: 96| Training loss: 0.9973410892711908| Validation loss: 0.3403031775623844\n",
      "Epoch: 97| Training loss: 0.9298826919970149| Validation loss: 0.3378961810444463\n",
      "Epoch: 98| Training loss: 0.14036615190332108| Validation loss: 0.33552333229158426\n",
      "Epoch: 99| Training loss: 0.42857059017867416| Validation loss: 0.3331908153000918\n"
     ]
    },
    {
     "name": "stdout",
     "output_type": "stream",
     "text": [
      "Epoch: 100| Training loss: 0.5909452468922335| Validation loss: 0.3308943792523601\n",
      "Epoch: 101| Training loss: 0.0582537404726638| Validation loss: 0.3286410364885621\n",
      "Epoch: 102| Training loss: 0.8460500582683682| Validation loss: 0.32641969802577286\n",
      "Epoch: 103| Training loss: 0.5298538159246153| Validation loss: 0.324225708977352\n",
      "Epoch: 104| Training loss: 0.3002611196487631| Validation loss: 0.3220709147432522\n",
      "Epoch: 105| Training loss: 0.6857676458335961| Validation loss: 0.31995106501678755\n",
      "Epoch: 106| Training loss: 0.5195060392225062| Validation loss: 0.31785403975508386\n",
      "Epoch: 107| Training loss: 0.6192846034415994| Validation loss: 0.3157920207863501\n",
      "Epoch: 108| Training loss: 0.09917322459957126| Validation loss: 0.31376264796419107\n",
      "Epoch: 109| Training loss: 0.3136491065708976| Validation loss: 0.3117644717911298\n",
      "Epoch: 110| Training loss: 0.2961228303588815| Validation loss: 0.30979000698586306\n",
      "Epoch: 111| Training loss: 0.028415357821764815| Validation loss: 0.30785497759094477\n",
      "Epoch: 112| Training loss: 0.3321063258469021| Validation loss: 0.3059320900816925\n",
      "Epoch: 113| Training loss: 0.2679899421174463| Validation loss: 0.30404511603354395\n",
      "Epoch: 114| Training loss: 0.8990533088234927| Validation loss: 0.30218664002975204\n",
      "Epoch: 115| Training loss: 0.12905768556887146| Validation loss: 0.3003505904610916\n",
      "Epoch: 116| Training loss: 0.4506684356556081| Validation loss: 0.2985291037359777\n",
      "Epoch: 117| Training loss: 0.844468526893116| Validation loss: 0.29674277317528236\n",
      "Epoch: 118| Training loss: 0.6767336880461876| Validation loss: 0.2949822521732923\n",
      "Epoch: 119| Training loss: 0.01799443908408846| Validation loss: 0.29324461004936575\n",
      "Epoch: 120| Training loss: 0.3418078466994673| Validation loss: 0.2915307136152019\n",
      "Epoch: 121| Training loss: 0.6270705561081482| Validation loss: 0.28984127182168334\n",
      "Epoch: 122| Training loss: 1.1478485044448523| Validation loss: 0.2881789628649678\n",
      "Epoch: 123| Training loss: 0.2949766090593473| Validation loss: 0.2865338197457586\n",
      "Epoch: 124| Training loss: 1.4238940813590628| Validation loss: 0.2849148292705895\n",
      "Epoch: 125| Training loss: 0.5994789520817773| Validation loss: 0.28331862128435503\n",
      "Epoch: 126| Training loss: 0.24891273419811613| Validation loss: 0.2817370423727986\n",
      "Epoch: 127| Training loss: 0.39238436079518574| Validation loss: 0.2801812115027427\n",
      "Epoch: 128| Training loss: 1.5600414187349476| Validation loss: 0.27864540709644464\n",
      "Epoch: 129| Training loss: 0.9472198772310756| Validation loss: 0.27712518454869994\n",
      "Epoch: 130| Training loss: 0.1584699773317698| Validation loss: 0.2756290475247621\n",
      "Epoch: 131| Training loss: 0.20644196621222938| Validation loss: 0.2741530162974089\n",
      "Epoch: 132| Training loss: 0.18215283594621412| Validation loss: 0.2726944798834253\n",
      "Epoch: 133| Training loss: 0.8414874757451525| Validation loss: 0.2712551700923043\n",
      "Epoch: 134| Training loss: 0.37457828472756166| Validation loss: 0.269827937621642\n",
      "Epoch: 135| Training loss: 0.00774395687073208| Validation loss: 0.26842030110408316\n",
      "Epoch: 136| Training loss: 0.75978129405607| Validation loss: 0.2670359677369942\n",
      "Epoch: 137| Training loss: 0.04094798273170632| Validation loss: 0.2656598668535911\n",
      "Epoch: 138| Training loss: 1.1939040225650244| Validation loss: 0.2642977146554992\n",
      "Epoch: 139| Training loss: 0.2706364434128102| Validation loss: 0.26296275384475015\n",
      "Epoch: 140| Training loss: 0.4041706720632301| Validation loss: 0.2616457843006157\n",
      "Epoch: 141| Training loss: 0.3930983060172604| Validation loss: 0.2603420380125703\n",
      "Epoch: 142| Training loss: 0.08588635860652719| Validation loss: 0.2590556686494602\n",
      "Epoch: 143| Training loss: 0.24441280871964122| Validation loss: 0.25778064807349627\n",
      "Epoch: 144| Training loss: 0.8777114045822041| Validation loss: 0.25652165984926234\n",
      "Epoch: 145| Training loss: 0.8194686345456902| Validation loss: 0.25528228171012946\n",
      "Epoch: 146| Training loss: 0.5319086987289504| Validation loss: 0.2540533247787649\n",
      "Epoch: 147| Training loss: 0.09005366358246589| Validation loss: 0.2528353480461422\n",
      "Epoch: 148| Training loss: 0.21640847881454545| Validation loss: 0.251638801334596\n",
      "Epoch: 149| Training loss: 0.14749728182299668| Validation loss: 0.2504513185602062\n",
      "Epoch: 150| Training loss: 0.9646686003838391| Validation loss: 0.249274942485048\n",
      "Epoch: 151| Training loss: 0.8459778376210175| Validation loss: 0.24811939173669992\n",
      "Epoch: 152| Training loss: 0.3289512046629609| Validation loss: 0.24697182796581005\n",
      "Epoch: 153| Training loss: 0.010146911359652084| Validation loss: 0.2458389491289637\n",
      "Epoch: 154| Training loss: 0.08495971132730216| Validation loss: 0.244718975192335\n",
      "Epoch: 155| Training loss: 0.5977737889322374| Validation loss: 0.24360572221188478\n",
      "Epoch: 156| Training loss: 0.0851881124765378| Validation loss: 0.24251352180512406\n",
      "Epoch: 157| Training loss: 0.8071434173631403| Validation loss: 0.2414341422328391\n",
      "Epoch: 158| Training loss: 0.16374943118546553| Validation loss: 0.24036653931680665\n",
      "Epoch: 159| Training loss: 0.19922472773981986| Validation loss: 0.23930460979725618\n",
      "Epoch: 160| Training loss: 0.2204896358048265| Validation loss: 0.23826151753367814\n",
      "Epoch: 161| Training loss: 0.4573968802025281| Validation loss: 0.23722811498264912\n",
      "Epoch: 162| Training loss: 0.1810635314345012| Validation loss: 0.23620717993755244\n",
      "Epoch: 163| Training loss: 0.5517398742853074| Validation loss: 0.2351936795375895\n",
      "Epoch: 164| Training loss: 0.061671999023491436| Validation loss: 0.234190439908011\n"
     ]
    }
   ],
   "source": [
    "w_count, loss_tr_count, dev_loss_count = SGD(X_tr_count, Y_tr, \n",
    "                                             X_dev=X_dev_count, \n",
    "                                             Y_dev=Y_dev,\n",
    "                                             num_classes=3,\n",
    "                                             lr=0.0001, \n",
    "                                             alpha=0.001, \n",
    "                                             epochs=200)"
   ]
  },
  {
   "cell_type": "markdown",
   "metadata": {},
   "source": [
    "Plot training and validation process and explain if your model overfit, underfit or is about right:"
   ]
  },
  {
   "cell_type": "code",
   "execution_count": 2,
   "metadata": {
    "ExecuteTime": {
     "end_time": "2020-02-15T14:31:09.903453Z",
     "start_time": "2020-02-15T14:31:09.901360Z"
    }
   },
   "outputs": [],
   "source": [
    "# fill in your code..."
   ]
  },
  {
   "cell_type": "markdown",
   "metadata": {},
   "source": [
    "Compute accuracy, precision, recall and F1-scores:"
   ]
  },
  {
   "cell_type": "code",
   "execution_count": 6,
   "metadata": {
    "ExecuteTime": {
     "end_time": "2020-02-15T14:32:12.606498Z",
     "start_time": "2020-02-15T14:32:12.604164Z"
    }
   },
   "outputs": [],
   "source": [
    "# fill in your code...\n",
    "\n",
    "print('Accuracy:', accuracy_score(Y_te,preds_te))\n",
    "print('Precision:', precision_score(Y_te,preds_te,average='macro'))\n",
    "print('Recall:', recall_score(Y_te,preds_te,average='macro'))\n",
    "print('F1-Score:', f1_score(Y_te,preds_te,average='macro'))"
   ]
  },
  {
   "cell_type": "markdown",
   "metadata": {},
   "source": [
    "Print the top-10 words for each class respectively."
   ]
  },
  {
   "cell_type": "code",
   "execution_count": 7,
   "metadata": {
    "ExecuteTime": {
     "end_time": "2020-02-15T14:32:26.224693Z",
     "start_time": "2020-02-15T14:32:26.221886Z"
    }
   },
   "outputs": [],
   "source": [
    "# fill in your code..."
   ]
  },
  {
   "cell_type": "markdown",
   "metadata": {},
   "source": [
    "### Discuss how did you choose model hyperparameters (e.g. learning rate and regularisation strength)? What is the relation between training epochs and learning rate? How the regularisation strength affects performance?"
   ]
  },
  {
   "cell_type": "markdown",
   "metadata": {
    "ExecuteTime": {
     "end_time": "2020-02-15T14:16:19.856538Z",
     "start_time": "2020-02-15T14:16:19.852547Z"
    }
   },
   "source": [
    "Explain here..."
   ]
  },
  {
   "cell_type": "markdown",
   "metadata": {},
   "source": [
    "### Now evaluate BOW-tfidf..."
   ]
  },
  {
   "cell_type": "markdown",
   "metadata": {
    "ExecuteTime": {
     "end_time": "2020-02-15T14:16:42.567569Z",
     "start_time": "2020-02-15T14:16:42.562560Z"
    }
   },
   "source": [
    "## Full Results\n",
    "\n",
    "Add here your results:\n",
    "\n",
    "| LR | Precision  | Recall  | F1-Score  |\n",
    "|:-:|:-:|:-:|:-:|\n",
    "| BOW-count  |   |   |   |\n",
    "| BOW-tfidf  |   |   |   |\n"
   ]
  },
  {
   "cell_type": "code",
   "execution_count": null,
   "metadata": {},
   "outputs": [],
   "source": []
  }
 ],
 "metadata": {
  "kernelspec": {
   "display_name": "Python 3",
   "language": "python",
   "name": "python3"
  },
  "language_info": {
   "codemirror_mode": {
    "name": "ipython",
    "version": 3
   },
   "file_extension": ".py",
   "mimetype": "text/x-python",
   "name": "python",
   "nbconvert_exporter": "python",
   "pygments_lexer": "ipython3",
   "version": "3.8.1"
  },
  "pycharm": {
   "stem_cell": {
    "cell_type": "raw",
    "metadata": {
     "collapsed": false
    },
    "source": []
   }
  }
 },
 "nbformat": 4,
 "nbformat_minor": 2
}
