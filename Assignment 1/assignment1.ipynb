{
 "cells": [
  {
   "cell_type": "markdown",
   "metadata": {},
   "source": [
    "# [COM4513-6513] Assignment 1: Text Classification with Logistic Regression\n",
    "\n",
    "### Instructor: Nikos Aletras\n",
    "\n",
    "\n",
    "The goal of this assignment is to develop and test two text classification systems:\n",
    "\n",
    "- **Task 1:** sentiment analysis, in particular to predict the sentiment of movie review, i.e. positive or negative (binary classification).\n",
    "- **Task 2:** topic classification, to predict whether a news article is about International issues, Sports or Business (multiclass classification).\n",
    "\n",
    "\n",
    "For that purpose, you will implement:\n",
    "\n",
    "- Text processing methods for extracting Bag-Of-Word features, using (1) unigrams, bigrams and trigrams to obtain vector representations of documents. Two vector weighting schemes should be tested: (1) raw frequencies (**3 marks; 1 for each ngram type**); (2) tf.idf (**1 marks**).\n",
    "- Binary Logistic Regression classifiers that will be able to accurately classify movie reviews trained with (1) BOW-count (raw frequencies); and (2) BOW-tfidf (tf.idf weighted) for Task 1.\n",
    "- Multiclass Logistic Regression classifiers that will be able to accurately classify news articles trained with (1) BOW-count (raw frequencies); and (2) BOW-tfidf (tf.idf weighted) for Task 2.\n",
    "- The Stochastic Gradient Descent (SGD) algorithm to estimate the parameters of your Logistic Regression models. Your SGD algorithm should:\n",
    "    - Minimise the Binary Cross-entropy loss function for Task 1 (**3 marks**)\n",
    "    - Minimise the Categorical Cross-entropy loss function for Task 2 (**3 marks**)\n",
    "    - Use L2 regularisation (both tasks) (**1 mark**)\n",
    "    - Perform multiple passes (epochs) over the training data (**1 mark**)\n",
    "    - Randomise the order of training data after each pass (**1 mark**)\n",
    "    - Stop training if the difference between the current and previous validation loss is smaller than a threshold (**1 mark**)\n",
    "    - After each epoch print the training and development loss (**1 mark**)\n",
    "- Discuss how did you choose hyperparameters (e.g. learning rate and regularisation strength)?  (**2 marks; 0.5 for each model in each task**).\n",
    "- After training the LR models, plot the learning process (i.e. training and validation loss in each epoch) using a line plot (**1 mark; 0.5 for both BOW-count and BOW-tfidf LR models in each task**) and discuss if your model overfits/underfits/is about right.\n",
    "- Model interpretability by showing the most important features for each class (i.e. most positive/negative weights). Give the top 10 for each class and comment on whether they make sense (if they don't you might have a bug!).  If we were to apply the classifier we've learned into a different domain such laptop reviews or restaurant reviews, do you think these features would generalise well? Can you propose what features the classifier could pick up as important in the new domain? (**2 marks; 0.5 for BOW-count and BOW-tfidf LR models respectively in each task**)\n",
    "\n",
    "\n",
    "### Data - Task 1\n",
    "\n",
    "The data you will use for Task 1 are taken from here: [http://www.cs.cornell.edu/people/pabo/movie-review-data/](http://www.cs.cornell.edu/people/pabo/movie-review-data/) and you can find it in the `./data_sentiment` folder in CSV format:\n",
    "\n",
    "- `data_sentiment/train.csv`: contains 1,400 reviews, 700 positive (label: 1) and 700 negative (label: 0) to be used for training.\n",
    "- `data_sentiment/dev.csv`: contains 200 reviews, 100 positive and 100 negative to be used for hyperparameter selection and monitoring the training process.\n",
    "- `data_sentiment/test.csv`: contains 400 reviews, 200 positive and 200 negative to be used for testing.\n",
    "\n",
    "### Data - Task 2\n",
    "\n",
    "The data you will use for Task 2 is a subset of the [AG News Corpus](http://groups.di.unipi.it/~gulli/AG_corpus_of_news_articles.html) and you can find it in the `./data_topic` folder in CSV format:\n",
    "\n",
    "- `data_topic/train.csv`: contains 2,400 news articles, 800 for each class to be used for training.\n",
    "- `data_topic/dev.csv`: contains 150 news articles, 50 for each class to be used for hyperparameter selection and monitoring the training process.\n",
    "- `data_topic/test.csv`: contains 900 news articles, 300 for each class to be used for testing.\n",
    "\n",
    "\n",
    "### Submission Instructions\n",
    "\n",
    "You should submit a Jupyter Notebook file (assignment1.ipynb) and an exported PDF version (you can do it from Jupyter: `File->Download as->PDF via Latex`).\n",
    "\n",
    "You are advised to follow the code structure given in this notebook by completing all given funtions. You can also write any auxilliary/helper functions (and arguments for the functions) that you might need but note that you can provide a full solution without any such functions. Similarly, you can just use only the packages imported below but you are free to use any functionality from the [Python Standard Library](https://docs.python.org/2/library/index.html), NumPy, SciPy and Pandas. You are not allowed to use any third-party library such as Scikit-learn (apart from metric functions already provided), NLTK, Spacy, Keras etc..\n",
    "\n",
    "Please make sure to comment your code. You should also mention if you've used Windows (not recommended) to write and test your code. There is no single correct answer on what your accuracy should be, but correct implementations usually achieve F1-scores around 80\\% or higher. The quality of the analysis of the results is as important as the accuracy itself.\n",
    "\n",
    "This assignment will be marked out of 20. It is worth 20\\% of your final grade in the module.\n",
    "\n",
    "The deadline for this assignment is **23:59 on Fri, 20 Mar 2020** and it needs to be submitted via MOLE. Standard departmental penalties for lateness will be applied. We use a range of strategies to detect [unfair means](https://www.sheffield.ac.uk/ssid/unfair-means/index), including Turnitin which helps detect plagiarism, so make sure you do not plagiarise.\n",
    "\n"
   ]
  },
  {
   "cell_type": "code",
   "execution_count": null,
   "metadata": {},
   "outputs": [],
   "source": [
    "import pandas as pd\n",
    "import numpy as np\n",
    "from collections import Counter\n",
    "import re\n",
    "import matplotlib.pyplot as plt\n",
    "from sklearn.metrics import accuracy_score, precision_score, recall_score, f1_score\n",
    "import random\n",
    "\n",
    "# fixing random seed for reproducibility\n",
    "random.seed(123)\n",
    "np.random.seed(123)"
   ]
  },
  {
   "cell_type": "markdown",
   "metadata": {},
   "source": [
    "## Load Raw texts and labels into arrays\n",
    "\n",
    "First, you need to load the training, development and test sets from their corresponding CSV files (tip: you can use Pandas dataframes)."
   ]
  },
  {
   "cell_type": "code",
   "execution_count": null,
   "metadata": {},
   "outputs": [],
   "source": [
    "sentiment_dev = pd.read_csv('data_sentiment/dev.csv', names=['text', 'label'])\n",
    "sentiment_test = pd.read_csv('data_sentiment/test.csv', names=['text', 'label'])\n",
    "sentiment_train = pd.read_csv('data_sentiment/train.csv', names=['text', 'label'])"
   ]
  },
  {
   "cell_type": "markdown",
   "metadata": {},
   "source": [
    "If you use Pandas you can see a sample of the data."
   ]
  },
  {
   "cell_type": "code",
   "execution_count": null,
   "metadata": {},
   "outputs": [],
   "source": [
    "sentiment_train.head()"
   ]
  },
  {
   "cell_type": "markdown",
   "metadata": {},
   "source": [
    "The next step is to put the raw texts into Python lists and their corresponding labels into NumPy arrays:\n"
   ]
  },
  {
   "cell_type": "code",
   "execution_count": null,
   "metadata": {},
   "outputs": [],
   "source": [
    "sentiment_dev_texts = list(sentiment_dev['text'])\n",
    "sentiment_dev_labels = np.array(sentiment_dev['label'])\n",
    "\n",
    "sentiment_test_texts = list(sentiment_test['text'])\n",
    "sentiment_test_labels = np.array(sentiment_test['label'])\n",
    "\n",
    "sentiment_train_texts = list(sentiment_train['text'])\n",
    "sentiment_train_labels = np.array(sentiment_train['label'])"
   ]
  },
  {
   "cell_type": "markdown",
   "metadata": {},
   "source": [
    "# Bag-of-Words Representation\n",
    "\n",
    "\n",
    "To train and test Logisitc Regression models, you first need to obtain vector representations for all documents given a vocabulary of features (unigrams, bigrams, trigrams).\n",
    "\n",
    "\n",
    "## Text Pre-Processing Pipeline\n",
    "\n",
    "To obtain a vocabulary of features, you should:\n",
    "- tokenise all texts into a list of unigrams (tip: using a regular expression)\n",
    "- remove stop words (using the one provided or one of your preference)\n",
    "- compute bigrams, trigrams given the remaining unigrams\n",
    "- remove ngrams appearing in less than K documents\n",
    "- use the remaining to create a vocabulary of unigrams, bigrams and trigrams (you can keep top N if you encounter memory issues).\n"
   ]
  },
  {
   "cell_type": "code",
   "execution_count": null,
   "metadata": {},
   "outputs": [],
   "source": [
    "default_stop_words = {\n",
    "    'a', 'ad', 'after', 'again', 'all', 'also', 'am', 'an', 'and', 'any',\n",
    "    'are', 'as', 'at', 'be', 'been', 'being', 'between', 'both', 'but', 'by',\n",
    "    'can', 'could', 'ed', 'eg', 'either', 'etc', 'even', 'ever', 'for', 'from',\n",
    "    'had', 'has', 'have', 'he', 'her', 'hers', 'herself', 'him', 'himself',\n",
    "    'his', 'i', 'ie', 'if', 'iii', 'in', 'inc', 'is', 'it', 'its', 'itself',\n",
    "    'li', 'll', 'ltd', 'may', 'maybe', 'me', 'might', 'mine', 'minute',\n",
    "    'minutes', 'must', 'my', 'myself', 'neither', 'nor', 'now', 'of', 'on',\n",
    "    'only', 'or', 'other', 'our', 'ours', 'ourselves', 'own', 'same', 'seem',\n",
    "    'seemed', 'shall', 'she', 'some', 'somehow', 'something', 'sometimes',\n",
    "    'somewhat', 'somewhere', 'spoiler', 'spoilers', 'such', 'suppose', 'that',\n",
    "    'the', 'their', 'theirs', 'them', 'themselves', 'there', 'these', 'they',\n",
    "    'this', 'those', 'thus', 'to', 'today', 'tomorrow', 've', 'vs', 'was',\n",
    "    'we', 'were', 'what', 'whatever', 'when', 'where', 'which', 'who', 'whom',\n",
    "    'whose', 'will', 'with', 'yesterday', 'you', 'your', 'yours', 'yourself',\n",
    "    'yourselves', 'into', 'does', 'because', 'us', 'each', 'every'\n",
    "}"
   ]
  },
  {
   "cell_type": "markdown",
   "metadata": {},
   "source": [
    "### N-gram extraction from a document\n",
    "\n",
    "You first need to implement the `extract_ngrams` function. It takes as input:\n",
    "- `x_raw`: a string corresponding to the raw text of a document\n",
    "- `ngram_range`: a tuple of two integers denoting the type of ngrams you want to extract, e.g. (1,2) denotes extracting unigrams and bigrams.\n",
    "- `token_pattern`: a string to be used within a regular expression to extract all tokens. Note that data is already tokenised so you could opt for a simple white space tokenisation.\n",
    "- `stop_words`: a list of stop words\n",
    "- `vocab`: a given vocabulary. It should be used to extract specific features.\n",
    "\n",
    "and returns:\n",
    "\n",
    "- a list of all extracted features.\n",
    "\n",
    "See the examples below to see how this function should work."
   ]
  },
  {
   "cell_type": "code",
   "execution_count": null,
   "metadata": {},
   "outputs": [],
   "source": [
    "def extract_ngrams(x_raw,\n",
    "                   ngram_range=(1, 3),\n",
    "                   token_pattern=r'\\b[A-Za-z]{2,}\\b',\n",
    "                   stop_words=default_stop_words,\n",
    "                   vocab=None):\n",
    "\n",
    "    tokens = [\n",
    "        word.lower() for word in re.findall(token_pattern, x_raw)\n",
    "        if word.lower() not in stop_words\n",
    "    ]\n",
    "\n",
    "    ngrams = []\n",
    "\n",
    "    for n in range(ngram_range[0], ngram_range[1] + 1):\n",
    "        if n == 1:\n",
    "            # Create unigram by concatenating list\n",
    "            ngrams += tokens\n",
    "        else:\n",
    "            # Create bigram / trigram by unzipping list\n",
    "            ngrams += zip(*(tokens[i:] for i in range(n)))\n",
    "\n",
    "    return [ngram for ngram in ngrams if ngram in vocab] if vocab else ngrams"
   ]
  },
  {
   "cell_type": "code",
   "execution_count": null,
   "metadata": {},
   "outputs": [],
   "source": [
    "extract_ngrams('this is a great movie to watch')"
   ]
  },
  {
   "cell_type": "code",
   "execution_count": null,
   "metadata": {},
   "outputs": [],
   "source": [
    "extract_ngrams('this is a great movie to watch',\n",
    "               ngram_range=(1, 2),\n",
    "               vocab={'great', ('great', 'movie')})"
   ]
  },
  {
   "cell_type": "markdown",
   "metadata": {},
   "source": [
    "Note that it is OK to represent n-grams using lists instead of tuples: e.g. `['great', ['great', 'movie']]`"
   ]
  },
  {
   "cell_type": "markdown",
   "metadata": {},
   "source": [
    "### Create a vocabulary of n-grams\n",
    "\n",
    "Then the `get_vocab` function will be used to (1) create a vocabulary of ngrams; (2) count the document frequencies of ngrams; (3) their raw frequency. It takes as input:\n",
    "- `X_raw`: a list of strings each corresponding to the raw text of a document\n",
    "- `ngram_range`: a tuple of two integers denoting the type of ngrams you want to extract, e.g. (1,2) denotes extracting unigrams and bigrams.\n",
    "- `token_pattern`: a string to be used within a regular expression to extract all tokens. Note that data is already tokenised so you could opt for a simple white space tokenisation.\n",
    "- `stop_words`: a list of stop words\n",
    "- `min_df`: keep ngrams with a minimum document frequency.\n",
    "- `keep_topN`: keep top-N more frequent ngrams.\n",
    "\n",
    "and returns:\n",
    "\n",
    "- `vocab`: a set of the n-grams that will be used as features.\n",
    "- `df`: a Counter (or dict) that contains ngrams as keys and their corresponding document frequency as values.\n",
    "- `ngram_counts`: counts of each ngram in vocab\n",
    "\n",
    "Hint: it should make use of the `extract_ngrams` function."
   ]
  },
  {
   "cell_type": "code",
   "execution_count": null,
   "metadata": {},
   "outputs": [],
   "source": [
    "def get_vocab(X_raw,\n",
    "              ngram_range=(1, 3),\n",
    "              token_pattern=r'\\b[A-Za-z]{2,}\\b',\n",
    "              min_df=1,\n",
    "              keep_topN=None,\n",
    "              stop_words=default_stop_words):\n",
    "\n",
    "    df = Counter()\n",
    "    ngram_counts = Counter()\n",
    "\n",
    "    # A list containing each document's ngrams as sublist, e.g. [ [ngram, ngram, ...], ..., ]\n",
    "    ngram_lists = (extract_ngrams(text, ngram_range, token_pattern, stop_words) for text in X_raw)\n",
    "\n",
    "    for ngram_list in ngram_lists:\n",
    "        # Count document frequency\n",
    "        df.update(set(ngram_list))\n",
    "\n",
    "        # Count ngram frequency\n",
    "        ngram_counts.update(ngram for ngram in ngram_list if df[ngram] >= min_df)\n",
    "\n",
    "    # Extract ngram into vocab set\n",
    "    vocab = {ngram for ngram, _ in ngram_counts.most_common(keep_topN)}\n",
    "\n",
    "    return vocab, df, ngram_counts"
   ]
  },
  {
   "cell_type": "markdown",
   "metadata": {},
   "source": [
    "Now you should use `get_vocab` to create your vocabulary and get document and raw frequencies of n-grams:"
   ]
  },
  {
   "cell_type": "code",
   "execution_count": null,
   "metadata": {
    "ExecuteTime": {
     "end_time": "2020-02-15T14:17:39.319793Z",
     "start_time": "2020-02-15T14:17:36.836545Z"
    },
    "scrolled": true
   },
   "outputs": [],
   "source": [
    "vocab, df, _ = get_vocab(sentiment_train_texts, keep_topN=5000)\n",
    "print(len(vocab))\n",
    "print()\n",
    "print(list(vocab)[:100])\n",
    "print()\n",
    "print(df.most_common()[:10])"
   ]
  },
  {
   "cell_type": "markdown",
   "metadata": {},
   "source": [
    "Then, you need to create vocabulary id -> word and word -> id dictionaries for reference:"
   ]
  },
  {
   "cell_type": "code",
   "execution_count": null,
   "metadata": {
    "ExecuteTime": {
     "end_time": "2020-02-15T14:17:39.326811Z",
     "start_time": "2020-02-15T14:17:39.322256Z"
    }
   },
   "outputs": [],
   "source": [
    "vocab_id_to_word = dict(enumerate(vocab))\n",
    "\n",
    "word_to_vocab_id = {v: k for k, v in vocab_id_to_word.items()}"
   ]
  },
  {
   "cell_type": "markdown",
   "metadata": {},
   "source": [
    "Now you should be able to extract n-grams for each text in the training, development and test sets:"
   ]
  },
  {
   "cell_type": "code",
   "execution_count": null,
   "metadata": {
    "ExecuteTime": {
     "end_time": "2020-02-15T14:17:40.213253Z",
     "start_time": "2020-02-15T14:17:39.329147Z"
    }
   },
   "outputs": [],
   "source": [
    "sentiment_train_texts_ngrams = (extract_ngrams(text, vocab=vocab)\n",
    "                                for text in sentiment_train_texts)\n",
    "\n",
    "sentiment_dev_texts_ngrams = (extract_ngrams(text, vocab=vocab)\n",
    "                              for text in sentiment_dev_texts)\n",
    "\n",
    "sentiment_test_texts_ngrams = (extract_ngrams(text, vocab=vocab)\n",
    "                               for text in sentiment_test_texts)"
   ]
  },
  {
   "cell_type": "markdown",
   "metadata": {},
   "source": [
    "## Vectorise documents"
   ]
  },
  {
   "cell_type": "markdown",
   "metadata": {},
   "source": [
    "Next, write a function `vectoriser` to obtain Bag-of-ngram representations for a list of documents. The function should take as input:\n",
    "- `X_ngram`: a list of texts (documents), where each text is represented as list of n-grams in the `vocab`\n",
    "- `vocab`: a set of n-grams to be used for representing the documents\n",
    "\n",
    "and return:\n",
    "- `X_vec`: an array with dimensionality Nx|vocab| where N is the number of documents and |vocab| is the size of the vocabulary. Each element of the array should represent the frequency of a given n-gram in a document.\n"
   ]
  },
  {
   "cell_type": "code",
   "execution_count": null,
   "metadata": {
    "ExecuteTime": {
     "end_time": "2020-02-15T14:17:40.219201Z",
     "start_time": "2020-02-15T14:17:40.215129Z"
    }
   },
   "outputs": [],
   "source": [
    "def vectorise(X_ngram, vocab):\n",
    "    X_vec = []\n",
    "\n",
    "    for ngram_list in X_ngram:\n",
    "        counter = Counter(ngram_list)\n",
    "        X_vec.append([counter[v] for v in vocab])\n",
    "\n",
    "    return np.array(X_vec)"
   ]
  },
  {
   "cell_type": "markdown",
   "metadata": {},
   "source": [
    "Finally, use `vectorise` to obtain document vectors for each document in the train, development and test set. You should extract both count and tf.idf vectors respectively:"
   ]
  },
  {
   "cell_type": "markdown",
   "metadata": {},
   "source": [
    "#### Count vectors"
   ]
  },
  {
   "cell_type": "code",
   "execution_count": null,
   "metadata": {
    "ExecuteTime": {
     "end_time": "2020-02-15T14:17:41.999574Z",
     "start_time": "2020-02-15T14:17:40.376534Z"
    }
   },
   "outputs": [],
   "source": [
    "sentiment_train_count = vectorise(sentiment_train_texts_ngrams, vocab)\n",
    "\n",
    "sentiment_dev_count = vectorise(sentiment_dev_texts_ngrams, vocab)\n",
    "\n",
    "sentiment_test_count = vectorise(sentiment_test_texts_ngrams, vocab)"
   ]
  },
  {
   "cell_type": "code",
   "execution_count": null,
   "metadata": {
    "ExecuteTime": {
     "end_time": "2020-02-15T14:17:42.004808Z",
     "start_time": "2020-02-15T14:17:42.001555Z"
    }
   },
   "outputs": [],
   "source": [
    "sentiment_train_count.shape"
   ]
  },
  {
   "cell_type": "code",
   "execution_count": null,
   "metadata": {
    "ExecuteTime": {
     "end_time": "2020-02-15T14:17:42.010525Z",
     "start_time": "2020-02-15T14:17:42.006309Z"
    }
   },
   "outputs": [],
   "source": [
    "sentiment_train_count[:2,:50]"
   ]
  },
  {
   "cell_type": "markdown",
   "metadata": {},
   "source": [
    "#### TF.IDF vectors\n",
    "\n",
    "First compute `idfs` an array containing inverted document frequencies (Note: its elements should correspond to your `vocab`)"
   ]
  },
  {
   "cell_type": "code",
   "execution_count": null,
   "metadata": {
    "ExecuteTime": {
     "end_time": "2020-02-15T14:17:42.022692Z",
     "start_time": "2020-02-15T14:17:42.012315Z"
    }
   },
   "outputs": [],
   "source": [
    "total_sentiment_train_docs = len(sentiment_train_texts)\n",
    "total_sentiment_dev_docs = len(sentiment_dev_texts)\n",
    "total_sentiment_test_docs = len(sentiment_test_texts)\n",
    "\n",
    "_, sentiment_dev_df, _ = get_vocab(sentiment_dev_texts, keep_topN=5000)\n",
    "\n",
    "_, sentiment_test_df, _ = get_vocab(sentiment_test_texts, keep_topN=5000)\n",
    "\n",
    "sentiment_train_idf = np.array([\n",
    "    np.log10(total_sentiment_train_docs / df[v]) for v in vocab]\n",
    ")\n",
    "\n",
    "sentiment_dev_idf = np.array([\n",
    "    np.log10(total_sentiment_dev_docs / sentiment_dev_df[v])\n",
    "    if sentiment_dev_df[v] else 0 for v in vocab\n",
    "])\n",
    "\n",
    "sentiment_test_idf = np.array([\n",
    "    np.log10(total_sentiment_test_docs / sentiment_test_df[v])\n",
    "    if sentiment_test_df[v] else 0 for v in vocab\n",
    "])"
   ]
  },
  {
   "cell_type": "markdown",
   "metadata": {},
   "source": [
    "Then transform your count vectors to tf.idf vectors:"
   ]
  },
  {
   "cell_type": "code",
   "execution_count": null,
   "metadata": {
    "ExecuteTime": {
     "end_time": "2020-02-15T14:17:42.802265Z",
     "start_time": "2020-02-15T14:17:42.752448Z"
    }
   },
   "outputs": [],
   "source": [
    "# Use the \"log scaled\" variant of term frequency (tf) for better results\n",
    "sentiment_train_tfidf = np.log10(1 + sentiment_train_count) * sentiment_train_idf\n",
    "\n",
    "sentiment_dev_tfidf = np.log10(1 + sentiment_dev_count) * sentiment_dev_idf\n",
    "\n",
    "sentiment_test_tfidf = np.log10(1 + sentiment_test_count) * sentiment_test_idf"
   ]
  },
  {
   "cell_type": "code",
   "execution_count": null,
   "metadata": {
    "ExecuteTime": {
     "end_time": "2020-02-15T14:17:43.211619Z",
     "start_time": "2020-02-15T14:17:43.207266Z"
    }
   },
   "outputs": [],
   "source": [
    "sentiment_train_tfidf[1, :50]"
   ]
  },
  {
   "cell_type": "markdown",
   "metadata": {},
   "source": [
    "# Binary Logistic Regression\n",
    "\n",
    "After obtaining vector representations of the data, now you are ready to implement Binary Logistic Regression for classifying sentiment."
   ]
  },
  {
   "cell_type": "markdown",
   "metadata": {},
   "source": [
    "First, you need to implement the `sigmoid` function. It takes as input:\n",
    "\n",
    "- `z`: a real number or an array of real numbers\n",
    "\n",
    "and returns:\n",
    "\n",
    "- `sig`: the sigmoid of `z`"
   ]
  },
  {
   "cell_type": "code",
   "execution_count": null,
   "metadata": {
    "ExecuteTime": {
     "end_time": "2020-02-15T14:17:44.160661Z",
     "start_time": "2020-02-15T14:17:44.157902Z"
    }
   },
   "outputs": [],
   "source": [
    "def sigmoid(z):\n",
    "    return 1 / (1 + np.exp(-z))"
   ]
  },
  {
   "cell_type": "code",
   "execution_count": null,
   "metadata": {
    "ExecuteTime": {
     "end_time": "2020-02-15T14:17:44.351292Z",
     "start_time": "2020-02-15T14:17:44.346822Z"
    }
   },
   "outputs": [],
   "source": [
    "print(sigmoid(0))\n",
    "print(sigmoid(np.array([-5., 1.2])))"
   ]
  },
  {
   "cell_type": "markdown",
   "metadata": {},
   "source": [
    "Then, implement the `predict_proba` function to obtain prediction probabilities. It takes as input:\n",
    "\n",
    "- `X`: an array of inputs, i.e. documents represented by bag-of-ngram vectors ($N \\times |vocab|$)\n",
    "- `weights`: a 1-D array of the model's weights $(1, |vocab|)$\n",
    "\n",
    "and returns:\n",
    "\n",
    "- `preds_proba`: the prediction probabilities of X given the weights"
   ]
  },
  {
   "cell_type": "code",
   "execution_count": null,
   "metadata": {
    "ExecuteTime": {
     "end_time": "2020-02-15T14:17:44.718566Z",
     "start_time": "2020-02-15T14:17:44.715017Z"
    }
   },
   "outputs": [],
   "source": [
    "def predict_proba(X, weights):\n",
    "    z = X.dot(weights)\n",
    "\n",
    "    return sigmoid(z)"
   ]
  },
  {
   "cell_type": "markdown",
   "metadata": {},
   "source": [
    "Then, implement the `predict_class` function to obtain the most probable class for each vector in an array of input vectors. It takes as input:\n",
    "\n",
    "- `X`: an array of documents represented by bag-of-ngram vectors ($N \\times |vocab|$)\n",
    "- `weights`: a 1-D array of the model's weights $(1, |vocab|)$\n",
    "\n",
    "and returns:\n",
    "\n",
    "- `preds_class`: the predicted class for each x in X given the weights"
   ]
  },
  {
   "cell_type": "code",
   "execution_count": null,
   "metadata": {
    "ExecuteTime": {
     "end_time": "2020-02-15T14:17:45.002125Z",
     "start_time": "2020-02-15T14:17:44.998668Z"
    }
   },
   "outputs": [],
   "source": [
    "def predict_class(X, weights):\n",
    "    return [0 if prob < 0.5 else 1 for prob in predict_proba(X, weights)]"
   ]
  },
  {
   "cell_type": "markdown",
   "metadata": {},
   "source": [
    "To learn the weights from data, we need to minimise the binary cross-entropy loss. Implement `binary_loss` that takes as input:\n",
    "\n",
    "- `X`: input vectors\n",
    "- `Y`: labels\n",
    "- `weights`: model weights\n",
    "- `alpha`: regularisation strength\n",
    "\n",
    "and return:\n",
    "\n",
    "- `l`: the loss score"
   ]
  },
  {
   "cell_type": "code",
   "execution_count": null,
   "metadata": {
    "ExecuteTime": {
     "end_time": "2020-02-15T14:17:45.455533Z",
     "start_time": "2020-02-15T14:17:45.451475Z"
    }
   },
   "outputs": [],
   "source": [
    "def binary_loss(X, Y, weights, alpha=0.00001):\n",
    "    predicted_probabilities = predict_proba(X, weights)\n",
    "\n",
    "    l = -Y * np.log(predicted_probabilities) - (1 - Y) * np.log(1 - predicted_probabilities)\n",
    "\n",
    "    # L2 Regularisation\n",
    "    l += alpha * weights.dot(weights)\n",
    "\n",
    "    # Return the average loss\n",
    "    return np.mean(l)"
   ]
  },
  {
   "cell_type": "markdown",
   "metadata": {},
   "source": [
    "Now, you can implement Stochastic Gradient Descent to learn the weights of your sentiment classifier. The `SGD` function takes as input:\n",
    "\n",
    "- `X_tr`: array of training data (vectors)\n",
    "- `Y_tr`: labels of `X_tr`\n",
    "- `X_dev`: array of development (i.e. validation) data (vectors)\n",
    "- `Y_dev`: labels of `X_dev`\n",
    "- `lr`: learning rate\n",
    "- `alpha`: regularisation strength\n",
    "- `epochs`: number of full passes over the training data\n",
    "- `tolerance`: stop training if the difference between the current and previous validation loss is smaller than a threshold\n",
    "- `print_progress`: flag for printing the training progress (train/validation loss)\n",
    "\n",
    "\n",
    "and returns:\n",
    "\n",
    "- `weights`: the weights learned\n",
    "- `training_loss_history`: an array with the average losses of the whole training set after each epoch\n",
    "- `validation_loss_history`: an array with the average losses of the whole development set after each epoch"
   ]
  },
  {
   "cell_type": "code",
   "execution_count": null,
   "metadata": {
    "ExecuteTime": {
     "end_time": "2020-02-15T14:17:45.968510Z",
     "start_time": "2020-02-15T14:17:45.958185Z"
    }
   },
   "outputs": [],
   "source": [
    "def SGD(X_tr, Y_tr, X_dev, Y_dev, lr=0.1, alpha=0.00001, epochs=5, tolerance=0.0001, print_progress=True):\n",
    "    # fixing random seed for reproducibility\n",
    "    random.seed(123)\n",
    "    np.random.seed(123)\n",
    "    training_loss_history = []\n",
    "    validation_loss_history = []\n",
    "    \n",
    "    # Initialise weight to zero\n",
    "    weights = np.zeros(X_tr.shape[1])\n",
    "\n",
    "    # Create training tuples\n",
    "    train_docs = list(zip(X_tr, Y_tr))\n",
    "\n",
    "    for epoch in range(epochs):\n",
    "        # Randomise order in train_docs\n",
    "        np.random.shuffle(train_docs)\n",
    "\n",
    "        for x_i, y_i in train_docs:\n",
    "            weights -= lr * (x_i * (predict_proba(x_i, weights) - y_i) + 2 * alpha * weights)\n",
    "\n",
    "        # Monitor training and validation loss\n",
    "        cur_loss_tr = binary_loss(X_tr, Y_tr, weights, alpha)\n",
    "        cur_loss_dev = binary_loss(X_dev, Y_dev, weights, alpha)\n",
    "\n",
    "        # Early stopping\n",
    "        if epoch > 0 and validation_loss_history[-1] - cur_loss_dev < tolerance:\n",
    "            break\n",
    "        else:\n",
    "            training_loss_history.append(cur_loss_tr)\n",
    "            validation_loss_history.append(cur_loss_dev)\n",
    "\n",
    "        if print_progress:\n",
    "            print(f'Epoch: {epoch} | Training loss: {cur_loss_tr} | Validation loss: {cur_loss_dev}')\n",
    "            \n",
    "    return weights, training_loss_history, validation_loss_history"
   ]
  },
  {
   "cell_type": "markdown",
   "metadata": {},
   "source": [
    "## Train and Evaluate Binary Logistic Regression with Count Vectors\n",
    "\n",
    "First train the model using SGD:"
   ]
  },
  {
   "cell_type": "code",
   "execution_count": null,
   "metadata": {
    "ExecuteTime": {
     "end_time": "2020-02-15T14:17:51.480197Z",
     "start_time": "2020-02-15T14:17:46.362729Z"
    },
    "scrolled": true
   },
   "outputs": [],
   "source": [
    "w_count, tr_loss_count, dev_loss_count = SGD(X_tr=sentiment_train_count,\n",
    "                                             Y_tr=sentiment_train_labels,\n",
    "                                             X_dev=sentiment_dev_count,\n",
    "                                             Y_dev=sentiment_dev_labels,\n",
    "                                             lr=0.0001018,\n",
    "                                             alpha=0.001,\n",
    "                                             epochs=100)"
   ]
  },
  {
   "cell_type": "markdown",
   "metadata": {},
   "source": [
    "Now plot the training and validation history per epoch. Does your model underfit, overfit or is it about right? Explain why."
   ]
  },
  {
   "cell_type": "code",
   "execution_count": null,
   "metadata": {
    "ExecuteTime": {
     "end_time": "2020-02-15T14:17:51.598911Z",
     "start_time": "2020-02-15T14:17:51.482307Z"
    },
    "scrolled": false
   },
   "outputs": [],
   "source": [
    "plt.plot(tr_loss_count, label='Training loss')\n",
    "plt.plot(dev_loss_count, label='Validation loss')\n",
    "\n",
    "plt.xlabel('Epochs')\n",
    "plt.ylabel('Loss')\n",
    "\n",
    "plt.title('Training Monitoring (Count)')\n",
    "\n",
    "plt.legend()\n",
    "\n",
    "plt.show()"
   ]
  },
  {
   "cell_type": "markdown",
   "metadata": {
    "ExecuteTime": {
     "end_time": "2020-01-21T16:52:26.583150Z",
     "start_time": "2020-01-21T16:52:26.578754Z"
    }
   },
   "source": [
    "About right. Early stopping is used with regularisation to avoid overfitting during the training process."
   ]
  },
  {
   "cell_type": "markdown",
   "metadata": {},
   "source": [
    "Compute accuracy, precision, recall and F1-scores:"
   ]
  },
  {
   "cell_type": "code",
   "execution_count": null,
   "metadata": {
    "ExecuteTime": {
     "end_time": "2020-02-15T14:37:40.569499Z",
     "start_time": "2020-02-15T14:37:40.566796Z"
    },
    "scrolled": true
   },
   "outputs": [],
   "source": [
    "args = sentiment_test_labels, predict_class(sentiment_test_count, w_count)\n",
    "\n",
    "print('Accuracy:', accuracy_score(*args))\n",
    "print('Precision:', precision_score(*args))\n",
    "print('Recall:', recall_score(*args))\n",
    "print('F1-Score:', f1_score(*args))"
   ]
  },
  {
   "cell_type": "markdown",
   "metadata": {
    "ExecuteTime": {
     "end_time": "2020-02-15T14:37:07.638179Z",
     "start_time": "2020-02-15T14:37:07.635838Z"
    }
   },
   "source": [
    "Finally, print the top-10 words for the negative and positive class respectively."
   ]
  },
  {
   "cell_type": "code",
   "execution_count": null,
   "metadata": {
    "ExecuteTime": {
     "end_time": "2020-02-15T14:37:08.381103Z",
     "start_time": "2020-02-15T14:37:08.378641Z"
    },
    "scrolled": true
   },
   "outputs": [],
   "source": [
    "top10_positive_ids = (-w_count).argsort()[:10]\n",
    "top10_negative_ids = w_count.argsort()[:10]\n",
    "\n",
    "print(\n",
    "    f'Top 10 positive: {[vocab_id_to_word[id] for id in top10_positive_ids]} \\n'\n",
    ")\n",
    "print(\n",
    "    f'Top 10 negative: {[vocab_id_to_word[id] for id in top10_negative_ids]}'\n",
    ")"
   ]
  },
  {
   "cell_type": "markdown",
   "metadata": {},
   "source": [
    "If we were to apply the classifier we've learned into a different domain such laptop reviews or restaurant reviews, do you think these features would generalise well? Can you propose what features the classifier could pick up as important in the new domain?"
   ]
  },
  {
   "cell_type": "markdown",
   "metadata": {},
   "source": [
    "Provide your answer here..."
   ]
  },
  {
   "cell_type": "markdown",
   "metadata": {},
   "source": [
    "## Train and Evaluate Binary Logistic Regression with TF.IDF Vectors\n",
    "\n",
    "Follow the same steps as above (i.e. evaluating count n-gram representations).\n"
   ]
  },
  {
   "cell_type": "code",
   "execution_count": null,
   "metadata": {
    "ExecuteTime": {
     "end_time": "2020-02-15T14:17:54.414637Z",
     "start_time": "2020-02-15T14:17:51.625934Z"
    },
    "scrolled": true
   },
   "outputs": [],
   "source": [
    "w_tfidf, tr_loss_tfidf, dev_loss_tfidf = SGD(X_tr=sentiment_train_tfidf,\n",
    "                                             Y_tr=sentiment_train_labels,\n",
    "                                             X_dev=sentiment_dev_tfidf,\n",
    "                                             Y_dev=sentiment_dev_labels,\n",
    "                                             lr=0.003085,\n",
    "                                             alpha=0.00001,\n",
    "                                             epochs=50)"
   ]
  },
  {
   "cell_type": "markdown",
   "metadata": {},
   "source": [
    "Now plot the training and validation history per epoch. Does your model underfit, overfit or is it about right? Explain why."
   ]
  },
  {
   "cell_type": "code",
   "execution_count": null,
   "metadata": {
    "ExecuteTime": {
     "end_time": "2020-02-15T14:17:54.517668Z",
     "start_time": "2020-02-15T14:17:54.417118Z"
    },
    "scrolled": false
   },
   "outputs": [],
   "source": [
    "plt.plot(tr_loss_tfidf, label='Training loss')\n",
    "plt.plot(dev_loss_tfidf, label='Validation loss')\n",
    "\n",
    "plt.xlabel('Epochs')\n",
    "plt.ylabel('Loss')\n",
    "\n",
    "plt.title('Training Monitoring (TFIDF)')\n",
    "\n",
    "plt.legend()\n",
    "\n",
    "plt.show()"
   ]
  },
  {
   "cell_type": "markdown",
   "metadata": {},
   "source": [
    "explain here.."
   ]
  },
  {
   "cell_type": "markdown",
   "metadata": {},
   "source": [
    "Compute accuracy, precision, recall and F1-scores:"
   ]
  },
  {
   "cell_type": "code",
   "execution_count": null,
   "metadata": {
    "ExecuteTime": {
     "end_time": "2020-02-15T14:37:56.489814Z",
     "start_time": "2020-02-15T14:37:56.487014Z"
    },
    "scrolled": true
   },
   "outputs": [],
   "source": [
    "args = sentiment_test_labels, predict_class(sentiment_test_tfidf, w_tfidf)\n",
    "\n",
    "print('Accuracy:', accuracy_score(*args))\n",
    "print('Precision:', precision_score(*args))\n",
    "print('Recall:', recall_score(*args))\n",
    "print('F1-Score:', f1_score(*args))"
   ]
  },
  {
   "cell_type": "markdown",
   "metadata": {},
   "source": [
    "Print top-10 most positive and negative words:"
   ]
  },
  {
   "cell_type": "code",
   "execution_count": null,
   "metadata": {
    "ExecuteTime": {
     "end_time": "2020-02-15T14:38:17.845485Z",
     "start_time": "2020-02-15T14:38:17.842557Z"
    },
    "scrolled": false
   },
   "outputs": [],
   "source": [
    "top10_positive_ids = (-w_tfidf).argsort()[:10]\n",
    "top10_negative_ids = w_tfidf.argsort()[:10]\n",
    "\n",
    "print(\n",
    "    f'Top 10 positive: {[vocab_id_to_word[id] for id in top10_positive_ids]} \\n'\n",
    ")\n",
    "print(\n",
    "    f'Top 10 negative: {[vocab_id_to_word[id] for id in top10_negative_ids]}'\n",
    ")"
   ]
  },
  {
   "cell_type": "markdown",
   "metadata": {},
   "source": [
    "### Discuss how did you choose model hyperparameters (e.g. learning rate and regularisation strength)? What is the relation between training epochs and learning rate? How the regularisation strength affects performance?"
   ]
  },
  {
   "cell_type": "markdown",
   "metadata": {},
   "source": [
    "### Count Vectors\n",
    "#### Controlled variable: alpha = 0.001\n",
    "| Trial | Learning rate | Epoch | Training loss | Validation loss | Precision | Recall | F1-Score |\n",
    "|-------|---------------|-------|---------------|-----------------|-----------|--------|----------|\n",
    "| 0     | 0.0001        | 70    | 0.2088        | 0.4135          | 0.8536    | 0.875  | 0.8641   |\n",
    "| 1     | 0.00011       | 70    | 0.1989        | 0.4110          | 0.8522    | 0.865  | 0.8585   |\n",
    "| 2     | 0.000105      | 70    | 0.2047        | 0.4124          | 0.8487    | 0.87   | 0.8592   |\n",
    "| 3     | 0.0001025     | 70    | 0.2062        | 0.4128          | 0.8487    | 0.87   | 0.8592   |\n",
    "| 4     | 0.000102      | 70    | 0.2067        | 0.4129          | 0.8529    | 0.87   | 0.8613   |\n",
    "| 5     | 0.0001015     | 70    | 0.2073        | 0.4131          | 0.8536    | 0.875  | 0.8641   |\n",
    "| 6     | 0.0001017     | 70    | 0.2070        | 0.4130          | 0.85368   | 0.875  | 0.8641   |\n",
    "| 7     | 0.0001018     | 70    | 0.2069        | 0.4130          | 0.8536    | 0.875  | 0.8641   |\n",
    "| 8     | 0.0001019     | 70    | 0.2068        | 0.4130          | 0.8529    | 0.87   | 0.8613   |\n",
    "\n",
    "#### Controlled variable: Learning rate = 0.0001018\n",
    "| Trial | Alpha  | Epoch | Training loss | Validation loss | Precision | Recall | F1-Score |\n",
    "|-------|--------|-------|---------------|-----------------|-----------|--------|----------|\n",
    "| 0     | 0.001  | 70    | 0.2068        | 0.4130          | 0.8536    | 0.875  | 0.8641   |\n",
    "| 1     | 0.002  | 70    | 0.2120        | 0.4168          | 0.8536    | 0.875  | 0.8641   |\n",
    "| 2     | 0.0005 | 70    | 0.2044        | 0.4110          | 0.8529    | 0.87   | 0.8613   |\n",
    "| 3     | 0.0007 | 70    | 0.2054        | 0.4118          | 0.8529    | 0.87   | 0.8613   |\n",
    "| 4     | 0.0008 | 70    | 0.2059        | 0.4122          | 0.8529    | 0.87   | 0.8613   |\n",
    "| 5     | 0.0009 | 70    | 0.2064        | 0.4126          | 0.8529    | 0.87   | 0.8613   |\n",
    "\n",
    "### TF.IDF Vectors\n",
    "#### Controlled variable: alpha = 0.00001\n",
    "| Trial | Learning rate | Epoch | Training loss | Validation loss | Precision | Recall | F1-Score |\n",
    "|-------|---------------|-------|---------------|-----------------|-----------|--------|----------|\n",
    "| 0     | 0.001         | 49    | 0.2678        | 0.4582          | 0.8669    | 0.88   | 0.8734   |\n",
    "| 1     | 0.002         | 49    | 0.1759        | 0.4117          | 0.8923    | 0.87   | 0.8810   |\n",
    "| 2     | 0.003         | 49    | 0.1318        | 0.3917          | 0.9025    | 0.88   | 0.8911   |\n",
    "| 3     | 0.004         | 49    | 0.1057        | 0.3812          | 0.8883    | 0.875  | 0.8816   |\n",
    "| 4     | 0.0035        | 49    | 0.1173        | 0.3856          | 0.8883    | 0.875  | 0.8816   |\n",
    "| 5     | 0.0031        | 49    | 0.1286        | 0.3903          | 0.8979    | 0.88   | 0.8888   |\n",
    "| 6     | 0.00305       | 49    | 0.1302        | 0.3910          | 0.8979    | 0.88   | 0.8888   |\n",
    "| 7     | 0.003075      | 49    | 0.1294        | 0.3906          | 0.9025    | 0.88   | 0.8911   |\n",
    "| 8     | 0.003085      | 49    | 0.1291        | 0.3905          | 0.9025    | 0.88   | 0.8911   |\n",
    "| 9     | 0.00309       | 49    | 0.1289        | 0.3904          | 0.8979    | 0.88   | 0.8888   |\n",
    "\n",
    "#### Controlled variable: Learning rate = 0.003085\n",
    "| Trial | Alpha    | Epoch | Training loss | Validation loss | Precision | Recall | F1-Score |\n",
    "|-------|----------|-------|---------------|-----------------|-----------|--------|----------|\n",
    "| 0     | 0.00001  | 49    | 0.1291        | 0.3905          | 0.9025    | 0.88   | 0.8911   |\n",
    "| 1     | 0.0001   | 49    | 0.1400        | 0.3998          | 0.9025    | 0.88   | 0.8911   |\n",
    "| 2     | 0.000001 | 49    | 0.1280        | 0.3895          | 0.9025    | 0.88   | 0.8911   |\n",
    "\n",
    "generalizability of the learned model. Huge gap between training loss and validation loss is a sign of overfitting"
   ]
  },
  {
   "cell_type": "markdown",
   "metadata": {},
   "source": [
    "## Full Results\n",
    "\n",
    "Add here your results:\n",
    "\n",
    "| LR | Precision  | Recall  | F1-Score  |\n",
    "|:-:|:-:|:-:|:-:|\n",
    "| BOW-count  | 0.8536585365853658 | 0.875 | 0.8641975308641976 |\n",
    "| BOW-tfidf  | 0.9025641025641026 | 0.88 | 0.8911392405063291 |\n"
   ]
  },
  {
   "cell_type": "markdown",
   "metadata": {},
   "source": [
    "# Multi-class Logistic Regression\n",
    "\n",
    "Now you need to train a Multiclass Logistic Regression (MLR) Classifier by extending the Binary model you developed above. You will use the MLR model to perform topic classification on the AG news dataset consisting of three classes:"
   ]
  },
  {
   "cell_type": "markdown",
   "metadata": {},
   "source": [
    "- Class 1: World\n",
    "- Class 2: Sports\n",
    "- Class 3: Business"
   ]
  },
  {
   "cell_type": "markdown",
   "metadata": {},
   "source": [
    "You need to follow the same process as in Task 1 for data processing and feature extraction by reusing the functions you wrote."
   ]
  },
  {
   "cell_type": "code",
   "execution_count": null,
   "metadata": {
    "ExecuteTime": {
     "end_time": "2020-02-15T14:18:03.212229Z",
     "start_time": "2020-02-15T14:18:03.185261Z"
    }
   },
   "outputs": [],
   "source": [
    "topic_dev = pd.read_csv('data_topic/dev.csv', names=['label', 'text'])\n",
    "topic_test = pd.read_csv('data_topic/test.csv', names=['label', 'text'])\n",
    "topic_train = pd.read_csv('data_topic/train.csv', names=['label', 'text'])"
   ]
  },
  {
   "cell_type": "code",
   "execution_count": null,
   "metadata": {
    "ExecuteTime": {
     "end_time": "2020-02-15T14:18:03.515585Z",
     "start_time": "2020-02-15T14:18:03.508299Z"
    }
   },
   "outputs": [],
   "source": [
    "topic_train.head()"
   ]
  },
  {
   "cell_type": "code",
   "execution_count": null,
   "metadata": {
    "ExecuteTime": {
     "end_time": "2020-02-15T14:18:03.806523Z",
     "start_time": "2020-02-15T14:18:03.798279Z"
    }
   },
   "outputs": [],
   "source": [
    "topic_dev_texts = list(topic_dev['text'])\n",
    "topic_dev_labels = np.array(topic_dev['label'])\n",
    "\n",
    "topic_test_texts = list(topic_test['text'])\n",
    "topic_test_labels = np.array(topic_test['label'])\n",
    "\n",
    "topic_train_texts = list(topic_train['text'])\n",
    "topic_train_labels = np.array(topic_train['label'])"
   ]
  },
  {
   "cell_type": "code",
   "execution_count": null,
   "metadata": {
    "ExecuteTime": {
     "end_time": "2020-02-15T14:18:04.508938Z",
     "start_time": "2020-02-15T14:18:04.171071Z"
    }
   },
   "outputs": [],
   "source": [
    "vocab, df, _ = get_vocab(topic_train_texts, keep_topN=5000)\n",
    "print(len(vocab))\n",
    "print()\n",
    "print(list(vocab)[:100])\n",
    "print()\n",
    "print(df.most_common()[:10])"
   ]
  },
  {
   "cell_type": "code",
   "execution_count": null,
   "metadata": {
    "ExecuteTime": {
     "end_time": "2020-02-15T14:18:04.706802Z",
     "start_time": "2020-02-15T14:18:04.511061Z"
    }
   },
   "outputs": [],
   "source": [
    "vocab_id_to_word = dict(enumerate(vocab))\n",
    "\n",
    "word_to_vocab_id = {v: k for k, v in vocab_id_to_word.items()}"
   ]
  },
  {
   "cell_type": "code",
   "execution_count": null,
   "metadata": {},
   "outputs": [],
   "source": [
    "topic_train_texts_ngrams = (extract_ngrams(text, vocab=vocab)\n",
    "                            for text in topic_train_texts)\n",
    "\n",
    "topic_dev_texts_ngrams = (extract_ngrams(text, vocab=vocab)\n",
    "                          for text in topic_dev_texts)\n",
    "\n",
    "topic_test_texts_ngrams = (extract_ngrams(text, vocab=vocab)\n",
    "                           for text in topic_test_texts)"
   ]
  },
  {
   "cell_type": "markdown",
   "metadata": {},
   "source": [
    "#### Count vectors"
   ]
  },
  {
   "cell_type": "code",
   "execution_count": null,
   "metadata": {
    "ExecuteTime": {
     "end_time": "2020-02-15T14:17:41.999574Z",
     "start_time": "2020-02-15T14:17:40.376534Z"
    }
   },
   "outputs": [],
   "source": [
    "topic_train_count = vectorise(topic_train_texts_ngrams, vocab)\n",
    "\n",
    "topic_dev_count = vectorise(topic_dev_texts_ngrams, vocab)\n",
    "\n",
    "topic_test_count = vectorise(topic_test_texts_ngrams, vocab)"
   ]
  },
  {
   "cell_type": "markdown",
   "metadata": {},
   "source": [
    "#### TF.IDF vectors"
   ]
  },
  {
   "cell_type": "code",
   "execution_count": null,
   "metadata": {
    "ExecuteTime": {
     "end_time": "2020-02-15T14:17:42.022692Z",
     "start_time": "2020-02-15T14:17:42.012315Z"
    }
   },
   "outputs": [],
   "source": [
    "total_topic_train_docs = len(topic_train_texts)\n",
    "total_topic_dev_docs = len(topic_dev_texts)\n",
    "total_topic_test_docs = len(topic_test_texts)\n",
    "\n",
    "_, topic_dev_df, _ = get_vocab(topic_dev_texts, keep_topN=5000)\n",
    "\n",
    "_, topic_test_df, _ = get_vocab(topic_test_texts, keep_topN=5000)\n",
    "\n",
    "topic_train_idf = np.array([\n",
    "    np.log10(total_topic_train_docs / df[v]) for v in vocab]\n",
    ")\n",
    "\n",
    "topic_dev_idf = np.array([\n",
    "    np.log10(total_topic_dev_docs / topic_dev_df[v])\n",
    "    if topic_dev_df[v] else 0 for v in vocab\n",
    "])\n",
    "\n",
    "topic_test_idf = np.array([\n",
    "    np.log10(total_topic_test_docs / topic_test_df[v])\n",
    "    if topic_test_df[v] else 0 for v in vocab\n",
    "])\n",
    "\n",
    "# Use the \"log scaled\" variant of term frequency (tf) for better results\n",
    "topic_train_tfidf = np.log10(1 + topic_train_count) * topic_train_idf\n",
    "\n",
    "topic_dev_tfidf = np.log10(1 + topic_dev_count) * topic_dev_idf\n",
    "\n",
    "topic_test_tfidf = np.log10(1 + topic_test_count) * topic_test_idf"
   ]
  },
  {
   "cell_type": "markdown",
   "metadata": {},
   "source": [
    "Now you need to change `SGD` to support multiclass datasets. First you need to develop a `softmax` function. It takes as input:\n",
    "\n",
    "- `z`: array of real numbers\n",
    "\n",
    "and returns:\n",
    "\n",
    "- `smax`: the softmax of `z`"
   ]
  },
  {
   "cell_type": "code",
   "execution_count": null,
   "metadata": {
    "ExecuteTime": {
     "end_time": "2020-02-15T14:18:07.440998Z",
     "start_time": "2020-02-15T14:18:07.437915Z"
    }
   },
   "outputs": [],
   "source": [
    "def softmax(z):\n",
    "    \"\"\"\n",
    "    Compute probability for each class\n",
    "    \"\"\"\n",
    "    e_z = np.exp(z)\n",
    "    return e_z / np.sum(e_z, axis=1 if e_z.ndim > 1 else None, keepdims=True)"
   ]
  },
  {
   "cell_type": "markdown",
   "metadata": {},
   "source": [
    "Then modify `predict_proba` and `predict_class` functions for the multiclass case:"
   ]
  },
  {
   "cell_type": "code",
   "execution_count": null,
   "metadata": {
    "ExecuteTime": {
     "end_time": "2020-02-15T14:18:07.445451Z",
     "start_time": "2020-02-15T14:18:07.442851Z"
    }
   },
   "outputs": [],
   "source": [
    "def predict_proba(X, weights):\n",
    "    \"\"\"\n",
    "    :param weights: (3, |vocab|) shape, one weight vector for each class\n",
    "    \"\"\"\n",
    "    z = X.dot(weights.T)\n",
    "    return softmax(z)"
   ]
  },
  {
   "cell_type": "code",
   "execution_count": null,
   "metadata": {
    "ExecuteTime": {
     "end_time": "2020-02-15T14:18:07.449814Z",
     "start_time": "2020-02-15T14:18:07.447145Z"
    }
   },
   "outputs": [],
   "source": [
    "def predict_class(X, weights):\n",
    "    \"\"\"\n",
    "    Each document will have one probability for each class, \n",
    "    use argmax to find the highest probability class\n",
    "    \"\"\"\n",
    "    # Add 1 after argmax as the topic class starts from 1\n",
    "    return np.argmax(predict_proba(X, weights), axis=1) + 1"
   ]
  },
  {
   "cell_type": "markdown",
   "metadata": {},
   "source": [
    "Toy example and expected functionality of the functions above:"
   ]
  },
  {
   "cell_type": "code",
   "execution_count": null,
   "metadata": {
    "ExecuteTime": {
     "end_time": "2020-02-15T14:18:08.059902Z",
     "start_time": "2020-02-15T14:18:08.056774Z"
    }
   },
   "outputs": [],
   "source": [
    "X = np.array([[0.1, 0.2], [0.2, 0.1], [0.1, -0.2]])\n",
    "w = np.array([[2, -5], [-5, 2]])"
   ]
  },
  {
   "cell_type": "code",
   "execution_count": null,
   "metadata": {
    "ExecuteTime": {
     "end_time": "2020-02-15T14:18:08.495464Z",
     "start_time": "2020-02-15T14:18:08.491074Z"
    }
   },
   "outputs": [],
   "source": [
    "predict_proba(X, w)"
   ]
  },
  {
   "cell_type": "code",
   "execution_count": null,
   "metadata": {
    "ExecuteTime": {
     "end_time": "2020-02-15T14:18:08.714215Z",
     "start_time": "2020-02-15T14:18:08.710098Z"
    }
   },
   "outputs": [],
   "source": [
    "predict_class(X, w)"
   ]
  },
  {
   "cell_type": "markdown",
   "metadata": {},
   "source": [
    "Now you need to compute the categorical cross entropy loss (extending the binary loss to support multiple classes)."
   ]
  },
  {
   "cell_type": "code",
   "execution_count": null,
   "metadata": {
    "ExecuteTime": {
     "end_time": "2020-02-15T14:30:48.047338Z",
     "start_time": "2020-02-15T14:30:48.044395Z"
    }
   },
   "outputs": [],
   "source": [
    "def categorical_loss(X, Y, weights, num_classes=5, alpha=0.00001):\n",
    "    # Compute the negative log-likelihood and L2 regularisation for true class only\n",
    "    l = np.array([\n",
    "        -np.log(probs[Y[idx] - 1]) + alpha * np.sum(weights[Y[idx] - 1]**2)\n",
    "        for idx, probs in enumerate(predict_proba(X, weights))\n",
    "    ])\n",
    "\n",
    "    # Return average loss\n",
    "    return np.mean(l)"
   ]
  },
  {
   "cell_type": "markdown",
   "metadata": {
    "ExecuteTime": {
     "end_time": "2020-02-15T14:08:59.937442Z",
     "start_time": "2020-02-15T14:08:59.932221Z"
    }
   },
   "source": [
    "Finally you need to modify SGD to support the categorical cross entropy loss:"
   ]
  },
  {
   "cell_type": "code",
   "execution_count": null,
   "metadata": {
    "ExecuteTime": {
     "end_time": "2020-02-15T14:18:10.176885Z",
     "start_time": "2020-02-15T14:18:10.165021Z"
    }
   },
   "outputs": [],
   "source": [
    "def SGD(X_tr, Y_tr, X_dev, Y_dev, num_classes=5, lr=0.01, alpha=0.00001, epochs=5, tolerance=0.001, print_progress=True):\n",
    "    # fixing random seed for reproducibility\n",
    "    random.seed(123)\n",
    "    np.random.seed(123)\n",
    "    training_loss_history = []\n",
    "    validation_loss_history = []\n",
    "    \n",
    "    # Initialise weight to zero\n",
    "    weights = np.zeros((num_classes, X_tr.shape[1]))\n",
    "\n",
    "    # Create training tuples\n",
    "    train_docs = list(zip(X_tr, Y_tr))\n",
    "\n",
    "    for epoch in range(epochs):\n",
    "        # Randomise order in train_docs\n",
    "        np.random.shuffle(train_docs)\n",
    "\n",
    "        for x_i, y_i in train_docs:\n",
    "            # Compute gradient and update weight for correct class only\n",
    "            gradient = x_i * (np.max(predict_proba(x_i, weights)) - 1)\n",
    "            weights[y_i - 1] -= lr * (gradient + 2 * alpha * weights[y_i - 1])\n",
    "\n",
    "        # Monitor training and validation loss\n",
    "        cur_loss_tr = categorical_loss(X_tr, Y_tr, weights, alpha)\n",
    "        cur_loss_dev = categorical_loss(X_dev, Y_dev, weights, alpha)\n",
    "\n",
    "        # Early stopping\n",
    "        if epoch > 0 and validation_loss_history[-1] - cur_loss_dev < tolerance:\n",
    "            break\n",
    "        else:\n",
    "            training_loss_history.append(cur_loss_tr)\n",
    "            validation_loss_history.append(cur_loss_dev)\n",
    "\n",
    "        if print_progress:\n",
    "            print(f'Epoch: {epoch} | Training loss: {cur_loss_tr} | Validation loss: {cur_loss_dev}')\n",
    "            \n",
    "    return weights, training_loss_history, validation_loss_history"
   ]
  },
  {
   "cell_type": "markdown",
   "metadata": {
    "ExecuteTime": {
     "end_time": "2020-02-15T14:10:15.772383Z",
     "start_time": "2020-02-15T14:10:15.767855Z"
    }
   },
   "source": [
    "## Train and Evaluate Multi-class Logistic Regresstion with Count Vectors"
   ]
  },
  {
   "cell_type": "code",
   "execution_count": null,
   "metadata": {
    "ExecuteTime": {
     "end_time": "2020-02-15T14:18:55.324956Z",
     "start_time": "2020-02-15T14:18:11.720952Z"
    },
    "scrolled": true
   },
   "outputs": [],
   "source": [
    "w_count, tr_loss_count, dev_loss_count = SGD(X_tr=topic_train_count,\n",
    "                                             Y_tr=topic_train_labels,\n",
    "                                             X_dev=topic_dev_count,\n",
    "                                             Y_dev=topic_dev_labels,\n",
    "                                             num_classes=3,\n",
    "                                             lr=0.0066,\n",
    "                                             alpha=0.001,\n",
    "                                             epochs=200)"
   ]
  },
  {
   "cell_type": "code",
   "execution_count": null,
   "metadata": {
    "ExecuteTime": {
     "end_time": "2020-02-15T14:32:12.606498Z",
     "start_time": "2020-02-15T14:32:12.604164Z"
    }
   },
   "outputs": [],
   "source": [
    "args = topic_test_labels, predict_class(topic_test_count, w_count)\n",
    "\n",
    "print('Accuracy:', accuracy_score(*args))\n",
    "print('Precision:', precision_score(*args, average='macro'))\n",
    "print('Recall:', recall_score(*args, average='macro'))\n",
    "print('F1-Score:', f1_score(*args, average='macro'))"
   ]
  },
  {
   "cell_type": "markdown",
   "metadata": {},
   "source": [
    "Plot training and validation process and explain if your model overfit, underfit or is about right:"
   ]
  },
  {
   "cell_type": "code",
   "execution_count": null,
   "metadata": {
    "ExecuteTime": {
     "end_time": "2020-02-15T14:31:09.903453Z",
     "start_time": "2020-02-15T14:31:09.901360Z"
    }
   },
   "outputs": [],
   "source": [
    "plt.plot(tr_loss_count, label='Training loss')\n",
    "plt.plot(dev_loss_count, label='Validation loss')\n",
    "\n",
    "plt.xlabel('Epochs')\n",
    "plt.ylabel('Loss')\n",
    "\n",
    "plt.title('Training Monitoring (Count)')\n",
    "\n",
    "plt.legend()\n",
    "\n",
    "plt.show()"
   ]
  },
  {
   "cell_type": "markdown",
   "metadata": {},
   "source": [
    "explain here"
   ]
  },
  {
   "cell_type": "markdown",
   "metadata": {},
   "source": [
    "Compute accuracy, precision, recall and F1-scores:"
   ]
  },
  {
   "cell_type": "code",
   "execution_count": null,
   "metadata": {
    "ExecuteTime": {
     "end_time": "2020-02-15T14:32:12.606498Z",
     "start_time": "2020-02-15T14:32:12.604164Z"
    }
   },
   "outputs": [],
   "source": [
    "args = topic_test_labels, predict_class(topic_test_count, w_count)\n",
    "\n",
    "print('Accuracy:', accuracy_score(*args))\n",
    "print('Precision:', precision_score(*args, average='macro'))\n",
    "print('Recall:', recall_score(*args, average='macro'))\n",
    "print('F1-Score:', f1_score(*args, average='macro'))"
   ]
  },
  {
   "cell_type": "markdown",
   "metadata": {},
   "source": [
    "Print the top-10 words for each class respectively."
   ]
  },
  {
   "cell_type": "code",
   "execution_count": null,
   "metadata": {
    "ExecuteTime": {
     "end_time": "2020-02-15T14:32:26.224693Z",
     "start_time": "2020-02-15T14:32:26.221886Z"
    }
   },
   "outputs": [],
   "source": [
    "top10_ids = (-w_count).argsort()[:, :10]\n",
    "\n",
    "print(\n",
    "    f'Top 10 Class 1 (World): {[vocab_id_to_word[id] for id in top10_ids[0]]} \\n'\n",
    ")\n",
    "print(\n",
    "    f'Top 10 Class 2 (Sports): {[vocab_id_to_word[id] for id in top10_ids[1]]} \\n'\n",
    ")\n",
    "print(\n",
    "    f'Top 10 Class 3 (Business): {[vocab_id_to_word[id] for id in top10_ids[2]]} \\n'\n",
    ")"
   ]
  },
  {
   "cell_type": "markdown",
   "metadata": {},
   "source": [
    "### Discuss how did you choose model hyperparameters (e.g. learning rate and regularisation strength)? What is the relation between training epochs and learning rate? How the regularisation strength affects performance?"
   ]
  },
  {
   "cell_type": "markdown",
   "metadata": {
    "ExecuteTime": {
     "end_time": "2020-02-15T14:16:19.856538Z",
     "start_time": "2020-02-15T14:16:19.852547Z"
    }
   },
   "source": [
    "Explain here..."
   ]
  },
  {
   "cell_type": "markdown",
   "metadata": {},
   "source": [
    "## Train and Evaluate Multi-class Logistic Regresstion with TF.IDF Vectors"
   ]
  },
  {
   "cell_type": "code",
   "execution_count": null,
   "metadata": {
    "ExecuteTime": {
     "end_time": "2020-02-15T14:18:55.324956Z",
     "start_time": "2020-02-15T14:18:11.720952Z"
    },
    "scrolled": true
   },
   "outputs": [],
   "source": [
    "w_tfidf, tr_loss_tfidf, dev_loss_tfidf = SGD(X_tr=topic_train_tfidf,\n",
    "                                             Y_tr=topic_train_labels,\n",
    "                                             X_dev=topic_dev_tfidf,\n",
    "                                             Y_dev=topic_dev_labels,\n",
    "                                             num_classes=3,\n",
    "                                             lr=0.007,\n",
    "                                             alpha=0.001,\n",
    "                                             epochs=200)"
   ]
  },
  {
   "cell_type": "markdown",
   "metadata": {},
   "source": [
    "Plot training and validation process and explain if your model overfit, underfit or is about right:"
   ]
  },
  {
   "cell_type": "code",
   "execution_count": null,
   "metadata": {
    "ExecuteTime": {
     "end_time": "2020-02-15T14:31:09.903453Z",
     "start_time": "2020-02-15T14:31:09.901360Z"
    }
   },
   "outputs": [],
   "source": [
    "plt.plot(tr_loss_tfidf, label='Training loss')\n",
    "plt.plot(dev_loss_tfidf, label='Validation loss')\n",
    "\n",
    "plt.xlabel('Epochs')\n",
    "plt.ylabel('Loss')\n",
    "\n",
    "plt.title('Training Monitoring (TFIDF)')\n",
    "\n",
    "plt.legend()\n",
    "\n",
    "plt.show()"
   ]
  },
  {
   "cell_type": "markdown",
   "metadata": {},
   "source": [
    "explain here..."
   ]
  },
  {
   "cell_type": "markdown",
   "metadata": {},
   "source": [
    "Compute accuracy, precision, recall and F1-scores:"
   ]
  },
  {
   "cell_type": "code",
   "execution_count": null,
   "metadata": {
    "ExecuteTime": {
     "end_time": "2020-02-15T14:32:12.606498Z",
     "start_time": "2020-02-15T14:32:12.604164Z"
    }
   },
   "outputs": [],
   "source": [
    "args = topic_test_labels, predict_class(topic_test_tfidf, w_tfidf)\n",
    "\n",
    "print('Accuracy:', accuracy_score(*args))\n",
    "print('Precision:', precision_score(*args, average='macro'))\n",
    "print('Recall:', recall_score(*args, average='macro'))\n",
    "print('F1-Score:', f1_score(*args, average='macro'))"
   ]
  },
  {
   "cell_type": "markdown",
   "metadata": {},
   "source": [
    "Print the top-10 words for each class respectively."
   ]
  },
  {
   "cell_type": "code",
   "execution_count": null,
   "metadata": {
    "ExecuteTime": {
     "end_time": "2020-02-15T14:32:26.224693Z",
     "start_time": "2020-02-15T14:32:26.221886Z"
    }
   },
   "outputs": [],
   "source": [
    "top10_ids = (-w_tfidf).argsort()[:, :10]\n",
    "\n",
    "print(\n",
    "    f'Top 10 Class 1 (World): {[vocab_id_to_word[id] for id in top10_ids[0]]} \\n'\n",
    ")\n",
    "print(\n",
    "    f'Top 10 Class 2 (Sports): {[vocab_id_to_word[id] for id in top10_ids[1]]} \\n'\n",
    ")\n",
    "print(\n",
    "    f'Top 10 Class 3 (Business): {[vocab_id_to_word[id] for id in top10_ids[2]]}'\n",
    ")"
   ]
  },
  {
   "cell_type": "markdown",
   "metadata": {},
   "source": [
    "### Discuss how did you choose model hyperparameters (e.g. learning rate and regularisation strength)? What is the relation between training epochs and learning rate? How the regularisation strength affects performance?"
   ]
  },
  {
   "cell_type": "markdown",
   "metadata": {
    "ExecuteTime": {
     "end_time": "2020-02-15T14:16:19.856538Z",
     "start_time": "2020-02-15T14:16:19.852547Z"
    }
   },
   "source": [
    "Explain here...\n",
    "\n",
    "### Count Vectors\n",
    "#### Controlled variable: alpha = 0.001\n",
    "| Trial | Learning rate | Epoch | Training loss | Validation loss | Precision | Recall | F1-Score |\n",
    "|-------|---------------|-------|---------------|-----------------|-----------|--------|----------|\n",
    "| 0     | 0.001         | 78    | 0.3448        | 0.4186          | 0.8619    | 0.8611 | 0.8603   |\n",
    "| 1     | 0.002         | 57    | 0.3273        | 0.3921          | 0.8650    | 0.8644 | 0.8637   |\n",
    "| 2     | 0.005         | 35    | 0.3117        | 0.3713          | 0.8698    | 0.8688 | 0.8682   |\n",
    "| 3     | 0.006         | 31    | 0.3098        | 0.3690          | 0.8698    | 0.8688 | 0.8682   |\n",
    "| 4     | 0.007         | 29    | 0.3072        | 0.3663          | 0.8686    | 0.8677 | 0.8672   |\n",
    "| 5     | 0.0065        | 30    | 0.3084        | 0.3675          | 0.8698    | 0.8688 | 0.8683   |\n",
    "| 6     | 0.0066        | 30    | 0.3079        | 0.3670          | 0.8698    | 0.8688 | 0.8683   |\n",
    "\n",
    "#### Controlled variable: Learning rate = 0.0066\n",
    "\n",
    "\n",
    "### TF.IDF Vectors\n",
    "#### Controlled variable: alpha = 0.\n",
    "\n",
    "\n",
    "#### Controlled variable: Learning rate = 0.\n"
   ]
  },
  {
   "cell_type": "markdown",
   "metadata": {
    "ExecuteTime": {
     "end_time": "2020-02-15T14:16:42.567569Z",
     "start_time": "2020-02-15T14:16:42.562560Z"
    }
   },
   "source": [
    "## Full Results\n",
    "\n",
    "Add here your results:\n",
    "\n",
    "| LR | Precision  | Recall  | F1-Score  |\n",
    "|:-:|:-:|:-:|:-:|\n",
    "| BOW-count  |   |   |   |\n",
    "| BOW-tfidf  |   |   |   |\n"
   ]
  }
 ],
 "metadata": {
  "kernelspec": {
   "display_name": "Python 3",
   "language": "python",
   "name": "python3"
  },
  "language_info": {
   "codemirror_mode": {
    "name": "ipython",
    "version": 3
   },
   "file_extension": ".py",
   "mimetype": "text/x-python",
   "name": "python",
   "nbconvert_exporter": "python",
   "pygments_lexer": "ipython3",
   "version": "3.8.1"
  }
 },
 "nbformat": 4,
 "nbformat_minor": 2
}
