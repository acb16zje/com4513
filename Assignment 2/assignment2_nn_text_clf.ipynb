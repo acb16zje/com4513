{
 "cells": [
  {
   "cell_type": "markdown",
   "metadata": {},
   "source": [
    "## [COM4513-6513] Assignment 2: Text Classification with a Feedforward Network\n",
    "\n",
    "### Instructor: Nikos Aletras\n",
    "\n",
    "The goal of this assignment is to develop a Feedforward network for text classification. \n",
    "\n",
    "For that purpose, you will implement:\n",
    "\n",
    "- Text processing methods for transforming raw text data into input vectors for your network  (**1 mark**)\n",
    "- A Feedforward network consisting of:\n",
    "    - **One-hot** input layer mapping words into an **Embedding weight matrix** (**1 mark**)\n",
    "    - **One hidden layer** computing the mean embedding vector of all words in input followed by a **ReLU activation function** (**1 mark**)\n",
    "    - **Output layer** with a **softmax** activation. (**1 mark**)\n",
    "- The Stochastic Gradient Descent (SGD) algorithm with **back-propagation** to learn the weights of your Neural network. Your algorithm should:\n",
    "    - Use (and minimise) the **Categorical Cross-entropy loss** function (**1 mark**)\n",
    "    - Perform a **Forward pass** to compute intermediate outputs (**4 marks**)\n",
    "    - Perform a **Backward pass** to compute gradients and update all sets of weights (**4 marks**)\n",
    "    - Implement and use **Dropout** after each hidden layer for regularisation (**2 marks**)\n",
    "- Discuss how did you choose hyperparameters? You can tune the learning rate (hint: choose small values), embedding size {e.g. 50, 300, 500}, the dropout rate {e.g. 0.2, 0.5} and the learning rate. Please use tables or graphs to show training and validation performance for each hyperparam combination  (**2 marks**). \n",
    "- After training the model, plot the learning process (i.e. training and validation loss in each epoch) using a line plot and report accuracy.\n",
    "- Re-train your network by using pre-trained embeddings ([GloVe](https://nlp.stanford.edu/projects/glove/)) trained on large corpora. Instead of randomly initialising the embedding weights matrix, you should initialise it with the pre-trained weights. During training, you should not update them (i.e. weight freezing) and backprop should stop before computing gradients for updating embedding weights. Report results by performing hyperparameter tuning and plotting the learning process. Do you get better performance? (**3 marks**).\n",
    "\n",
    "- **BONUS:** Extend you Feedforward network by adding more hidden layers (e.g. one more). How does it affect the performance? Note: You need to repeat hyperparameter tuning, but the number of combinations grows exponentially. Therefore, you need to choose a subset of all possible combinations (**+2 extra marks**)\n",
    "\n",
    "\n",
    "### Data \n",
    "\n",
    "The data you will use for Task 2 is a subset of the [AG News Corpus](http://groups.di.unipi.it/~gulli/AG_corpus_of_news_articles.html) and you can find it in the `./data_topic` folder in CSV format:\n",
    "\n",
    "- `data_topic/train.csv`: contains 2,400 news articles, 800 for each class to be used for training.\n",
    "- `data_topic/dev.csv`: contains 150 news articles, 50 for each class to be used for hyperparameter selection and monitoring the training process.\n",
    "- `data_topic/test.csv`: contains 900 news articles, 300 for each class to be used for testing.\n",
    "\n",
    "\n",
    "### Pre-trained Embeddings\n",
    "\n",
    "You can download pre-trained GloVe embeddings trained on Common Crawl (840B tokens, 2.2M vocab, cased, 300d vectors, 2.03 GB download) from [here](http://nlp.stanford.edu/data/glove.840B.300d.zip). No need to unzip, the file is large.\n",
    "\n",
    "\n",
    "### Save Memory\n",
    "\n",
    "To save RAM, when you finish each experiment you can delete the weights of your network using `del W` followed by Python's garbage collector `gc.collect()`\n",
    "\n",
    "\n",
    "### Submission Instructions\n",
    "\n",
    "You should submit a Jupyter Notebook file (assignment2.ipynb) and an exported PDF version (you can do it from Jupyter: `File->Download as->PDF via Latex`).\n",
    "\n",
    "You are advised to follow the code structure given in this notebook by completing all given funtions. You can also write any auxilliary/helper functions (and arguments for the functions) that you might need but note that you can provide a full solution without any such functions. Similarly, you can just use only the packages imported below but you are free to use any functionality from the [Python Standard Library](https://docs.python.org/2/library/index.html), NumPy, SciPy and Pandas. You are not allowed to use any third-party library such as Scikit-learn (apart from metric functions already provided), NLTK, Spacy, Keras etc.. You are allowed to re-use your code from Assignment 1.\n",
    "\n",
    "Please make sure to comment your code. You should also mention if you've used Windows to write and test your code. There is no single correct answer on what your accuracy should be, but correct implementations usually achieve F1 of ~75-80% and ~85% without and with using pre-trained embeddings respectively. \n",
    "\n",
    "This assignment will be marked out of 20. It is worth 20\\% of your final grade in the module. If you implement the bonus question you can get up to 2 extra points but your final grade will be capped at 20.\n",
    "\n",
    "The deadline for this assignment is **23:59 on Mon, 18 May 2020** and it needs to be submitted via Blackboard (MOLE). Standard departmental penalties for lateness will be applied. We use a range of strategies to detect [unfair means](https://www.sheffield.ac.uk/ssid/unfair-means/index), including Turnitin which helps detect plagiarism, so make sure you do not plagiarise."
   ]
  },
  {
   "cell_type": "code",
   "execution_count": 1,
   "metadata": {
    "ExecuteTime": {
     "end_time": "2020-04-02T15:00:18.625532Z",
     "start_time": "2020-04-02T15:00:17.377733Z"
    }
   },
   "outputs": [],
   "source": [
    "import pandas as pd\n",
    "import numpy as np\n",
    "from collections import Counter\n",
    "import re\n",
    "import matplotlib.pyplot as plt\n",
    "from sklearn.metrics import accuracy_score, precision_score, recall_score, f1_score\n",
    "from time import localtime, strftime\n",
    "from scipy.stats import spearmanr,pearsonr\n",
    "import zipfile\n",
    "import gc"
   ]
  },
  {
   "cell_type": "markdown",
   "metadata": {},
   "source": [
    "## Transform Raw texts into training and development data\n",
    "\n",
    "First, you need to load the training, development and test sets from their corresponding CSV files (tip: you can use Pandas dataframes)."
   ]
  },
  {
   "cell_type": "code",
   "execution_count": 2,
   "metadata": {
    "ExecuteTime": {
     "end_time": "2020-04-02T14:26:39.748484Z",
     "start_time": "2020-04-02T14:26:39.727404Z"
    }
   },
   "outputs": [],
   "source": [
    "topic_dev = pd.read_csv('data_topic/dev.csv', names=['label', 'text'])\n",
    "topic_test = pd.read_csv('data_topic/test.csv', names=['label', 'text'])\n",
    "topic_train = pd.read_csv('data_topic/train.csv', names=['label', 'text'])\n",
    "\n",
    "topic_dev_texts = list(topic_dev['text'])\n",
    "topic_train_texts = list(topic_train['text'])\n",
    "topic_test_texts = list(topic_test['text'])"
   ]
  },
  {
   "cell_type": "markdown",
   "metadata": {},
   "source": [
    "# Create input representations\n",
    "\n",
    "To train your Feedforward network, you first need to obtain input representations given a vocabulary. One-hot encoding requires large memory capacity. Therefore, we will instead represent documents as lists of vocabulary indices (each word corresponds to a vocabulary index). \n",
    "\n",
    "\n",
    "## Text Pre-Processing Pipeline\n",
    "\n",
    "To obtain a vocabulary of words. You should: \n",
    "- tokenise all texts into a list of unigrams (tip: you can re-use the functions from Assignment 1) \n",
    "- remove stop words (using the one provided or one of your preference) \n",
    "- remove unigrams appearing in less than K documents\n",
    "- use the remaining to create a vocabulary of the top-N most frequent unigrams in the entire corpus."
   ]
  },
  {
   "cell_type": "code",
   "execution_count": 3,
   "metadata": {
    "ExecuteTime": {
     "end_time": "2020-04-02T14:26:40.851926Z",
     "start_time": "2020-04-02T14:26:40.847500Z"
    }
   },
   "outputs": [],
   "source": [
    "default_stop_words = {\n",
    "    'a', 'ad', 'after', 'again', 'all', 'also', 'am', 'an', 'and', 'any',\n",
    "    'are', 'as', 'at', 'be', 'because', 'been', 'being', 'between', 'both',\n",
    "    'but', 'by', 'can', 'could', 'does', 'each', 'ed', 'eg', 'either', 'etc',\n",
    "    'even', 'ever', 'every', 'for', 'from', 'had', 'has', 'have', 'he', 'her',\n",
    "    'hers', 'herself', 'him', 'himself', 'his', 'i', 'ie', 'if', 'in', 'inc',\n",
    "    'into', 'is', 'it', 'its', 'itself', 'li', 'll', 'ltd', 'may', 'maybe',\n",
    "    'me', 'might', 'mine', 'minute', 'minutes', 'must', 'my', 'myself',\n",
    "    'neither', 'nor', 'now', 'of', 'on', 'only', 'or', 'other', 'our', 'ours',\n",
    "    'ourselves', 'own', 'same', 'seem', 'seemed', 'shall', 'she', 'some',\n",
    "    'somehow', 'something', 'sometimes', 'somewhat', 'somewhere', 'spoiler',\n",
    "    'spoilers', 'such', 'suppose', 'that', 'the', 'their', 'theirs', 'them',\n",
    "    'themselves', 'there', 'these', 'they', 'this', 'those', 'thus', 'to',\n",
    "    'today', 'tomorrow', 'us', 've', 'vs', 'was', 'we', 'were', 'what',\n",
    "    'whatever', 'when', 'whenever', 'where', 'whereby', 'which', 'who', 'whom',\n",
    "    'whose', 'will', 'with', 'yesterday', 'you', 'your', 'yours', 'yourself',\n",
    "    'yourselves'\n",
    "}"
   ]
  },
  {
   "cell_type": "markdown",
   "metadata": {},
   "source": [
    "### Unigram extraction from a document\n",
    "\n",
    "You first need to implement the `extract_ngrams` function. It takes as input:\n",
    "- `x_raw`: a string corresponding to the raw text of a document\n",
    "- `ngram_range`: a tuple of two integers denoting the type of ngrams you want to extract, e.g. (1,2) denotes extracting unigrams and bigrams.\n",
    "- `token_pattern`: a string to be used within a regular expression to extract all tokens. Note that data is already tokenised so you could opt for a simple white space tokenisation.\n",
    "- `stop_words`: a list of stop words\n",
    "- `vocab`: a given vocabulary. It should be used to extract specific features.\n",
    "\n",
    "and returns:\n",
    "\n",
    "- a list of all extracted features."
   ]
  },
  {
   "cell_type": "code",
   "execution_count": 4,
   "metadata": {
    "ExecuteTime": {
     "end_time": "2020-04-02T14:26:41.505459Z",
     "start_time": "2020-04-02T14:26:41.498388Z"
    }
   },
   "outputs": [],
   "source": [
    "def extract_ngrams(x_raw,\n",
    "                   ngram_range=(1, 3),\n",
    "                   token_pattern=r'\\b[A-Za-z]{2,}\\b',\n",
    "                   stop_words=default_stop_words,\n",
    "                   vocab=None):\n",
    "\n",
    "    tokens = [\n",
    "        word.lower() for word in re.findall(token_pattern, x_raw)\n",
    "        if word.lower() not in stop_words\n",
    "    ]\n",
    "\n",
    "    ngrams = []\n",
    "\n",
    "    for n in range(ngram_range[0], ngram_range[1] + 1):\n",
    "        if n == 1:\n",
    "            # Create unigram by concatenating list\n",
    "            ngrams += tokens\n",
    "        else:\n",
    "            # Create bigram / trigram by unzipping list\n",
    "            ngrams += zip(*(tokens[i:] for i in range(n)))\n",
    "\n",
    "    return [ngram for ngram in ngrams if ngram in vocab] if vocab else ngrams"
   ]
  },
  {
   "cell_type": "markdown",
   "metadata": {},
   "source": [
    "### Create a vocabulary of n-grams\n",
    "\n",
    "Then the `get_vocab` function will be used to (1) create a vocabulary of ngrams; (2) count the document frequencies of ngrams; (3) their raw frequency. It takes as input:\n",
    "- `X_raw`: a list of strings each corresponding to the raw text of a document\n",
    "- `ngram_range`: a tuple of two integers denoting the type of ngrams you want to extract, e.g. (1,2) denotes extracting unigrams and bigrams.\n",
    "- `token_pattern`: a string to be used within a regular expression to extract all tokens. Note that data is already tokenised so you could opt for a simple white space tokenisation.\n",
    "- `stop_words`: a list of stop words\n",
    "- `min_df`: keep ngrams with a minimum document frequency.\n",
    "- `keep_topN`: keep top-N more frequent ngrams.\n",
    "\n",
    "and returns:\n",
    "\n",
    "- `vocab`: a set of the n-grams that will be used as features.\n",
    "- `df`: a Counter (or dict) that contains ngrams as keys and their corresponding document frequency as values.\n",
    "- `ngram_counts`: counts of each ngram in vocab"
   ]
  },
  {
   "cell_type": "code",
   "execution_count": 5,
   "metadata": {
    "ExecuteTime": {
     "end_time": "2020-04-02T14:26:42.563876Z",
     "start_time": "2020-04-02T14:26:42.557967Z"
    }
   },
   "outputs": [],
   "source": [
    "def get_vocab(X_raw,\n",
    "              ngram_range=(1, 3),\n",
    "              token_pattern=r'\\b[A-Za-z]{2,}\\b',\n",
    "              min_df=1,\n",
    "              keep_topN=None,\n",
    "              stop_words=default_stop_words):\n",
    "\n",
    "    df = Counter()\n",
    "    ngram_counts = Counter()\n",
    "\n",
    "    for text in X_raw:\n",
    "        # A list of ngrams for the given document `text`\n",
    "        ngram_list = extract_ngrams(text, ngram_range, token_pattern, stop_words)\n",
    "        \n",
    "        # Count document frequency\n",
    "        df.update(set(ngram_list))\n",
    "\n",
    "        # Count ngram frequency\n",
    "        ngram_counts.update(ngram for ngram in ngram_list if df[ngram] >= min_df)\n",
    "    \n",
    "    # Extract ngram into vocab set\n",
    "    vocab = {ngram for ngram, _ in ngram_counts.most_common(keep_topN)}\n",
    "\n",
    "    return vocab, df, ngram_counts"
   ]
  },
  {
   "cell_type": "markdown",
   "metadata": {},
   "source": [
    "Now you should use `get_vocab` to create your vocabulary and get document and raw frequencies of unigrams:"
   ]
  },
  {
   "cell_type": "code",
   "execution_count": 6,
   "metadata": {
    "ExecuteTime": {
     "end_time": "2020-04-02T14:26:43.577997Z",
     "start_time": "2020-04-02T14:26:43.478950Z"
    }
   },
   "outputs": [],
   "source": [
    "dev_vocab, _, _ = get_vocab(topic_dev_texts, ngram_range=(1, 1), keep_topN=5000)\n",
    "train_vocab, _, _ = get_vocab(topic_train_texts, ngram_range=(1, 1), keep_topN=5000)\n",
    "test_vocab, _, _ = get_vocab(topic_test_texts, ngram_range=(1, 1), keep_topN=5000)\n",
    "\n",
    "# Set order is random for every new run. Use `sorted` for reproducibility\n",
    "vocab = sorted(dev_vocab.union(train_vocab).union(test_vocab))"
   ]
  },
  {
   "cell_type": "markdown",
   "metadata": {},
   "source": [
    "Then, you need to create vocabulary id -> word and word -> id dictionaries for reference:"
   ]
  },
  {
   "cell_type": "code",
   "execution_count": 7,
   "metadata": {
    "ExecuteTime": {
     "end_time": "2020-04-02T14:26:44.069661Z",
     "start_time": "2020-04-02T14:26:44.065058Z"
    }
   },
   "outputs": [],
   "source": [
    "vocab_id_to_word = dict(enumerate(vocab))\n",
    "word_to_vocab_id = {v: k for k, v in vocab_id_to_word.items()}"
   ]
  },
  {
   "cell_type": "markdown",
   "metadata": {},
   "source": [
    "### Convert the list of unigrams  into a list of vocabulary indices\n",
    "\n",
    "Storing actual one-hot vectors into memory for all words in the entire data set is prohibitive. Instead, we will store word indices in the vocabulary and look-up the weight matrix. This is equivalent of doing a dot product between an one-hot vector and the weight matrix. \n",
    "\n",
    "First, represent documents in train, dev and test sets as lists of words in the vocabulary:"
   ]
  },
  {
   "cell_type": "code",
   "execution_count": 8,
   "metadata": {},
   "outputs": [],
   "source": [
    "topic_dev_uni = [\n",
    "    extract_ngrams(doc, ngram_range=(1, 1), vocab=vocab)\n",
    "    for doc in topic_dev_texts\n",
    "]\n",
    "topic_train_uni = [\n",
    "    extract_ngrams(doc, ngram_range=(1, 1), vocab=vocab)\n",
    "    for doc in topic_train_texts\n",
    "]\n",
    "topic_test_uni = [\n",
    "    extract_ngrams(doc, ngram_range=(1, 1), vocab=vocab)\n",
    "    for doc in topic_test_texts\n",
    "]"
   ]
  },
  {
   "cell_type": "markdown",
   "metadata": {},
   "source": [
    "Then convert them into lists of indices in the vocabulary:"
   ]
  },
  {
   "cell_type": "code",
   "execution_count": 9,
   "metadata": {
    "ExecuteTime": {
     "end_time": "2020-04-02T14:26:45.752658Z",
     "start_time": "2020-04-02T14:26:45.730409Z"
    }
   },
   "outputs": [],
   "source": [
    "topic_dev_ids = [[word_to_vocab_id[uni] for uni in unigrams]\n",
    "                 for unigrams in topic_dev_uni]\n",
    "\n",
    "topic_train_ids = [[word_to_vocab_id[uni] for uni in unigrams]\n",
    "                   for unigrams in topic_train_uni]\n",
    "\n",
    "topic_test_ids = [[word_to_vocab_id[uni] for uni in unigrams]\n",
    "                  for unigrams in topic_test_uni]"
   ]
  },
  {
   "cell_type": "markdown",
   "metadata": {},
   "source": [
    "Put the labels `Y` for train, dev and test sets into arrays: "
   ]
  },
  {
   "cell_type": "code",
   "execution_count": 10,
   "metadata": {
    "ExecuteTime": {
     "end_time": "2020-04-02T15:03:13.183996Z",
     "start_time": "2020-04-02T15:03:13.077575Z"
    }
   },
   "outputs": [],
   "source": [
    "# The labels start from 1, subtract 1 to make them start from 0\n",
    "topic_dev_labels = np.array(topic_dev['label']) - 1\n",
    "topic_train_labels = np.array(topic_train['label']) - 1\n",
    "topic_test_labels = np.array(topic_test['label']) - 1"
   ]
  },
  {
   "cell_type": "markdown",
   "metadata": {},
   "source": [
    "# Network Architecture\n",
    "\n",
    "Your network should pass each word index into its corresponding embedding by looking-up on the embedding matrix and then compute the first hidden layer $\\mathbf{h}_1$:\n",
    "\n",
    "$$\\mathbf{h}_1 = \\frac{1}{|x|}\\sum_i W^e_i, i \\in x$$\n",
    "\n",
    "where $|x|$ is the number of words in the document and $W^e$ is an embedding matrix $|V|\\times d$, $|V|$ is the size of the vocabulary and $d$ the embedding size.\n",
    "\n",
    "Then $\\mathbf{h}_1$ should be passed through a ReLU activation function:\n",
    "\n",
    "$$\\mathbf{a}_1 = relu(\\mathbf{h}_1)$$\n",
    "\n",
    "Finally the hidden layer is passed to the output layer:\n",
    "\n",
    "\n",
    "$$\\mathbf{y} = \\text{softmax}(\\mathbf{a}_1W^T) $$ \n",
    "where $W$ is a matrix $d \\times |{\\cal Y}|$, $|{\\cal Y}|$ is the number of classes.\n",
    "\n",
    "During training, $\\mathbf{a}_1$ should be multiplied with a dropout mask vector (elementwise) for regularisation before it is passed to the output layer.\n",
    "\n",
    "You can extend to a deeper architecture by passing a hidden layer to another one:\n",
    "\n",
    "$$\\mathbf{h_i} = \\mathbf{a}_{i-1}W_i^T $$\n",
    "\n",
    "$$\\mathbf{a_i} = relu(\\mathbf{h_i}) $$\n",
    "\n",
    "\n",
    "# Network Training\n",
    "\n",
    "First we need to define the parameters of our network by initiliasing the weight matrices. For that purpose, you should implement the `network_weights` function that takes as input:\n",
    "\n",
    "- `vocab_size`: the size of the vocabulary\n",
    "- `embedding_dim`: the size of the word embeddings\n",
    "- `hidden_dim`: a list of the sizes of any subsequent hidden layers (for the Bonus). Empty if there are no hidden layers between the average embedding and the output layer \n",
    "- `num_classes`: the number of the classes for the output layer\n",
    "\n",
    "and returns:\n",
    "\n",
    "- `W`: a dictionary mapping from layer index (e.g. 0 for the embedding matrix) to the corresponding weight matrix initialised with small random numbers (hint: use numpy.random.uniform with from -0.1 to 0.1)\n",
    "\n",
    "See the examples below for expected outputs. Make sure that the dimensionality of each weight matrix is compatible with the previous and next weight matrix, otherwise you won't be able to perform forward and backward passes. Consider also using np.float32 precision to save memory."
   ]
  },
  {
   "cell_type": "code",
   "execution_count": 11,
   "metadata": {
    "ExecuteTime": {
     "end_time": "2020-04-02T15:09:10.086665Z",
     "start_time": "2020-04-02T15:09:10.083429Z"
    }
   },
   "outputs": [],
   "source": [
    "def network_weights(vocab_size=1000, embedding_dim=300, hidden_dim=[], num_classes=3):\n",
    "    # fixing random seed for reproducibility\n",
    "    np.random.seed(123)\n",
    "\n",
    "    dimensions = [vocab_size, embedding_dim] + hidden_dim + [num_classes]\n",
    "\n",
    "    # Use \"He Weight Initialisation\"\n",
    "    W = [np.random.randn(*size).astype(np.float32) * np.sqrt(2 / (size[0]))\n",
    "         for size in zip(*(dimensions[i:] for i in range(2)))]\n",
    "\n",
    "    return W"
   ]
  },
  {
   "cell_type": "markdown",
   "metadata": {
    "ExecuteTime": {
     "end_time": "2020-04-01T10:31:57.970152Z",
     "start_time": "2020-04-01T10:31:57.966123Z"
    }
   },
   "source": [
    "Then you need to develop a `softmax` function (same as in Assignment 1) to be used in the output layer. It takes as input:\n",
    "\n",
    "- `z`: array of real numbers \n",
    "\n",
    "and returns:\n",
    "\n",
    "- `smax`: the softmax of `z`"
   ]
  },
  {
   "cell_type": "code",
   "execution_count": 12,
   "metadata": {
    "ExecuteTime": {
     "end_time": "2020-04-02T14:26:50.504086Z",
     "start_time": "2020-04-02T14:26:50.500686Z"
    }
   },
   "outputs": [],
   "source": [
    "def softmax(z):\n",
    "    \"\"\"\n",
    "    Compute probability for each class\n",
    "    \"\"\"\n",
    "    e_z = np.exp(z)\n",
    "    return e_z / np.sum(e_z, axis=1 if e_z.ndim > 1 else None, keepdims=True)"
   ]
  },
  {
   "cell_type": "markdown",
   "metadata": {},
   "source": [
    "Now you need to implement the categorical cross entropy loss by slightly modifying the function from Assignment 1 to depend only on the true label `y` and the class probabilities vector `y_preds`:"
   ]
  },
  {
   "cell_type": "code",
   "execution_count": 13,
   "metadata": {
    "ExecuteTime": {
     "end_time": "2020-04-02T14:26:51.360838Z",
     "start_time": "2020-04-02T14:26:51.356935Z"
    }
   },
   "outputs": [],
   "source": [
    "def categorical_loss(y, y_preds):    \n",
    "    return -np.log(y_preds[y])"
   ]
  },
  {
   "cell_type": "markdown",
   "metadata": {
    "ExecuteTime": {
     "end_time": "2020-03-31T15:02:56.149535Z",
     "start_time": "2020-03-31T15:02:56.145738Z"
    }
   },
   "source": [
    "Then, implement the `relu` function to introduce non-linearity after each hidden layer of your network (during the forward pass): \n",
    "\n",
    "$$relu(z_i)= max(z_i,0)$$\n",
    "\n",
    "and the `relu_derivative` function to compute its derivative (used in the backward pass):\n",
    "\n",
    "\\begin{equation}\n",
    "  \\text{relu_derivative}(z_i)=\\begin{cases}\n",
    "    0, & \\text{if $z_i<=0$}.\\\\\n",
    "    1, & \\text{otherwise}.\n",
    "  \\end{cases}\n",
    "\\end{equation}\n",
    "\n",
    "Note that both functions take as input a vector $z$ \n",
    "\n",
    "Hint use .copy() to avoid in place changes in array z"
   ]
  },
  {
   "cell_type": "code",
   "execution_count": 14,
   "metadata": {
    "ExecuteTime": {
     "end_time": "2020-04-02T14:26:52.665236Z",
     "start_time": "2020-04-02T14:26:52.661519Z"
    }
   },
   "outputs": [],
   "source": [
    "def relu(z):\n",
    "    return np.clip(z, a_min=0, a_max=None)\n",
    "\n",
    "\n",
    "def relu_derivative(z):\n",
    "    return np.clip(z, a_min=0, a_max=1)"
   ]
  },
  {
   "cell_type": "markdown",
   "metadata": {},
   "source": [
    "During training you should also apply a dropout mask element-wise after the activation function (i.e. vector of ones with a random percentage set to zero). The `dropout_mask` function takes as input:\n",
    "\n",
    "- `size`: the size of the vector that we want to apply dropout\n",
    "- `dropout_rate`: the percentage of elements that will be randomly set to zeros\n",
    "\n",
    "and returns:\n",
    "\n",
    "- `dropout_vec`: a vector with binary values (0 or 1)"
   ]
  },
  {
   "cell_type": "code",
   "execution_count": 15,
   "metadata": {
    "ExecuteTime": {
     "end_time": "2020-04-02T14:26:53.429192Z",
     "start_time": "2020-04-02T14:26:53.425301Z"
    }
   },
   "outputs": [],
   "source": [
    "def dropout_mask(size, dropout_rate):\n",
    "    return np.random.choice([0, 1], size, p=[dropout_rate, 1 - dropout_rate])"
   ]
  },
  {
   "cell_type": "markdown",
   "metadata": {},
   "source": [
    "Now you need to implement the `forward_pass` function that passes the input x through the network up to the output layer for computing the probability for each class using the weight matrices in `W`. The ReLU activation function should be applied on each hidden layer. \n",
    "\n",
    "- `x`: a list of vocabulary indices each corresponding to a word in the document (input)\n",
    "- `W`: a list of weight matrices connecting each part of the network, e.g. for a network with a hidden and an output layer: W[0] is the weight matrix that connects the input to the first hidden layer, W[1] is the weight matrix that connects the hidden layer to the output layer.\n",
    "- `dropout_rate`: the dropout rate that is used to generate a random dropout mask vector applied after each hidden layer for regularisation.\n",
    "\n",
    "and returns:\n",
    "\n",
    "- `out_vals`: a dictionary of output values from each layer: h (the vector before the activation function), a (the resulting vector after passing h to the activation function), its dropout mask vector; and the prediction vector (probability for each class) from the output layer."
   ]
  },
  {
   "cell_type": "code",
   "execution_count": 16,
   "metadata": {
    "ExecuteTime": {
     "end_time": "2020-04-02T14:26:54.761268Z",
     "start_time": "2020-04-02T14:26:54.753402Z"
    }
   },
   "outputs": [],
   "source": [
    "def forward_pass(x, W, dropout_rate=0.2):\n",
    "\n",
    "    h_vecs = []\n",
    "    a_vecs = []\n",
    "    dropout_vecs = []\n",
    "\n",
    "    # Embedding layer\n",
    "    h_1 = np.mean(W[0][x], axis=0)\n",
    "    h_vecs.append(h_1)\n",
    "\n",
    "    a_1 = relu(h_1)\n",
    "    a_vecs.append(a_1)\n",
    "\n",
    "    # Apply dropout mask to embedding layer\n",
    "    dropout_vecs.append(dropout_mask(W[0].shape[1], dropout_rate))\n",
    "    a_i = a_1 * dropout_vecs[-1]\n",
    "\n",
    "    # Loop through each hidden layer\n",
    "    for weights in W[1:-1]:\n",
    "        h_i = a_i.dot(weights)\n",
    "        h_vecs.append(h_i)\n",
    "\n",
    "        a_i = relu(h_i)\n",
    "        a_vecs.append(a_i)\n",
    "\n",
    "        dropout_vecs.append(dropout_mask(weights.shape[1], dropout_rate))\n",
    "        a_i *= dropout_vecs[-1]\n",
    "\n",
    "    # Output layer: make prediction\n",
    "    y = softmax(a_i.dot(W[-1]))\n",
    "\n",
    "    return {'h': h_vecs, 'a': a_vecs, 'dropout_vec': dropout_vecs, 'y': y}"
   ]
  },
  {
   "cell_type": "markdown",
   "metadata": {},
   "source": [
    "The `backward_pass` function computes the gradients and update the weights for each matrix in the network from the output to the input. It takes as input \n",
    "\n",
    "- `x`: a list of vocabulary indices each corresponding to a word in the document (input)\n",
    "- `y`: the true label\n",
    "- `W`: a list of weight matrices connecting each part of the network, e.g. for a network with a hidden and an output layer: W[0] is the weight matrix that connects the input to the first hidden layer, W[1] is the weight matrix that connects the hidden layer to the output layer.\n",
    "- `out_vals`: a dictionary of output values from a forward pass.\n",
    "- `learning_rate`: the learning rate for updating the weights.\n",
    "- `freeze_emb`: boolean value indicating whether the embedding weights will be updated.\n",
    "\n",
    "and returns:\n",
    "\n",
    "- `W`: the updated weights of the network.\n",
    "\n",
    "Hint: the gradients on the output layer are similar to the multiclass logistic regression."
   ]
  },
  {
   "cell_type": "code",
   "execution_count": 17,
   "metadata": {
    "ExecuteTime": {
     "end_time": "2020-04-02T14:26:56.225630Z",
     "start_time": "2020-04-02T14:26:56.216508Z"
    }
   },
   "outputs": [],
   "source": [
    "def backward_pass(x, y, W, out_vals, lr=0.001, freeze_emb=False):\n",
    "    # Compute the gradient on the output layer\n",
    "    g = out_vals['y'] - (np.arange(len(out_vals['y'])) == y)\n",
    "\n",
    "    # Compute gradients on weights\n",
    "    out_layer_input = out_vals['a'][-1] * out_vals['dropout_vec'][-1]\n",
    "    g_on_w = np.outer(g, out_layer_input).T\n",
    "\n",
    "    # Propagate the gradients w.r.t. the last hidden layer\n",
    "    g = g.dot(W[-1].T)\n",
    "    \n",
    "    # Update output layer weight\n",
    "    W[-1] -= lr * g_on_w\n",
    "\n",
    "    # Update each hidden layer\n",
    "    for i in range(len(W) - 2, 1, -1):\n",
    "        # Convert the gradient on the layer's output\n",
    "        # into a gradient before the activation function\n",
    "        g *= relu_derivative(out_vals['h'][i])\n",
    "\n",
    "        # Compute gradients on weights\n",
    "        layer_input = out_vals['a'][i - 1] * out_vals['dropout_vec'][i - 1]\n",
    "        g_on_w = np.outer(g, layer_input).T\n",
    "\n",
    "        # Propagate the gradients w.r.t. the next hidden layer's activations\n",
    "        g = g.dot(W[i].T)\n",
    "\n",
    "        # Update weights\n",
    "        W[i] -= lr * g_on_w\n",
    "\n",
    "    # Update embedding layer weight\n",
    "    if not freeze_emb:\n",
    "        g *= relu_derivative(out_vals['h'][0])\n",
    "        W[0][x] -= lr * g\n",
    "\n",
    "    return W"
   ]
  },
  {
   "cell_type": "markdown",
   "metadata": {
    "ExecuteTime": {
     "end_time": "2020-02-15T14:08:59.937442Z",
     "start_time": "2020-02-15T14:08:59.932221Z"
    }
   },
   "source": [
    "Finally you need to modify SGD to support back-propagation by using the `forward_pass` and `backward_pass` functions.\n",
    "\n",
    "The `SGD` function takes as input:\n",
    "\n",
    "- `X_tr`: array of training data (vectors)\n",
    "- `Y_tr`: labels of `X_tr`\n",
    "- `W`: the weights of the network (dictionary)\n",
    "- `X_dev`: array of development (i.e. validation) data (vectors)\n",
    "- `Y_dev`: labels of `X_dev`\n",
    "- `lr`: learning rate\n",
    "- `dropout`: regularisation strength\n",
    "- `epochs`: number of full passes over the training data\n",
    "- `tolerance`: stop training if the difference between the current and previous validation loss is smaller than a threshold\n",
    "- `freeze_emb`: boolean value indicating whether the embedding weights will be updated (to be used by the backward pass function).\n",
    "- `print_progress`: flag for printing the training progress (train/validation loss)\n",
    "\n",
    "and returns:\n",
    "\n",
    "- `weights`: the weights learned\n",
    "- `training_loss_history`: an array with the average losses of the whole training set after each epoch\n",
    "- `validation_loss_history`: an array with the average losses of the whole development set after each epoch"
   ]
  },
  {
   "cell_type": "code",
   "execution_count": 18,
   "metadata": {
    "ExecuteTime": {
     "end_time": "2020-04-02T15:09:19.021428Z",
     "start_time": "2020-04-02T15:09:19.017835Z"
    }
   },
   "outputs": [],
   "source": [
    "def SGD(X_tr, Y_tr, W, X_dev, Y_dev, lr=0.001, dropout=0.2, epochs=5,\n",
    "        tolerance=0.001, freeze_emb=False, early_stopping=True, print_progress=True):\n",
    "    # fixing random seed for reproducibility\n",
    "    np.random.seed(123)\n",
    "    training_loss_history = []\n",
    "    validation_loss_history = []\n",
    "\n",
    "    # Create training tuples\n",
    "    train_docs = list(zip(X_tr, Y_tr))\n",
    "\n",
    "    for epoch in range(epochs):\n",
    "        # Randomise order in train_docs\n",
    "        np.random.shuffle(train_docs)\n",
    "\n",
    "        for x_i, y_i in train_docs:\n",
    "            W = backward_pass(x_i, y_i, W, forward_pass(x_i, W, dropout), lr, freeze_emb)\n",
    "\n",
    "        # Monitor training loss\n",
    "        cur_loss_tr = np.mean([categorical_loss(y_i, forward_pass(x_i, W, dropout)['y'])\n",
    "                               for x_i, y_i in train_docs])\n",
    "\n",
    "        # Monitor validation loss\n",
    "        cur_loss_dev = np.mean([categorical_loss(y_i, forward_pass(x_i, W, dropout)['y'])\n",
    "                                for x_i, y_i in zip(X_dev, Y_dev)])\n",
    "\n",
    "        # Early stopping\n",
    "        if early_stopping and epoch > 0 and validation_loss_history[-1] - cur_loss_dev < tolerance:\n",
    "            break\n",
    "        else:\n",
    "            training_loss_history.append(cur_loss_tr)\n",
    "            validation_loss_history.append(cur_loss_dev)\n",
    "\n",
    "        if print_progress:\n",
    "            print(f'Epoch: {epoch} | Training loss: {cur_loss_tr} | Validation loss: {cur_loss_dev}')\n",
    "\n",
    "    return W, training_loss_history, validation_loss_history"
   ]
  },
  {
   "cell_type": "markdown",
   "metadata": {
    "ExecuteTime": {
     "end_time": "2020-02-15T14:10:15.772383Z",
     "start_time": "2020-02-15T14:10:15.767855Z"
    }
   },
   "source": [
    "Now you are ready to train and evaluate you neural net. First, you need to define your network using the `network_weights` function followed by SGD with backprop:"
   ]
  },
  {
   "cell_type": "code",
   "execution_count": 19,
   "metadata": {
    "ExecuteTime": {
     "end_time": "2020-04-02T15:09:33.643515Z",
     "start_time": "2020-04-02T15:09:33.640943Z"
    }
   },
   "outputs": [
    {
     "name": "stdout",
     "output_type": "stream",
     "text": [
      "Shape W0 (7610, 300)\n",
      "Shape W1 (300, 3)\n",
      "Epoch: 0 | Training loss: 1.0941477671067623 | Validation loss: 1.0965148843157566\n",
      "Epoch: 1 | Training loss: 1.0683677614308555 | Validation loss: 1.0847936884412994\n",
      "Epoch: 2 | Training loss: 0.6963450312406894 | Validation loss: 0.7978179175058632\n",
      "Epoch: 3 | Training loss: 0.5057582228183621 | Validation loss: 0.5977412120295634\n",
      "Epoch: 4 | Training loss: 0.350007241604076 | Validation loss: 0.4881203616660654\n",
      "Epoch: 5 | Training loss: 0.2997647915233003 | Validation loss: 0.4866841181602369\n"
     ]
    }
   ],
   "source": [
    "W = network_weights(vocab_size=len(vocab),\n",
    "                    embedding_dim=300,\n",
    "                    num_classes=3)\n",
    "\n",
    "for i in range(len(W)):\n",
    "    print(f'Shape W{i} {W[i].shape}')\n",
    "\n",
    "W, tr_loss, dev_loss = SGD(X_tr=topic_train_ids,\n",
    "                           Y_tr=topic_train_labels,\n",
    "                           W=W,\n",
    "                           X_dev=topic_dev_ids,\n",
    "                           Y_dev=topic_dev_labels,\n",
    "                           lr=0.15,\n",
    "                           dropout=0.2,\n",
    "                           epochs=100)"
   ]
  },
  {
   "cell_type": "markdown",
   "metadata": {},
   "source": [
    "Plot the learning process:"
   ]
  },
  {
   "cell_type": "code",
   "execution_count": 20,
   "metadata": {
    "ExecuteTime": {
     "end_time": "2020-04-02T14:27:15.716497Z",
     "start_time": "2020-04-02T14:27:15.612736Z"
    },
    "scrolled": true
   },
   "outputs": [
    {
     "data": {
      "image/png": "[encoded data removed]",
      "text/plain": [
       "<Figure size 432x288 with 1 Axes>"
      ]
     },
     "metadata": {
      "needs_background": "light"
     },
     "output_type": "display_data"
    }
   ],
   "source": [
    "plt.plot(tr_loss, label='Training loss')\n",
    "plt.plot(dev_loss, label='Validation loss')\n",
    "\n",
    "plt.xlabel('Epochs')\n",
    "plt.ylabel('Loss')\n",
    "plt.title('Training Monitoring (Average embedding)')\n",
    "\n",
    "plt.legend()\n",
    "plt.show()"
   ]
  },
  {
   "cell_type": "markdown",
   "metadata": {},
   "source": [
    "Compute accuracy, precision, recall and F1-Score:"
   ]
  },
  {
   "cell_type": "code",
   "execution_count": 21,
   "metadata": {
    "ExecuteTime": {
     "end_time": "2020-04-02T15:10:11.037495Z",
     "start_time": "2020-04-02T15:10:11.034999Z"
    }
   },
   "outputs": [
    {
     "name": "stdout",
     "output_type": "stream",
     "text": [
      "Accuracy: 0.8577777777777778\n",
      "Precision: 0.8575432340880728\n",
      "Recall: 0.8577777777777778\n",
      "F1-Score: 0.8572448556010199\n"
     ]
    }
   ],
   "source": [
    "preds_te = [np.argmax(forward_pass(x, W, dropout_rate=0.0)['y'])\n",
    "            for x, y in zip(topic_test_ids, topic_test_labels)]\n",
    "args = topic_test_labels, preds_te\n",
    "\n",
    "print('Accuracy:', accuracy_score(*args))\n",
    "print('Precision:', precision_score(*args, average='macro'))\n",
    "print('Recall:', recall_score(*args, average='macro'))\n",
    "print('F1-Score:', f1_score(*args, average='macro'))"
   ]
  },
  {
   "cell_type": "markdown",
   "metadata": {},
   "source": [
    "## Discuss how did you choose model hyperparameters ?\n",
    "\n",
    "### Preliminary Analysis\n",
    "\n",
    "#### Fixed Set Ordering of Vocabulary\n",
    "\n",
    "The vocabulary is stored as a set object to prevent duplicates. However, Python Sets are unordered collection that do not record element position or order of insertion ([Python Set Types](https://docs.python.org/3.8/library/stdtypes.html#set-types-set-frozenset)). This imples that the order of each vocabulary in the set is not reproducible when the Python kernel is restarted.\n",
    "\n",
    "After several experiments, it is concluded that different orders of the vocabulary set produce different results. The highest and lowest F1-Score obtained are ~83% and ~81% respectively. To ensure that each set of hyperparameters combination produce the same result (i.e. not affected by ordering of vocabulary), it is decided to sort the vocabulary alphabetically, as shown in the code below.\n",
    "\n",
    "```python\n",
    "# Set order is random when kernel is restarted. Use `sorted` for reproducibility\n",
    "vocab = sorted(dev_vocab.union(train_vocab).union(test_vocab))\n",
    "```\n",
    "\n",
    "#### Weight Initialisation Method: He Weight Initialisation\n",
    "\n",
    "When using ReLU as the activation function and initialising the weights using a uniform distribution method between the same lower and upper boundary (e.g. `np.random.uniform(-0.5, 0.5)`), then by uniform distribution half of the layer will output zero when passing the ReLU activation function ([Glorot et al., 2011](http://proceedings.mlr.press/v15/glorot11a/glorot11a.pdf)).\n",
    "\n",
    "[He et al. (2015)](https://arxiv.org/abs/1502.01852) suggested a weight initialisation method that is suitable for the ReLU activation function, as shown below ([Ref 1](https://medium.com/usf-msds/deep-learning-best-practices-1-weight-initialization-14e5c0295b94), [Ref 2](https://towardsdatascience.com/weight-initialization-techniques-in-neural-networks-26c649eb3b78)):\n",
    "\n",
    "```python\n",
    "np.random.randn(layer_dim[i], layer_dim[i + 1]) * np.sqrt(2 / (layer_dim[i]))\n",
    "```\n",
    "\n",
    "Advantages of using He Weight Initialisation:\n",
    "1. The method is mathematically proven to be effective with ReLU activation function in a published paper (~7810 Google Scholar citations)\n",
    "\n",
    "2. The weights of each layer is not fixed between the same lower and upper boundary. Now the weights of each layer are multipled by `np.sqrt(2 / (layer_dim[i]))`.\n",
    "\n",
    "3. The process of hyperparameter optimisation is simpler as the initial boundary of weights (`init_val` in `network_weights`) is excluded.\n",
    "    1. Manually searching for the optimal initial weights is challenging. The optimal value could depends on the learning rate (`lr`), the embedding dimension (`embedding_dim`). With these dependency relationship between different hyperparameters, having fewer hyperparameters to optimise would greatly reduce the difficulty to find the optimal hyperparameter combination.\n",
    "\n",
    "\n",
    "#### Relationship Between Hyperparameters and Scores\n",
    "\n",
    "Before optimising the hyperparameters, it is required to know the relationship between each hyperparameter and the resulting scores.\n",
    "\n",
    "\n",
    "##### Embedding dimension\n",
    "\n",
    "The large the embedding dimension, the longer the training time.\n",
    "\n",
    "- If the embedding dimension is too large, then there might be an excessive amount of information that is not useful. This would have an adverse effect on performance if the model is overfitting.\n",
    "\n",
    "- If the embedding dimension is too small, then there might not be enough information to represent the word relation.\n",
    "\n",
    "According to [Yin and Shen (2018)](http://papers.nips.cc/paper/7368-on-the-dimensionality-of-word-embedd), the performance of a word embedding is largely affected by the chosen dimensionality. However, unlike learning rate, there does not seems to be a general rule for choosing embedding dimension.\n",
    "\n",
    "##### Learning Rate\n",
    "\n",
    "Choosing a good learning rate is challenging as every model differs from each other. Generally, it is required to perform some preliminary analysis on the model performance before the hyperparameters optimisation.\n",
    "\n",
    "Learning rate controls how much to change the model in response to the estimated error each time the model weights are updated.\n",
    "\n",
    "- If the learning rate is too large, the model may overshoot and lead to divergent behaviour (epochs required is low)\n",
    "\n",
    "- If the learning rate is too small, the model will require many updates to the weights  before the loss is converged (epochs required is high)\n",
    "    - However, if the tolerance is higher, the training is likely to stop in the first epoch due to early stopping\n",
    "\n",
    "\n",
    "##### Dropout Rate (Regularisation)\n",
    "\n",
    "Dropout rate is used to prevent the model from overfitting. If the dropout rate is too high, most of the layer outputs will be ignored, and thus the model would underfit.\n",
    "\n",
    "\n",
    "### Optimising Hyperparameters\n",
    "\n",
    "#### Limitations of Trial and Error Method\n",
    "\n",
    "Although the trial and error method is a straightforward strategy and requires no extra implementation, it is prone to the local optimum problem. It is impractical to try every possible combination of learning rate and regularisation strength to find the optimal result. Therefore, the best achievable performance improvement through fine-tuning is largely dependent on the initial set of values selected to explore the hyperparameters.\n",
    "\n",
    "Furthermore, another optimisation problem has arisen as the number of hyperparameters to search is more than one. Some hyperparameters could also have a dependency relationship with each other. This has lead to another assumption that the optimisation order of hyperparameters may have a certain impact on the final result.\n",
    "\n",
    "\n",
    "#### Finding the Baseline Performance\n",
    "\n",
    "According to the submission instructions, the model should achieve a F1-score of at least 75%. However, the default hyperparameters provided is only getting a F1-score of 37.2%. Therefore, the first step is to find the hyperparameter combination that is able to achieve the baseline performance.\n",
    "\n",
    "| Trial | embedding_dim |   lr  | dropout | tolerance | Epochs | Tr. loss | Val. loss | F1-score |\n",
    "|:-----:|:-------------:|:-----:|:-------:|:---------:|:------:|:--------:|:---------:|:--------:|\n",
    "|   0   |      300      | 0.001 |   0.2   |    0.01   |    0   |  1.0984  |   1.0986  |  0.3721  |\n",
    "|   1   |      300      |  0.01 |   0.2   |    0.01   |    0   |  1.0982  |   1.0985  |  0.4255  |\n",
    "|   2   |      300      |  0.1  |   0.2   |    0.01   |    0   |  1.0959  |   1.0973  |  0.6668  |\n",
    "|   3   |      300      |  0.2  |   0.2   |    0.01   |    4   |  0.2310  |   0.4400  |  0.8164  |\n",
    "\n",
    "As shown in the table above, the initial learning rate of 0.001 was too low. After increasing the learning rate to 0.2, the F1-score has improved to 79.5%. As a result, F1-score of 81.6% is set as the baseline peformance. Any subsequent optimisations should therefore be aiming to achieve performance higher than 81.6%.\n",
    "\n",
    "#### Optimising Learning Rate and Tolerance\n",
    "\n",
    "In **Finding the Baseline Performance**, the learning rate is increased in big step size, which resulted in small epochs. It would be better for the model to converge with slower speed to prevent the gradient from overshooting.\n",
    "\n",
    "Fixed parameters: `embedding_dim=300, dropout=0.2`\n",
    "\n",
    "| Trial |  lr  | tolerance | Epochs | Tr. loss | Val. loss | F1-score |\n",
    "|:-----:|:----:|:---------:|:------:|:--------:|:---------:|:--------:|\n",
    "|   0   |  0.2 |    0.01   |    4   |  0.2310  |   0.4400  |  0.8164  |\n",
    "|   1   |  0.2 |   0.001   |    4   |  0.2310  |   0.4400  |  0.8164  |\n",
    "|   2   | 0.15 |    0.01   |    4   |  0.3500  |   0.4881  |  0.8164  |\n",
    "|   3   | 0.15 |   0.001   |    5   |  0.2997  |   0.4866  |  0.8572  |\n",
    "|   4   |  0.1 |    0.01   |    0   |  1.0959  |   1.0973  |  0.6668  |\n",
    "|   5   |  0.1 |   0.001   |    7   |  0.3303  |   0.4705  |  0.8486  |\n",
    "|   6   | 0.05 |    0.01   |    0   |  1.0973  |   1.0980  |  0.5775  |\n",
    "|   7   | 0.05 |   0.001   |    0   |  1.0973  |   1.0980  |  0.5775  |\n",
    "\n",
    "With `lr=0.15, tolerance=0.001`, the model is now able to achieve a F1-score of 85.7%. \n",
    "\n",
    "It is observed that for smaller learning rate (< 0.2), both training and validation will decrease very slowly in the first 3 epochs. Therefore, higher tolerance such as 0.01 will stop the training very early, which is why a significant performance improvement is achieved when the tolerance is lowered to 0.001.\n",
    "\n",
    "#### Optimising Learning Rate\n",
    "\n",
    "With the tolerance fixed, the learning rate can now be fine-tuned in a small step size to search for possible improvements.\n",
    "\n",
    "Fixed parameters: `embedding_dim=300, dropout=0.2, tolerance=0.001`\n",
    "\n",
    "| Trial |   lr   | Epochs | Tr. loss | Val. loss | F1-score |\n",
    "|:-----:|:------:|:------:|:--------:|:---------:|:--------:|\n",
    "|   0   |  0.15  |    5   |  0.2997  |   0.4866  |  0.8572  |\n",
    "|   1   |  0.16  |    4   |  0.3134  |   0.4680  |  0.8181  |\n",
    "|   2   |  0.14  |    5   |  0.3293  |   0.5035  |  0.8550  |\n",
    "|   3   |  0.13  |    7   |  0.2500  |   0.4384  |  0.8470  |\n",
    "|   4   |  0.145 |    5   |  0.3137  |   0.4939  |  0.8561  |\n",
    "|   5   | 0.1475 |    5   |  0.3067  |   0.4901  |  0.8572  |\n",
    "|   6   |  0.151 |    4   |  0.3465  |   0.4859  |  0.8197  |\n",
    "|   7   | 0.1505 |    5   |  0.2983  |   0.4860  |  0.8560  |\n",
    "\n",
    "No better `lr` has been found. 0.15 seems to be the maximum limit of the learning rate to achieve the best F1-score with lowest training and validation loss.\n",
    "\n",
    "#### Optimising Dropout Rate\n",
    "\n",
    "Compared to other hyperparameters, the dropout rate is relatively easier to optimise as it can only be a value between 0 and 1.\n",
    "\n",
    "Fixed parameters: `embedding_dim=300, lr=0.15, tolerance=0.001`\n",
    "\n",
    "| Trial | dropout | Epochs | Tr. loss | Val. loss | F1-score |\n",
    "|:-----:|:-------:|:------:|:--------:|:---------:|:--------:|\n",
    "|   0   |   0.2   |    5   |  0.2997  |   0.4866  |  0.8572  |\n",
    "|   1   |   0.3   |    7   |  0.2490  |   0.3969  |  0.8053  |\n",
    "|   2   |   0.4   |    5   |  0.4433  |   0.4704  |  0.8545  |\n",
    "|   3   |   0.5   |    6   |  0.3479  |   0.4878  |  0.7705  |\n",
    "|   4   |   0.1   |    4   |  0.2929  |   0.4610  |  0.8055  |\n",
    "|   5   |   0.19  |    5   |  0.2609  |   0.4490  |  0.8539  |\n",
    "|   6   |   0.21  |    5   |  0.2963  |   0.4472  |  0.8537  |\n",
    "\n",
    "No better dropout rate has been found. The initial dropout rate of 0.2 is considered to be the optimal value.\n",
    "\n",
    "\n",
    "#### Optimising Embedding Dimension\n",
    "\n",
    "Fixed parameters: `lr=0.15, tolerance=0.001, dropout=0.2`\n",
    "\n",
    "| Trial | embedding_dim | Epochs | Tr. loss | Val. loss | F1-score |\n",
    "|:-----:|:-------------:|:------:|:--------:|:---------:|:--------:|\n",
    "|   0   |      300      |    5   |  0.2997  |   0.4866  |  0.8572  |\n",
    "|   1   |      400      |    5   |  0.2723  |   0.3679  |  0.8513  |\n",
    "|   2   |      500      |    7   |  0.1673  |   0.3869  |  0.8095  |\n",
    "|   3   |      1000     |    8   |  0.1523  |   0.3579  |  0.8482  |\n",
    "|   4   |      200      |    2   |  0.6866  |   0.7152  |  0.6770  |\n",
    "|   5   |      100      |    4   |  0.2890  |   0.4059  |  0.8551  |\n",
    "|   6   |       50      |    4   |  0.2989  |   0.4216  |  0.7969  |\n",
    "\n",
    "No better embedding dimension has been found. The initial dimension of 300 is considered to be the optimal value.\n",
    "\n",
    "According to the table above, there is no clear indiciation whether increasing or decreasing the embedding dimension would have positive or negative effect on the performance.\n",
    "\n",
    "When the embedding dimension is decreased to 200, the F1-score has to 67.7%. However, the F1-score has increased back to 85.5% after further decreasing the dimension down to 100. Conversely, the performance did not drop below 80% when the dimension is increased up to 1000.\n",
    "\n",
    "\n",
    "### Summary\n",
    "\n",
    "Factors that affect the model performance, excluding hyperparameters:\n",
    "1. The order of the vocabulary\n",
    "\n",
    "2. The weight initialisation method\n",
    "\n",
    "The optimal value found for hyperparameters:\n",
    "1. Embedding dimension: 300\n",
    "2. Learning rate: 0.15\n",
    "3. Dropout rate: 0.2\n",
    "4. Tolerance: 0.001"
   ]
  },
  {
   "cell_type": "markdown",
   "metadata": {},
   "source": [
    "# Use Pre-trained Embeddings\n",
    "\n",
    "Now re-train the network using GloVe pre-trained embeddings. You need to modify the `backward_pass` function above to stop computing gradients and updating weights of the embedding matrix.\n",
    "\n",
    "Use the function below to obtain the embedding martix for your vocabulary."
   ]
  },
  {
   "cell_type": "code",
   "execution_count": 22,
   "metadata": {
    "ExecuteTime": {
     "end_time": "2020-04-02T14:27:32.020697Z",
     "start_time": "2020-04-02T14:27:32.015733Z"
    }
   },
   "outputs": [],
   "source": [
    "def get_glove_embeddings(f_zip, f_txt, word2id, emb_size=300):\n",
    "    \"\"\"\n",
    "    Args:\n",
    "        f_zip: The compressed zip file\n",
    "        f_txt: The text file containing the embeddings\n",
    "        word2id: The word to vocabulary ID dictionary\n",
    "        emb_size: The size of the word embeddings\n",
    "        \n",
    "    Returns:\n",
    "        Weights for the embedding layer\n",
    "    \"\"\"\n",
    "    w_emb = np.zeros((len(word2id), emb_size))\n",
    "\n",
    "    with zipfile.ZipFile(f_zip) as z:\n",
    "        with z.open(f_txt) as f:\n",
    "            for line in f:\n",
    "                line = line.decode('utf-8')\n",
    "                word = line.split()[0]\n",
    "\n",
    "                if word in vocab:\n",
    "                    emb = np.array(line.strip('\\n').split()[1:]).astype(np.float32)\n",
    "                    w_emb[word2id[word]] += emb\n",
    "    return w_emb"
   ]
  },
  {
   "cell_type": "code",
   "execution_count": 23,
   "metadata": {
    "ExecuteTime": {
     "end_time": "2020-04-02T14:28:54.548613Z",
     "start_time": "2020-04-02T14:27:32.780248Z"
    }
   },
   "outputs": [],
   "source": [
    "w_glove = get_glove_embeddings(\"glove.840B.300d.zip\", \"glove.840B.300d.txt\",\n",
    "                               word_to_vocab_id)"
   ]
  },
  {
   "cell_type": "markdown",
   "metadata": {},
   "source": [
    "First, initialise the weights of your network using the `network_weights` function. Second, replace the weigths of the embedding matrix with `w_glove`. Finally, train the network by freezing the embedding weights:"
   ]
  },
  {
   "cell_type": "code",
   "execution_count": 24,
   "metadata": {
    "ExecuteTime": {
     "end_time": "2020-04-02T14:30:11.121198Z",
     "start_time": "2020-04-02T14:29:24.946124Z"
    }
   },
   "outputs": [
    {
     "name": "stdout",
     "output_type": "stream",
     "text": [
      "Shape W0 (7610, 300)\n",
      "Shape W1 (300, 3)\n",
      "Epoch: 0 | Training loss: 0.39196310346400937 | Validation loss: 0.31723636739356187\n",
      "Epoch: 1 | Training loss: 0.37113303463091457 | Validation loss: 0.2614393910627511\n",
      "Epoch: 2 | Training loss: 0.32417943335986604 | Validation loss: 0.225559466206273\n",
      "Epoch: 3 | Training loss: 0.3072251838800586 | Validation loss: 0.22377844162323404\n",
      "Epoch: 4 | Training loss: 0.30196525400380764 | Validation loss: 0.21991298689775662\n",
      "Epoch: 5 | Training loss: 0.2921520713493237 | Validation loss: 0.2116361607768931\n"
     ]
    }
   ],
   "source": [
    "W = network_weights(vocab_size=len(vocab),\n",
    "                    embedding_dim=300,\n",
    "                    num_classes=3)\n",
    "W[0] = w_glove\n",
    "\n",
    "\n",
    "for i in range(len(W)):\n",
    "    print(f'Shape W{i} {W[i].shape}')\n",
    "\n",
    "W, tr_loss, dev_loss = SGD(X_tr=topic_train_ids,\n",
    "                           Y_tr=topic_train_labels,\n",
    "                           W=W,\n",
    "                           X_dev=topic_dev_ids,\n",
    "                           Y_dev=topic_dev_labels,\n",
    "                           lr=0.1,\n",
    "                           dropout=0.2,\n",
    "                           freeze_emb=True,\n",
    "                           epochs=100)"
   ]
  },
  {
   "cell_type": "code",
   "execution_count": 25,
   "metadata": {},
   "outputs": [
    {
     "data": {
      "image/png": "[encoded data removed]",
      "text/plain": [
       "<Figure size 432x288 with 1 Axes>"
      ]
     },
     "metadata": {
      "needs_background": "light"
     },
     "output_type": "display_data"
    }
   ],
   "source": [
    "plt.plot(tr_loss, label='Training loss')\n",
    "plt.plot(dev_loss, label='Validation loss')\n",
    "\n",
    "plt.xlabel('Epochs')\n",
    "plt.ylabel('Loss')\n",
    "plt.title('Training Monitoring (Pre-trained embedding)')\n",
    "\n",
    "plt.legend()\n",
    "plt.show()"
   ]
  },
  {
   "cell_type": "code",
   "execution_count": 26,
   "metadata": {},
   "outputs": [
    {
     "name": "stdout",
     "output_type": "stream",
     "text": [
      "Accuracy: 0.8977777777777778\n",
      "Precision: 0.897868613832692\n",
      "Recall: 0.8977777777777778\n",
      "F1-Score: 0.8967871274658675\n"
     ]
    }
   ],
   "source": [
    "preds_te = [np.argmax(forward_pass(x, W, dropout_rate=0.0)['y'])\n",
    "            for x, y in zip(topic_test_ids, topic_test_labels)]\n",
    "args = topic_test_labels, preds_te\n",
    "\n",
    "print('Accuracy:', accuracy_score(*args))\n",
    "print('Precision:', precision_score(*args, average='macro'))\n",
    "print('Recall:', recall_score(*args, average='macro'))\n",
    "print('F1-Score:', f1_score(*args, average='macro'))"
   ]
  },
  {
   "cell_type": "markdown",
   "metadata": {},
   "source": [
    "## Discuss how did you choose model hyperparameters ?\n",
    "\n",
    "### Initial Results\n",
    "\n",
    "Using the optimal hyperparameters obtained in the previous model (average embedding):\n",
    "\n",
    "Parameters: `embedding_dim=300, lr=0.15, dropout=0.2, tolerance=0.001`\n",
    "\n",
    "| Epochs | Training loss | Validation loss | Accuracy | Precision | Recall | F1-score |\n",
    "|:------:|:-------------:|:---------------:|:--------:|:---------:|:------:|:--------:|\n",
    "|    5   |     0.2798    |      0.2010     |  0.8966  |   0.8965  | 0.8966 |  0.8957  |\n",
    "\n",
    "\n",
    "### Optimising Hyperparameters\n",
    "\n",
    "Since the dimension has to be 300 with the GloVe embeddings, there are only two hyperparameters need to optimise: learning rate and dropout rate.\n",
    "\n",
    "#### Optimising Learning Rate\n",
    "\n",
    "Fixed parameters: `dropout=0.2, tolerance=0.001`\n",
    "\n",
    "| Trial |  lr  | Epochs | Tr. loss | Val. loss | F1-score |\n",
    "|:-----:|:----:|:------:|:--------:|:---------:|:--------:|\n",
    "|   0   | 0.15 |    5   |  0.2798  |   0.2010  |  0.8957  |\n",
    "|   1   |  0.2 |    5   |  0.2754  |   0.1960  |  0.8924  |\n",
    "|   2   |  0.3 |    5   |  0.2807  |   0.1962  |  0.8944  |\n",
    "|   3   |  0.4 |    3   |  0.2777  |   0.1968  |  0.8800  |\n",
    "|   4   |  0.1 |    5   |  0.2921  |   0.2116  |  0.8967  |\n",
    "|   5   | 0.05 |    3   |  0.3343  |   0.2523  |  0.8776  |\n",
    "|   6   | 0.01 |   11   |  0.3594  |   0.2760  |  0.8837  |\n",
    "\n",
    "`lr=0.1` has the highest F1-score of 89.67%, therefore it is selected as the optimal learning rate. Although it has about 1% higher training and validation loss than `lr=0.15`, but the aim of hyperparameters optimisation is to achieve the highest possible scores.\n",
    "\n",
    "According to the results, changing the learning rate only produce a ± 2% performance differences. It is also observed that the validation loss is always lower than the training loss in this model.\n",
    "\n",
    "\n",
    "#### Optimising Dropout Rate\n",
    "\n",
    "Fixed parameters: `lr=0.1, tolerance=0.001`\n",
    "\n",
    "| Trial | dropout | Epochs | Tr. loss | Val. loss | F1-score |\n",
    "|:-----:|:-------:|:------:|:--------:|:---------:|:--------:|\n",
    "|   0   |   0.2   |    5   |  0.2921  |   0.2116  |  0.8967  |\n",
    "|   1   |   0.1   |    2   |  0.3206  |   0.2033  |  0.8861  |\n",
    "|   2   |   0.3   |    3   |  0.3317  |   0.2379  |  0.8868  |\n",
    "|   3   |   0.5   |    3   |  0.3923  |   0.3119  |  0.8757  |\n",
    "|   4   |   0.7   |    7   |  0.4672  |   0.3993  |  0.8879  |\n",
    "|   5   |   0.9   |   11   |  0.7462  |   0.7007  |  0.8809  |\n",
    "\n",
    "No better dropout rate has been found. `dropout=0.2` has the best F1-score with lowest training and validation loss.\n",
    "\n",
    "\n",
    "### Summary\n",
    "\n",
    "According to the results in the tables above, the performance of **Pre-Trained Embeddings Model** is not affected significantly by the value of learning rate and dropout rate. In comparison with **Average Embeddings Model**, it is safe to conclude that the performance this feedforward network is largely dependent on the initial weights.\n",
    "\n",
    "The optimal value found for hyperparameters:\n",
    "1. Learning rate: 0.1\n",
    "2. Dropout rate: 0.2\n",
    "\n",
    "Using pre-trained embeddings improved the total performance by ~4% in comparison to randomly initialising the embedding weights matrix."
   ]
  },
  {
   "cell_type": "markdown",
   "metadata": {},
   "source": [
    "# Extend to support deeper architectures (Bonus)\n",
    "\n",
    "Extend the network to support back-propagation for more hidden layers. You need to modify the `backward_pass` function above to compute gradients and update the weights between intermediate hidden layers. Finally, train and evaluate a network with a deeper architecture. "
   ]
  },
  {
   "cell_type": "code",
   "execution_count": 27,
   "metadata": {
    "ExecuteTime": {
     "end_time": "2020-04-02T14:58:51.764619Z",
     "start_time": "2020-04-02T14:58:47.483690Z"
    }
   },
   "outputs": [
    {
     "name": "stdout",
     "output_type": "stream",
     "text": [
      "Shape W0 (7610, 300)\n",
      "Shape W1 (300, 1050)\n",
      "Shape W2 (1050, 3)\n",
      "Epoch: 0 | Training loss: 0.42479884818659164 | Validation loss: 0.367079861662041\n",
      "Epoch: 1 | Training loss: 0.41608202469722905 | Validation loss: 0.34109356664542934\n",
      "Epoch: 2 | Training loss: 0.4626220294584154 | Validation loss: 0.446505678173534\n",
      "Epoch: 3 | Training loss: 0.3572658445781216 | Validation loss: 0.27464592135579863\n",
      "Epoch: 4 | Training loss: 0.35519588083525444 | Validation loss: 0.2802350066339664\n"
     ]
    }
   ],
   "source": [
    "W = network_weights(vocab_size=len(vocab),\n",
    "                    embedding_dim=300,\n",
    "                    hidden_dim=[1050],\n",
    "                    num_classes=3)\n",
    "W[0] = w_glove\n",
    "\n",
    "for i in range(len(W)):\n",
    "    print(f'Shape W{i} {W[i].shape}')\n",
    "\n",
    "W, tr_loss, dev_loss = SGD(X_tr=topic_train_ids,\n",
    "                           Y_tr=topic_train_labels,\n",
    "                           W=W,\n",
    "                           X_dev=topic_dev_ids,\n",
    "                           Y_dev=topic_dev_labels,\n",
    "                           lr=0.07,\n",
    "                           dropout=0.2,\n",
    "                           freeze_emb=True,\n",
    "                           early_stopping=False,\n",
    "                           epochs=5)"
   ]
  },
  {
   "cell_type": "code",
   "execution_count": 28,
   "metadata": {},
   "outputs": [
    {
     "data": {
      "image/png": "[encoded data removed]",
      "text/plain": [
       "<Figure size 432x288 with 1 Axes>"
      ]
     },
     "metadata": {
      "needs_background": "light"
     },
     "output_type": "display_data"
    }
   ],
   "source": [
    "plt.plot(tr_loss, label='Training loss')\n",
    "plt.plot(dev_loss, label='Validation loss')\n",
    "\n",
    "plt.xlabel('Epochs')\n",
    "plt.ylabel('Loss')\n",
    "plt.title('Training Monitoring (Pre-trained + Hidden layers)')\n",
    "\n",
    "plt.legend()\n",
    "plt.show()"
   ]
  },
  {
   "cell_type": "code",
   "execution_count": 29,
   "metadata": {
    "ExecuteTime": {
     "end_time": "2020-04-02T15:11:51.994986Z",
     "start_time": "2020-04-02T15:11:51.992563Z"
    }
   },
   "outputs": [
    {
     "name": "stdout",
     "output_type": "stream",
     "text": [
      "Accuracy: 0.9033333333333333\n",
      "Precision: 0.9031030443799583\n",
      "Recall: 0.9033333333333333\n",
      "F1-Score: 0.9020881592476028\n"
     ]
    }
   ],
   "source": [
    "preds_te = [np.argmax(forward_pass(x, W, dropout_rate=0.0)['y'])\n",
    "            for x, y in zip(topic_test_ids, topic_test_labels)]\n",
    "args = topic_test_labels, preds_te\n",
    "\n",
    "print('Accuracy:', accuracy_score(*args))\n",
    "print('Precision:', precision_score(*args, average='macro'))\n",
    "print('Recall:', recall_score(*args, average='macro'))\n",
    "print('F1-Score:', f1_score(*args, average='macro'))"
   ]
  },
  {
   "cell_type": "markdown",
   "metadata": {},
   "source": [
    "## Discuss how did you choose model hyperparameters ?\n",
    "\n",
    "### Searching the First Hidden Layer Dimension\n",
    "\n",
    "The first step is to find the hyperparameter combination that is able to achieve the closest performance to **Pre-trained Embeddings Model**.\n",
    "\n",
    "| Trial | hidden_dim |  lr  | dropout | Epochs | Tr. loss | Val. loss | F1-score |\n",
    "|:-----:|:----------:|:----:|:-------:|:------:|:--------:|:---------:|:--------:|\n",
    "|   0   |     100    |  0.1 |   0.2   |    1   |   0.618  |   0.5411  |  0.8293  |\n",
    "|   1   |     200    |  0.1 |   0.2   |    1   |  0.5676  |   0.5865  |  0.8777  |\n",
    "|   2   |     300    |  0.1 |   0.2   |    2   |  0.4808  |   0.4006  |  0.8517  |\n",
    "|   3   |     200    | 0.05 |   0.2   |    4   |  0.5609  |   0.5045  |  0.8727  |\n",
    "|   4   |     200    | 0.05 |   0.1   |    5   |  0.4562  |   0.4156  |  0.8697  |\n",
    "|   5   |    1000    | 0.05 |   0.1   |    3   |  0.3257  |   0.2171  |  0.8913  |\n",
    "|   6   |    1000    | 0.05 |   0.2   |    3   |  0.3623  |   0.2515  |  0.8953  |\n",
    "\n",
    "The hyperparameter combination `hidden_dim=[1000], lr=0.05, dropout=0.2` has achieve a F1-score of 89.53%, which is only 0.14% lower than **Pre-trained Embeddings Model**.\n",
    "\n",
    "### Relationship between Hyperparameters and Loss\n",
    "\n",
    "According to the table in **Searching the First Hidden Layer Dimension**,\n",
    "\n",
    "1. Increasing hidden layer dimension will decrease training loss\n",
    "\n",
    "2. Increasing dropout rate will increase training and validation loss\n",
    "\n",
    "The aim is to adjust each hyperparameter appropriately to reach about 30% final training loss and 20% final validation loss. The model appear to be producing the best performance when both losses fall into the respective range.\n",
    "\n",
    "### Further Trial and Error\n",
    "\n",
    "| Trial | hidden_dim |   lr  | dropout | Epochs | Tr. loss | Val. loss | F1-score |\n",
    "|:-----:|:----------:|:-----:|:-------:|:------:|:--------:|:---------:|:--------:|\n",
    "|   0   |     500    |  0.05 |   0.2   |    3   |  0.4220  |   0.3357  |  0.8683  |\n",
    "|   1   |     500    |  0.1  |   0.2   |    3   |  0.4073  |   0.3223  |  0.8702  |\n",
    "|   2   |     500    |  0.2  |   0.2   |    3   |  0.4212  |   0.3500  |  0.8689  |\n",
    "|   3   |     600    |  0.2  |   0.2   |    0   |  0.5173  |   0.3960  |  0.8327  |\n",
    "|   4   |     600    |  0.1  |   0.3   |    2   |  0.4654  |   0.3992  |  0.8704  |\n",
    "|   5   |    1000    |  0.01 |   0.3   |   10   |  0.4389  |   0.3525  |  0.8928  |\n",
    "|   6   |    1100    |  0.01 |   0.3   |    6   |  0.4626  |   0.4242  |  0.8938  |\n",
    "|   7   |    1200    |  0.01 |   0.3   |    4   |  0.4719  |   0.4409  |  0.8889  |\n",
    "|   8   |    1100    | 0.012 |   0.3   |    2   |  0.5108  |   0.4725  |  0.8936  |\n",
    "|   9   |    1100    |  0.12 |   0.25  |    2   |  0.4661  |   0.4189  |  0.8926  |\n",
    "\n",
    "No better hyperparameter values have been found. \n",
    "\n",
    "\n",
    "### Disable Early Stopping\n",
    "\n",
    "After further analysis, it is observed that the overall trend of validation loss is decreasing. However, there would be irregular \"spikes\" that trigger early stopping and stop the training process earlier then the optimal case.\n",
    "\n",
    "To address this issue, an extra argument `early_stopping` is added to the `SGD()` function. As a result, the training process is now controlled by the `epochs` parameter.\n",
    "\n",
    "| Trial | hidden_dim |   lr  | dropout | Epochs | Tr. loss | Val. loss | F1-score |\n",
    "|:-----:|:----------:|:-----:|:-------:|:------:|:--------:|:---------:|:--------:|\n",
    "|   0   | 1000       | 0.05  | 0.2     | 5      | 0.3482   | 0.2765    | 0.8953   |\n",
    "|   1   | 1050       | 0.05  | 0.2     | 5      | 0.3568   | 0.2853    | 0.9011   |\n",
    "|   2   | 1100       | 0.05  | 0.2     | 5      | 0.3710   | 0.2544    | 0.8935   |\n",
    "|   3   | 1050       | 0.055 | 0.15    | 5      | 0.3198   | 0.2445    | 0.8980   |\n",
    "|   4   | 1050       | 0.055 | 0.2     | 5      | 0.3559   | 0.2835    | 0.9011   |\n",
    "|   5   | 1050       | 0.06  | 0.2     | 5      | 0.3553   | 0.2821    | 0.9011   |\n",
    "|   6   | 1050       | 0.07  | 0.2     | 5      | 0.3551   | 0.2802    | 0.9020   |\n",
    "|   7   | 1050       | 0.08  | 0.2     | 5      | 0.3559   | 0.2791    | 0.9009   |\n",
    "|   8   | 1050       | 0.075 | 0.2     | 5      | 0.3554   | 0.2796    | 0.9020   |\n",
    "|   9   | 1050       | 0.07  | 0.2     | 10     | 0.3706   | 0.2861    | 0.8824   |\n",
    "\n",
    "The hyperparameter values `hidden_dim=[1050], lr=0.07, dropout=0.2, epochs=5` has achieved a F1-score of 90.2%.\n",
    "\n",
    "\n",
    "### Attempts on Double Hidden Layer Dimensions\n",
    "\n",
    "| Trial | hidden_dim |  lr  | dropout | Epochs | Tr. loss | Val. loss | F1-score |\n",
    "|:-----:|:----------:|:----:|:-------:|:------:|:--------:|:---------:|:--------:|\n",
    "|   0   | 525, 525   | 0.07 | 0.2     | 5      | 0.3783   | 0.2741    | 0.8973   |\n",
    "|   1   | 1000, 50   | 0.07 | 0.2     | 5      | 0.4345   | 0.2467    | 0.8920   |\n",
    "|   2   | 1000, 50   | 0.1  | 0.2     | 5      | 0.4678   | 0.2628    | 0.8954   |\n",
    "|   3   | 1000, 50   | 0.15 | 0.2     | 5      | 0.4882   | 0.3367    | 0.8927   |\n",
    "|   4   | 1000, 50   | 0.1  | 0.2     | 10     | 0.4033   | 0.2668    | 0.8862   |\n",
    "|   5   | 300, 300   | 0.1  | 0.2     | 10     | 0.4323   | 0.4404    | 0.8743   |\n",
    "\n",
    "Unfortunately, the attemps on double hidden layer dimensions did not manage to achieve a new high score.\n",
    "\n",
    "\n",
    "### Summary\n",
    "\n",
    "1. Adding a hidden layer will increase the training time due to the extra dimensions, but this does not ensure that a good performance will be produced.\n",
    "\n",
    "2. According to the optimisation attemps, the lowest F1-score obtained is 82.93% in **Searching the First Hidden Layer Dimension**. Therefore, this model is still better than **Average Embedding Model** considering that it requires more optimisation effort and has higher implementation complexity.\n",
    "\n",
    "3. As shown in the plot **Training Monitoring - (Pre-trained + Hidden layers)** above, the sudden \"spike\" increase of both training and validation does not always indicate a negative outcome. The model still managed to achieve a 90.2% of F1-score in this case.\n",
    "\n",
    "4. It is shown that the performance of **Pre-Trained Embeddings + Hidden Layer Model** can be better than **Pre-Trained Embeddings Model**. However, a significant amount of time is required to adjust each hyperparameters to achieve the optimal result."
   ]
  },
  {
   "cell_type": "markdown",
   "metadata": {},
   "source": [
    "# Full Results\n",
    "\n",
    "|                           Model                           | Accuracy | Precision | Recall | F1-Score |\n",
    "|:---------------------------------------------------------:|:--------:|:---------:|:------:|:--------:|\n",
    "|                     Average Embedding                     |  0.8577  |   0.8575  | 0.8577 |  0.8572  |\n",
    "|              Average Embedding (Pre-trained)              |  0.8977  |   0.8979  | 0.8977 |  0.8967  |\n",
    "| Average Embedding (Pre-trained) + X hidden layers (BONUS) |  0.9033  |   0.9031  | 0.9033 |  0.9020  |"
   ]
  }
 ],
 "metadata": {
  "kernelspec": {
   "display_name": "Python 3",
   "language": "python",
   "name": "python3"
  },
  "language_info": {
   "codemirror_mode": {
    "name": "ipython",
    "version": 3
   },
   "file_extension": ".py",
   "mimetype": "text/x-python",
   "name": "python",
   "nbconvert_exporter": "python",
   "pygments_lexer": "ipython3",
   "version": "3.8.2"
  }
 },
 "nbformat": 4,
 "nbformat_minor": 2
}
